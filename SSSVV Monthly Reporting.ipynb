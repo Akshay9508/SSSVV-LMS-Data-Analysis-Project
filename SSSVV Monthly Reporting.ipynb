{
 "cells": [
  {
   "cell_type": "markdown",
   "id": "41ec7c3f",
   "metadata": {},
   "source": [
    "# SSSVV Monthly Reporting"
   ]
  },
  {
   "cell_type": "code",
   "execution_count": 1,
   "id": "613da561",
   "metadata": {},
   "outputs": [],
   "source": [
    "# List of Preliminary work to be done manually\n",
    "\n",
    "# Copy paste new files in currrent_month_data folder"
   ]
  },
  {
   "cell_type": "code",
   "execution_count": 2,
   "id": "d5d1bf34",
   "metadata": {},
   "outputs": [],
   "source": [
    "# Import relevant libraries\n",
    "import pandas as pd\n",
    "import numpy as np\n",
    "import datetime\n",
    "import os"
   ]
  },
  {
   "cell_type": "code",
   "execution_count": 3,
   "id": "3cab0df4",
   "metadata": {},
   "outputs": [
    {
     "data": {
      "text/plain": [
       "'D:\\\\Data Science folders\\\\Github repository\\\\Portfolio projects - classified\\\\Personal Projects\\\\SSSVV LMS Reporting'"
      ]
     },
     "execution_count": 3,
     "metadata": {},
     "output_type": "execute_result"
    }
   ],
   "source": [
    "current_path = os.getcwd()\n",
    "current_path"
   ]
  },
  {
   "cell_type": "code",
   "execution_count": 4,
   "id": "42733882",
   "metadata": {},
   "outputs": [
    {
     "data": {
      "text/plain": [
       "datetime.datetime(2023, 3, 25, 14, 7, 41, 745317)"
      ]
     },
     "execution_count": 4,
     "metadata": {},
     "output_type": "execute_result"
    }
   ],
   "source": [
    "# Set the current date and time\n",
    "now = datetime.datetime.now()\n",
    "now"
   ]
  },
  {
   "cell_type": "code",
   "execution_count": 5,
   "id": "07901302",
   "metadata": {},
   "outputs": [
    {
     "data": {
      "text/plain": [
       "'March_2023'"
      ]
     },
     "execution_count": 5,
     "metadata": {},
     "output_type": "execute_result"
    }
   ],
   "source": [
    "# Get the month and year from the current date and time\n",
    "current_month_year = now.strftime('%B_%Y')\n",
    "current_month_year"
   ]
  },
  {
   "cell_type": "code",
   "execution_count": 6,
   "id": "2cfcb2b1",
   "metadata": {},
   "outputs": [
    {
     "data": {
      "text/plain": [
       "datetime.datetime(2023, 2, 28, 14, 7, 41, 745317)"
      ]
     },
     "execution_count": 6,
     "metadata": {},
     "output_type": "execute_result"
    }
   ],
   "source": [
    "# Calculate the previous month\n",
    "previous = now.replace(day=1) - datetime.timedelta(days=1)\n",
    "previous"
   ]
  },
  {
   "cell_type": "code",
   "execution_count": 7,
   "id": "3dcc51b2",
   "metadata": {},
   "outputs": [
    {
     "data": {
      "text/plain": [
       "'February_2023'"
      ]
     },
     "execution_count": 7,
     "metadata": {},
     "output_type": "execute_result"
    }
   ],
   "source": [
    "# Get the month and year from the previous month and time\n",
    "previous_month = previous.strftime('%B_%Y')\n",
    "previous_month"
   ]
  },
  {
   "cell_type": "code",
   "execution_count": 8,
   "id": "7057d35f",
   "metadata": {},
   "outputs": [
    {
     "data": {
      "text/plain": [
       "datetime.datetime(2023, 1, 31, 14, 7, 41, 745317)"
      ]
     },
     "execution_count": 8,
     "metadata": {},
     "output_type": "execute_result"
    }
   ],
   "source": [
    "# Calculate the previous month\n",
    "old = previous.replace(day=1) - datetime.timedelta(days=1)\n",
    "old"
   ]
  },
  {
   "cell_type": "code",
   "execution_count": 9,
   "id": "766c058e",
   "metadata": {},
   "outputs": [
    {
     "data": {
      "text/plain": [
       "'January_2023'"
      ]
     },
     "execution_count": 9,
     "metadata": {},
     "output_type": "execute_result"
    }
   ],
   "source": [
    "# Get the month and year from the previous month and time\n",
    "old_month = old.strftime('%B_%Y')\n",
    "old_month"
   ]
  },
  {
   "cell_type": "code",
   "execution_count": 10,
   "id": "2d9acdaf",
   "metadata": {},
   "outputs": [
    {
     "data": {
      "text/plain": [
       "'D:\\\\Side Hustles\\\\SSSVV activities\\\\SRC - Karnataka\\\\Current_month_data\\\\Input'"
      ]
     },
     "execution_count": 10,
     "metadata": {},
     "output_type": "execute_result"
    }
   ],
   "source": [
    "# Set the directory where the Excel file is located\n",
    "# Set the old file path\n",
    "reporting_month_directory_path = r'D:\\Side Hustles\\SSSVV activities\\SRC - Karnataka\\Current_month_data\\Input'\n",
    "\n",
    "#Shift directory to current_month_path\n",
    "os.chdir(reporting_month_directory_path)\n",
    "os.getcwd()"
   ]
  },
  {
   "cell_type": "code",
   "execution_count": 11,
   "id": "0c9bc1b2",
   "metadata": {},
   "outputs": [
    {
     "name": "stdout",
     "output_type": "stream",
     "text": [
      "Chapters viewed per user KA Schools.xlsx\n",
      "Downloads.html\n",
      "Feedback for all courses KA Schools.xlsx\n",
      "Feedback List.html\n",
      "Files downloaded per user KA Schools.xlsx\n",
      "Filtered downloadable users last login KA Schools.xlsx\n",
      "Number of files downloaded per user KA Schools.xlsx\n",
      "Resource Views.html\n",
      "Users List.html\n"
     ]
    }
   ],
   "source": [
    "import gc\n",
    "gc.collect()\n",
    "\n",
    "import os\n",
    "for file_name in os.listdir(reporting_month_directory_path):\n",
    "    print(file_name)"
   ]
  },
  {
   "cell_type": "code",
   "execution_count": 12,
   "id": "3c97575d",
   "metadata": {},
   "outputs": [
    {
     "name": "stdout",
     "output_type": "stream",
     "text": [
      "Imported file: Chapters viewed per user KA Schools.xlsx\n",
      "Imported file: Feedback for all courses KA Schools.xlsx\n",
      "Imported file: Files downloaded per user KA Schools.xlsx\n",
      "Imported file: Filtered downloadable users last login KA Schools.xlsx\n",
      "Imported file: Number of files downloaded per user KA Schools.xlsx\n"
     ]
    }
   ],
   "source": [
    "# create an empty list to store the dataframes\n",
    "dfs = []\n",
    "\n",
    "# loop through all the files in the directory path\n",
    "for file_name in os.listdir(reporting_month_directory_path):\n",
    "    if file_name.endswith('.xlsx'): # only read excel files\n",
    "        file_path = os.path.join(reporting_month_directory_path, file_name) # get full file path\n",
    "        df = pd.read_excel(file_path) # read excel file\n",
    "        dfs.append(df) # append dataframe to list\n",
    "        # get the file name using basename\n",
    "        os.path.basename(file_name)\n",
    "        print(\"Imported file:\", file_name)"
   ]
  },
  {
   "cell_type": "code",
   "execution_count": 13,
   "id": "10ee7f8c",
   "metadata": {},
   "outputs": [],
   "source": [
    "current_views = dfs[0]\n",
    "current_feedback = dfs[1]\n",
    "current_downloads = dfs[2]\n",
    "current_users_list = dfs[3]\n",
    "current_download_count = dfs[4]"
   ]
  },
  {
   "cell_type": "markdown",
   "id": "468668a9",
   "metadata": {},
   "source": [
    "# Resource Views Folder"
   ]
  },
  {
   "cell_type": "code",
   "execution_count": 14,
   "id": "8ddd8e39",
   "metadata": {},
   "outputs": [
    {
     "data": {
      "text/html": [
       "<div>\n",
       "<style scoped>\n",
       "    .dataframe tbody tr th:only-of-type {\n",
       "        vertical-align: middle;\n",
       "    }\n",
       "\n",
       "    .dataframe tbody tr th {\n",
       "        vertical-align: top;\n",
       "    }\n",
       "\n",
       "    .dataframe thead th {\n",
       "        text-align: right;\n",
       "    }\n",
       "</style>\n",
       "<table border=\"1\" class=\"dataframe\">\n",
       "  <thead>\n",
       "    <tr style=\"text-align: right;\">\n",
       "      <th></th>\n",
       "      <th>id</th>\n",
       "      <th>idnumber</th>\n",
       "      <th>username</th>\n",
       "      <th>firstname</th>\n",
       "      <th>lastname</th>\n",
       "      <th>email</th>\n",
       "      <th>institution</th>\n",
       "      <th>shortname</th>\n",
       "      <th>resource viewed</th>\n",
       "      <th>timestamp</th>\n",
       "    </tr>\n",
       "  </thead>\n",
       "  <tbody>\n",
       "    <tr>\n",
       "      <th>0</th>\n",
       "      <td>1575</td>\n",
       "      <td>KA000</td>\n",
       "      <td>chithra_srikanth</td>\n",
       "      <td>Chithra</td>\n",
       "      <td>Srikanth</td>\n",
       "      <td>chithrasrikanth76@gmail.com</td>\n",
       "      <td>SSSVV KA Volunteer</td>\n",
       "      <td>VII APSE Science</td>\n",
       "      <td>Food Components</td>\n",
       "      <td>2023-02-11 16:46:22</td>\n",
       "    </tr>\n",
       "    <tr>\n",
       "      <th>1</th>\n",
       "      <td>1575</td>\n",
       "      <td>KA000</td>\n",
       "      <td>chithra_srikanth</td>\n",
       "      <td>Chithra</td>\n",
       "      <td>Srikanth</td>\n",
       "      <td>chithrasrikanth76@gmail.com</td>\n",
       "      <td>SSSVV KA Volunteer</td>\n",
       "      <td>VII APSE Science</td>\n",
       "      <td>Animal Fibre</td>\n",
       "      <td>2023-02-13 00:34:08</td>\n",
       "    </tr>\n",
       "    <tr>\n",
       "      <th>2</th>\n",
       "      <td>1575</td>\n",
       "      <td>KA000</td>\n",
       "      <td>chithra_srikanth</td>\n",
       "      <td>Chithra</td>\n",
       "      <td>Srikanth</td>\n",
       "      <td>chithrasrikanth76@gmail.com</td>\n",
       "      <td>SSSVV KA Volunteer</td>\n",
       "      <td>VII APSE Science</td>\n",
       "      <td>CCDP APSE Science STD VII Food Components</td>\n",
       "      <td>2023-02-11 16:46:33</td>\n",
       "    </tr>\n",
       "    <tr>\n",
       "      <th>3</th>\n",
       "      <td>1575</td>\n",
       "      <td>KA000</td>\n",
       "      <td>chithra_srikanth</td>\n",
       "      <td>Chithra</td>\n",
       "      <td>Srikanth</td>\n",
       "      <td>chithrasrikanth76@gmail.com</td>\n",
       "      <td>SSSVV KA Volunteer</td>\n",
       "      <td>IX CBSE Science</td>\n",
       "      <td>Tissues</td>\n",
       "      <td>2023-02-13 03:11:20</td>\n",
       "    </tr>\n",
       "    <tr>\n",
       "      <th>4</th>\n",
       "      <td>1575</td>\n",
       "      <td>KA000</td>\n",
       "      <td>chithra_srikanth</td>\n",
       "      <td>Chithra</td>\n",
       "      <td>Srikanth</td>\n",
       "      <td>chithrasrikanth76@gmail.com</td>\n",
       "      <td>SSSVV KA Volunteer</td>\n",
       "      <td>VI APSE Science</td>\n",
       "      <td>Fun with Magnets</td>\n",
       "      <td>2023-02-02 15:14:49</td>\n",
       "    </tr>\n",
       "  </tbody>\n",
       "</table>\n",
       "</div>"
      ],
      "text/plain": [
       "     id idnumber          username firstname  lastname  \\\n",
       "0  1575    KA000  chithra_srikanth   Chithra  Srikanth   \n",
       "1  1575    KA000  chithra_srikanth   Chithra  Srikanth   \n",
       "2  1575    KA000  chithra_srikanth   Chithra  Srikanth   \n",
       "3  1575    KA000  chithra_srikanth   Chithra  Srikanth   \n",
       "4  1575    KA000  chithra_srikanth   Chithra  Srikanth   \n",
       "\n",
       "                         email         institution         shortname  \\\n",
       "0  chithrasrikanth76@gmail.com  SSSVV KA Volunteer  VII APSE Science   \n",
       "1  chithrasrikanth76@gmail.com  SSSVV KA Volunteer  VII APSE Science   \n",
       "2  chithrasrikanth76@gmail.com  SSSVV KA Volunteer  VII APSE Science   \n",
       "3  chithrasrikanth76@gmail.com  SSSVV KA Volunteer   IX CBSE Science   \n",
       "4  chithrasrikanth76@gmail.com  SSSVV KA Volunteer   VI APSE Science   \n",
       "\n",
       "                             resource viewed            timestamp  \n",
       "0                            Food Components  2023-02-11 16:46:22  \n",
       "1                               Animal Fibre  2023-02-13 00:34:08  \n",
       "2  CCDP APSE Science STD VII Food Components  2023-02-11 16:46:33  \n",
       "3                                    Tissues  2023-02-13 03:11:20  \n",
       "4                           Fun with Magnets  2023-02-02 15:14:49  "
      ]
     },
     "execution_count": 14,
     "metadata": {},
     "output_type": "execute_result"
    }
   ],
   "source": [
    "current_views.head()"
   ]
  },
  {
   "cell_type": "code",
   "execution_count": 15,
   "id": "3a99b555",
   "metadata": {},
   "outputs": [],
   "source": [
    "#!pip install pandas_profiling"
   ]
  },
  {
   "cell_type": "code",
   "execution_count": 16,
   "id": "ed4e0848",
   "metadata": {},
   "outputs": [
    {
     "data": {
      "application/vnd.jupyter.widget-view+json": {
       "model_id": "dce5397c8d764e4fb560627db49dc739",
       "version_major": 2,
       "version_minor": 0
      },
      "text/plain": [
       "Summarize dataset:   0%|          | 0/5 [00:00<?, ?it/s]"
      ]
     },
     "metadata": {},
     "output_type": "display_data"
    },
    {
     "data": {
      "application/vnd.jupyter.widget-view+json": {
       "model_id": "792e6ac4ae604f4c90a0cb8f45090162",
       "version_major": 2,
       "version_minor": 0
      },
      "text/plain": [
       "Generate report structure:   0%|          | 0/1 [00:00<?, ?it/s]"
      ]
     },
     "metadata": {},
     "output_type": "display_data"
    },
    {
     "data": {
      "application/vnd.jupyter.widget-view+json": {
       "model_id": "76b7ee005fd140c893d16836cea1ae2a",
       "version_major": 2,
       "version_minor": 0
      },
      "text/plain": [
       "Render HTML:   0%|          | 0/1 [00:00<?, ?it/s]"
      ]
     },
     "metadata": {},
     "output_type": "display_data"
    },
    {
     "data": {
      "application/vnd.jupyter.widget-view+json": {
       "model_id": "18d506179e3d4e44a38e2e93e9552f1b",
       "version_major": 2,
       "version_minor": 0
      },
      "text/plain": [
       "Export report to file:   0%|          | 0/1 [00:00<?, ?it/s]"
      ]
     },
     "metadata": {},
     "output_type": "display_data"
    }
   ],
   "source": [
    "import ydata_profiling\n",
    "from ydata_profiling import ProfileReport\n",
    "\n",
    "profile = ProfileReport(dfs[0], title='Resource Views')\n",
    "profile.to_file('Resource Views.html')"
   ]
  },
  {
   "cell_type": "code",
   "execution_count": 17,
   "id": "a0b7b0a2",
   "metadata": {},
   "outputs": [],
   "source": [
    "#Input Corrections needed\n",
    "\n",
    "#General Check for any new inconsistency\n",
    "#Sepearate shortname column into 3 parts & Treat misplaced values\n",
    "#change school name\n",
    "#Add Date Column"
   ]
  },
  {
   "cell_type": "markdown",
   "id": "54b6ab7a",
   "metadata": {},
   "source": [
    "## General Check for any new inconsistency"
   ]
  },
  {
   "cell_type": "code",
   "execution_count": 18,
   "id": "39ac6015",
   "metadata": {},
   "outputs": [
    {
     "data": {
      "text/plain": [
       "(439, 10)"
      ]
     },
     "execution_count": 18,
     "metadata": {},
     "output_type": "execute_result"
    }
   ],
   "source": [
    "current_views.shape"
   ]
  },
  {
   "cell_type": "code",
   "execution_count": 19,
   "id": "5c9c0167",
   "metadata": {},
   "outputs": [
    {
     "data": {
      "text/plain": [
       "Index(['id', 'idnumber', 'username', 'firstname', 'lastname', 'email',\n",
       "       'institution', 'shortname', 'resource viewed', 'timestamp'],\n",
       "      dtype='object')"
      ]
     },
     "execution_count": 19,
     "metadata": {},
     "output_type": "execute_result"
    }
   ],
   "source": [
    "current_views.columns"
   ]
  },
  {
   "cell_type": "code",
   "execution_count": 20,
   "id": "73ecd8db",
   "metadata": {},
   "outputs": [
    {
     "data": {
      "text/plain": [
       "id                  int64\n",
       "idnumber           object\n",
       "username           object\n",
       "firstname          object\n",
       "lastname           object\n",
       "email              object\n",
       "institution        object\n",
       "shortname          object\n",
       "resource viewed    object\n",
       "timestamp          object\n",
       "dtype: object"
      ]
     },
     "execution_count": 20,
     "metadata": {},
     "output_type": "execute_result"
    }
   ],
   "source": [
    "current_views.dtypes"
   ]
  },
  {
   "cell_type": "code",
   "execution_count": 21,
   "id": "1b9209fd",
   "metadata": {},
   "outputs": [
    {
     "data": {
      "text/plain": [
       "id                 0\n",
       "idnumber           0\n",
       "username           0\n",
       "firstname          0\n",
       "lastname           0\n",
       "email              0\n",
       "institution        0\n",
       "shortname          0\n",
       "resource viewed    0\n",
       "timestamp          0\n",
       "dtype: int64"
      ]
     },
     "execution_count": 21,
     "metadata": {},
     "output_type": "execute_result"
    }
   ],
   "source": [
    "current_views.isnull().sum()"
   ]
  },
  {
   "cell_type": "code",
   "execution_count": 22,
   "id": "b4031dd3",
   "metadata": {},
   "outputs": [
    {
     "data": {
      "text/html": [
       "<div>\n",
       "<style scoped>\n",
       "    .dataframe tbody tr th:only-of-type {\n",
       "        vertical-align: middle;\n",
       "    }\n",
       "\n",
       "    .dataframe tbody tr th {\n",
       "        vertical-align: top;\n",
       "    }\n",
       "\n",
       "    .dataframe thead th {\n",
       "        text-align: right;\n",
       "    }\n",
       "</style>\n",
       "<table border=\"1\" class=\"dataframe\">\n",
       "  <thead>\n",
       "    <tr style=\"text-align: right;\">\n",
       "      <th></th>\n",
       "      <th>idnumber</th>\n",
       "      <th>username</th>\n",
       "      <th>firstname</th>\n",
       "      <th>lastname</th>\n",
       "      <th>email</th>\n",
       "      <th>institution</th>\n",
       "      <th>shortname</th>\n",
       "      <th>resource viewed</th>\n",
       "      <th>timestamp</th>\n",
       "    </tr>\n",
       "  </thead>\n",
       "  <tbody>\n",
       "    <tr>\n",
       "      <th>count</th>\n",
       "      <td>439</td>\n",
       "      <td>439</td>\n",
       "      <td>439</td>\n",
       "      <td>439</td>\n",
       "      <td>439</td>\n",
       "      <td>439</td>\n",
       "      <td>439</td>\n",
       "      <td>439</td>\n",
       "      <td>439</td>\n",
       "    </tr>\n",
       "    <tr>\n",
       "      <th>unique</th>\n",
       "      <td>8</td>\n",
       "      <td>40</td>\n",
       "      <td>39</td>\n",
       "      <td>34</td>\n",
       "      <td>40</td>\n",
       "      <td>11</td>\n",
       "      <td>45</td>\n",
       "      <td>133</td>\n",
       "      <td>419</td>\n",
       "    </tr>\n",
       "    <tr>\n",
       "      <th>top</th>\n",
       "      <td>KA007</td>\n",
       "      <td>malashree.nayyar</td>\n",
       "      <td>Malashree</td>\n",
       "      <td>Nayyar</td>\n",
       "      <td>malashreenayyar@gmail.com</td>\n",
       "      <td>Sri Sathya Sai Vidya Mandir School, Dharwad</td>\n",
       "      <td>VII KSSE Maths</td>\n",
       "      <td>Algebraic Expressions</td>\n",
       "      <td>2023-02-15 05:45:13</td>\n",
       "    </tr>\n",
       "    <tr>\n",
       "      <th>freq</th>\n",
       "      <td>160</td>\n",
       "      <td>46</td>\n",
       "      <td>46</td>\n",
       "      <td>46</td>\n",
       "      <td>46</td>\n",
       "      <td>140</td>\n",
       "      <td>40</td>\n",
       "      <td>14</td>\n",
       "      <td>5</td>\n",
       "    </tr>\n",
       "  </tbody>\n",
       "</table>\n",
       "</div>"
      ],
      "text/plain": [
       "       idnumber          username  firstname lastname  \\\n",
       "count       439               439        439      439   \n",
       "unique        8                40         39       34   \n",
       "top       KA007  malashree.nayyar  Malashree   Nayyar   \n",
       "freq        160                46         46       46   \n",
       "\n",
       "                            email  \\\n",
       "count                         439   \n",
       "unique                         40   \n",
       "top     malashreenayyar@gmail.com   \n",
       "freq                           46   \n",
       "\n",
       "                                        institution       shortname  \\\n",
       "count                                           439             439   \n",
       "unique                                           11              45   \n",
       "top     Sri Sathya Sai Vidya Mandir School, Dharwad  VII KSSE Maths   \n",
       "freq                                            140              40   \n",
       "\n",
       "              resource viewed            timestamp  \n",
       "count                     439                  439  \n",
       "unique                    133                  419  \n",
       "top     Algebraic Expressions  2023-02-15 05:45:13  \n",
       "freq                       14                    5  "
      ]
     },
     "execution_count": 22,
     "metadata": {},
     "output_type": "execute_result"
    }
   ],
   "source": [
    "current_views.describe(include=['O'])"
   ]
  },
  {
   "cell_type": "code",
   "execution_count": 23,
   "id": "fa9877b8",
   "metadata": {},
   "outputs": [],
   "source": [
    "#See if Date column is missing"
   ]
  },
  {
   "cell_type": "code",
   "execution_count": 24,
   "id": "c6cba333",
   "metadata": {},
   "outputs": [],
   "source": [
    "#If Date column is visible, make the necessary filters"
   ]
  },
  {
   "cell_type": "code",
   "execution_count": 25,
   "id": "bceda394",
   "metadata": {},
   "outputs": [
    {
     "name": "stdout",
     "output_type": "stream",
     "text": [
      "Number of Schools: 11\n",
      "Name of Schools:\n",
      " Sri Sathya Sai Vidya Mandir School, Dharwad                    140\n",
      "Sri Sathya Sai Baba Higher Primary and High School, Mysuru      83\n",
      "Sri Sathya Sai Academy of Integrated Education, Bhadravathi     73\n",
      "Sri Sathya Sai School, Bhadravathi                              46\n",
      "Sri Sathya Sai Vidyaniketan, Bagepalli                          41\n",
      "\\tSri Sathya Sai Vidya Mandir School, Dharwad                   20\n",
      "Sri Sathya Sai Academy Of Integrated Edcuation Bhadravati       15\n",
      "Prashanthi Vidya Kendra, Bayar, Kasaragod                        8\n",
      "SSSVV KA Volunteer                                               5\n",
      "Prashanti English Medium School, Siddapura                       4\n",
      "Sri Sathya Sai Vidya Kendra                                      4\n",
      "Name: institution, dtype: int64\n"
     ]
    }
   ],
   "source": [
    "print(\"Number of Schools:\", current_views[\"institution\"].nunique())\n",
    "print(\"Name of Schools:\\n\",current_views[\"institution\"].value_counts().sort_values(ascending = False))"
   ]
  },
  {
   "cell_type": "code",
   "execution_count": 26,
   "id": "2cdf36bd",
   "metadata": {},
   "outputs": [
    {
     "name": "stdout",
     "output_type": "stream",
     "text": [
      "Number of Users: 40\n",
      "Name of Users:\n",
      " Malashree      46\n",
      "Likhitha       45\n",
      "Kalpana        39\n",
      "Rashmi         37\n",
      "Poornima       33\n",
      "Samprutha      29\n",
      "Bamini         21\n",
      "Jyoti          20\n",
      "Triveni        18\n",
      "Kalawati       16\n",
      "SAGANA         14\n",
      "Malati         12\n",
      "Bharathi       11\n",
      "SHASHIDHARA    10\n",
      "Nikitha         8\n",
      "Sheela          8\n",
      "Veerayya        8\n",
      "Sasi            8\n",
      "Chaitra         6\n",
      "ANTHONY         5\n",
      "Chithra         5\n",
      "NITHYA          5\n",
      "Shahanaz        4\n",
      "Varshini        4\n",
      "LATHA           4\n",
      "Rakshitha       3\n",
      "JAYAKUMAR       2\n",
      "Shruthi         2\n",
      "Sai Smitha      2\n",
      "Jayalakshmi     2\n",
      "Jayalaxmi       2\n",
      "NANDA           2\n",
      "Sudha           2\n",
      "KRUSHNA         1\n",
      "Sai Sowmya      1\n",
      "Narasimha       1\n",
      "Tejaswini       1\n",
      "Shweta          1\n",
      "Yarab           1\n",
      "Name: firstname, dtype: int64\n"
     ]
    }
   ],
   "source": [
    "print(\"Number of Users:\", current_views[\"id\"].nunique())\n",
    "print(\"Name of Users:\\n\",current_views[\"firstname\"].value_counts().sort_values(ascending = False))"
   ]
  },
  {
   "cell_type": "code",
   "execution_count": 27,
   "id": "5d9c3be3",
   "metadata": {},
   "outputs": [
    {
     "data": {
      "text/plain": [
       "VII KSSE Maths       40\n",
       "I CBSE English       35\n",
       "V CBSE EVS           29\n",
       "VI CBSE Social       24\n",
       "VI KSSE Social       22\n",
       "VI CBSE Science      21\n",
       "VI KSSE Maths        18\n",
       "IV CBSE Maths        14\n",
       "III KSSE EVS         14\n",
       "V KSSE Maths         13\n",
       "VIII CBSE Social     12\n",
       "V CBSE Maths         12\n",
       "VII APSE Science     11\n",
       "IV KSSE EVS          11\n",
       "VI CBSE Maths        11\n",
       "IV CBSE EVS          10\n",
       "Ii KSSE English       9\n",
       "VII KSSE Social       9\n",
       "VII CBSE Maths        8\n",
       "VIII CBSE Science     8\n",
       "III CBSE EVS          8\n",
       "V KSSE EVS            8\n",
       "II KSSE EVS           8\n",
       "III KSSE English      7\n",
       "I KSSE EVS            7\n",
       "VIII KSSE Social      7\n",
       "VII CBSE Social       7\n",
       "VIII CBSE Maths       6\n",
       "II CBSE EVS           6\n",
       "III KSSE Maths        5\n",
       "VII CBSE Science      5\n",
       " IX CBSE Science      4\n",
       "KSSE IX Social        4\n",
       "I CBSE EVS            4\n",
       "IV KSSE Maths         4\n",
       "VIII KSSE Maths       3\n",
       "II CBSE English       2\n",
       "VIII KSSE SC          2\n",
       "III CBSE English      2\n",
       "T2 - CBTE 2           2\n",
       "II KSSE Maths         2\n",
       "III APSE EVS          2\n",
       "VI APSE Science       1\n",
       "VI KSSE Science       1\n",
       "III CBSE Maths        1\n",
       "Name: shortname, dtype: int64"
      ]
     },
     "execution_count": 27,
     "metadata": {},
     "output_type": "execute_result"
    }
   ],
   "source": [
    "current_views[\"shortname\"].value_counts()"
   ]
  },
  {
   "cell_type": "code",
   "execution_count": 28,
   "id": "a86357f8",
   "metadata": {},
   "outputs": [
    {
     "data": {
      "text/html": [
       "<div>\n",
       "<style scoped>\n",
       "    .dataframe tbody tr th:only-of-type {\n",
       "        vertical-align: middle;\n",
       "    }\n",
       "\n",
       "    .dataframe tbody tr th {\n",
       "        vertical-align: top;\n",
       "    }\n",
       "\n",
       "    .dataframe thead th {\n",
       "        text-align: right;\n",
       "    }\n",
       "</style>\n",
       "<table border=\"1\" class=\"dataframe\">\n",
       "  <thead>\n",
       "    <tr style=\"text-align: right;\">\n",
       "      <th></th>\n",
       "      <th>id</th>\n",
       "      <th>idnumber</th>\n",
       "      <th>username</th>\n",
       "      <th>firstname</th>\n",
       "      <th>lastname</th>\n",
       "      <th>email</th>\n",
       "      <th>institution</th>\n",
       "      <th>shortname</th>\n",
       "      <th>resource viewed</th>\n",
       "      <th>timestamp</th>\n",
       "    </tr>\n",
       "  </thead>\n",
       "  <tbody>\n",
       "    <tr>\n",
       "      <th>0</th>\n",
       "      <td>1575</td>\n",
       "      <td>KA000</td>\n",
       "      <td>chithra_srikanth</td>\n",
       "      <td>Chithra</td>\n",
       "      <td>Srikanth</td>\n",
       "      <td>chithrasrikanth76@gmail.com</td>\n",
       "      <td>SSSVV KA Volunteer</td>\n",
       "      <td>VII APSE Science</td>\n",
       "      <td>Food Components</td>\n",
       "      <td>2023-02-11 16:46:22</td>\n",
       "    </tr>\n",
       "    <tr>\n",
       "      <th>1</th>\n",
       "      <td>1575</td>\n",
       "      <td>KA000</td>\n",
       "      <td>chithra_srikanth</td>\n",
       "      <td>Chithra</td>\n",
       "      <td>Srikanth</td>\n",
       "      <td>chithrasrikanth76@gmail.com</td>\n",
       "      <td>SSSVV KA Volunteer</td>\n",
       "      <td>VII APSE Science</td>\n",
       "      <td>Animal Fibre</td>\n",
       "      <td>2023-02-13 00:34:08</td>\n",
       "    </tr>\n",
       "    <tr>\n",
       "      <th>2</th>\n",
       "      <td>1575</td>\n",
       "      <td>KA000</td>\n",
       "      <td>chithra_srikanth</td>\n",
       "      <td>Chithra</td>\n",
       "      <td>Srikanth</td>\n",
       "      <td>chithrasrikanth76@gmail.com</td>\n",
       "      <td>SSSVV KA Volunteer</td>\n",
       "      <td>VII APSE Science</td>\n",
       "      <td>CCDP APSE Science STD VII Food Components</td>\n",
       "      <td>2023-02-11 16:46:33</td>\n",
       "    </tr>\n",
       "    <tr>\n",
       "      <th>3</th>\n",
       "      <td>1575</td>\n",
       "      <td>KA000</td>\n",
       "      <td>chithra_srikanth</td>\n",
       "      <td>Chithra</td>\n",
       "      <td>Srikanth</td>\n",
       "      <td>chithrasrikanth76@gmail.com</td>\n",
       "      <td>SSSVV KA Volunteer</td>\n",
       "      <td>IX CBSE Science</td>\n",
       "      <td>Tissues</td>\n",
       "      <td>2023-02-13 03:11:20</td>\n",
       "    </tr>\n",
       "    <tr>\n",
       "      <th>4</th>\n",
       "      <td>1575</td>\n",
       "      <td>KA000</td>\n",
       "      <td>chithra_srikanth</td>\n",
       "      <td>Chithra</td>\n",
       "      <td>Srikanth</td>\n",
       "      <td>chithrasrikanth76@gmail.com</td>\n",
       "      <td>SSSVV KA Volunteer</td>\n",
       "      <td>VI APSE Science</td>\n",
       "      <td>Fun with Magnets</td>\n",
       "      <td>2023-02-02 15:14:49</td>\n",
       "    </tr>\n",
       "  </tbody>\n",
       "</table>\n",
       "</div>"
      ],
      "text/plain": [
       "     id idnumber          username firstname  lastname  \\\n",
       "0  1575    KA000  chithra_srikanth   Chithra  Srikanth   \n",
       "1  1575    KA000  chithra_srikanth   Chithra  Srikanth   \n",
       "2  1575    KA000  chithra_srikanth   Chithra  Srikanth   \n",
       "3  1575    KA000  chithra_srikanth   Chithra  Srikanth   \n",
       "4  1575    KA000  chithra_srikanth   Chithra  Srikanth   \n",
       "\n",
       "                         email         institution         shortname  \\\n",
       "0  chithrasrikanth76@gmail.com  SSSVV KA Volunteer  VII APSE Science   \n",
       "1  chithrasrikanth76@gmail.com  SSSVV KA Volunteer  VII APSE Science   \n",
       "2  chithrasrikanth76@gmail.com  SSSVV KA Volunteer  VII APSE Science   \n",
       "3  chithrasrikanth76@gmail.com  SSSVV KA Volunteer   IX CBSE Science   \n",
       "4  chithrasrikanth76@gmail.com  SSSVV KA Volunteer   VI APSE Science   \n",
       "\n",
       "                             resource viewed            timestamp  \n",
       "0                            Food Components  2023-02-11 16:46:22  \n",
       "1                               Animal Fibre  2023-02-13 00:34:08  \n",
       "2  CCDP APSE Science STD VII Food Components  2023-02-11 16:46:33  \n",
       "3                                    Tissues  2023-02-13 03:11:20  \n",
       "4                           Fun with Magnets  2023-02-02 15:14:49  "
      ]
     },
     "execution_count": 28,
     "metadata": {},
     "output_type": "execute_result"
    }
   ],
   "source": [
    "data = current_views.copy()\n",
    "data.head()"
   ]
  },
  {
   "cell_type": "code",
   "execution_count": 29,
   "id": "05fdaa1c",
   "metadata": {},
   "outputs": [],
   "source": []
  },
  {
   "cell_type": "markdown",
   "id": "2cec4f9d",
   "metadata": {},
   "source": [
    "## Sepearate shortname column into 3 parts & Treat disordered values"
   ]
  },
  {
   "cell_type": "code",
   "execution_count": null,
   "id": "97901e15",
   "metadata": {},
   "outputs": [],
   "source": [
    "current_views_data_check = current_views.copy()"
   ]
  },
  {
   "cell_type": "code",
   "execution_count": 30,
   "id": "25b06bbd",
   "metadata": {},
   "outputs": [
    {
     "name": "stdout",
     "output_type": "stream",
     "text": [
      "       id idnumber          username  firstname  lastname  \\\n",
      "0    1575    KA000  chithra_srikanth    Chithra  Srikanth   \n",
      "1    1575    KA000  chithra_srikanth    Chithra  Srikanth   \n",
      "2    1575    KA000  chithra_srikanth    Chithra  Srikanth   \n",
      "3    1575    KA000  chithra_srikanth    Chithra  Srikanth   \n",
      "4    1575    KA000  chithra_srikanth    Chithra  Srikanth   \n",
      "..    ...      ...               ...        ...       ...   \n",
      "434  1761    KA015     samprutha.bgp  Samprutha         R   \n",
      "435  1761    KA015     samprutha.bgp  Samprutha         R   \n",
      "436  1761    KA015     samprutha.bgp  Samprutha         R   \n",
      "437  1761    KA015     samprutha.bgp  Samprutha         R   \n",
      "438  2133    KA015        yarab.baba      Yarab      baba   \n",
      "\n",
      "                           email                             institution  \\\n",
      "0    chithrasrikanth76@gmail.com                      SSSVV KA Volunteer   \n",
      "1    chithrasrikanth76@gmail.com                      SSSVV KA Volunteer   \n",
      "2    chithrasrikanth76@gmail.com                      SSSVV KA Volunteer   \n",
      "3    chithrasrikanth76@gmail.com                      SSSVV KA Volunteer   \n",
      "4    chithrasrikanth76@gmail.com                      SSSVV KA Volunteer   \n",
      "..                           ...                                     ...   \n",
      "434      sampruthar873@gmail.com  Sri Sathya Sai Vidyaniketan, Bagepalli   \n",
      "435      sampruthar873@gmail.com  Sri Sathya Sai Vidyaniketan, Bagepalli   \n",
      "436      sampruthar873@gmail.com  Sri Sathya Sai Vidyaniketan, Bagepalli   \n",
      "437      sampruthar873@gmail.com  Sri Sathya Sai Vidyaniketan, Bagepalli   \n",
      "438        yarabbaba94@gmail.com  Sri Sathya Sai Vidyaniketan, Bagepalli   \n",
      "\n",
      "            shortname                               resource viewed  \\\n",
      "0    VII APSE Science                               Food Components   \n",
      "1    VII APSE Science                                  Animal Fibre   \n",
      "2    VII APSE Science     CCDP APSE Science STD VII Food Components   \n",
      "3     IX CBSE Science                                       Tissues   \n",
      "4     VI APSE Science                              Fun with Magnets   \n",
      "..                ...                                           ...   \n",
      "434      V KSSE Maths                                      Patterns   \n",
      "435      V KSSE Maths                                      Patterns   \n",
      "436     VI KSSE Maths                          Ratio and Proportion   \n",
      "437     VI KSSE Maths                          Ratio and Proportion   \n",
      "438  VIII KSSE Social  CCDP KSSE Social Science STD VIII Atmosphere   \n",
      "\n",
      "               timestamp  Class Board  Subject  \n",
      "0    2023-02-11 16:46:22    7.0  APSE  Science  \n",
      "1    2023-02-13 00:34:08    7.0  APSE  Science  \n",
      "2    2023-02-11 16:46:33    7.0  APSE  Science  \n",
      "3    2023-02-13 03:11:20    9.0  CBSE  Science  \n",
      "4    2023-02-02 15:14:49    6.0  APSE  Science  \n",
      "..                   ...    ...   ...      ...  \n",
      "434  2023-02-26 14:31:49    5.0  KSSE    Maths  \n",
      "435  2023-02-26 14:31:52    5.0  KSSE    Maths  \n",
      "436  2023-02-22 08:37:52    6.0  KSSE    Maths  \n",
      "437  2023-02-22 08:37:57    6.0  KSSE    Maths  \n",
      "438  2023-02-16 04:47:37    8.0  KSSE   Social  \n",
      "\n",
      "[439 rows x 13 columns]\n"
     ]
    }
   ],
   "source": [
    "import re\n",
    "\n",
    "# Define mapping dictionaries for Class, Board, and Subject\n",
    "class_map = {'I': 1, 'II': 2,'Ii': 2, 'III': 3, 'IV': 4, 'V': 5, 'VI': 6, 'VII': 7, 'VIII': 8, 'IX': 9,'SOPAAN':'SOPAAN'}\n",
    "board_map = {'KSSE': 'KSSE', 'CBSE': 'CBSE', 'APSE': 'APSE','Content':'Content'}\n",
    "subject_map = {'Maths': 'Maths', 'Science': 'Science','English': 'English', 'Social': 'Social', 'EVS': 'EVS','Repackaged':'Repackaged','Sample':'Sample'}\n",
    "\n",
    "\n",
    "# Define a function to split the shortname column into Class, Board, and Subject columns\n",
    "def split_shortname(shortname):\n",
    "    # Initialize variables\n",
    "    class_ = None\n",
    "    board = None\n",
    "    subject = None\n",
    "    \n",
    "    # Split the string into words\n",
    "    words = re.findall(r'\\b\\w+\\b', shortname)\n",
    "    \n",
    "    # Map the values to Class, Board, and Subject columns\n",
    "    for word in words:\n",
    "        if word in class_map:\n",
    "            class_ = class_map[word]\n",
    "        elif word in board_map:\n",
    "            board = board_map[word]\n",
    "        elif word in subject_map:\n",
    "            subject = subject_map[word]\n",
    "        elif word == 'SC':\n",
    "            subject = 'Science'\n",
    "        elif word == 'Chemistry':\n",
    "            if class_ is None and board is None:\n",
    "                class_ = 'Not Entered'\n",
    "                board = 'Not Entered'\n",
    "            subject = 'Science'\n",
    "        elif word == 'Physics':\n",
    "            if class_ is None and board is None:\n",
    "                class_ = 'Not Entered'\n",
    "                board = 'Not Entered'\n",
    "            subject = 'Science'\n",
    "            \n",
    "    # Return the values as a tuple\n",
    "    return (class_, board, subject)\n",
    "\n",
    "# Split the shortname column into Class, Board, and Subject columns\n",
    "current_views_data_check[['Class', 'Board', 'Subject']] = current_views_data_check['shortname'].apply(split_shortname).apply(pd.Series)\n",
    "\n",
    "# Convert Class column to integers\n",
    "#data['Class'] = pd.to_numeric(data['Class'])\n",
    "\n",
    "# Sort the data by Class column\n",
    "#data = data.sort_values('Class')\n",
    "\n",
    "# Print the cleaned data\n",
    "#print(data[['Class', 'Board', 'Subject']])\n",
    "print(current_views_data_check)\n",
    "\n",
    "#Save the cleaned dataframe to an excel file\n",
    "data.to_excel(r\"D:\\Side Hustles\\SSSVV activities\\SRC - Karnataka\\Monthly Reports\\current_views_data_check.xlsx\", index=False)"
   ]
  },
  {
   "cell_type": "code",
   "execution_count": 31,
   "id": "c1820586",
   "metadata": {},
   "outputs": [
    {
     "data": {
      "text/html": [
       "<div>\n",
       "<style scoped>\n",
       "    .dataframe tbody tr th:only-of-type {\n",
       "        vertical-align: middle;\n",
       "    }\n",
       "\n",
       "    .dataframe tbody tr th {\n",
       "        vertical-align: top;\n",
       "    }\n",
       "\n",
       "    .dataframe thead th {\n",
       "        text-align: right;\n",
       "    }\n",
       "</style>\n",
       "<table border=\"1\" class=\"dataframe\">\n",
       "  <thead>\n",
       "    <tr style=\"text-align: right;\">\n",
       "      <th></th>\n",
       "      <th>id</th>\n",
       "      <th>idnumber</th>\n",
       "      <th>username</th>\n",
       "      <th>firstname</th>\n",
       "      <th>lastname</th>\n",
       "      <th>email</th>\n",
       "      <th>institution</th>\n",
       "      <th>shortname</th>\n",
       "      <th>resource viewed</th>\n",
       "      <th>timestamp</th>\n",
       "      <th>Class</th>\n",
       "      <th>Board</th>\n",
       "      <th>Subject</th>\n",
       "    </tr>\n",
       "  </thead>\n",
       "  <tbody>\n",
       "    <tr>\n",
       "      <th>0</th>\n",
       "      <td>1575</td>\n",
       "      <td>KA000</td>\n",
       "      <td>chithra_srikanth</td>\n",
       "      <td>Chithra</td>\n",
       "      <td>Srikanth</td>\n",
       "      <td>chithrasrikanth76@gmail.com</td>\n",
       "      <td>SSSVV KA Volunteer</td>\n",
       "      <td>VII APSE Science</td>\n",
       "      <td>Food Components</td>\n",
       "      <td>2023-02-11 16:46:22</td>\n",
       "      <td>7.0</td>\n",
       "      <td>APSE</td>\n",
       "      <td>Science</td>\n",
       "    </tr>\n",
       "    <tr>\n",
       "      <th>1</th>\n",
       "      <td>1575</td>\n",
       "      <td>KA000</td>\n",
       "      <td>chithra_srikanth</td>\n",
       "      <td>Chithra</td>\n",
       "      <td>Srikanth</td>\n",
       "      <td>chithrasrikanth76@gmail.com</td>\n",
       "      <td>SSSVV KA Volunteer</td>\n",
       "      <td>VII APSE Science</td>\n",
       "      <td>Animal Fibre</td>\n",
       "      <td>2023-02-13 00:34:08</td>\n",
       "      <td>7.0</td>\n",
       "      <td>APSE</td>\n",
       "      <td>Science</td>\n",
       "    </tr>\n",
       "    <tr>\n",
       "      <th>2</th>\n",
       "      <td>1575</td>\n",
       "      <td>KA000</td>\n",
       "      <td>chithra_srikanth</td>\n",
       "      <td>Chithra</td>\n",
       "      <td>Srikanth</td>\n",
       "      <td>chithrasrikanth76@gmail.com</td>\n",
       "      <td>SSSVV KA Volunteer</td>\n",
       "      <td>VII APSE Science</td>\n",
       "      <td>CCDP APSE Science STD VII Food Components</td>\n",
       "      <td>2023-02-11 16:46:33</td>\n",
       "      <td>7.0</td>\n",
       "      <td>APSE</td>\n",
       "      <td>Science</td>\n",
       "    </tr>\n",
       "    <tr>\n",
       "      <th>3</th>\n",
       "      <td>1575</td>\n",
       "      <td>KA000</td>\n",
       "      <td>chithra_srikanth</td>\n",
       "      <td>Chithra</td>\n",
       "      <td>Srikanth</td>\n",
       "      <td>chithrasrikanth76@gmail.com</td>\n",
       "      <td>SSSVV KA Volunteer</td>\n",
       "      <td>IX CBSE Science</td>\n",
       "      <td>Tissues</td>\n",
       "      <td>2023-02-13 03:11:20</td>\n",
       "      <td>9.0</td>\n",
       "      <td>CBSE</td>\n",
       "      <td>Science</td>\n",
       "    </tr>\n",
       "    <tr>\n",
       "      <th>4</th>\n",
       "      <td>1575</td>\n",
       "      <td>KA000</td>\n",
       "      <td>chithra_srikanth</td>\n",
       "      <td>Chithra</td>\n",
       "      <td>Srikanth</td>\n",
       "      <td>chithrasrikanth76@gmail.com</td>\n",
       "      <td>SSSVV KA Volunteer</td>\n",
       "      <td>VI APSE Science</td>\n",
       "      <td>Fun with Magnets</td>\n",
       "      <td>2023-02-02 15:14:49</td>\n",
       "      <td>6.0</td>\n",
       "      <td>APSE</td>\n",
       "      <td>Science</td>\n",
       "    </tr>\n",
       "  </tbody>\n",
       "</table>\n",
       "</div>"
      ],
      "text/plain": [
       "     id idnumber          username firstname  lastname  \\\n",
       "0  1575    KA000  chithra_srikanth   Chithra  Srikanth   \n",
       "1  1575    KA000  chithra_srikanth   Chithra  Srikanth   \n",
       "2  1575    KA000  chithra_srikanth   Chithra  Srikanth   \n",
       "3  1575    KA000  chithra_srikanth   Chithra  Srikanth   \n",
       "4  1575    KA000  chithra_srikanth   Chithra  Srikanth   \n",
       "\n",
       "                         email         institution         shortname  \\\n",
       "0  chithrasrikanth76@gmail.com  SSSVV KA Volunteer  VII APSE Science   \n",
       "1  chithrasrikanth76@gmail.com  SSSVV KA Volunteer  VII APSE Science   \n",
       "2  chithrasrikanth76@gmail.com  SSSVV KA Volunteer  VII APSE Science   \n",
       "3  chithrasrikanth76@gmail.com  SSSVV KA Volunteer   IX CBSE Science   \n",
       "4  chithrasrikanth76@gmail.com  SSSVV KA Volunteer   VI APSE Science   \n",
       "\n",
       "                             resource viewed            timestamp  Class  \\\n",
       "0                            Food Components  2023-02-11 16:46:22    7.0   \n",
       "1                               Animal Fibre  2023-02-13 00:34:08    7.0   \n",
       "2  CCDP APSE Science STD VII Food Components  2023-02-11 16:46:33    7.0   \n",
       "3                                    Tissues  2023-02-13 03:11:20    9.0   \n",
       "4                           Fun with Magnets  2023-02-02 15:14:49    6.0   \n",
       "\n",
       "  Board  Subject  \n",
       "0  APSE  Science  \n",
       "1  APSE  Science  \n",
       "2  APSE  Science  \n",
       "3  CBSE  Science  \n",
       "4  APSE  Science  "
      ]
     },
     "execution_count": 31,
     "metadata": {},
     "output_type": "execute_result"
    }
   ],
   "source": [
    "current_views_data_check.head()"
   ]
  },
  {
   "cell_type": "code",
   "execution_count": 32,
   "id": "b8f004bf",
   "metadata": {},
   "outputs": [
    {
     "data": {
      "text/plain": [
       "(439, 13)"
      ]
     },
     "execution_count": 32,
     "metadata": {},
     "output_type": "execute_result"
    }
   ],
   "source": [
    "current_views_data_check.shape"
   ]
  },
  {
   "cell_type": "code",
   "execution_count": 33,
   "id": "fa32813b",
   "metadata": {},
   "outputs": [
    {
     "data": {
      "text/plain": [
       "id                 0\n",
       "idnumber           0\n",
       "username           0\n",
       "firstname          0\n",
       "lastname           0\n",
       "email              0\n",
       "institution        0\n",
       "shortname          0\n",
       "resource viewed    0\n",
       "timestamp          0\n",
       "Class              2\n",
       "Board              2\n",
       "Subject            2\n",
       "dtype: int64"
      ]
     },
     "execution_count": 33,
     "metadata": {},
     "output_type": "execute_result"
    }
   ],
   "source": [
    "current_views_data_check.isnull().sum()"
   ]
  },
  {
   "cell_type": "code",
   "execution_count": 34,
   "id": "621ee93d",
   "metadata": {},
   "outputs": [
    {
     "data": {
      "text/plain": [
       "6.0    98\n",
       "7.0    80\n",
       "5.0    62\n",
       "1.0    46\n",
       "3.0    39\n",
       "4.0    39\n",
       "8.0    38\n",
       "2.0    27\n",
       "9.0     8\n",
       "Name: Class, dtype: int64"
      ]
     },
     "execution_count": 34,
     "metadata": {},
     "output_type": "execute_result"
    }
   ],
   "source": [
    "current_views_data_check['Class'].value_counts()"
   ]
  },
  {
   "cell_type": "code",
   "execution_count": 35,
   "id": "3a694245",
   "metadata": {},
   "outputs": [
    {
     "data": {
      "text/plain": [
       "CBSE    229\n",
       "KSSE    194\n",
       "APSE     14\n",
       "Name: Board, dtype: int64"
      ]
     },
     "execution_count": 35,
     "metadata": {},
     "output_type": "execute_result"
    }
   ],
   "source": [
    "current_views_data_check['Board'].value_counts()"
   ]
  },
  {
   "cell_type": "code",
   "execution_count": 36,
   "id": "e1406c81",
   "metadata": {},
   "outputs": [
    {
     "data": {
      "text/plain": [
       "Maths      137\n",
       "EVS        107\n",
       "Social      85\n",
       "English     55\n",
       "Science     53\n",
       "Name: Subject, dtype: int64"
      ]
     },
     "execution_count": 36,
     "metadata": {},
     "output_type": "execute_result"
    }
   ],
   "source": [
    "current_views_data_check['Subject'].value_counts()"
   ]
  },
  {
   "cell_type": "code",
   "execution_count": 37,
   "id": "3bf2407e",
   "metadata": {},
   "outputs": [],
   "source": [
    "#data = data.drop(data[(data['Class'] == 'Not Entered') | (data['Class'] == 'SOPAAN')| (data['Subject'] == 'Repackaged')].index)"
   ]
  },
  {
   "cell_type": "markdown",
   "id": "7863d21f",
   "metadata": {},
   "source": [
    "## change school name"
   ]
  },
  {
   "cell_type": "code",
   "execution_count": 38,
   "id": "d28e1ef7",
   "metadata": {},
   "outputs": [],
   "source": [
    "current_views_school_check = current_views_data_check.copy()"
   ]
  },
  {
   "cell_type": "code",
   "execution_count": 39,
   "id": "2ac5f153",
   "metadata": {},
   "outputs": [
    {
     "name": "stdout",
     "output_type": "stream",
     "text": [
      "Number of Schools :  11\n"
     ]
    },
    {
     "data": {
      "text/plain": [
       "Sri Sathya Sai Vidya Mandir School, Dharwad                    140\n",
       "Sri Sathya Sai Baba Higher Primary and High School, Mysuru      83\n",
       "Sri Sathya Sai Academy of Integrated Education, Bhadravathi     73\n",
       "Sri Sathya Sai School, Bhadravathi                              46\n",
       "Sri Sathya Sai Vidyaniketan, Bagepalli                          41\n",
       "\\tSri Sathya Sai Vidya Mandir School, Dharwad                   20\n",
       "Sri Sathya Sai Academy Of Integrated Edcuation Bhadravati       15\n",
       "Prashanthi Vidya Kendra, Bayar, Kasaragod                        8\n",
       "SSSVV KA Volunteer                                               5\n",
       "Prashanti English Medium School, Siddapura                       4\n",
       "Sri Sathya Sai Vidya Kendra                                      4\n",
       "Name: institution, dtype: int64"
      ]
     },
     "execution_count": 39,
     "metadata": {},
     "output_type": "execute_result"
    }
   ],
   "source": [
    "print(\"Number of Schools : \",current_views_school_check['institution'].nunique())\n",
    "current_views_school_check['institution'].value_counts()"
   ]
  },
  {
   "cell_type": "code",
   "execution_count": 40,
   "id": "7991cfc5",
   "metadata": {},
   "outputs": [],
   "source": [
    "from fuzzywuzzy import fuzz, process\n",
    "\n",
    "common_school_names = ['Sri Sathya Sai Academy of Integrated Education, Bhadravathi', 'Sri Sathya Sai Vidya Kendra', 'Sri Sathya Sai Vidya Mandir School, Dharwad', 'Sri Sathya Sai Baba Higher Primary and High School, Mysuru', 'Sri Sathya Sai Vidyaniketan, Bagepalli', 'Sri Eshwaramma English Medium High School, Tumakuru', 'Prashanti English Medium School, Siddapura', 'Ananda Sai Shikshana Samsthe Shimoga']\n",
    "\n",
    "current_views_school_check['institution'] = current_views_school_check['institution'].apply(lambda x: x.strip())\n",
    "\n",
    "for i, school_name in enumerate(current_views_school_check['institution']):\n",
    "    school_name = school_name.strip()\n",
    "    school_name_lower = school_name.lower()\n",
    "    \n",
    "    # Check for exact matches\n",
    "    if school_name in common_school_names:\n",
    "        current_views_school_check.at[i, 'institution'] = school_name\n",
    "    \n",
    "    # Check for fuzzy matches\n",
    "    else:\n",
    "        match, score = process.extractOne(school_name, common_school_names, scorer=fuzz.token_set_ratio)\n",
    "        \n",
    "        # If score is above a certain threshold, replace with common name\n",
    "        if score >= 85:\n",
    "            current_views_school_check.at[i, 'institution'] = match\n",
    "        else:\n",
    "            # Check for Bhadravathi School case\n",
    "            if \"bhadravathi\" in school_name_lower and \"sri sathya sai\" in school_name_lower:\n",
    "                current_views_school_check.at[i, 'institution'] = \"Sri Sathya Sai Academy of Integrated Education, Bhadravathi\"\n",
    "            else:\n",
    "                # Check for Dharwad School case\n",
    "                if \"dharwad\" in school_name_lower and \"sri sathya sai\" in school_name_lower:\n",
    "                    current_views_school_check.at[i, 'institution'] = \"Sri Sathya Sai Vidya Mandir School, Dharwad\"\n",
    "                else:\n",
    "                    current_views_school_check.at[i, 'institution'] = school_name\n"
   ]
  },
  {
   "cell_type": "code",
   "execution_count": 41,
   "id": "2a51f79e",
   "metadata": {},
   "outputs": [
    {
     "name": "stdout",
     "output_type": "stream",
     "text": [
      "Number of Schools :  8\n"
     ]
    },
    {
     "data": {
      "text/plain": [
       "Sri Sathya Sai Vidya Mandir School, Dharwad                    160\n",
       "Sri Sathya Sai Academy of Integrated Education, Bhadravathi    134\n",
       "Sri Sathya Sai Baba Higher Primary and High School, Mysuru      83\n",
       "Sri Sathya Sai Vidyaniketan, Bagepalli                          41\n",
       "Prashanthi Vidya Kendra, Bayar, Kasaragod                        8\n",
       "SSSVV KA Volunteer                                               5\n",
       "Prashanti English Medium School, Siddapura                       4\n",
       "Sri Sathya Sai Vidya Kendra                                      4\n",
       "Name: institution, dtype: int64"
      ]
     },
     "execution_count": 41,
     "metadata": {},
     "output_type": "execute_result"
    }
   ],
   "source": [
    "print(\"Number of Schools : \",current_views_school_check['institution'].nunique())\n",
    "current_views_school_check['institution'].value_counts()"
   ]
  },
  {
   "cell_type": "code",
   "execution_count": 42,
   "id": "f2d43488",
   "metadata": {},
   "outputs": [
    {
     "data": {
      "text/plain": [
       "(439, 13)"
      ]
     },
     "execution_count": 42,
     "metadata": {},
     "output_type": "execute_result"
    }
   ],
   "source": [
    "current_views_school_check.shape"
   ]
  },
  {
   "cell_type": "markdown",
   "id": "4f3446ab",
   "metadata": {},
   "source": [
    "## Add Date Column"
   ]
  },
  {
   "cell_type": "code",
   "execution_count": 43,
   "id": "83dc594f",
   "metadata": {},
   "outputs": [],
   "source": [
    "current_views_date_check = current_views_school_check.copy()"
   ]
  },
  {
   "cell_type": "code",
   "execution_count": 44,
   "id": "babc122e",
   "metadata": {},
   "outputs": [],
   "source": [
    "import pandas as pd\n",
    "\n",
    "def add_date_column(df):\n",
    "    if 'timestamp' in df.columns:\n",
    "        df['timestamp'] = pd.to_datetime(df['timestamp'])\n",
    "        df['Date'] = pd.to_datetime(df['timestamp']).dt.date.astype(str).apply(lambda x: datetime.datetime.strptime(x, '%Y-%m-%d').strftime('%d/%m/%Y'))\n",
    "    else:\n",
    "        print(\"Error: dataframe does not contain 'timestamp' column\")"
   ]
  },
  {
   "cell_type": "code",
   "execution_count": 45,
   "id": "407f448d",
   "metadata": {},
   "outputs": [
    {
     "data": {
      "text/html": [
       "<div>\n",
       "<style scoped>\n",
       "    .dataframe tbody tr th:only-of-type {\n",
       "        vertical-align: middle;\n",
       "    }\n",
       "\n",
       "    .dataframe tbody tr th {\n",
       "        vertical-align: top;\n",
       "    }\n",
       "\n",
       "    .dataframe thead th {\n",
       "        text-align: right;\n",
       "    }\n",
       "</style>\n",
       "<table border=\"1\" class=\"dataframe\">\n",
       "  <thead>\n",
       "    <tr style=\"text-align: right;\">\n",
       "      <th></th>\n",
       "      <th>id</th>\n",
       "      <th>idnumber</th>\n",
       "      <th>username</th>\n",
       "      <th>firstname</th>\n",
       "      <th>lastname</th>\n",
       "      <th>email</th>\n",
       "      <th>institution</th>\n",
       "      <th>shortname</th>\n",
       "      <th>resource viewed</th>\n",
       "      <th>timestamp</th>\n",
       "      <th>Class</th>\n",
       "      <th>Board</th>\n",
       "      <th>Subject</th>\n",
       "      <th>Date</th>\n",
       "    </tr>\n",
       "  </thead>\n",
       "  <tbody>\n",
       "    <tr>\n",
       "      <th>0</th>\n",
       "      <td>1575</td>\n",
       "      <td>KA000</td>\n",
       "      <td>chithra_srikanth</td>\n",
       "      <td>Chithra</td>\n",
       "      <td>Srikanth</td>\n",
       "      <td>chithrasrikanth76@gmail.com</td>\n",
       "      <td>SSSVV KA Volunteer</td>\n",
       "      <td>VII APSE Science</td>\n",
       "      <td>Food Components</td>\n",
       "      <td>2023-02-11 16:46:22</td>\n",
       "      <td>7.0</td>\n",
       "      <td>APSE</td>\n",
       "      <td>Science</td>\n",
       "      <td>11/02/2023</td>\n",
       "    </tr>\n",
       "    <tr>\n",
       "      <th>1</th>\n",
       "      <td>1575</td>\n",
       "      <td>KA000</td>\n",
       "      <td>chithra_srikanth</td>\n",
       "      <td>Chithra</td>\n",
       "      <td>Srikanth</td>\n",
       "      <td>chithrasrikanth76@gmail.com</td>\n",
       "      <td>SSSVV KA Volunteer</td>\n",
       "      <td>VII APSE Science</td>\n",
       "      <td>Animal Fibre</td>\n",
       "      <td>2023-02-13 00:34:08</td>\n",
       "      <td>7.0</td>\n",
       "      <td>APSE</td>\n",
       "      <td>Science</td>\n",
       "      <td>13/02/2023</td>\n",
       "    </tr>\n",
       "    <tr>\n",
       "      <th>2</th>\n",
       "      <td>1575</td>\n",
       "      <td>KA000</td>\n",
       "      <td>chithra_srikanth</td>\n",
       "      <td>Chithra</td>\n",
       "      <td>Srikanth</td>\n",
       "      <td>chithrasrikanth76@gmail.com</td>\n",
       "      <td>SSSVV KA Volunteer</td>\n",
       "      <td>VII APSE Science</td>\n",
       "      <td>CCDP APSE Science STD VII Food Components</td>\n",
       "      <td>2023-02-11 16:46:33</td>\n",
       "      <td>7.0</td>\n",
       "      <td>APSE</td>\n",
       "      <td>Science</td>\n",
       "      <td>11/02/2023</td>\n",
       "    </tr>\n",
       "    <tr>\n",
       "      <th>3</th>\n",
       "      <td>1575</td>\n",
       "      <td>KA000</td>\n",
       "      <td>chithra_srikanth</td>\n",
       "      <td>Chithra</td>\n",
       "      <td>Srikanth</td>\n",
       "      <td>chithrasrikanth76@gmail.com</td>\n",
       "      <td>SSSVV KA Volunteer</td>\n",
       "      <td>IX CBSE Science</td>\n",
       "      <td>Tissues</td>\n",
       "      <td>2023-02-13 03:11:20</td>\n",
       "      <td>9.0</td>\n",
       "      <td>CBSE</td>\n",
       "      <td>Science</td>\n",
       "      <td>13/02/2023</td>\n",
       "    </tr>\n",
       "    <tr>\n",
       "      <th>4</th>\n",
       "      <td>1575</td>\n",
       "      <td>KA000</td>\n",
       "      <td>chithra_srikanth</td>\n",
       "      <td>Chithra</td>\n",
       "      <td>Srikanth</td>\n",
       "      <td>chithrasrikanth76@gmail.com</td>\n",
       "      <td>SSSVV KA Volunteer</td>\n",
       "      <td>VI APSE Science</td>\n",
       "      <td>Fun with Magnets</td>\n",
       "      <td>2023-02-02 15:14:49</td>\n",
       "      <td>6.0</td>\n",
       "      <td>APSE</td>\n",
       "      <td>Science</td>\n",
       "      <td>02/02/2023</td>\n",
       "    </tr>\n",
       "  </tbody>\n",
       "</table>\n",
       "</div>"
      ],
      "text/plain": [
       "     id idnumber          username firstname  lastname  \\\n",
       "0  1575    KA000  chithra_srikanth   Chithra  Srikanth   \n",
       "1  1575    KA000  chithra_srikanth   Chithra  Srikanth   \n",
       "2  1575    KA000  chithra_srikanth   Chithra  Srikanth   \n",
       "3  1575    KA000  chithra_srikanth   Chithra  Srikanth   \n",
       "4  1575    KA000  chithra_srikanth   Chithra  Srikanth   \n",
       "\n",
       "                         email         institution         shortname  \\\n",
       "0  chithrasrikanth76@gmail.com  SSSVV KA Volunteer  VII APSE Science   \n",
       "1  chithrasrikanth76@gmail.com  SSSVV KA Volunteer  VII APSE Science   \n",
       "2  chithrasrikanth76@gmail.com  SSSVV KA Volunteer  VII APSE Science   \n",
       "3  chithrasrikanth76@gmail.com  SSSVV KA Volunteer   IX CBSE Science   \n",
       "4  chithrasrikanth76@gmail.com  SSSVV KA Volunteer   VI APSE Science   \n",
       "\n",
       "                             resource viewed           timestamp  Class Board  \\\n",
       "0                            Food Components 2023-02-11 16:46:22    7.0  APSE   \n",
       "1                               Animal Fibre 2023-02-13 00:34:08    7.0  APSE   \n",
       "2  CCDP APSE Science STD VII Food Components 2023-02-11 16:46:33    7.0  APSE   \n",
       "3                                    Tissues 2023-02-13 03:11:20    9.0  CBSE   \n",
       "4                           Fun with Magnets 2023-02-02 15:14:49    6.0  APSE   \n",
       "\n",
       "   Subject        Date  \n",
       "0  Science  11/02/2023  \n",
       "1  Science  13/02/2023  \n",
       "2  Science  11/02/2023  \n",
       "3  Science  13/02/2023  \n",
       "4  Science  02/02/2023  "
      ]
     },
     "execution_count": 45,
     "metadata": {},
     "output_type": "execute_result"
    }
   ],
   "source": [
    "add_date_column(current_views_date_check)\n",
    "current_views_date_check.head()"
   ]
  },
  {
   "cell_type": "code",
   "execution_count": 46,
   "id": "6608224c",
   "metadata": {},
   "outputs": [
    {
     "data": {
      "text/plain": [
       "id                          int64\n",
       "idnumber                   object\n",
       "username                   object\n",
       "firstname                  object\n",
       "lastname                   object\n",
       "email                      object\n",
       "institution                object\n",
       "shortname                  object\n",
       "resource viewed            object\n",
       "timestamp          datetime64[ns]\n",
       "Class                     float64\n",
       "Board                      object\n",
       "Subject                    object\n",
       "Date                       object\n",
       "dtype: object"
      ]
     },
     "execution_count": 46,
     "metadata": {},
     "output_type": "execute_result"
    }
   ],
   "source": [
    "current_views_date_check.dtypes"
   ]
  },
  {
   "cell_type": "markdown",
   "id": "8dfb2afc",
   "metadata": {},
   "source": [
    "## Check Resource viewed column"
   ]
  },
  {
   "cell_type": "code",
   "execution_count": 47,
   "id": "703ab344",
   "metadata": {},
   "outputs": [],
   "source": [
    "current_views_resource_check = current_views_date_check.copy()"
   ]
  },
  {
   "cell_type": "code",
   "execution_count": 48,
   "id": "491ade60",
   "metadata": {},
   "outputs": [
    {
     "data": {
      "text/plain": [
       "Algebraic Expressions                    14\n",
       "Punctuation                              14\n",
       "Smart Chart                              12\n",
       "Ratio and Proportion                     11\n",
       "Algebra                                  10\n",
       "                                         ..\n",
       "What if it Finishes                       1\n",
       "No Place for Us                           1\n",
       "CCDP CBSE EVS STD V Up You Go!            1\n",
       "CCDP CBSE EVS STD V Whose Forests         1\n",
       "CCDP KSSE Mathematics STD VI Decimals     1\n",
       "Name: resource viewed, Length: 133, dtype: int64"
      ]
     },
     "execution_count": 48,
     "metadata": {},
     "output_type": "execute_result"
    }
   ],
   "source": [
    "current_views_resource_check['resource viewed'].value_counts()"
   ]
  },
  {
   "cell_type": "code",
   "execution_count": 49,
   "id": "26034f91",
   "metadata": {},
   "outputs": [
    {
     "name": "stdout",
     "output_type": "stream",
     "text": [
      "object\n"
     ]
    }
   ],
   "source": [
    "print(current_views_resource_check['resource viewed'].dtype)"
   ]
  },
  {
   "cell_type": "code",
   "execution_count": null,
   "id": "289e6ad0",
   "metadata": {},
   "outputs": [],
   "source": []
  },
  {
   "cell_type": "markdown",
   "id": "c972d842",
   "metadata": {},
   "source": [
    "### Create Content Type column"
   ]
  },
  {
   "cell_type": "code",
   "execution_count": 50,
   "id": "8bed234f",
   "metadata": {},
   "outputs": [
    {
     "data": {
      "text/html": [
       "<div>\n",
       "<style scoped>\n",
       "    .dataframe tbody tr th:only-of-type {\n",
       "        vertical-align: middle;\n",
       "    }\n",
       "\n",
       "    .dataframe tbody tr th {\n",
       "        vertical-align: top;\n",
       "    }\n",
       "\n",
       "    .dataframe thead th {\n",
       "        text-align: right;\n",
       "    }\n",
       "</style>\n",
       "<table border=\"1\" class=\"dataframe\">\n",
       "  <thead>\n",
       "    <tr style=\"text-align: right;\">\n",
       "      <th></th>\n",
       "      <th>id</th>\n",
       "      <th>idnumber</th>\n",
       "      <th>username</th>\n",
       "      <th>firstname</th>\n",
       "      <th>lastname</th>\n",
       "      <th>email</th>\n",
       "      <th>institution</th>\n",
       "      <th>shortname</th>\n",
       "      <th>resource viewed</th>\n",
       "      <th>timestamp</th>\n",
       "      <th>Class</th>\n",
       "      <th>Board</th>\n",
       "      <th>Subject</th>\n",
       "      <th>Date</th>\n",
       "    </tr>\n",
       "  </thead>\n",
       "  <tbody>\n",
       "  </tbody>\n",
       "</table>\n",
       "</div>"
      ],
      "text/plain": [
       "Empty DataFrame\n",
       "Columns: [id, idnumber, username, firstname, lastname, email, institution, shortname, resource viewed, timestamp, Class, Board, Subject, Date]\n",
       "Index: []"
      ]
     },
     "execution_count": 50,
     "metadata": {},
     "output_type": "execute_result"
    }
   ],
   "source": [
    "current_views_resource_check[current_views_resource_check['resource viewed'].isnull()]"
   ]
  },
  {
   "cell_type": "code",
   "execution_count": 51,
   "id": "250e9927",
   "metadata": {},
   "outputs": [
    {
     "data": {
      "text/html": [
       "<div>\n",
       "<style scoped>\n",
       "    .dataframe tbody tr th:only-of-type {\n",
       "        vertical-align: middle;\n",
       "    }\n",
       "\n",
       "    .dataframe tbody tr th {\n",
       "        vertical-align: top;\n",
       "    }\n",
       "\n",
       "    .dataframe thead th {\n",
       "        text-align: right;\n",
       "    }\n",
       "</style>\n",
       "<table border=\"1\" class=\"dataframe\">\n",
       "  <thead>\n",
       "    <tr style=\"text-align: right;\">\n",
       "      <th></th>\n",
       "      <th>id</th>\n",
       "      <th>idnumber</th>\n",
       "      <th>username</th>\n",
       "      <th>firstname</th>\n",
       "      <th>lastname</th>\n",
       "      <th>email</th>\n",
       "      <th>institution</th>\n",
       "      <th>shortname</th>\n",
       "      <th>resource viewed</th>\n",
       "      <th>timestamp</th>\n",
       "      <th>Class</th>\n",
       "      <th>Board</th>\n",
       "      <th>Subject</th>\n",
       "      <th>Date</th>\n",
       "    </tr>\n",
       "  </thead>\n",
       "  <tbody>\n",
       "  </tbody>\n",
       "</table>\n",
       "</div>"
      ],
      "text/plain": [
       "Empty DataFrame\n",
       "Columns: [id, idnumber, username, firstname, lastname, email, institution, shortname, resource viewed, timestamp, Class, Board, Subject, Date]\n",
       "Index: []"
      ]
     },
     "execution_count": 51,
     "metadata": {},
     "output_type": "execute_result"
    }
   ],
   "source": [
    "current_views_resource_check['resource viewed'] = current_views_resource_check['resource viewed'].fillna(\"Not Entered\")\n",
    "current_views_resource_check[current_views_resource_check['resource viewed'].isnull()]"
   ]
  },
  {
   "cell_type": "code",
   "execution_count": 52,
   "id": "915fbb74",
   "metadata": {},
   "outputs": [
    {
     "data": {
      "text/plain": [
       "MLP              367\n",
       "CCDP              55\n",
       "Learning Aids     17\n",
       "Name: Content Type, dtype: int64"
      ]
     },
     "execution_count": 52,
     "metadata": {},
     "output_type": "execute_result"
    }
   ],
   "source": [
    "import re\n",
    "\n",
    "# create function to categorize content type\n",
    "def categorize(value):\n",
    "    if 'CCDP' in value:\n",
    "        return 'CCDP'\n",
    "    elif re.search(r'(.pptx|.ppt|.mp4|MP4|.mp3)$',value):\n",
    "        return 'MM Teaching Aids'\n",
    "    #elif re.search(r'(QA\\s|Worksheet|worksheet|Activity|Sheet$)',value):\n",
    "        #return 'Learning Aids'\n",
    "    #elif re.search(r'(\\d{2}\\s[A-Z]{2}\\s|Worksheet|worksheet|Activity|Sheet$)',value):\n",
    "        #return 'Learning Aids'\n",
    "    #elif re.search(r'(SA\\s|Worksheet|worksheet|Activity|Sheet$)',value):\n",
    "        #return 'Learning Aids'\n",
    "    elif re.search(r'(docx|Worksheet|worksheet|Sheet$)',value):\n",
    "        return 'Learning Aids'\n",
    "    elif re.search(r'(.docx)$',value):\n",
    "        return 'Learning Aids'\n",
    "    else:\n",
    "        return 'MLP'\n",
    "\n",
    "# apply function to create new column\n",
    "current_views_resource_check['Content Type'] = current_views_resource_check['resource viewed'].apply(categorize)\n",
    "\n",
    "current_views_resource_check['Content Type'].value_counts()"
   ]
  },
  {
   "cell_type": "markdown",
   "id": "9d537661",
   "metadata": {},
   "source": [
    "### Create File format type column"
   ]
  },
  {
   "cell_type": "code",
   "execution_count": 53,
   "id": "9cee1b73",
   "metadata": {},
   "outputs": [
    {
     "data": {
      "text/plain": [
       "Unkown    439\n",
       "Name: File Format Type, dtype: int64"
      ]
     },
     "execution_count": 53,
     "metadata": {},
     "output_type": "execute_result"
    }
   ],
   "source": [
    "import re\n",
    "\n",
    "# create function to categorize Asset type\n",
    "def categorize(value):\n",
    "    if '.xlsx' in value:\n",
    "        return 'Spreadsheet'\n",
    "    elif re.search(r'(.pptx|.ppt)',value):\n",
    "        return 'PPT slide'\n",
    "    elif re.search(r'(.mp4|MP4|.mp3)$',value):\n",
    "        return 'Audio'\n",
    "    elif 'pdf' in value:\n",
    "        return 'PDF'\n",
    "    elif 'docx' in value:\n",
    "        return 'Word document'\n",
    "    else:\n",
    "        return 'Unkown'\n",
    "\n",
    "# apply function to create new column\n",
    "current_views_resource_check['File Format Type'] = current_views_resource_check['resource viewed'].apply(categorize)\n",
    "\n",
    "current_views_resource_check['File Format Type'].value_counts()"
   ]
  },
  {
   "cell_type": "markdown",
   "id": "cba50e4e",
   "metadata": {},
   "source": [
    "### Create Asset type column"
   ]
  },
  {
   "cell_type": "code",
   "execution_count": 54,
   "id": "47da85ca",
   "metadata": {},
   "outputs": [
    {
     "data": {
      "text/plain": [
       "Not Mentioned         369\n",
       "CCDP                   55\n",
       "Question to Assess     11\n",
       "Suggested Activity      4\n",
       "Name: Asset Type, dtype: int64"
      ]
     },
     "execution_count": 54,
     "metadata": {},
     "output_type": "execute_result"
    }
   ],
   "source": [
    "import re\n",
    "\n",
    "# create function to categorize Asset type\n",
    "def categorize(value):\n",
    "    if 'MS' in value:\n",
    "        return 'Main Script'\n",
    "    elif 'DD' in value:\n",
    "        return 'Day to Day Relevance'\n",
    "    elif 'QA' in value:\n",
    "        return 'Question to Assess'\n",
    "    elif 'VC' in value:\n",
    "        return 'Value Content'\n",
    "    elif 'IA' in value:\n",
    "        return 'Interesting Asides'\n",
    "    elif 'IQ' in value:\n",
    "        return 'Inquisitive Questions'\n",
    "    elif 'SA' in value:\n",
    "        return 'Suggested Activity'\n",
    "    elif 'CCDP' in value:\n",
    "        return 'CCDP'\n",
    "    elif 'LA' in value:\n",
    "        return 'LA'\n",
    "    elif 'TA' in value:\n",
    "        return 'TA'\n",
    "    elif 'MT' in value:\n",
    "        return 'MT'\n",
    "    elif 'AS' in value:\n",
    "        return 'AS'\n",
    "    elif 'pdf' in value:\n",
    "        return 'Master Lesson Plan'\n",
    "    else:\n",
    "        return 'Not Mentioned'\n",
    "\n",
    "# apply function to create new column\n",
    "current_views_resource_check['Asset Type'] = current_views_resource_check['resource viewed'].apply(categorize)\n",
    "\n",
    "current_views_resource_check['Asset Type'].value_counts()"
   ]
  },
  {
   "cell_type": "code",
   "execution_count": 55,
   "id": "4b3e2fbd",
   "metadata": {},
   "outputs": [],
   "source": [
    "#resource_check[resource_check['Asset Type']=='Not Mentioned']"
   ]
  },
  {
   "cell_type": "code",
   "execution_count": null,
   "id": "bdd645a6",
   "metadata": {},
   "outputs": [],
   "source": []
  },
  {
   "cell_type": "markdown",
   "id": "9d62c324",
   "metadata": {},
   "source": [
    "### Clean resource viewed column"
   ]
  },
  {
   "cell_type": "code",
   "execution_count": 56,
   "id": "6efe6315",
   "metadata": {},
   "outputs": [
    {
     "name": "stdout",
     "output_type": "stream",
     "text": [
      "VII - The Roman Empire -> I - The Roman Empire\n",
      "IV - The Dark Ages -> - The Dark Ages\n",
      "V - The Renaissance -> - The Renaissance\n",
      "I - The Origins of Civilization -> I - The Origins of Civilization\n",
      "IX - The Age of Exploration -> - The Age of Exploration\n",
      "X - The Modern World -> - The Modern World\n",
      "Introduction -> Introduction\n",
      "Vijaynagar Empire -> Vijaynagar Empire\n",
      "CCDP English Language Arts -> Language Arts\n",
      "SA History and Culture -> History and Culture\n",
      "Class X Mathematics - Chapter 1 -> - 1\n",
      "CBSE Class IX Physics - Chapter 3 -> Physics - 3\n",
      "KSSE Biology - Grade 9 -> Biology - 9\n",
      "STD X English Grammar -> STD Grammar\n",
      "5 Digit Numbers -> 5 Digit Numbers\n",
      "CCDP KSSE Mathematics STD V 5-Digit Numbers -> 5-Digit Numbers\n",
      "Grade 5 Science -> 5 Science\n",
      "A snake charmer&#039;s story -> A snake charmer&#039;s story\n",
      "Multiplication 2 -> Multiplication 2\n",
      "Hu Tu Tu Hu Tu Tu -> Hu Tu Tu Hu Tu Tu\n",
      "CCDP KSSE Social Science STD VIII Atmosphere -> Atmosphere\n",
      "03 QA Testing Usage of Nouns Worksheet. -> Testing Usage of Nouns Worksheet\n",
      "CCDP KSSE Mathematics STD VIII Cube and Cube Roots -> Cube and Cube Roots\n",
      "Herons Formula -> Herons Formula\n",
      "CCDP KSSE Mathematics STD IX Herons Formula -> Herons Formula\n",
      "A day in the garden -> A day in the garden\n",
      "Honey sweet honey -> Honey sweet honey\n",
      "Atmosphere -> Atmosphere\n",
      "CCDP KSSE Social Science STD VIII Atmosphere -> Atmosphere\n",
      "Comprehension -> Comprehension\n",
      "01 SA Picture Comprehension -> Picture Comprehension\n",
      "Tenses -> Tenses\n",
      "CCDP KSSE English STD III Tenses -> Tenses\n",
      "Prepositions -> Prepositions\n",
      "CCDP KSSE English STD IV Prepositions -> Prepositions\n",
      "Genders -> Genders\n",
      "I need these -> I need these\n"
     ]
    }
   ],
   "source": [
    "import re\n",
    "\n",
    "def clean_title(title):\n",
    "    # remove leading digits, two-letter asset code, board, subject, class in roman letters, STD\n",
    "    title = re.sub(r'(CCDP\\s|SA\\s|MS\\s|QA\\s|DD\\s|CBSE\\s|KSSE\\s|APSE\\s|Mathematics\\s|EVS\\s|Science\\s|Social Science\\s|English\\s|Class\\s|Grade\\s|Chapter\\s|\\d{2}\\s[A-Z]{2}\\s|STD\\sI\\s|II|STD\\sII\\s|STD\\sIII\\s|III|STD\\sIV\\s|IV|STD\\sV\\s|V\\s|STD\\sVI\\s|VI|STD\\sVII\\s|VII|STD\\sVIII\\s|VIII|STD\\sIX\\s|IX|X\\s)', '', title)\n",
    "    #title = re.sub(r'(CCDP\\s|SA\\s|MS\\s|QA\\s|DD\\s|CBSE\\s|KSSE\\s|APSE\\s|Mathematics\\s|EVS\\s|Science\\s|Social Science\\s|English\\s|Class\\s|Grade\\s|Chapter\\s|\\d{2}\\s[A-Z]{2}\\s|STD\\sI\\s|[VI]\\s|[-]\\s|II|STD\\sII\\s|STD\\sIII\\s|III|STD\\sIV\\s|IV\\s|STD\\sV\\s|V\\s|STD\\sVI\\s|VI|STD\\sVII\\s|VII|STD\\sVIII\\s|VIII|STD\\sIX\\s|IX\\s|X\\s|STD\\s|[''%&#;]|\\d{3})', '', title)\n",
    "    \n",
    "    \n",
    "    # remove trailing hyphens, spaces, and periods\n",
    "    title = re.sub(r'[-.\\s]*$', '', title)\n",
    "    title = re.sub(r'^\\s+ \\s$', '', title)\n",
    "    title = re.sub(r'^\\s+ ', '', title)\n",
    "\n",
    "    return title.strip()\n",
    "\n",
    "# test the function with some sample inputs\n",
    "titles = [\n",
    "    'VII - The Roman Empire',\n",
    "    'IV - The Dark Ages',\n",
    "    'V - The Renaissance',\n",
    "    'I - The Origins of Civilization',\n",
    "    'IX - The Age of Exploration',\n",
    "    'X - The Modern World',\n",
    "    'Introduction','Vijaynagar Empire',\n",
    "    'CCDP English Language Arts',\n",
    "    'SA History and Culture',\n",
    "    'Class X Mathematics - Chapter 1',\n",
    "    'CBSE Class IX Physics - Chapter 3',\n",
    "    'KSSE Biology - Grade 9',\n",
    "    'STD X English Grammar',\n",
    "    '5 Digit Numbers','CCDP KSSE Mathematics STD V 5-Digit Numbers',\n",
    "    'Grade 5 Science',\n",
    "    'A snake charmer&#039;s story',\n",
    "    'Multiplication 2',\n",
    "    'Hu Tu Tu Hu Tu Tu',\n",
    "    'CCDP KSSE Social Science STD VIII Atmosphere',\n",
    "    '03 QA Testing Usage of Nouns Worksheet.',\n",
    "    'CCDP KSSE Mathematics STD VIII Cube and Cube Roots',\n",
    "    'Herons Formula',\n",
    "    'CCDP KSSE Mathematics STD IX Herons Formula',\n",
    "    'A day in the garden',\n",
    "    'Honey sweet honey',\n",
    "    'Atmosphere',\n",
    "    'CCDP KSSE Social Science STD VIII Atmosphere',\n",
    "    'Comprehension',\n",
    "    '01 SA Picture Comprehension',\n",
    "    'Tenses',\n",
    "    'CCDP KSSE English STD III Tenses',\n",
    "    'Prepositions',\n",
    "    'CCDP KSSE English STD IV Prepositions',\n",
    "    'Genders','I need these'\n",
    "\n",
    "]\n",
    "\n",
    "for title in titles:\n",
    "    print(f\"{title} -> {clean_title(title)}\")\n"
   ]
  },
  {
   "cell_type": "code",
   "execution_count": 57,
   "id": "917a1389",
   "metadata": {},
   "outputs": [
    {
     "data": {
      "text/plain": [
       "Algebraic Expressions       15\n",
       "Punctuation                 14\n",
       "Law and Social Justice      12\n",
       "Smart Chart                 12\n",
       "Ratio and Proportion        11\n",
       "                            ..\n",
       "Electricity And Circuits     1\n",
       "Up You Go!                   1\n",
       "No Place for Us              1\n",
       "What if it Finishes          1\n",
       "Atoms and Molecules          1\n",
       "Name: course module, Length: 112, dtype: int64"
      ]
     },
     "execution_count": 57,
     "metadata": {},
     "output_type": "execute_result"
    }
   ],
   "source": [
    "import re\n",
    "\n",
    "def clean_title(title):\n",
    "    # remove leading digits, two-letter asset code, board, subject, class in roman letters, STD\n",
    "    title = re.sub(r'(CCDP\\s|SA\\s|MS\\s|QA\\s|DD\\s|CBSE\\s|KSSE\\s|APSE\\s|Mathematics\\s|EVS\\s|Science\\s|Social Science\\s|English\\s|Class\\s|Grade\\s|Chapter\\s|\\d{2}\\s[A-Z]{2}\\s|STD\\sI\\s|II|STD\\sII\\s|STD\\sIII\\s|III|STD\\sIV\\s|IV|STD\\sV\\s|V\\s|STD\\sVI\\s|VI|STD\\sVII\\s|VII|STD\\sVIII\\s|VIII|STD\\sIX\\s|IX|X\\s)', '', title)\n",
    "    #title = re.sub(r'(CCDP\\s|SA\\s|MS\\s|QA\\s|DD\\s|CBSE\\s|KSSE\\s|APSE\\s|Mathematics\\s|EVS\\s|Science\\s|Social Science\\s|English\\s|Class\\s|Grade\\s|Chapter\\s|\\d{2}\\s[A-Z]{2}\\s|STD\\sI\\s|[VI]\\s|[-]\\s|II|STD\\sII\\s|STD\\sIII\\s|III|STD\\sIV\\s|IV\\s|STD\\sV\\s|V\\s|STD\\sVI\\s|VI|STD\\sVII\\s|VII|STD\\sVIII\\s|VIII|STD\\sIX\\s|IX\\s|X\\s|STD\\s|[''%&#;]|\\d{3})', '', title)\n",
    "    \n",
    "    # remove trailing hyphens, spaces, and periods\n",
    "    title = re.sub(r'[-.\\s]*$', '', title)\n",
    "    title = re.sub(r'^\\s+ \\s$', '', title)\n",
    "    title = re.sub(r'^\\s+ ', '', title)\n",
    "\n",
    "    return title.strip()\n",
    "\n",
    "#Apply the clean_text function to the 'resource viewed' column of the 'resource_check' dataframe \n",
    "\n",
    "current_views_resource_check['course module'] = current_views_resource_check['resource viewed'].apply(clean_title)\n",
    "\n",
    "current_views_resource_check['course module'].value_counts() \n",
    "#print(resource_check)"
   ]
  },
  {
   "cell_type": "markdown",
   "id": "0e11bd00",
   "metadata": {},
   "source": [
    "### Correct Spelling"
   ]
  },
  {
   "cell_type": "markdown",
   "id": "3bc950b7",
   "metadata": {},
   "source": [
    "from spellchecker import SpellChecker\n",
    "import re\n",
    "\n",
    "#Initialize spell checker\n",
    "spell = SpellChecker()\n",
    "\n",
    "#Define a function to correct spelling mistakes in a string\n",
    "def correct_spelling(text):\n",
    "    # Split the text into words\n",
    "    words = re.findall(r'\\b\\w+\\b', text)\n",
    "    \n",
    "    # Find and correct misspelled words\n",
    "    corrected_words = []\n",
    "    for word in words:\n",
    "        corrected_word = spell.correction(word.lower())\n",
    "        if corrected_word is not None:\n",
    "            corrected_words.append(corrected_word)\n",
    "        else:\n",
    "            corrected_words.append(word)\n",
    "    \n",
    "    #Join the corrected words back into a single string\n",
    "    return \" \".join(corrected_words)\n",
    "\n",
    "#test the function with some sample inputs\n",
    "titles = [\n",
    "    'Stars and the solar system',\n",
    "    'My Neighbourhood',\n",
    "    'vijayanagara empire',\n",
    "    'Multiplication 2',\n",
    "    'Hu Tu Tu Hu Tu Tu',\n",
    "    'CCDP KSSE Social Science STD VIII Atmosphere',\n",
    "    '03 QA Testing Usage of Nouns Worksheet.',\n",
    "    'CCDP KSSE Social Science STD IX Our Constitution',\n",
    "    'India Political and Cultural',\n",
    "    'introduction to graph',\n",
    "    'exponents powers',\n",
    "    'Introduction','linear equations in two variables',\n",
    "    'Abdul in the Garden',\n",
    "    'numbers 1 t0 20',\n",
    "    'Eating Togerher','Reprosuction in Animals',\n",
    "    'A snake charmer&#039;s story','how many ponytails?'\n",
    "    \n",
    "]\n",
    "\n",
    "for title in titles:\n",
    "    print(f\"{title} -> {correct_spelling(title)}\")"
   ]
  },
  {
   "cell_type": "markdown",
   "id": "430b3295",
   "metadata": {},
   "source": [
    "from spellchecker import SpellChecker\n",
    "import re\n",
    "\n",
    "#Initialize spell checker\n",
    "spell = SpellChecker()\n",
    "\n",
    "#Define a function to correct spelling mistakes in a string\n",
    "def correct_spelling(text):\n",
    "    # Split the text into words\n",
    "    words = re.findall(r'\\b\\w+\\b', text)\n",
    "    \n",
    "    # Find and correct misspelled words\n",
    "    corrected_words = []\n",
    "    for word in words:\n",
    "        corrected_word = spell.correction(word.lower())\n",
    "        if corrected_word is not None:\n",
    "            corrected_words.append(corrected_word)\n",
    "        else:\n",
    "            corrected_words.append(word)\n",
    "    \n",
    "    #Join the corrected words back into a single string\n",
    "    return \" \".join(corrected_words)\n",
    "\n",
    "#Apply correct_spelling() function to 'chapter title' column\n",
    "resource_check['chapter title cleaned'] = resource_check['chapter title'].apply(correct_spelling)\n",
    "resource_check['chapter title cleaned'].value_counts()"
   ]
  },
  {
   "cell_type": "markdown",
   "id": "6c0dc209",
   "metadata": {},
   "source": [
    "### Capitalize first letter"
   ]
  },
  {
   "cell_type": "markdown",
   "id": "f38180ea",
   "metadata": {},
   "source": [
    "import re\n",
    "\n",
    "def clean_chapter_name(chapter_name):\n",
    "    # Exclude special characters and digits\n",
    "    chapter_name = re.sub(r\"(['%&#;]|\\d{3})\", \"\", chapter_name)\n",
    "    \n",
    "    # Capitalize first letters of each word\n",
    "    words = chapter_name.split()\n",
    "    for i, word in enumerate(words):\n",
    "        if word.lower() not in ['in', 'the', 'to', 'on', 'at', 'into', 'and','a','with','of']:\n",
    "            words[i] = word.title()\n",
    "    return \" \".join(words)\n",
    "\n",
    "#test the function with some sample inputs\n",
    "titles = [\n",
    "    'Stars and the solar system',\n",
    "    'My Neighbourhood',\n",
    "    'vijayanagara empire',\n",
    "    'Multiplication 2',\n",
    "    'Hu Tu Tu Hu Tu Tu',\n",
    "    'CCDP KSSE Social Science STD VIII Atmosphere',\n",
    "    '03 QA Testing Usage of Nouns Worksheet.',\n",
    "    'CCDP KSSE Social Science STD IX Our Constitution',\n",
    "    'India Political and Cultural',\n",
    "    'introduction to graph',\n",
    "    'exponents powers',\n",
    "    'Introduction','linear equations in two variables',\n",
    "    'Abdul in the Garden',\n",
    "    'numbers 1 t0 20',\n",
    "    'Eating Togerher','Reprosuction in Animals',\n",
    "    'A snake charmer&#039;s story','how many ponytails?'\n",
    "    \n",
    "]\n",
    "\n",
    "for title in titles:\n",
    "    print(f\"{title} -> {clean_chapter_name(title)}\")"
   ]
  },
  {
   "cell_type": "markdown",
   "id": "7836a3dd",
   "metadata": {},
   "source": [
    "def clean_chapter_name(chapter_name):\n",
    "    words = chapter_name.split()\n",
    "    for i, word in enumerate(words):\n",
    "        if i == 0 or word.lower() not in ['in','the' 'to', 'on', 'at', 'into', 'and','a','of','with','it','so','']:\n",
    "            words[i] = word.capitalize()\n",
    "    return \" \".join(words)\n",
    "#apply function to chapter_name_cleaneed column\n",
    "resource_check['chapter title cleaned'] = resource_check['chapter title cleaned'].apply(clean_chapter_name)\n",
    "\n",
    "resource_check['chapter title cleaned'].value_counts()"
   ]
  },
  {
   "cell_type": "code",
   "execution_count": 58,
   "id": "4131f593",
   "metadata": {},
   "outputs": [],
   "source": [
    "#Save the cleaned dataframe to an excel file\n",
    "current_views_resource_check.to_excel(r\"D:\\Side Hustles\\SSSVV activities\\SRC - Karnataka\\Monthly Reports\\resource_check.xlsx\", index=False)"
   ]
  },
  {
   "cell_type": "markdown",
   "id": "3ccb08da",
   "metadata": {},
   "source": [
    "### Save file in folder path"
   ]
  },
  {
   "cell_type": "code",
   "execution_count": 59,
   "id": "292534c2",
   "metadata": {},
   "outputs": [],
   "source": [
    "current_views_cleaned = current_views_resource_check.copy()"
   ]
  },
  {
   "cell_type": "code",
   "execution_count": 60,
   "id": "284cc335",
   "metadata": {},
   "outputs": [],
   "source": [
    "# Rename the file with the current month and year\n",
    "new_views = f'Views_{previous.month}_{previous.year}.xlsx'"
   ]
  },
  {
   "cell_type": "code",
   "execution_count": 61,
   "id": "d6fb7408",
   "metadata": {},
   "outputs": [],
   "source": [
    "#Set the new file path\n",
    "new_path = os.path.join(r'D:\\Side Hustles\\SSSVV activities\\SRC - Karnataka\\Monthly Reports\\Resource Views', new_views)\n",
    "\n",
    "#Save the dataframe to the new file path\n",
    "current_views_cleaned.to_excel(new_path, index=False)"
   ]
  },
  {
   "cell_type": "markdown",
   "id": "ee16d198",
   "metadata": {},
   "source": [
    "# Feedback List Folder"
   ]
  },
  {
   "cell_type": "code",
   "execution_count": 62,
   "id": "9cc27e8a",
   "metadata": {},
   "outputs": [
    {
     "data": {
      "text/html": [
       "<div>\n",
       "<style scoped>\n",
       "    .dataframe tbody tr th:only-of-type {\n",
       "        vertical-align: middle;\n",
       "    }\n",
       "\n",
       "    .dataframe tbody tr th {\n",
       "        vertical-align: top;\n",
       "    }\n",
       "\n",
       "    .dataframe thead th {\n",
       "        text-align: right;\n",
       "    }\n",
       "</style>\n",
       "<table border=\"1\" class=\"dataframe\">\n",
       "  <thead>\n",
       "    <tr style=\"text-align: right;\">\n",
       "      <th></th>\n",
       "      <th>Time</th>\n",
       "      <th>userid</th>\n",
       "      <th>idnumber</th>\n",
       "      <th>username</th>\n",
       "      <th>firstname</th>\n",
       "      <th>lastname</th>\n",
       "      <th>email</th>\n",
       "      <th>institution</th>\n",
       "      <th>email entered</th>\n",
       "      <th>chapter name</th>\n",
       "      <th>...</th>\n",
       "      <th>qa</th>\n",
       "      <th>dd</th>\n",
       "      <th>vc</th>\n",
       "      <th>ia</th>\n",
       "      <th>comm. 1</th>\n",
       "      <th>comm. 2</th>\n",
       "      <th>comm. 3</th>\n",
       "      <th>comm. 4</th>\n",
       "      <th>comm. 5</th>\n",
       "      <th>comm. 6</th>\n",
       "    </tr>\n",
       "  </thead>\n",
       "  <tbody>\n",
       "    <tr>\n",
       "      <th>0</th>\n",
       "      <td>2023-02-02 06:31:39</td>\n",
       "      <td>2059</td>\n",
       "      <td>KA007</td>\n",
       "      <td>sssvm.jayalaxmi</td>\n",
       "      <td>Jayalaxmi</td>\n",
       "      <td>CP</td>\n",
       "      <td>laxmisssvm@gmail.com</td>\n",
       "      <td>Sri Sathya Sai Vidya Mandir School, Dharwad</td>\n",
       "      <td>laxmisssvm@gmail.com</td>\n",
       "      <td>Coordinate geometry</td>\n",
       "      <td>...</td>\n",
       "      <td>5</td>\n",
       "      <td>5</td>\n",
       "      <td>5</td>\n",
       "      <td>4</td>\n",
       "      <td>1</td>\n",
       "      <td>1</td>\n",
       "      <td>1</td>\n",
       "      <td>1</td>\n",
       "      <td>NaN</td>\n",
       "      <td>NaN</td>\n",
       "    </tr>\n",
       "    <tr>\n",
       "      <th>1</th>\n",
       "      <td>2023-02-04 09:15:43</td>\n",
       "      <td>1598</td>\n",
       "      <td>KA007</td>\n",
       "      <td>sssvm.saismitha</td>\n",
       "      <td>Sai Smitha</td>\n",
       "      <td>Sahoo</td>\n",
       "      <td>saismitaofficial@gmail.com</td>\n",
       "      <td>Sri Sathya Sai Vidya Mandir School, Dharwad</td>\n",
       "      <td>saismitasahoo58@gmail.com</td>\n",
       "      <td>Poonams day out</td>\n",
       "      <td>...</td>\n",
       "      <td>5</td>\n",
       "      <td>5</td>\n",
       "      <td>5</td>\n",
       "      <td>5</td>\n",
       "      <td>1</td>\n",
       "      <td>1</td>\n",
       "      <td>1</td>\n",
       "      <td>1</td>\n",
       "      <td>NaN</td>\n",
       "      <td>NaN</td>\n",
       "    </tr>\n",
       "    <tr>\n",
       "      <th>2</th>\n",
       "      <td>2023-02-04 09:17:01</td>\n",
       "      <td>1598</td>\n",
       "      <td>KA007</td>\n",
       "      <td>sssvm.saismitha</td>\n",
       "      <td>Sai Smitha</td>\n",
       "      <td>Sahoo</td>\n",
       "      <td>saismitaofficial@gmail.com</td>\n",
       "      <td>Sri Sathya Sai Vidya Mandir School, Dharwad</td>\n",
       "      <td>saismitasahoo58@gmail.com</td>\n",
       "      <td>The plant fairy</td>\n",
       "      <td>...</td>\n",
       "      <td>5</td>\n",
       "      <td>5</td>\n",
       "      <td>5</td>\n",
       "      <td>5</td>\n",
       "      <td>1</td>\n",
       "      <td>1</td>\n",
       "      <td>1</td>\n",
       "      <td>1</td>\n",
       "      <td>NaN</td>\n",
       "      <td>NaN</td>\n",
       "    </tr>\n",
       "    <tr>\n",
       "      <th>3</th>\n",
       "      <td>2023-02-04 09:17:02</td>\n",
       "      <td>2135</td>\n",
       "      <td>KA007</td>\n",
       "      <td>malashree.nayyar</td>\n",
       "      <td>Malashree</td>\n",
       "      <td>Nayyar</td>\n",
       "      <td>malashreenayyar@gmail.com</td>\n",
       "      <td>Sri Sathya Sai Vidya Mandir School, Dharwad</td>\n",
       "      <td>malashreenayyar@gmail.com</td>\n",
       "      <td>Across the walls</td>\n",
       "      <td>...</td>\n",
       "      <td>5</td>\n",
       "      <td>4</td>\n",
       "      <td>4</td>\n",
       "      <td>4</td>\n",
       "      <td>1</td>\n",
       "      <td>1</td>\n",
       "      <td>1</td>\n",
       "      <td>1</td>\n",
       "      <td>NaN</td>\n",
       "      <td>NaN</td>\n",
       "    </tr>\n",
       "    <tr>\n",
       "      <th>4</th>\n",
       "      <td>2023-02-04 09:18:08</td>\n",
       "      <td>1598</td>\n",
       "      <td>KA007</td>\n",
       "      <td>sssvm.saismitha</td>\n",
       "      <td>Sai Smitha</td>\n",
       "      <td>Sahoo</td>\n",
       "      <td>saismitaofficial@gmail.com</td>\n",
       "      <td>Sri Sathya Sai Vidya Mandir School, Dharwad</td>\n",
       "      <td>saismitasahoo58@gmail.com</td>\n",
       "      <td>Water O Water</td>\n",
       "      <td>...</td>\n",
       "      <td>5</td>\n",
       "      <td>5</td>\n",
       "      <td>5</td>\n",
       "      <td>5</td>\n",
       "      <td>1</td>\n",
       "      <td>1</td>\n",
       "      <td>1</td>\n",
       "      <td>1</td>\n",
       "      <td>NaN</td>\n",
       "      <td>NaN</td>\n",
       "    </tr>\n",
       "  </tbody>\n",
       "</table>\n",
       "<p>5 rows × 23 columns</p>\n",
       "</div>"
      ],
      "text/plain": [
       "                  Time  userid idnumber          username   firstname  \\\n",
       "0  2023-02-02 06:31:39    2059    KA007   sssvm.jayalaxmi   Jayalaxmi   \n",
       "1  2023-02-04 09:15:43    1598    KA007   sssvm.saismitha  Sai Smitha   \n",
       "2  2023-02-04 09:17:01    1598    KA007   sssvm.saismitha  Sai Smitha   \n",
       "3  2023-02-04 09:17:02    2135    KA007  malashree.nayyar   Malashree   \n",
       "4  2023-02-04 09:18:08    1598    KA007   sssvm.saismitha  Sai Smitha   \n",
       "\n",
       "  lastname                       email  \\\n",
       "0       CP        laxmisssvm@gmail.com   \n",
       "1    Sahoo  saismitaofficial@gmail.com   \n",
       "2    Sahoo  saismitaofficial@gmail.com   \n",
       "3   Nayyar   malashreenayyar@gmail.com   \n",
       "4    Sahoo  saismitaofficial@gmail.com   \n",
       "\n",
       "                                   institution              email entered  \\\n",
       "0  Sri Sathya Sai Vidya Mandir School, Dharwad       laxmisssvm@gmail.com   \n",
       "1  Sri Sathya Sai Vidya Mandir School, Dharwad  saismitasahoo58@gmail.com   \n",
       "2  Sri Sathya Sai Vidya Mandir School, Dharwad  saismitasahoo58@gmail.com   \n",
       "3  Sri Sathya Sai Vidya Mandir School, Dharwad  malashreenayyar@gmail.com   \n",
       "4  Sri Sathya Sai Vidya Mandir School, Dharwad  saismitasahoo58@gmail.com   \n",
       "\n",
       "          chapter name  ...  qa  dd  vc  ia  comm. 1  comm. 2  comm. 3  \\\n",
       "0  Coordinate geometry  ...   5   5   5   4        1        1        1   \n",
       "1      Poonams day out  ...   5   5   5   5        1        1        1   \n",
       "2     The plant fairy   ...   5   5   5   5        1        1        1   \n",
       "3     Across the walls  ...   5   4   4   4        1        1        1   \n",
       "4       Water O Water   ...   5   5   5   5        1        1        1   \n",
       "\n",
       "   comm. 4  comm. 5  comm. 6  \n",
       "0        1      NaN      NaN  \n",
       "1        1      NaN      NaN  \n",
       "2        1      NaN      NaN  \n",
       "3        1      NaN      NaN  \n",
       "4        1      NaN      NaN  \n",
       "\n",
       "[5 rows x 23 columns]"
      ]
     },
     "execution_count": 62,
     "metadata": {},
     "output_type": "execute_result"
    }
   ],
   "source": [
    "current_feedback.head()"
   ]
  },
  {
   "cell_type": "code",
   "execution_count": 63,
   "id": "325b268f",
   "metadata": {},
   "outputs": [
    {
     "data": {
      "application/vnd.jupyter.widget-view+json": {
       "model_id": "0c32abf9b8684e8993c84c559f9b9482",
       "version_major": 2,
       "version_minor": 0
      },
      "text/plain": [
       "Summarize dataset:   0%|          | 0/5 [00:00<?, ?it/s]"
      ]
     },
     "metadata": {},
     "output_type": "display_data"
    },
    {
     "data": {
      "application/vnd.jupyter.widget-view+json": {
       "model_id": "8f008864b095494282348e3734691788",
       "version_major": 2,
       "version_minor": 0
      },
      "text/plain": [
       "Generate report structure:   0%|          | 0/1 [00:00<?, ?it/s]"
      ]
     },
     "metadata": {},
     "output_type": "display_data"
    },
    {
     "data": {
      "application/vnd.jupyter.widget-view+json": {
       "model_id": "def35076c060406a90a86d8c477aa38a",
       "version_major": 2,
       "version_minor": 0
      },
      "text/plain": [
       "Render HTML:   0%|          | 0/1 [00:00<?, ?it/s]"
      ]
     },
     "metadata": {},
     "output_type": "display_data"
    },
    {
     "data": {
      "application/vnd.jupyter.widget-view+json": {
       "model_id": "8c8f5795982346a79dd6f8d0b69f6c87",
       "version_major": 2,
       "version_minor": 0
      },
      "text/plain": [
       "Export report to file:   0%|          | 0/1 [00:00<?, ?it/s]"
      ]
     },
     "metadata": {},
     "output_type": "display_data"
    }
   ],
   "source": [
    "import ydata_profiling\n",
    "from ydata_profiling import ProfileReport\n",
    "\n",
    "profile = ProfileReport(dfs[1], title='Feedback List')\n",
    "profile.to_file('Feedback List.html')"
   ]
  },
  {
   "cell_type": "code",
   "execution_count": 64,
   "id": "984e9e18",
   "metadata": {},
   "outputs": [],
   "source": [
    "#Input Corrections needed\n",
    "\n",
    "# General Check for any new inconsistency\n",
    "# change school name\n",
    "# Add Cleaned Date Column"
   ]
  },
  {
   "cell_type": "markdown",
   "id": "94b453dd",
   "metadata": {},
   "source": [
    "## General Check for any new inconsistency"
   ]
  },
  {
   "cell_type": "code",
   "execution_count": 65,
   "id": "6506c145",
   "metadata": {},
   "outputs": [
    {
     "data": {
      "text/plain": [
       "(26, 23)"
      ]
     },
     "execution_count": 65,
     "metadata": {},
     "output_type": "execute_result"
    }
   ],
   "source": [
    "current_feedback.shape"
   ]
  },
  {
   "cell_type": "code",
   "execution_count": 66,
   "id": "ead0e9c7",
   "metadata": {},
   "outputs": [
    {
     "data": {
      "text/plain": [
       "Index(['Time', 'userid', 'idnumber', 'username', 'firstname', 'lastname',\n",
       "       'email', 'institution', 'email entered', 'chapter name', 'mainscript',\n",
       "       'iq', 'sa', 'qa', 'dd', 'vc', 'ia', 'comm. 1', 'comm. 2', 'comm. 3',\n",
       "       'comm. 4', 'comm. 5', 'comm. 6'],\n",
       "      dtype='object')"
      ]
     },
     "execution_count": 66,
     "metadata": {},
     "output_type": "execute_result"
    }
   ],
   "source": [
    "current_feedback.columns"
   ]
  },
  {
   "cell_type": "code",
   "execution_count": 67,
   "id": "29fa4dc3",
   "metadata": {},
   "outputs": [
    {
     "data": {
      "text/plain": [
       "Time              object\n",
       "userid             int64\n",
       "idnumber          object\n",
       "username          object\n",
       "firstname         object\n",
       "lastname          object\n",
       "email             object\n",
       "institution       object\n",
       "email entered     object\n",
       "chapter name      object\n",
       "mainscript         int64\n",
       "iq                 int64\n",
       "sa                 int64\n",
       "qa                 int64\n",
       "dd                 int64\n",
       "vc                 int64\n",
       "ia                 int64\n",
       "comm. 1            int64\n",
       "comm. 2            int64\n",
       "comm. 3            int64\n",
       "comm. 4            int64\n",
       "comm. 5           object\n",
       "comm. 6          float64\n",
       "dtype: object"
      ]
     },
     "execution_count": 67,
     "metadata": {},
     "output_type": "execute_result"
    }
   ],
   "source": [
    "current_feedback.dtypes"
   ]
  },
  {
   "cell_type": "code",
   "execution_count": 68,
   "id": "24b15534",
   "metadata": {},
   "outputs": [
    {
     "data": {
      "text/plain": [
       "Time              0\n",
       "userid            0\n",
       "idnumber          0\n",
       "username          0\n",
       "firstname         0\n",
       "lastname          0\n",
       "email             0\n",
       "institution       0\n",
       "email entered     0\n",
       "chapter name      0\n",
       "mainscript        0\n",
       "iq                0\n",
       "sa                0\n",
       "qa                0\n",
       "dd                0\n",
       "vc                0\n",
       "ia                0\n",
       "comm. 1           0\n",
       "comm. 2           0\n",
       "comm. 3           0\n",
       "comm. 4           0\n",
       "comm. 5          25\n",
       "comm. 6          26\n",
       "dtype: int64"
      ]
     },
     "execution_count": 68,
     "metadata": {},
     "output_type": "execute_result"
    }
   ],
   "source": [
    "current_feedback.isnull().sum()"
   ]
  },
  {
   "cell_type": "code",
   "execution_count": 69,
   "id": "21f0557b",
   "metadata": {},
   "outputs": [
    {
     "data": {
      "text/html": [
       "<div>\n",
       "<style scoped>\n",
       "    .dataframe tbody tr th:only-of-type {\n",
       "        vertical-align: middle;\n",
       "    }\n",
       "\n",
       "    .dataframe tbody tr th {\n",
       "        vertical-align: top;\n",
       "    }\n",
       "\n",
       "    .dataframe thead th {\n",
       "        text-align: right;\n",
       "    }\n",
       "</style>\n",
       "<table border=\"1\" class=\"dataframe\">\n",
       "  <thead>\n",
       "    <tr style=\"text-align: right;\">\n",
       "      <th></th>\n",
       "      <th>Time</th>\n",
       "      <th>idnumber</th>\n",
       "      <th>username</th>\n",
       "      <th>firstname</th>\n",
       "      <th>lastname</th>\n",
       "      <th>email</th>\n",
       "      <th>institution</th>\n",
       "      <th>email entered</th>\n",
       "      <th>chapter name</th>\n",
       "      <th>comm. 5</th>\n",
       "    </tr>\n",
       "  </thead>\n",
       "  <tbody>\n",
       "    <tr>\n",
       "      <th>count</th>\n",
       "      <td>26</td>\n",
       "      <td>26</td>\n",
       "      <td>26</td>\n",
       "      <td>26</td>\n",
       "      <td>26</td>\n",
       "      <td>26</td>\n",
       "      <td>26</td>\n",
       "      <td>26</td>\n",
       "      <td>26</td>\n",
       "      <td>1</td>\n",
       "    </tr>\n",
       "    <tr>\n",
       "      <th>unique</th>\n",
       "      <td>26</td>\n",
       "      <td>2</td>\n",
       "      <td>7</td>\n",
       "      <td>7</td>\n",
       "      <td>7</td>\n",
       "      <td>7</td>\n",
       "      <td>2</td>\n",
       "      <td>8</td>\n",
       "      <td>26</td>\n",
       "      <td>1</td>\n",
       "    </tr>\n",
       "    <tr>\n",
       "      <th>top</th>\n",
       "      <td>2023-02-02 06:31:39</td>\n",
       "      <td>KA007</td>\n",
       "      <td>sssvm.saismitha</td>\n",
       "      <td>Sai Smitha</td>\n",
       "      <td>Sahoo</td>\n",
       "      <td>saismitaofficial@gmail.com</td>\n",
       "      <td>Sri Sathya Sai Vidya Mandir School, Dharwad</td>\n",
       "      <td>saismitasahoo58@gmail.com</td>\n",
       "      <td>Coordinate geometry</td>\n",
       "      <td>name of the asset -_Suggested Activity\\n15th s...</td>\n",
       "    </tr>\n",
       "    <tr>\n",
       "      <th>freq</th>\n",
       "      <td>1</td>\n",
       "      <td>19</td>\n",
       "      <td>7</td>\n",
       "      <td>7</td>\n",
       "      <td>7</td>\n",
       "      <td>7</td>\n",
       "      <td>19</td>\n",
       "      <td>7</td>\n",
       "      <td>1</td>\n",
       "      <td>1</td>\n",
       "    </tr>\n",
       "  </tbody>\n",
       "</table>\n",
       "</div>"
      ],
      "text/plain": [
       "                       Time idnumber         username   firstname lastname  \\\n",
       "count                    26       26               26          26       26   \n",
       "unique                   26        2                7           7        7   \n",
       "top     2023-02-02 06:31:39    KA007  sssvm.saismitha  Sai Smitha    Sahoo   \n",
       "freq                      1       19                7           7        7   \n",
       "\n",
       "                             email  \\\n",
       "count                           26   \n",
       "unique                           7   \n",
       "top     saismitaofficial@gmail.com   \n",
       "freq                             7   \n",
       "\n",
       "                                        institution  \\\n",
       "count                                            26   \n",
       "unique                                            2   \n",
       "top     Sri Sathya Sai Vidya Mandir School, Dharwad   \n",
       "freq                                             19   \n",
       "\n",
       "                    email entered         chapter name  \\\n",
       "count                          26                   26   \n",
       "unique                          8                   26   \n",
       "top     saismitasahoo58@gmail.com  Coordinate geometry   \n",
       "freq                            7                    1   \n",
       "\n",
       "                                                  comm. 5  \n",
       "count                                                   1  \n",
       "unique                                                  1  \n",
       "top     name of the asset -_Suggested Activity\\n15th s...  \n",
       "freq                                                    1  "
      ]
     },
     "execution_count": 69,
     "metadata": {},
     "output_type": "execute_result"
    }
   ],
   "source": [
    "current_feedback.describe(include=['O'])"
   ]
  },
  {
   "cell_type": "code",
   "execution_count": 70,
   "id": "f313639e",
   "metadata": {},
   "outputs": [
    {
     "name": "stdout",
     "output_type": "stream",
     "text": [
      "Number of Schools: 2\n",
      "Name of Schools:\n",
      " Sri Sathya Sai Vidya Mandir School, Dharwad    19\n",
      "Sri Sathya Sai School, Bhadravathi              7\n",
      "Name: institution, dtype: int64\n"
     ]
    }
   ],
   "source": [
    "print(\"Number of Schools:\", current_feedback[\"institution\"].nunique())\n",
    "print(\"Name of Schools:\\n\",current_feedback[\"institution\"].value_counts().sort_values(ascending = False))"
   ]
  },
  {
   "cell_type": "code",
   "execution_count": 71,
   "id": "c8727ae8",
   "metadata": {},
   "outputs": [
    {
     "name": "stdout",
     "output_type": "stream",
     "text": [
      "Number of Users: 7\n",
      "Name of Users:\n",
      " Sai Smitha    7\n",
      "JAYAKUMAR     7\n",
      "Malati        4\n",
      "Malashree     3\n",
      "Kalpana       2\n",
      "Veerayya      2\n",
      "Jayalaxmi     1\n",
      "Name: firstname, dtype: int64\n"
     ]
    }
   ],
   "source": [
    "print(\"Number of Users:\", current_feedback[\"userid\"].nunique())\n",
    "print(\"Name of Users:\\n\",current_feedback[\"firstname\"].value_counts().sort_values(ascending = False))"
   ]
  },
  {
   "cell_type": "markdown",
   "id": "a878922f",
   "metadata": {},
   "source": [
    "## Change school name"
   ]
  },
  {
   "cell_type": "code",
   "execution_count": 72,
   "id": "a0362118",
   "metadata": {},
   "outputs": [],
   "source": [
    "current_feedback_school_check = current_feedback.copy()"
   ]
  },
  {
   "cell_type": "code",
   "execution_count": 73,
   "id": "a4b450df",
   "metadata": {},
   "outputs": [
    {
     "name": "stdout",
     "output_type": "stream",
     "text": [
      "Number of Schools :  2\n"
     ]
    },
    {
     "data": {
      "text/plain": [
       "Sri Sathya Sai Vidya Mandir School, Dharwad    19\n",
       "Sri Sathya Sai School, Bhadravathi              7\n",
       "Name: institution, dtype: int64"
      ]
     },
     "execution_count": 73,
     "metadata": {},
     "output_type": "execute_result"
    }
   ],
   "source": [
    "print(\"Number of Schools : \",current_feedback_school_check['institution'].nunique())\n",
    "current_feedback_school_check['institution'].value_counts()"
   ]
  },
  {
   "cell_type": "code",
   "execution_count": 74,
   "id": "88f5da29",
   "metadata": {},
   "outputs": [],
   "source": [
    "from fuzzywuzzy import fuzz, process\n",
    "\n",
    "common_school_names = ['Sri Sathya Sai Academy of Integrated Education, Bhadravathi', 'Sri Sathya Sai Vidya Kendra', 'Sri Sathya Sai Vidya Mandir School, Dharwad', 'Sri Sathya Sai Baba Higher Primary and High School, Mysuru', 'Sri Sathya Sai Vidyaniketan, Bagepalli', 'Sri Eshwaramma English Medium High School, Tumakuru', 'Prashanti English Medium School, Siddapura', 'Ananda Sai Shikshana Samsthe Shimoga']\n",
    "\n",
    "school_check['institution'] = current_feedback_school_check['institution'].apply(lambda x: x.strip())\n",
    "\n",
    "for i, school_name in enumerate(current_feedback_school_check['institution']):\n",
    "    school_name = school_name.strip()\n",
    "    school_name_lower = school_name.lower()\n",
    "    \n",
    "    # Check for exact matches\n",
    "    if school_name in common_school_names:\n",
    "        current_feedback_school_check.at[i, 'institution'] = school_name\n",
    "    \n",
    "    # Check for fuzzy matches\n",
    "    else:\n",
    "        match, score = process.extractOne(school_name, common_school_names, scorer=fuzz.token_set_ratio)\n",
    "        \n",
    "        # If score is above a certain threshold, replace with common name\n",
    "        if score >= 85:\n",
    "            current_feedback_school_check.at[i, 'institution'] = match\n",
    "        else:\n",
    "            # Check for Bhadravathi School case\n",
    "            if \"bhadravathi\" in school_name_lower and \"sri sathya sai\" in school_name_lower:\n",
    "                current_feedback_school_check.at[i, 'institution'] = \"Sri Sathya Sai Academy of Integrated Education, Bhadravathi\"\n",
    "            else:\n",
    "                # Check for Dharwad School case\n",
    "                if \"dharwad\" in school_name_lower and \"sri sathya sai\" in school_name_lower:\n",
    "                    current_feedback_school_check.at[i, 'institution'] = \"Sri Sathya Sai Vidya Mandir School, Dharwad\"\n",
    "                else:\n",
    "                    current_feedback_school_check.at[i, 'institution'] = school_name\n"
   ]
  },
  {
   "cell_type": "code",
   "execution_count": 75,
   "id": "e0f2cec7",
   "metadata": {},
   "outputs": [
    {
     "name": "stdout",
     "output_type": "stream",
     "text": [
      "Number of Schools :  2\n"
     ]
    },
    {
     "data": {
      "text/plain": [
       "Sri Sathya Sai Vidya Mandir School, Dharwad                    19\n",
       "Sri Sathya Sai Academy of Integrated Education, Bhadravathi     7\n",
       "Name: institution, dtype: int64"
      ]
     },
     "execution_count": 75,
     "metadata": {},
     "output_type": "execute_result"
    }
   ],
   "source": [
    "print(\"Number of Schools : \",current_feedback_school_check['institution'].nunique())\n",
    "current_feedback_school_check['institution'].value_counts()"
   ]
  },
  {
   "cell_type": "code",
   "execution_count": 76,
   "id": "55872a66",
   "metadata": {},
   "outputs": [
    {
     "data": {
      "text/plain": [
       "(26, 23)"
      ]
     },
     "execution_count": 76,
     "metadata": {},
     "output_type": "execute_result"
    }
   ],
   "source": [
    "current_feedback_school_check.shape"
   ]
  },
  {
   "cell_type": "markdown",
   "id": "010c70e1",
   "metadata": {},
   "source": [
    "## Add Date Column"
   ]
  },
  {
   "cell_type": "code",
   "execution_count": 77,
   "id": "43c2dd9a",
   "metadata": {},
   "outputs": [],
   "source": [
    "current_feedback_date_check = current_feedback_school_check.copy()"
   ]
  },
  {
   "cell_type": "code",
   "execution_count": 78,
   "id": "15cb77a3",
   "metadata": {},
   "outputs": [
    {
     "data": {
      "text/plain": [
       "Index(['Time', 'userid', 'idnumber', 'username', 'firstname', 'lastname',\n",
       "       'email', 'institution', 'email entered', 'chapter name', 'mainscript',\n",
       "       'iq', 'sa', 'qa', 'dd', 'vc', 'ia', 'comm. 1', 'comm. 2', 'comm. 3',\n",
       "       'comm. 4', 'comm. 5', 'comm. 6'],\n",
       "      dtype='object')"
      ]
     },
     "execution_count": 78,
     "metadata": {},
     "output_type": "execute_result"
    }
   ],
   "source": [
    "current_feedback_date_check.columns"
   ]
  },
  {
   "cell_type": "code",
   "execution_count": 79,
   "id": "1c897728",
   "metadata": {},
   "outputs": [],
   "source": [
    "import pandas as pd\n",
    "\n",
    "def add_date_column(df):\n",
    "    if 'Time' in df.columns:\n",
    "        df['Time'] = pd.to_datetime(df['Time'])\n",
    "        df['Date'] = pd.to_datetime(df['Time']).dt.date.astype(str).apply(lambda x: datetime.datetime.strptime(x, '%Y-%m-%d').strftime('%d/%m/%Y'))\n",
    "    else:\n",
    "        print(\"Error: dataframe does not contain 'Time' column\")"
   ]
  },
  {
   "cell_type": "code",
   "execution_count": 80,
   "id": "4f13bc7e",
   "metadata": {},
   "outputs": [
    {
     "data": {
      "text/html": [
       "<div>\n",
       "<style scoped>\n",
       "    .dataframe tbody tr th:only-of-type {\n",
       "        vertical-align: middle;\n",
       "    }\n",
       "\n",
       "    .dataframe tbody tr th {\n",
       "        vertical-align: top;\n",
       "    }\n",
       "\n",
       "    .dataframe thead th {\n",
       "        text-align: right;\n",
       "    }\n",
       "</style>\n",
       "<table border=\"1\" class=\"dataframe\">\n",
       "  <thead>\n",
       "    <tr style=\"text-align: right;\">\n",
       "      <th></th>\n",
       "      <th>Time</th>\n",
       "      <th>userid</th>\n",
       "      <th>idnumber</th>\n",
       "      <th>username</th>\n",
       "      <th>firstname</th>\n",
       "      <th>lastname</th>\n",
       "      <th>email</th>\n",
       "      <th>institution</th>\n",
       "      <th>email entered</th>\n",
       "      <th>chapter name</th>\n",
       "      <th>...</th>\n",
       "      <th>dd</th>\n",
       "      <th>vc</th>\n",
       "      <th>ia</th>\n",
       "      <th>comm. 1</th>\n",
       "      <th>comm. 2</th>\n",
       "      <th>comm. 3</th>\n",
       "      <th>comm. 4</th>\n",
       "      <th>comm. 5</th>\n",
       "      <th>comm. 6</th>\n",
       "      <th>Date</th>\n",
       "    </tr>\n",
       "  </thead>\n",
       "  <tbody>\n",
       "    <tr>\n",
       "      <th>0</th>\n",
       "      <td>2023-02-02 06:31:39</td>\n",
       "      <td>2059</td>\n",
       "      <td>KA007</td>\n",
       "      <td>sssvm.jayalaxmi</td>\n",
       "      <td>Jayalaxmi</td>\n",
       "      <td>CP</td>\n",
       "      <td>laxmisssvm@gmail.com</td>\n",
       "      <td>Sri Sathya Sai Vidya Mandir School, Dharwad</td>\n",
       "      <td>laxmisssvm@gmail.com</td>\n",
       "      <td>Coordinate geometry</td>\n",
       "      <td>...</td>\n",
       "      <td>5</td>\n",
       "      <td>5</td>\n",
       "      <td>4</td>\n",
       "      <td>1</td>\n",
       "      <td>1</td>\n",
       "      <td>1</td>\n",
       "      <td>1</td>\n",
       "      <td>NaN</td>\n",
       "      <td>NaN</td>\n",
       "      <td>02/02/2023</td>\n",
       "    </tr>\n",
       "    <tr>\n",
       "      <th>1</th>\n",
       "      <td>2023-02-04 09:15:43</td>\n",
       "      <td>1598</td>\n",
       "      <td>KA007</td>\n",
       "      <td>sssvm.saismitha</td>\n",
       "      <td>Sai Smitha</td>\n",
       "      <td>Sahoo</td>\n",
       "      <td>saismitaofficial@gmail.com</td>\n",
       "      <td>Sri Sathya Sai Vidya Mandir School, Dharwad</td>\n",
       "      <td>saismitasahoo58@gmail.com</td>\n",
       "      <td>Poonams day out</td>\n",
       "      <td>...</td>\n",
       "      <td>5</td>\n",
       "      <td>5</td>\n",
       "      <td>5</td>\n",
       "      <td>1</td>\n",
       "      <td>1</td>\n",
       "      <td>1</td>\n",
       "      <td>1</td>\n",
       "      <td>NaN</td>\n",
       "      <td>NaN</td>\n",
       "      <td>04/02/2023</td>\n",
       "    </tr>\n",
       "    <tr>\n",
       "      <th>2</th>\n",
       "      <td>2023-02-04 09:17:01</td>\n",
       "      <td>1598</td>\n",
       "      <td>KA007</td>\n",
       "      <td>sssvm.saismitha</td>\n",
       "      <td>Sai Smitha</td>\n",
       "      <td>Sahoo</td>\n",
       "      <td>saismitaofficial@gmail.com</td>\n",
       "      <td>Sri Sathya Sai Vidya Mandir School, Dharwad</td>\n",
       "      <td>saismitasahoo58@gmail.com</td>\n",
       "      <td>The plant fairy</td>\n",
       "      <td>...</td>\n",
       "      <td>5</td>\n",
       "      <td>5</td>\n",
       "      <td>5</td>\n",
       "      <td>1</td>\n",
       "      <td>1</td>\n",
       "      <td>1</td>\n",
       "      <td>1</td>\n",
       "      <td>NaN</td>\n",
       "      <td>NaN</td>\n",
       "      <td>04/02/2023</td>\n",
       "    </tr>\n",
       "    <tr>\n",
       "      <th>3</th>\n",
       "      <td>2023-02-04 09:17:02</td>\n",
       "      <td>2135</td>\n",
       "      <td>KA007</td>\n",
       "      <td>malashree.nayyar</td>\n",
       "      <td>Malashree</td>\n",
       "      <td>Nayyar</td>\n",
       "      <td>malashreenayyar@gmail.com</td>\n",
       "      <td>Sri Sathya Sai Vidya Mandir School, Dharwad</td>\n",
       "      <td>malashreenayyar@gmail.com</td>\n",
       "      <td>Across the walls</td>\n",
       "      <td>...</td>\n",
       "      <td>4</td>\n",
       "      <td>4</td>\n",
       "      <td>4</td>\n",
       "      <td>1</td>\n",
       "      <td>1</td>\n",
       "      <td>1</td>\n",
       "      <td>1</td>\n",
       "      <td>NaN</td>\n",
       "      <td>NaN</td>\n",
       "      <td>04/02/2023</td>\n",
       "    </tr>\n",
       "    <tr>\n",
       "      <th>4</th>\n",
       "      <td>2023-02-04 09:18:08</td>\n",
       "      <td>1598</td>\n",
       "      <td>KA007</td>\n",
       "      <td>sssvm.saismitha</td>\n",
       "      <td>Sai Smitha</td>\n",
       "      <td>Sahoo</td>\n",
       "      <td>saismitaofficial@gmail.com</td>\n",
       "      <td>Sri Sathya Sai Vidya Mandir School, Dharwad</td>\n",
       "      <td>saismitasahoo58@gmail.com</td>\n",
       "      <td>Water O Water</td>\n",
       "      <td>...</td>\n",
       "      <td>5</td>\n",
       "      <td>5</td>\n",
       "      <td>5</td>\n",
       "      <td>1</td>\n",
       "      <td>1</td>\n",
       "      <td>1</td>\n",
       "      <td>1</td>\n",
       "      <td>NaN</td>\n",
       "      <td>NaN</td>\n",
       "      <td>04/02/2023</td>\n",
       "    </tr>\n",
       "  </tbody>\n",
       "</table>\n",
       "<p>5 rows × 24 columns</p>\n",
       "</div>"
      ],
      "text/plain": [
       "                 Time  userid idnumber          username   firstname lastname  \\\n",
       "0 2023-02-02 06:31:39    2059    KA007   sssvm.jayalaxmi   Jayalaxmi       CP   \n",
       "1 2023-02-04 09:15:43    1598    KA007   sssvm.saismitha  Sai Smitha    Sahoo   \n",
       "2 2023-02-04 09:17:01    1598    KA007   sssvm.saismitha  Sai Smitha    Sahoo   \n",
       "3 2023-02-04 09:17:02    2135    KA007  malashree.nayyar   Malashree   Nayyar   \n",
       "4 2023-02-04 09:18:08    1598    KA007   sssvm.saismitha  Sai Smitha    Sahoo   \n",
       "\n",
       "                        email                                  institution  \\\n",
       "0        laxmisssvm@gmail.com  Sri Sathya Sai Vidya Mandir School, Dharwad   \n",
       "1  saismitaofficial@gmail.com  Sri Sathya Sai Vidya Mandir School, Dharwad   \n",
       "2  saismitaofficial@gmail.com  Sri Sathya Sai Vidya Mandir School, Dharwad   \n",
       "3   malashreenayyar@gmail.com  Sri Sathya Sai Vidya Mandir School, Dharwad   \n",
       "4  saismitaofficial@gmail.com  Sri Sathya Sai Vidya Mandir School, Dharwad   \n",
       "\n",
       "               email entered         chapter name  ...  dd  vc  ia  comm. 1  \\\n",
       "0       laxmisssvm@gmail.com  Coordinate geometry  ...   5   5   4        1   \n",
       "1  saismitasahoo58@gmail.com      Poonams day out  ...   5   5   5        1   \n",
       "2  saismitasahoo58@gmail.com     The plant fairy   ...   5   5   5        1   \n",
       "3  malashreenayyar@gmail.com     Across the walls  ...   4   4   4        1   \n",
       "4  saismitasahoo58@gmail.com       Water O Water   ...   5   5   5        1   \n",
       "\n",
       "   comm. 2  comm. 3  comm. 4  comm. 5  comm. 6        Date  \n",
       "0        1        1        1      NaN      NaN  02/02/2023  \n",
       "1        1        1        1      NaN      NaN  04/02/2023  \n",
       "2        1        1        1      NaN      NaN  04/02/2023  \n",
       "3        1        1        1      NaN      NaN  04/02/2023  \n",
       "4        1        1        1      NaN      NaN  04/02/2023  \n",
       "\n",
       "[5 rows x 24 columns]"
      ]
     },
     "execution_count": 80,
     "metadata": {},
     "output_type": "execute_result"
    }
   ],
   "source": [
    "add_date_column(current_feedback_date_check)\n",
    "current_feedback_date_check.head()"
   ]
  },
  {
   "cell_type": "code",
   "execution_count": 81,
   "id": "f8344f45",
   "metadata": {},
   "outputs": [
    {
     "data": {
      "text/plain": [
       "Time             datetime64[ns]\n",
       "userid                    int64\n",
       "idnumber                 object\n",
       "username                 object\n",
       "firstname                object\n",
       "lastname                 object\n",
       "email                    object\n",
       "institution              object\n",
       "email entered            object\n",
       "chapter name             object\n",
       "mainscript                int64\n",
       "iq                        int64\n",
       "sa                        int64\n",
       "qa                        int64\n",
       "dd                        int64\n",
       "vc                        int64\n",
       "ia                        int64\n",
       "comm. 1                   int64\n",
       "comm. 2                   int64\n",
       "comm. 3                   int64\n",
       "comm. 4                   int64\n",
       "comm. 5                  object\n",
       "comm. 6                 float64\n",
       "Date                     object\n",
       "dtype: object"
      ]
     },
     "execution_count": 81,
     "metadata": {},
     "output_type": "execute_result"
    }
   ],
   "source": [
    "current_feedback_date_check.dtypes"
   ]
  },
  {
   "cell_type": "code",
   "execution_count": 82,
   "id": "412568b7",
   "metadata": {},
   "outputs": [
    {
     "data": {
      "text/plain": [
       "04/02/2023    13\n",
       "13/02/2023     3\n",
       "05/02/2023     2\n",
       "11/02/2023     2\n",
       "16/02/2023     2\n",
       "02/02/2023     1\n",
       "17/02/2023     1\n",
       "20/02/2023     1\n",
       "22/02/2023     1\n",
       "Name: Date, dtype: int64"
      ]
     },
     "execution_count": 82,
     "metadata": {},
     "output_type": "execute_result"
    }
   ],
   "source": [
    "current_feedback_date_check['Date'].value_counts()"
   ]
  },
  {
   "cell_type": "code",
   "execution_count": null,
   "id": "c0ac79ba",
   "metadata": {},
   "outputs": [],
   "source": []
  },
  {
   "cell_type": "markdown",
   "id": "3a65d1ed",
   "metadata": {},
   "source": [
    "## Check chapter name column"
   ]
  },
  {
   "cell_type": "code",
   "execution_count": 83,
   "id": "4ca8a7c0",
   "metadata": {},
   "outputs": [],
   "source": [
    "current_feedback_chapter_check = current_feedback_date_check.copy()"
   ]
  },
  {
   "cell_type": "code",
   "execution_count": 84,
   "id": "6470d15a",
   "metadata": {},
   "outputs": [
    {
     "data": {
      "text/plain": [
       "Coordinate geometry                                   1\n",
       "Poonams day out                                       1\n",
       "Rational numbers                                      1\n",
       "polynomials                                           1\n",
       "comparing quantities                                  1\n",
       "polynomials                                           1\n",
       "Living organisms characteristics and their habitat    1\n",
       "Air around us                                         1\n",
       "visualising solid shapes                              1\n",
       "playing with numbers                                  1\n",
       "Triangles                                             1\n",
       "Kalpana Jadhav                                        1\n",
       "our country                                           1\n",
       "My Neighborhood                                       1\n",
       "Air                                                   1\n",
       "my school                                             1\n",
       "Saying without speaking                               1\n",
       "Food we eat                                           1\n",
       "Snake charmers story                                  1\n",
       "Chhotus house                                         1\n",
       "Sence organs                                          1\n",
       "Our first school                                      1\n",
       "Water O Water                                         1\n",
       "Across the walls                                      1\n",
       "The plant fairy                                       1\n",
       "The Fish tale                                         1\n",
       "Name: chapter name, dtype: int64"
      ]
     },
     "execution_count": 84,
     "metadata": {},
     "output_type": "execute_result"
    }
   ],
   "source": [
    "current_feedback_chapter_check['chapter name'].value_counts()"
   ]
  },
  {
   "cell_type": "code",
   "execution_count": 85,
   "id": "4daa18aa",
   "metadata": {},
   "outputs": [
    {
     "name": "stdout",
     "output_type": "stream",
     "text": [
      "object\n"
     ]
    }
   ],
   "source": [
    "print(current_feedback_chapter_check['chapter name'].dtype)"
   ]
  },
  {
   "cell_type": "code",
   "execution_count": 86,
   "id": "660578f1",
   "metadata": {},
   "outputs": [
    {
     "data": {
      "text/plain": [
       "Time              0\n",
       "userid            0\n",
       "idnumber          0\n",
       "username          0\n",
       "firstname         0\n",
       "lastname          0\n",
       "email             0\n",
       "institution       0\n",
       "email entered     0\n",
       "chapter name      0\n",
       "mainscript        0\n",
       "iq                0\n",
       "sa                0\n",
       "qa                0\n",
       "dd                0\n",
       "vc                0\n",
       "ia                0\n",
       "comm. 1           0\n",
       "comm. 2           0\n",
       "comm. 3           0\n",
       "comm. 4           0\n",
       "comm. 5          25\n",
       "comm. 6          26\n",
       "Date              0\n",
       "dtype: int64"
      ]
     },
     "execution_count": 86,
     "metadata": {},
     "output_type": "execute_result"
    }
   ],
   "source": [
    "current_feedback_chapter_check.isnull().sum()"
   ]
  },
  {
   "cell_type": "code",
   "execution_count": 87,
   "id": "7e75e684",
   "metadata": {},
   "outputs": [],
   "source": [
    "# Fill the null values in the 'chapter name' column with 'Not Entered'\n",
    "current_feedback_chapter_check['chapter name'] = current_feedback_chapter_check['chapter name'].fillna('Not Entered')"
   ]
  },
  {
   "cell_type": "code",
   "execution_count": 88,
   "id": "12117e9e",
   "metadata": {},
   "outputs": [
    {
     "name": "stdout",
     "output_type": "stream",
     "text": [
      "Empty DataFrame\n",
      "Columns: [Time, userid, idnumber, username, firstname, lastname, email, institution, email entered, chapter name, mainscript, iq, sa, qa, dd, vc, ia, comm. 1, comm. 2, comm. 3, comm. 4, comm. 5, comm. 6, Date]\n",
      "Index: []\n",
      "\n",
      "[0 rows x 24 columns]\n"
     ]
    }
   ],
   "source": [
    "non_string_values = current_feedback_chapter_check[~current_feedback_chapter_check['chapter name'].apply(lambda x: isinstance(x, str))]\n",
    "print(non_string_values)"
   ]
  },
  {
   "cell_type": "code",
   "execution_count": null,
   "id": "71b61d4b",
   "metadata": {},
   "outputs": [],
   "source": []
  },
  {
   "cell_type": "markdown",
   "id": "c7f2f75d",
   "metadata": {},
   "source": [
    "### Correct Spelling"
   ]
  },
  {
   "cell_type": "code",
   "execution_count": 89,
   "id": "78bdb954",
   "metadata": {},
   "outputs": [
    {
     "name": "stdout",
     "output_type": "stream",
     "text": [
      "Stars and the solar system -> stars and the solar system\n",
      "money -> money\n",
      "vijayanagara empire -> vijayanagara empire\n",
      "Multiplication 2 -> multiplication 2\n",
      "India Political and Cultural -> india political and cultural\n",
      "introduction to graph -> introduction to graph\n",
      "exponents powers -> exponents powers\n",
      "Introduction -> introduction\n",
      "linear equations in two variables -> linear equations in two variables\n",
      "Abdul in the Garden -> abdul in the garden\n",
      "numbers 1 t0 20 -> numbers 1 to 20\n",
      "Eating Togerher -> eating together\n",
      "Reprosuction in Animals -> reproduction in animals\n",
      "A snake charmer&#039;s story -> a snake charmer 039 i story\n",
      "how many ponytails? -> how many ponytails\n"
     ]
    }
   ],
   "source": [
    "from spellchecker import SpellChecker\n",
    "import re\n",
    "\n",
    "# Initialize spell checker\n",
    "spell = SpellChecker()\n",
    "\n",
    "# Define a function to correct spelling mistakes in a string\n",
    "def correct_spelling(text):\n",
    "    # Split the text into words\n",
    "    words = re.findall(r'\\b\\w+\\b', text)\n",
    "    \n",
    "    # Find and correct misspelled words\n",
    "    corrected_words = []\n",
    "    for word in words:\n",
    "        corrected_word = spell.correction(word.lower())\n",
    "        if corrected_word is not None:\n",
    "            corrected_words.append(corrected_word)\n",
    "        else:\n",
    "            corrected_words.append(word)\n",
    "    \n",
    "    # Join the corrected words back into a single string\n",
    "    return \" \".join(corrected_words)\n",
    "\n",
    "# Apply correct_spelling() function to 'chapter name' column\n",
    "#feedback_check['spelling check'] = feedback_check['chapter name'].apply(correct_spelling)\n",
    "\n",
    "# test the function with some sample inputs\n",
    "titles = [\n",
    "    'Stars and the solar system',\n",
    "    'money',\n",
    "    'vijayanagara empire',\n",
    "    'Multiplication 2',\n",
    "    'India Political and Cultural',\n",
    "    'introduction to graph',\n",
    "    'exponents powers',\n",
    "    'Introduction','linear equations in two variables',\n",
    "    'Abdul in the Garden',\n",
    "    'numbers 1 t0 20',\n",
    "    'Eating Togerher','Reprosuction in Animals',\n",
    "    'A snake charmer&#039;s story','how many ponytails?'\n",
    "    \n",
    "]\n",
    "\n",
    "for title in titles:\n",
    "    print(f\"{title} -> {correct_spelling(title)}\")"
   ]
  },
  {
   "cell_type": "code",
   "execution_count": 90,
   "id": "3a14cad5",
   "metadata": {},
   "outputs": [
    {
     "data": {
      "text/plain": [
       "polynomial                                            2\n",
       "coordinate geometry                                   1\n",
       "my neighborhood                                       1\n",
       "rational numbers                                      1\n",
       "comparing quantities                                  1\n",
       "living organisms characteristics and their habitat    1\n",
       "air around us                                         1\n",
       "visualizing solid shapes                              1\n",
       "playing with numbers                                  1\n",
       "triangles                                             1\n",
       "katana radha                                          1\n",
       "our country                                           1\n",
       "air                                                   1\n",
       "noona's day out                                       1\n",
       "my school                                             1\n",
       "saying without speaking                               1\n",
       "food we eat                                           1\n",
       "snake charmers story                                  1\n",
       "chorus house                                          1\n",
       "since organs                                          1\n",
       "our first school                                      1\n",
       "water o water                                         1\n",
       "across the walls                                      1\n",
       "the plant fairy                                       1\n",
       "the fish tale                                         1\n",
       "Name: course module, dtype: int64"
      ]
     },
     "execution_count": 90,
     "metadata": {},
     "output_type": "execute_result"
    }
   ],
   "source": [
    "from spellchecker import SpellChecker\n",
    "import re\n",
    "\n",
    "# Initialize spell checker\n",
    "spell = SpellChecker()\n",
    "\n",
    "# Define a function to correct spelling mistakes in a string\n",
    "def correct_spelling(text):\n",
    "    # Split the text into words\n",
    "    words = re.findall(r'\\b\\w+\\b', text)\n",
    "    \n",
    "    # Find and correct misspelled words\n",
    "    corrected_words = []\n",
    "    for word in words:\n",
    "        corrected_word = spell.correction(word.lower())\n",
    "        if corrected_word is not None:\n",
    "            corrected_words.append(corrected_word)\n",
    "        else:\n",
    "            corrected_words.append(word)\n",
    "    \n",
    "    # Join the corrected words back into a single string\n",
    "    return \" \".join(corrected_words)\n",
    "\n",
    "# apply function to create new column\n",
    "current_feedback_chapter_check['course module'] = current_feedback_chapter_check['chapter name'].apply(correct_spelling)\n",
    "\n",
    "current_feedback_chapter_check['course module'].value_counts()"
   ]
  },
  {
   "cell_type": "markdown",
   "id": "63438694",
   "metadata": {},
   "source": [
    "### Capitalize first letter"
   ]
  },
  {
   "cell_type": "code",
   "execution_count": 91,
   "id": "70b0b546",
   "metadata": {},
   "outputs": [
    {
     "name": "stdout",
     "output_type": "stream",
     "text": [
      "Stars and the solar system -> Stars and the Solar System\n",
      "money -> Money\n",
      "vijayanagara empire -> Vijayanagara Empire\n",
      "Multiplication 2 -> Multiplication 2\n",
      "India Political and Cultural -> India Political and Cultural\n",
      "introduction to graph -> Introduction to Graph\n",
      "exponents powers -> Exponents Powers\n",
      "Introduction -> Introduction\n",
      "linear equations in two variables -> Linear Equations in Two Variables\n",
      "Abdul in the Garden -> Abdul in the Garden\n",
      "A snake charmer&#039;s story -> A Snake Charmers Story\n",
      "how many ponytails? -> How Many Ponytails?\n"
     ]
    }
   ],
   "source": [
    "import re\n",
    "\n",
    "def clean_chapter_name(chapter_name):\n",
    "    # Exclude special characters and digits\n",
    "    chapter_name = re.sub(r\"(['%&#;]|\\d{3})\", \"\", chapter_name)\n",
    "    \n",
    "    # Capitalize first letters of each word\n",
    "    words = chapter_name.split()\n",
    "    for i, word in enumerate(words):\n",
    "        if i == 0 or word.lower() not in ['in','the', 'to', 'on', 'at', 'into', 'and','a','with']:\n",
    "            words[i] = word.capitalize()\n",
    "    return \" \".join(words)\n",
    "\n",
    "# test the function with some sample inputs\n",
    "titles = [\n",
    "    'Stars and the solar system',\n",
    "    'money',\n",
    "    'vijayanagara empire',\n",
    "    'Multiplication 2',\n",
    "    'India Political and Cultural',\n",
    "    'introduction to graph',\n",
    "    'exponents powers',\n",
    "    'Introduction','linear equations in two variables',\n",
    "    'Abdul in the Garden','A snake charmer&#039;s story',\n",
    "    'how many ponytails?'\n",
    "    \n",
    "]\n",
    "\n",
    "for title in titles:\n",
    "    print(f\"{title} -> {clean_chapter_name(title)}\")\n",
    "\n"
   ]
  },
  {
   "cell_type": "code",
   "execution_count": 92,
   "id": "fd4059b3",
   "metadata": {},
   "outputs": [
    {
     "data": {
      "text/plain": [
       "Polynomial                                            2\n",
       "Coordinate Geometry                                   1\n",
       "My Neighborhood                                       1\n",
       "Rational Numbers                                      1\n",
       "Comparing Quantities                                  1\n",
       "Living Organisms Characteristics and Their Habitat    1\n",
       "Air Around Us                                         1\n",
       "Visualizing Solid Shapes                              1\n",
       "Playing with Numbers                                  1\n",
       "Triangles                                             1\n",
       "Katana Radha                                          1\n",
       "Our Country                                           1\n",
       "Air                                                   1\n",
       "Noonas Day Out                                        1\n",
       "My School                                             1\n",
       "Saying Without Speaking                               1\n",
       "Food We Eat                                           1\n",
       "Snake Charmers Story                                  1\n",
       "Chorus House                                          1\n",
       "Since Organs                                          1\n",
       "Our First School                                      1\n",
       "Water O Water                                         1\n",
       "Across the Walls                                      1\n",
       "The Plant Fairy                                       1\n",
       "The Fish Tale                                         1\n",
       "Name: course module, dtype: int64"
      ]
     },
     "execution_count": 92,
     "metadata": {},
     "output_type": "execute_result"
    }
   ],
   "source": [
    "import re\n",
    "\n",
    "def clean_chapter_name(chapter_name):\n",
    "    # Exclude special characters and digits\n",
    "    chapter_name = re.sub(r\"(['%&#;]|\\d{3})\", \"\", chapter_name)\n",
    "    \n",
    "    # remove leading digits, two-letter asset code, board, subject, class in roman letters, STD\n",
    "    chapter_name = re.sub(r'(CCDP\\s|SA\\s|MS\\s|QA\\s|DD\\s|CBSE\\s|KSSE\\s|APSE\\s|Mathematics\\s|EVS\\s|Science\\s|Social Science\\s|English\\s|Class\\s|class|Grade\\s|Chapter\\s|\\d{2}\\s[A-Z]{2}\\s|STD\\sI\\s|II|STD\\sII\\s|STD\\sIII\\s|III|STD\\sIV\\s|IV|STD\\sV\\s|V\\s|STD\\sVI\\s|VI|STD\\sVII\\s|VII|STD\\sVIII\\s|VIII|STD\\sIX\\s|IX|X\\s)', '', chapter_name)\n",
    "    \n",
    "    # remove trailing hyphens, spaces, and periods\n",
    "    chapter_name = re.sub(r'[-.\\s]*$', '', chapter_name)\n",
    "    chapter_name = re.sub(r'^\\s+ \\s$', '', chapter_name)\n",
    "    chapter_name = re.sub(r'^\\s+ ', '', chapter_name)\n",
    "\n",
    "    \n",
    "    \n",
    "    # Capitalize first letters of each word\n",
    "    words = chapter_name.split()\n",
    "    for i, word in enumerate(words):\n",
    "        if i == 0 or word.lower() not in ['in','the', 'to', 'on', 'at', 'into', 'and','a','with']:\n",
    "            words[i] = word.capitalize()\n",
    "    return \" \".join(words)\n",
    "\n",
    "# apply function to chapter_name_cleaneed column\n",
    "current_feedback_chapter_check['course module'] = current_feedback_chapter_check['course module'].apply(clean_chapter_name)\n",
    "\n",
    "current_feedback_chapter_check['course module'].value_counts()"
   ]
  },
  {
   "cell_type": "markdown",
   "id": "d3a50eb2",
   "metadata": {},
   "source": [
    "### Saving to folder path"
   ]
  },
  {
   "cell_type": "code",
   "execution_count": 93,
   "id": "f3c3868d",
   "metadata": {},
   "outputs": [],
   "source": [
    "#Save the cleaned dataframe to an excel file\n",
    "current_feedback_chapter_check.to_excel(r\"D:\\Side Hustles\\SSSVV activities\\SRC - Karnataka\\Monthly Reports\\feedback_check.xlsx\", index=False)"
   ]
  },
  {
   "cell_type": "code",
   "execution_count": null,
   "id": "76eab84a",
   "metadata": {},
   "outputs": [],
   "source": []
  },
  {
   "cell_type": "code",
   "execution_count": 94,
   "id": "0ebf47f5",
   "metadata": {},
   "outputs": [],
   "source": [
    "# convert to datetime\n",
    "#date_check['Date'] = pd.to_datetime(date_check['Date'], format='%d/%m/%Y', errors='coerce')"
   ]
  },
  {
   "cell_type": "code",
   "execution_count": 95,
   "id": "d49cb571",
   "metadata": {},
   "outputs": [],
   "source": [
    "# create new 'Date' column in desired format\n",
    "#date_check['Date'] = date_check['Date'].dt.strftime('%d/%m/%Y')"
   ]
  },
  {
   "cell_type": "code",
   "execution_count": 96,
   "id": "dfbbd8ea",
   "metadata": {},
   "outputs": [],
   "source": [
    "current_feedback_cleaned = current_feedback_chapter_check.copy()"
   ]
  },
  {
   "cell_type": "code",
   "execution_count": 97,
   "id": "f75b22db",
   "metadata": {},
   "outputs": [],
   "source": [
    "# Rename the file with the current month and year\n",
    "new_feedback_ = f'Feedback_List_{previous.month}_{previous.year}.xlsx'"
   ]
  },
  {
   "cell_type": "code",
   "execution_count": 98,
   "id": "db56e46e",
   "metadata": {},
   "outputs": [],
   "source": [
    "#Set the new file path\n",
    "new_path = os.path.join(r'D:\\Side Hustles\\SSSVV activities\\SRC - Karnataka\\Monthly Reports\\Feedback List', new_feedback_)\n",
    "\n",
    "#Save the dataframe to the new file path\n",
    "current_feedback_cleaned.to_excel(new_path, index=False)"
   ]
  },
  {
   "cell_type": "code",
   "execution_count": null,
   "id": "756ada02",
   "metadata": {},
   "outputs": [],
   "source": []
  },
  {
   "cell_type": "markdown",
   "id": "358bcf7a",
   "metadata": {},
   "source": [
    "# Downloads Folder"
   ]
  },
  {
   "cell_type": "code",
   "execution_count": 99,
   "id": "1a437261",
   "metadata": {},
   "outputs": [
    {
     "data": {
      "text/html": [
       "<div>\n",
       "<style scoped>\n",
       "    .dataframe tbody tr th:only-of-type {\n",
       "        vertical-align: middle;\n",
       "    }\n",
       "\n",
       "    .dataframe tbody tr th {\n",
       "        vertical-align: top;\n",
       "    }\n",
       "\n",
       "    .dataframe thead th {\n",
       "        text-align: right;\n",
       "    }\n",
       "</style>\n",
       "<table border=\"1\" class=\"dataframe\">\n",
       "  <thead>\n",
       "    <tr style=\"text-align: right;\">\n",
       "      <th></th>\n",
       "      <th>id</th>\n",
       "      <th>idnumber</th>\n",
       "      <th>username</th>\n",
       "      <th>firstname</th>\n",
       "      <th>lastname</th>\n",
       "      <th>email</th>\n",
       "      <th>institution</th>\n",
       "      <th>shortname</th>\n",
       "      <th>course module</th>\n",
       "      <th>file downloaded</th>\n",
       "      <th>timestamp</th>\n",
       "    </tr>\n",
       "  </thead>\n",
       "  <tbody>\n",
       "    <tr>\n",
       "      <th>0</th>\n",
       "      <td>1570</td>\n",
       "      <td>KA000</td>\n",
       "      <td>saraswati.bantwal</td>\n",
       "      <td>Saraswathi</td>\n",
       "      <td>Bantwal</td>\n",
       "      <td>saraswathi.sai2311@gmail.com</td>\n",
       "      <td>SSSVV KA Volunteer</td>\n",
       "      <td>VI CBSE Maths</td>\n",
       "      <td>Symmetry</td>\n",
       "      <td>MLP_Ideation Module_Symmetry.pdf</td>\n",
       "      <td>2023-02-22 16:24:08</td>\n",
       "    </tr>\n",
       "    <tr>\n",
       "      <th>1</th>\n",
       "      <td>1570</td>\n",
       "      <td>KA000</td>\n",
       "      <td>saraswati.bantwal</td>\n",
       "      <td>Saraswathi</td>\n",
       "      <td>Bantwal</td>\n",
       "      <td>saraswathi.sai2311@gmail.com</td>\n",
       "      <td>SSSVV KA Volunteer</td>\n",
       "      <td>VI CBSE Maths</td>\n",
       "      <td>Symmetry</td>\n",
       "      <td>MLP_Ideation Module_Symmetry.pdf</td>\n",
       "      <td>2023-02-23 10:22:03</td>\n",
       "    </tr>\n",
       "    <tr>\n",
       "      <th>2</th>\n",
       "      <td>1570</td>\n",
       "      <td>KA000</td>\n",
       "      <td>saraswati.bantwal</td>\n",
       "      <td>Saraswathi</td>\n",
       "      <td>Bantwal</td>\n",
       "      <td>saraswathi.sai2311@gmail.com</td>\n",
       "      <td>SSSVV KA Volunteer</td>\n",
       "      <td>VI CBSE Maths</td>\n",
       "      <td>Symmetry</td>\n",
       "      <td>MLP_Ideation Module_Symmetry.pdf</td>\n",
       "      <td>2023-02-23 10:44:59</td>\n",
       "    </tr>\n",
       "    <tr>\n",
       "      <th>3</th>\n",
       "      <td>1570</td>\n",
       "      <td>KA000</td>\n",
       "      <td>saraswati.bantwal</td>\n",
       "      <td>Saraswathi</td>\n",
       "      <td>Bantwal</td>\n",
       "      <td>saraswathi.sai2311@gmail.com</td>\n",
       "      <td>SSSVV KA Volunteer</td>\n",
       "      <td>VI CBSE Maths</td>\n",
       "      <td>Symmetry</td>\n",
       "      <td>MS_Lines of Symmetry.pptx</td>\n",
       "      <td>2023-02-22 16:19:41</td>\n",
       "    </tr>\n",
       "    <tr>\n",
       "      <th>4</th>\n",
       "      <td>1570</td>\n",
       "      <td>KA000</td>\n",
       "      <td>saraswati.bantwal</td>\n",
       "      <td>Saraswathi</td>\n",
       "      <td>Bantwal</td>\n",
       "      <td>saraswathi.sai2311@gmail.com</td>\n",
       "      <td>SSSVV KA Volunteer</td>\n",
       "      <td>VI CBSE Maths</td>\n",
       "      <td>Symmetry</td>\n",
       "      <td>VC_Beauty around us.mp3</td>\n",
       "      <td>2023-02-22 16:19:41</td>\n",
       "    </tr>\n",
       "  </tbody>\n",
       "</table>\n",
       "</div>"
      ],
      "text/plain": [
       "     id idnumber           username   firstname lastname  \\\n",
       "0  1570    KA000  saraswati.bantwal  Saraswathi  Bantwal   \n",
       "1  1570    KA000  saraswati.bantwal  Saraswathi  Bantwal   \n",
       "2  1570    KA000  saraswati.bantwal  Saraswathi  Bantwal   \n",
       "3  1570    KA000  saraswati.bantwal  Saraswathi  Bantwal   \n",
       "4  1570    KA000  saraswati.bantwal  Saraswathi  Bantwal   \n",
       "\n",
       "                          email         institution      shortname  \\\n",
       "0  saraswathi.sai2311@gmail.com  SSSVV KA Volunteer  VI CBSE Maths   \n",
       "1  saraswathi.sai2311@gmail.com  SSSVV KA Volunteer  VI CBSE Maths   \n",
       "2  saraswathi.sai2311@gmail.com  SSSVV KA Volunteer  VI CBSE Maths   \n",
       "3  saraswathi.sai2311@gmail.com  SSSVV KA Volunteer  VI CBSE Maths   \n",
       "4  saraswathi.sai2311@gmail.com  SSSVV KA Volunteer  VI CBSE Maths   \n",
       "\n",
       "  course module                   file downloaded            timestamp  \n",
       "0      Symmetry  MLP_Ideation Module_Symmetry.pdf  2023-02-22 16:24:08  \n",
       "1      Symmetry  MLP_Ideation Module_Symmetry.pdf  2023-02-23 10:22:03  \n",
       "2      Symmetry  MLP_Ideation Module_Symmetry.pdf  2023-02-23 10:44:59  \n",
       "3      Symmetry         MS_Lines of Symmetry.pptx  2023-02-22 16:19:41  \n",
       "4      Symmetry           VC_Beauty around us.mp3  2023-02-22 16:19:41  "
      ]
     },
     "execution_count": 99,
     "metadata": {},
     "output_type": "execute_result"
    }
   ],
   "source": [
    "current_downloads.head()"
   ]
  },
  {
   "cell_type": "code",
   "execution_count": 100,
   "id": "9946c7c9",
   "metadata": {},
   "outputs": [],
   "source": [
    "#!pip install pandas_profiling"
   ]
  },
  {
   "cell_type": "code",
   "execution_count": 101,
   "id": "061f58dd",
   "metadata": {},
   "outputs": [
    {
     "data": {
      "application/vnd.jupyter.widget-view+json": {
       "model_id": "c87970cfbf074e829a5a58622dfd85e8",
       "version_major": 2,
       "version_minor": 0
      },
      "text/plain": [
       "Summarize dataset:   0%|          | 0/5 [00:00<?, ?it/s]"
      ]
     },
     "metadata": {},
     "output_type": "display_data"
    },
    {
     "data": {
      "application/vnd.jupyter.widget-view+json": {
       "model_id": "450714629a294516b4326015347f8822",
       "version_major": 2,
       "version_minor": 0
      },
      "text/plain": [
       "Generate report structure:   0%|          | 0/1 [00:00<?, ?it/s]"
      ]
     },
     "metadata": {},
     "output_type": "display_data"
    },
    {
     "data": {
      "application/vnd.jupyter.widget-view+json": {
       "model_id": "e0d3f5eafa4e47fbac52e02f101e23e2",
       "version_major": 2,
       "version_minor": 0
      },
      "text/plain": [
       "Render HTML:   0%|          | 0/1 [00:00<?, ?it/s]"
      ]
     },
     "metadata": {},
     "output_type": "display_data"
    },
    {
     "data": {
      "application/vnd.jupyter.widget-view+json": {
       "model_id": "374b4bcb37b941f49981bc13cd2b2db5",
       "version_major": 2,
       "version_minor": 0
      },
      "text/plain": [
       "Export report to file:   0%|          | 0/1 [00:00<?, ?it/s]"
      ]
     },
     "metadata": {},
     "output_type": "display_data"
    }
   ],
   "source": [
    "import ydata_profiling\n",
    "from ydata_profiling import ProfileReport\n",
    "\n",
    "profile = ProfileReport(dfs[0], title='Downloads')\n",
    "profile.to_file('Downloads.html')"
   ]
  },
  {
   "cell_type": "code",
   "execution_count": 102,
   "id": "3dfa218b",
   "metadata": {},
   "outputs": [],
   "source": [
    "#Input Corrections needed\n",
    "\n",
    "#General Check for any new inconsistency\n",
    "#Sepearate shortname column into 3 parts & Treat misplaced values\n",
    "#change school name\n",
    "#Add Date Column"
   ]
  },
  {
   "cell_type": "markdown",
   "id": "d1a75189",
   "metadata": {},
   "source": [
    "## General Check for any new inconsistency"
   ]
  },
  {
   "cell_type": "code",
   "execution_count": 103,
   "id": "7bd130b0",
   "metadata": {},
   "outputs": [
    {
     "data": {
      "text/plain": [
       "(4655, 11)"
      ]
     },
     "execution_count": 103,
     "metadata": {},
     "output_type": "execute_result"
    }
   ],
   "source": [
    "current_downloads.shape"
   ]
  },
  {
   "cell_type": "code",
   "execution_count": 104,
   "id": "ca57e523",
   "metadata": {},
   "outputs": [
    {
     "data": {
      "text/plain": [
       "Index(['id', 'idnumber', 'username', 'firstname', 'lastname', 'email',\n",
       "       'institution', 'shortname', 'course module', 'file downloaded',\n",
       "       'timestamp'],\n",
       "      dtype='object')"
      ]
     },
     "execution_count": 104,
     "metadata": {},
     "output_type": "execute_result"
    }
   ],
   "source": [
    "current_downloads.columns"
   ]
  },
  {
   "cell_type": "code",
   "execution_count": 105,
   "id": "2089be4f",
   "metadata": {},
   "outputs": [
    {
     "data": {
      "text/plain": [
       "id                  int64\n",
       "idnumber           object\n",
       "username           object\n",
       "firstname          object\n",
       "lastname           object\n",
       "email              object\n",
       "institution        object\n",
       "shortname          object\n",
       "course module      object\n",
       "file downloaded    object\n",
       "timestamp          object\n",
       "dtype: object"
      ]
     },
     "execution_count": 105,
     "metadata": {},
     "output_type": "execute_result"
    }
   ],
   "source": [
    "current_downloads.dtypes"
   ]
  },
  {
   "cell_type": "code",
   "execution_count": 106,
   "id": "6f6942c9",
   "metadata": {},
   "outputs": [
    {
     "data": {
      "text/plain": [
       "id                 0\n",
       "idnumber           0\n",
       "username           0\n",
       "firstname          0\n",
       "lastname           0\n",
       "email              0\n",
       "institution        0\n",
       "shortname          0\n",
       "course module      0\n",
       "file downloaded    0\n",
       "timestamp          0\n",
       "dtype: int64"
      ]
     },
     "execution_count": 106,
     "metadata": {},
     "output_type": "execute_result"
    }
   ],
   "source": [
    "current_downloads.isnull().sum()"
   ]
  },
  {
   "cell_type": "code",
   "execution_count": 107,
   "id": "813ece15",
   "metadata": {},
   "outputs": [
    {
     "data": {
      "text/html": [
       "<div>\n",
       "<style scoped>\n",
       "    .dataframe tbody tr th:only-of-type {\n",
       "        vertical-align: middle;\n",
       "    }\n",
       "\n",
       "    .dataframe tbody tr th {\n",
       "        vertical-align: top;\n",
       "    }\n",
       "\n",
       "    .dataframe thead th {\n",
       "        text-align: right;\n",
       "    }\n",
       "</style>\n",
       "<table border=\"1\" class=\"dataframe\">\n",
       "  <thead>\n",
       "    <tr style=\"text-align: right;\">\n",
       "      <th></th>\n",
       "      <th>idnumber</th>\n",
       "      <th>username</th>\n",
       "      <th>firstname</th>\n",
       "      <th>lastname</th>\n",
       "      <th>email</th>\n",
       "      <th>institution</th>\n",
       "      <th>shortname</th>\n",
       "      <th>course module</th>\n",
       "      <th>file downloaded</th>\n",
       "      <th>timestamp</th>\n",
       "    </tr>\n",
       "  </thead>\n",
       "  <tbody>\n",
       "    <tr>\n",
       "      <th>count</th>\n",
       "      <td>4655</td>\n",
       "      <td>4655</td>\n",
       "      <td>4655</td>\n",
       "      <td>4655</td>\n",
       "      <td>4655</td>\n",
       "      <td>4655</td>\n",
       "      <td>4655</td>\n",
       "      <td>4655</td>\n",
       "      <td>4655</td>\n",
       "      <td>4655</td>\n",
       "    </tr>\n",
       "    <tr>\n",
       "      <th>unique</th>\n",
       "      <td>8</td>\n",
       "      <td>50</td>\n",
       "      <td>48</td>\n",
       "      <td>44</td>\n",
       "      <td>50</td>\n",
       "      <td>13</td>\n",
       "      <td>54</td>\n",
       "      <td>173</td>\n",
       "      <td>2082</td>\n",
       "      <td>687</td>\n",
       "    </tr>\n",
       "    <tr>\n",
       "      <th>top</th>\n",
       "      <td>KA007</td>\n",
       "      <td>bdr.t15</td>\n",
       "      <td>KRUSHNA</td>\n",
       "      <td>S N</td>\n",
       "      <td>krushnanaikal1984@gmail.com</td>\n",
       "      <td>Sri Sathya Sai Vidya Mandir School, Dharwad</td>\n",
       "      <td>SOPAAN Content Repackaged</td>\n",
       "      <td>Listening &amp; Speaking</td>\n",
       "      <td>Punctuation.pdf</td>\n",
       "      <td>2023-02-21 09:59:28</td>\n",
       "    </tr>\n",
       "    <tr>\n",
       "      <th>freq</th>\n",
       "      <td>1996</td>\n",
       "      <td>483</td>\n",
       "      <td>483</td>\n",
       "      <td>483</td>\n",
       "      <td>483</td>\n",
       "      <td>1777</td>\n",
       "      <td>523</td>\n",
       "      <td>496</td>\n",
       "      <td>14</td>\n",
       "      <td>99</td>\n",
       "    </tr>\n",
       "  </tbody>\n",
       "</table>\n",
       "</div>"
      ],
      "text/plain": [
       "       idnumber username firstname lastname                        email  \\\n",
       "count      4655     4655      4655     4655                         4655   \n",
       "unique        8       50        48       44                           50   \n",
       "top       KA007  bdr.t15   KRUSHNA      S N  krushnanaikal1984@gmail.com   \n",
       "freq       1996      483       483      483                          483   \n",
       "\n",
       "                                        institution  \\\n",
       "count                                          4655   \n",
       "unique                                           13   \n",
       "top     Sri Sathya Sai Vidya Mandir School, Dharwad   \n",
       "freq                                           1777   \n",
       "\n",
       "                        shortname          course module  file downloaded  \\\n",
       "count                        4655                   4655             4655   \n",
       "unique                         54                    173             2082   \n",
       "top     SOPAAN Content Repackaged  Listening & Speaking   Punctuation.pdf   \n",
       "freq                          523                    496               14   \n",
       "\n",
       "                  timestamp  \n",
       "count                  4655  \n",
       "unique                  687  \n",
       "top     2023-02-21 09:59:28  \n",
       "freq                     99  "
      ]
     },
     "execution_count": 107,
     "metadata": {},
     "output_type": "execute_result"
    }
   ],
   "source": [
    "current_downloads.describe(include=['O'])"
   ]
  },
  {
   "cell_type": "code",
   "execution_count": 108,
   "id": "376e51e0",
   "metadata": {},
   "outputs": [],
   "source": [
    "#See if Date column is missing"
   ]
  },
  {
   "cell_type": "code",
   "execution_count": 109,
   "id": "e77e6d7a",
   "metadata": {},
   "outputs": [],
   "source": [
    "#If Date column is visible, make the necessary filters"
   ]
  },
  {
   "cell_type": "code",
   "execution_count": 110,
   "id": "616ec4c1",
   "metadata": {},
   "outputs": [
    {
     "name": "stdout",
     "output_type": "stream",
     "text": [
      "Number of Schools: 13\n",
      "Name of Schools:\n",
      " Sri Sathya Sai Vidya Mandir School, Dharwad                     1777\n",
      "Sri Sathya Sai School, Bhadravathi                              1218\n",
      "Sri Sathya Sai Baba Higher Primary and High School, Mysuru       433\n",
      "Sri Sathya Sai Academy of Integrated Education, Bhadravathi      344\n",
      "Sri Sathya Sai Academy Of Integrated Edcuation Bhadravati        260\n",
      "\\tSri Sathya Sai Vidya Mandir School, Dharwad                    219\n",
      "Prashanti English Medium School, Siddapura                       152\n",
      "Sri Sathya Sai Vidyaniketan, Bagepalli                           105\n",
      "Prashanthi Vidya Kendra, Bayar, Kasaragod                         96\n",
      "SSSVV KA Volunteer                                                22\n",
      "\\tSri Sathya Sai Baba Higher Primary and High School, Mysuru      19\n",
      "Sri Sathya sai Vidyaniketan, Bagepalli                             6\n",
      "Sri Sathya Sai Vidya Kendra                                        4\n",
      "Name: institution, dtype: int64\n"
     ]
    }
   ],
   "source": [
    "print(\"Number of Schools:\", current_downloads[\"institution\"].nunique())\n",
    "print(\"Name of Schools:\\n\",current_downloads[\"institution\"].value_counts().sort_values(ascending = False))"
   ]
  },
  {
   "cell_type": "code",
   "execution_count": 111,
   "id": "a7efec35",
   "metadata": {},
   "outputs": [
    {
     "name": "stdout",
     "output_type": "stream",
     "text": [
      "Number of Users: 50\n",
      "Name of Users:\n",
      " KRUSHNA        483\n",
      "Kalpana        385\n",
      "Malashree      340\n",
      "Anuradha       320\n",
      "Likhitha       282\n",
      "JAYAKUMAR      246\n",
      "Jyoti          219\n",
      "Bamini         210\n",
      "NITHYA         187\n",
      "NANDA          158\n",
      "Sai Sowmya     154\n",
      "Rashmi         135\n",
      "VINAY          117\n",
      "BHARATHI       110\n",
      "Deepa          109\n",
      "Chaitra        106\n",
      "Rakshitha       91\n",
      "Samprutha       79\n",
      "Sheela          77\n",
      "Tejaswini       75\n",
      "SHASHIDHARA     73\n",
      "Bharathi        71\n",
      "Sadhana         66\n",
      "Shweta          63\n",
      "Jayalaxmi       50\n",
      "Triveni         46\n",
      "Sai Smitha      44\n",
      "SAGANA          41\n",
      "Veerayya        37\n",
      "Saraswathi      36\n",
      "Poornima        33\n",
      "Nikitha         30\n",
      "Pallavi         28\n",
      "Sasi            22\n",
      "Prasad          21\n",
      "Kalawati        20\n",
      "Malati          20\n",
      "Shahanaz        19\n",
      "Jayalakshmi     14\n",
      "ANTHONY         13\n",
      "Rajani           6\n",
      "Chithra          5\n",
      "LATHA            4\n",
      "Varshini         4\n",
      "Sudha            2\n",
      "Shruthi          2\n",
      "Narasimha        1\n",
      "Yarab            1\n",
      "Name: firstname, dtype: int64\n"
     ]
    }
   ],
   "source": [
    "print(\"Number of Users:\", current_downloads[\"id\"].nunique())\n",
    "print(\"Name of Users:\\n\",current_downloads[\"firstname\"].value_counts().sort_values(ascending = False))"
   ]
  },
  {
   "cell_type": "code",
   "execution_count": 112,
   "id": "fc1e8690",
   "metadata": {},
   "outputs": [
    {
     "data": {
      "text/plain": [
       "SOPAAN Content Repackaged    523\n",
       "V CBSE EVS                   348\n",
       "VIII KSSE Maths              313\n",
       "IX KSSE Maths                255\n",
       "VIII KSSE SC                 231\n",
       "VII KSSE Maths               224\n",
       "VI KSSE Maths                178\n",
       "VIII CBSE Science            162\n",
       "VIII CBSE Social             152\n",
       "VI CBSE Social               150\n",
       "IV KSSE EVS                  150\n",
       "VI KSSE Science              143\n",
       "IV CBSE EVS                  126\n",
       "VIII CBSE Maths              120\n",
       "II KSSE EVS                  113\n",
       "VI KSSE Social               107\n",
       "VI CBSE Science              106\n",
       "VI CBSE Maths                105\n",
       "VII KSSE Social               99\n",
       "KSSE IX Science               95\n",
       " IX CBSE Science              92\n",
       "VII CBSE Social               87\n",
       "VII APSE Science              80\n",
       "VII CBSE Maths                74\n",
       "I CBSE English                66\n",
       "V KSSE Maths                  61\n",
       "VII KSSE Science              58\n",
       "III CBSE Maths                43\n",
       "III KSSE EVS                  42\n",
       "VII CBSE Science              39\n",
       "I  CBSE Maths                 37\n",
       "I KSSE EVS                    37\n",
       "IX CBSE Maths                 35\n",
       "IV CBSE Maths                 25\n",
       "III CBSE EVS                  24\n",
       "III KSSE English              23\n",
       "V KSSE EVS                    20\n",
       "V CBSE Maths                  20\n",
       "II CBSE Maths                 18\n",
       "IV KSSE Maths                 12\n",
       "Ii KSSE English                9\n",
       "Team Refresher Course 1        7\n",
       "VIII KSSE Social               7\n",
       "II CBSE EVS                    6\n",
       "I KSSE English                 6\n",
       "III KSSE Maths                 5\n",
       "II CBSE English                5\n",
       "I CBSE EVS                     4\n",
       "KSSE IX Social                 4\n",
       "III CBSE English               2\n",
       "T2 - CBTE 2                    2\n",
       "II KSSE Maths                  2\n",
       "III APSE EVS                   2\n",
       "VI APSE Science                1\n",
       "Name: shortname, dtype: int64"
      ]
     },
     "execution_count": 112,
     "metadata": {},
     "output_type": "execute_result"
    }
   ],
   "source": [
    "current_downloads[\"shortname\"].value_counts()"
   ]
  },
  {
   "cell_type": "code",
   "execution_count": 113,
   "id": "339621a3",
   "metadata": {},
   "outputs": [
    {
     "data": {
      "text/html": [
       "<div>\n",
       "<style scoped>\n",
       "    .dataframe tbody tr th:only-of-type {\n",
       "        vertical-align: middle;\n",
       "    }\n",
       "\n",
       "    .dataframe tbody tr th {\n",
       "        vertical-align: top;\n",
       "    }\n",
       "\n",
       "    .dataframe thead th {\n",
       "        text-align: right;\n",
       "    }\n",
       "</style>\n",
       "<table border=\"1\" class=\"dataframe\">\n",
       "  <thead>\n",
       "    <tr style=\"text-align: right;\">\n",
       "      <th></th>\n",
       "      <th>id</th>\n",
       "      <th>idnumber</th>\n",
       "      <th>username</th>\n",
       "      <th>firstname</th>\n",
       "      <th>lastname</th>\n",
       "      <th>email</th>\n",
       "      <th>institution</th>\n",
       "      <th>shortname</th>\n",
       "      <th>course module</th>\n",
       "      <th>file downloaded</th>\n",
       "      <th>timestamp</th>\n",
       "    </tr>\n",
       "  </thead>\n",
       "  <tbody>\n",
       "    <tr>\n",
       "      <th>0</th>\n",
       "      <td>1570</td>\n",
       "      <td>KA000</td>\n",
       "      <td>saraswati.bantwal</td>\n",
       "      <td>Saraswathi</td>\n",
       "      <td>Bantwal</td>\n",
       "      <td>saraswathi.sai2311@gmail.com</td>\n",
       "      <td>SSSVV KA Volunteer</td>\n",
       "      <td>VI CBSE Maths</td>\n",
       "      <td>Symmetry</td>\n",
       "      <td>MLP_Ideation Module_Symmetry.pdf</td>\n",
       "      <td>2023-02-22 16:24:08</td>\n",
       "    </tr>\n",
       "    <tr>\n",
       "      <th>1</th>\n",
       "      <td>1570</td>\n",
       "      <td>KA000</td>\n",
       "      <td>saraswati.bantwal</td>\n",
       "      <td>Saraswathi</td>\n",
       "      <td>Bantwal</td>\n",
       "      <td>saraswathi.sai2311@gmail.com</td>\n",
       "      <td>SSSVV KA Volunteer</td>\n",
       "      <td>VI CBSE Maths</td>\n",
       "      <td>Symmetry</td>\n",
       "      <td>MLP_Ideation Module_Symmetry.pdf</td>\n",
       "      <td>2023-02-23 10:22:03</td>\n",
       "    </tr>\n",
       "    <tr>\n",
       "      <th>2</th>\n",
       "      <td>1570</td>\n",
       "      <td>KA000</td>\n",
       "      <td>saraswati.bantwal</td>\n",
       "      <td>Saraswathi</td>\n",
       "      <td>Bantwal</td>\n",
       "      <td>saraswathi.sai2311@gmail.com</td>\n",
       "      <td>SSSVV KA Volunteer</td>\n",
       "      <td>VI CBSE Maths</td>\n",
       "      <td>Symmetry</td>\n",
       "      <td>MLP_Ideation Module_Symmetry.pdf</td>\n",
       "      <td>2023-02-23 10:44:59</td>\n",
       "    </tr>\n",
       "    <tr>\n",
       "      <th>3</th>\n",
       "      <td>1570</td>\n",
       "      <td>KA000</td>\n",
       "      <td>saraswati.bantwal</td>\n",
       "      <td>Saraswathi</td>\n",
       "      <td>Bantwal</td>\n",
       "      <td>saraswathi.sai2311@gmail.com</td>\n",
       "      <td>SSSVV KA Volunteer</td>\n",
       "      <td>VI CBSE Maths</td>\n",
       "      <td>Symmetry</td>\n",
       "      <td>MS_Lines of Symmetry.pptx</td>\n",
       "      <td>2023-02-22 16:19:41</td>\n",
       "    </tr>\n",
       "    <tr>\n",
       "      <th>4</th>\n",
       "      <td>1570</td>\n",
       "      <td>KA000</td>\n",
       "      <td>saraswati.bantwal</td>\n",
       "      <td>Saraswathi</td>\n",
       "      <td>Bantwal</td>\n",
       "      <td>saraswathi.sai2311@gmail.com</td>\n",
       "      <td>SSSVV KA Volunteer</td>\n",
       "      <td>VI CBSE Maths</td>\n",
       "      <td>Symmetry</td>\n",
       "      <td>VC_Beauty around us.mp3</td>\n",
       "      <td>2023-02-22 16:19:41</td>\n",
       "    </tr>\n",
       "  </tbody>\n",
       "</table>\n",
       "</div>"
      ],
      "text/plain": [
       "     id idnumber           username   firstname lastname  \\\n",
       "0  1570    KA000  saraswati.bantwal  Saraswathi  Bantwal   \n",
       "1  1570    KA000  saraswati.bantwal  Saraswathi  Bantwal   \n",
       "2  1570    KA000  saraswati.bantwal  Saraswathi  Bantwal   \n",
       "3  1570    KA000  saraswati.bantwal  Saraswathi  Bantwal   \n",
       "4  1570    KA000  saraswati.bantwal  Saraswathi  Bantwal   \n",
       "\n",
       "                          email         institution      shortname  \\\n",
       "0  saraswathi.sai2311@gmail.com  SSSVV KA Volunteer  VI CBSE Maths   \n",
       "1  saraswathi.sai2311@gmail.com  SSSVV KA Volunteer  VI CBSE Maths   \n",
       "2  saraswathi.sai2311@gmail.com  SSSVV KA Volunteer  VI CBSE Maths   \n",
       "3  saraswathi.sai2311@gmail.com  SSSVV KA Volunteer  VI CBSE Maths   \n",
       "4  saraswathi.sai2311@gmail.com  SSSVV KA Volunteer  VI CBSE Maths   \n",
       "\n",
       "  course module                   file downloaded            timestamp  \n",
       "0      Symmetry  MLP_Ideation Module_Symmetry.pdf  2023-02-22 16:24:08  \n",
       "1      Symmetry  MLP_Ideation Module_Symmetry.pdf  2023-02-23 10:22:03  \n",
       "2      Symmetry  MLP_Ideation Module_Symmetry.pdf  2023-02-23 10:44:59  \n",
       "3      Symmetry         MS_Lines of Symmetry.pptx  2023-02-22 16:19:41  \n",
       "4      Symmetry           VC_Beauty around us.mp3  2023-02-22 16:19:41  "
      ]
     },
     "execution_count": 113,
     "metadata": {},
     "output_type": "execute_result"
    }
   ],
   "source": [
    "current_downloads_data_check = current_downloads.copy()\n",
    "data.head()"
   ]
  },
  {
   "cell_type": "markdown",
   "id": "5254e65e",
   "metadata": {},
   "source": [
    "## Sepearate shortname column into 3 parts & Treat disordered values"
   ]
  },
  {
   "cell_type": "code",
   "execution_count": 114,
   "id": "b94bc620",
   "metadata": {},
   "outputs": [
    {
     "name": "stdout",
     "output_type": "stream",
     "text": [
      "        id idnumber           username   firstname lastname  \\\n",
      "0     1570    KA000  saraswati.bantwal  Saraswathi  Bantwal   \n",
      "1     1570    KA000  saraswati.bantwal  Saraswathi  Bantwal   \n",
      "2     1570    KA000  saraswati.bantwal  Saraswathi  Bantwal   \n",
      "3     1570    KA000  saraswati.bantwal  Saraswathi  Bantwal   \n",
      "4     1570    KA000  saraswati.bantwal  Saraswathi  Bantwal   \n",
      "...    ...      ...                ...         ...      ...   \n",
      "4650  1761    KA015      samprutha.bgp   Samprutha        R   \n",
      "4651  1761    KA015      samprutha.bgp   Samprutha        R   \n",
      "4652  1761    KA015      samprutha.bgp   Samprutha        R   \n",
      "4653  1761    KA015      samprutha.bgp   Samprutha        R   \n",
      "4654  2133    KA015         yarab.baba       Yarab     baba   \n",
      "\n",
      "                             email                             institution  \\\n",
      "0     saraswathi.sai2311@gmail.com                      SSSVV KA Volunteer   \n",
      "1     saraswathi.sai2311@gmail.com                      SSSVV KA Volunteer   \n",
      "2     saraswathi.sai2311@gmail.com                      SSSVV KA Volunteer   \n",
      "3     saraswathi.sai2311@gmail.com                      SSSVV KA Volunteer   \n",
      "4     saraswathi.sai2311@gmail.com                      SSSVV KA Volunteer   \n",
      "...                            ...                                     ...   \n",
      "4650       sampruthar873@gmail.com  Sri Sathya Sai Vidyaniketan, Bagepalli   \n",
      "4651       sampruthar873@gmail.com  Sri Sathya Sai Vidyaniketan, Bagepalli   \n",
      "4652       sampruthar873@gmail.com  Sri Sathya Sai Vidyaniketan, Bagepalli   \n",
      "4653       sampruthar873@gmail.com  Sri Sathya Sai Vidyaniketan, Bagepalli   \n",
      "4654         yarabbaba94@gmail.com  Sri Sathya Sai Vidyaniketan, Bagepalli   \n",
      "\n",
      "             shortname         course module  \\\n",
      "0        VI CBSE Maths              Symmetry   \n",
      "1        VI CBSE Maths              Symmetry   \n",
      "2        VI CBSE Maths              Symmetry   \n",
      "3        VI CBSE Maths              Symmetry   \n",
      "4        VI CBSE Maths              Symmetry   \n",
      "...                ...                   ...   \n",
      "4650      V KSSE Maths              Patterns   \n",
      "4651      V KSSE Maths              Patterns   \n",
      "4652     VI KSSE Maths  Ratio and Proportion   \n",
      "4653     VI KSSE Maths  Ratio and Proportion   \n",
      "4654  VIII KSSE Social            Atmosphere   \n",
      "\n",
      "                                        file downloaded            timestamp  \\\n",
      "0                      MLP_Ideation Module_Symmetry.pdf  2023-02-22 16:24:08   \n",
      "1                      MLP_Ideation Module_Symmetry.pdf  2023-02-23 10:22:03   \n",
      "2                      MLP_Ideation Module_Symmetry.pdf  2023-02-23 10:44:59   \n",
      "3                             MS_Lines of Symmetry.pptx  2023-02-22 16:19:41   \n",
      "4                               VC_Beauty around us.mp3  2023-02-22 16:19:41   \n",
      "...                                                 ...                  ...   \n",
      "4650                        07_SA_Quiz on patterns.pptx  2023-02-24 03:17:32   \n",
      "4651         11_VC_Value of good behaviour pattern.pptx  2023-02-24 03:17:32   \n",
      "4652                           Ratio and Proportion.pdf  2023-02-22 08:37:52   \n",
      "4653                           Ratio and Proportion.pdf  2023-02-22 08:37:57   \n",
      "4654  CCDP_KSSE_Social Science_STD VIII_Atmosphere.xlsx  2023-02-16 04:47:37   \n",
      "\n",
      "     Class Board Subject  \n",
      "0        6  CBSE   Maths  \n",
      "1        6  CBSE   Maths  \n",
      "2        6  CBSE   Maths  \n",
      "3        6  CBSE   Maths  \n",
      "4        6  CBSE   Maths  \n",
      "...    ...   ...     ...  \n",
      "4650     5  KSSE   Maths  \n",
      "4651     5  KSSE   Maths  \n",
      "4652     6  KSSE   Maths  \n",
      "4653     6  KSSE   Maths  \n",
      "4654     8  KSSE  Social  \n",
      "\n",
      "[4655 rows x 14 columns]\n"
     ]
    }
   ],
   "source": [
    "import re\n",
    "\n",
    "# Define mapping dictionaries for Class, Board, and Subject\n",
    "class_map = {'I': 1, 'II': 2,'Ii': 2, 'III': 3, 'IV': 4, 'V': 5, 'VI': 6, 'VII': 7, 'VIII': 8, 'IX': 9,'SOPAAN':'SOPAAN'}\n",
    "board_map = {'KSSE': 'KSSE', 'CBSE': 'CBSE', 'APSE': 'APSE','Content':'Content'}\n",
    "subject_map = {'Maths': 'Maths', 'Science': 'Science','English': 'English', 'Social': 'Social', 'EVS': 'EVS','Repackaged':'Repackaged','Sample':'Sample'}\n",
    "\n",
    "\n",
    "# Define a function to split the shortname column into Class, Board, and Subject columns\n",
    "def split_shortname(shortname):\n",
    "    # Initialize variables\n",
    "    class_ = None\n",
    "    board = None\n",
    "    subject = None\n",
    "    \n",
    "    # Split the string into words\n",
    "    words = re.findall(r'\\b\\w+\\b', shortname)\n",
    "    \n",
    "    # Map the values to Class, Board, and Subject columns\n",
    "    for word in words:\n",
    "        if word in class_map:\n",
    "            class_ = class_map[word]\n",
    "        elif word in board_map:\n",
    "            board = board_map[word]\n",
    "        elif word in subject_map:\n",
    "            subject = subject_map[word]\n",
    "        elif word == 'SC':\n",
    "            subject = 'Science'\n",
    "        elif word == 'Chemistry':\n",
    "            if class_ is None and board is None:\n",
    "                class_ = 'Not Entered'\n",
    "                board = 'Not Entered'\n",
    "            subject = 'Science'\n",
    "        elif word == 'Physics':\n",
    "            if class_ is None and board is None:\n",
    "                class_ = 'Not Entered'\n",
    "                board = 'Not Entered'\n",
    "            subject = 'Science'\n",
    "            \n",
    "    # Return the values as a tuple\n",
    "    return (class_, board, subject)\n",
    "\n",
    "# Split the shortname column into Class, Board, and Subject columns\n",
    "current_downloads_data_check[['Class', 'Board', 'Subject']] = current_downloads_data_check['shortname'].apply(split_shortname).apply(pd.Series)\n",
    "\n",
    "# Convert Class column to integers\n",
    "#data['Class'] = pd.to_numeric(data['Class'])\n",
    "\n",
    "# Sort the data by Class column\n",
    "#data = data.sort_values('Class')\n",
    "\n",
    "# Print the cleaned data\n",
    "#print(data[['Class', 'Board', 'Subject']])\n",
    "print(current_downloads_data_check)\n",
    "\n",
    "#Save the cleaned dataframe to an excel file\n",
    "current_downloads_data_check.to_excel(r\"D:\\Side Hustles\\SSSVV activities\\SRC - Karnataka\\Monthly Reports\\downloads_check.xlsx\", index=False)"
   ]
  },
  {
   "cell_type": "code",
   "execution_count": 115,
   "id": "8d97d59b",
   "metadata": {},
   "outputs": [
    {
     "data": {
      "text/html": [
       "<div>\n",
       "<style scoped>\n",
       "    .dataframe tbody tr th:only-of-type {\n",
       "        vertical-align: middle;\n",
       "    }\n",
       "\n",
       "    .dataframe tbody tr th {\n",
       "        vertical-align: top;\n",
       "    }\n",
       "\n",
       "    .dataframe thead th {\n",
       "        text-align: right;\n",
       "    }\n",
       "</style>\n",
       "<table border=\"1\" class=\"dataframe\">\n",
       "  <thead>\n",
       "    <tr style=\"text-align: right;\">\n",
       "      <th></th>\n",
       "      <th>id</th>\n",
       "      <th>idnumber</th>\n",
       "      <th>username</th>\n",
       "      <th>firstname</th>\n",
       "      <th>lastname</th>\n",
       "      <th>email</th>\n",
       "      <th>institution</th>\n",
       "      <th>shortname</th>\n",
       "      <th>course module</th>\n",
       "      <th>file downloaded</th>\n",
       "      <th>timestamp</th>\n",
       "      <th>Class</th>\n",
       "      <th>Board</th>\n",
       "      <th>Subject</th>\n",
       "    </tr>\n",
       "  </thead>\n",
       "  <tbody>\n",
       "    <tr>\n",
       "      <th>0</th>\n",
       "      <td>1570</td>\n",
       "      <td>KA000</td>\n",
       "      <td>saraswati.bantwal</td>\n",
       "      <td>Saraswathi</td>\n",
       "      <td>Bantwal</td>\n",
       "      <td>saraswathi.sai2311@gmail.com</td>\n",
       "      <td>SSSVV KA Volunteer</td>\n",
       "      <td>VI CBSE Maths</td>\n",
       "      <td>Symmetry</td>\n",
       "      <td>MLP_Ideation Module_Symmetry.pdf</td>\n",
       "      <td>2023-02-22 16:24:08</td>\n",
       "      <td>6</td>\n",
       "      <td>CBSE</td>\n",
       "      <td>Maths</td>\n",
       "    </tr>\n",
       "    <tr>\n",
       "      <th>1</th>\n",
       "      <td>1570</td>\n",
       "      <td>KA000</td>\n",
       "      <td>saraswati.bantwal</td>\n",
       "      <td>Saraswathi</td>\n",
       "      <td>Bantwal</td>\n",
       "      <td>saraswathi.sai2311@gmail.com</td>\n",
       "      <td>SSSVV KA Volunteer</td>\n",
       "      <td>VI CBSE Maths</td>\n",
       "      <td>Symmetry</td>\n",
       "      <td>MLP_Ideation Module_Symmetry.pdf</td>\n",
       "      <td>2023-02-23 10:22:03</td>\n",
       "      <td>6</td>\n",
       "      <td>CBSE</td>\n",
       "      <td>Maths</td>\n",
       "    </tr>\n",
       "    <tr>\n",
       "      <th>2</th>\n",
       "      <td>1570</td>\n",
       "      <td>KA000</td>\n",
       "      <td>saraswati.bantwal</td>\n",
       "      <td>Saraswathi</td>\n",
       "      <td>Bantwal</td>\n",
       "      <td>saraswathi.sai2311@gmail.com</td>\n",
       "      <td>SSSVV KA Volunteer</td>\n",
       "      <td>VI CBSE Maths</td>\n",
       "      <td>Symmetry</td>\n",
       "      <td>MLP_Ideation Module_Symmetry.pdf</td>\n",
       "      <td>2023-02-23 10:44:59</td>\n",
       "      <td>6</td>\n",
       "      <td>CBSE</td>\n",
       "      <td>Maths</td>\n",
       "    </tr>\n",
       "    <tr>\n",
       "      <th>3</th>\n",
       "      <td>1570</td>\n",
       "      <td>KA000</td>\n",
       "      <td>saraswati.bantwal</td>\n",
       "      <td>Saraswathi</td>\n",
       "      <td>Bantwal</td>\n",
       "      <td>saraswathi.sai2311@gmail.com</td>\n",
       "      <td>SSSVV KA Volunteer</td>\n",
       "      <td>VI CBSE Maths</td>\n",
       "      <td>Symmetry</td>\n",
       "      <td>MS_Lines of Symmetry.pptx</td>\n",
       "      <td>2023-02-22 16:19:41</td>\n",
       "      <td>6</td>\n",
       "      <td>CBSE</td>\n",
       "      <td>Maths</td>\n",
       "    </tr>\n",
       "    <tr>\n",
       "      <th>4</th>\n",
       "      <td>1570</td>\n",
       "      <td>KA000</td>\n",
       "      <td>saraswati.bantwal</td>\n",
       "      <td>Saraswathi</td>\n",
       "      <td>Bantwal</td>\n",
       "      <td>saraswathi.sai2311@gmail.com</td>\n",
       "      <td>SSSVV KA Volunteer</td>\n",
       "      <td>VI CBSE Maths</td>\n",
       "      <td>Symmetry</td>\n",
       "      <td>VC_Beauty around us.mp3</td>\n",
       "      <td>2023-02-22 16:19:41</td>\n",
       "      <td>6</td>\n",
       "      <td>CBSE</td>\n",
       "      <td>Maths</td>\n",
       "    </tr>\n",
       "  </tbody>\n",
       "</table>\n",
       "</div>"
      ],
      "text/plain": [
       "     id idnumber           username   firstname lastname  \\\n",
       "0  1570    KA000  saraswati.bantwal  Saraswathi  Bantwal   \n",
       "1  1570    KA000  saraswati.bantwal  Saraswathi  Bantwal   \n",
       "2  1570    KA000  saraswati.bantwal  Saraswathi  Bantwal   \n",
       "3  1570    KA000  saraswati.bantwal  Saraswathi  Bantwal   \n",
       "4  1570    KA000  saraswati.bantwal  Saraswathi  Bantwal   \n",
       "\n",
       "                          email         institution      shortname  \\\n",
       "0  saraswathi.sai2311@gmail.com  SSSVV KA Volunteer  VI CBSE Maths   \n",
       "1  saraswathi.sai2311@gmail.com  SSSVV KA Volunteer  VI CBSE Maths   \n",
       "2  saraswathi.sai2311@gmail.com  SSSVV KA Volunteer  VI CBSE Maths   \n",
       "3  saraswathi.sai2311@gmail.com  SSSVV KA Volunteer  VI CBSE Maths   \n",
       "4  saraswathi.sai2311@gmail.com  SSSVV KA Volunteer  VI CBSE Maths   \n",
       "\n",
       "  course module                   file downloaded            timestamp Class  \\\n",
       "0      Symmetry  MLP_Ideation Module_Symmetry.pdf  2023-02-22 16:24:08     6   \n",
       "1      Symmetry  MLP_Ideation Module_Symmetry.pdf  2023-02-23 10:22:03     6   \n",
       "2      Symmetry  MLP_Ideation Module_Symmetry.pdf  2023-02-23 10:44:59     6   \n",
       "3      Symmetry         MS_Lines of Symmetry.pptx  2023-02-22 16:19:41     6   \n",
       "4      Symmetry           VC_Beauty around us.mp3  2023-02-22 16:19:41     6   \n",
       "\n",
       "  Board Subject  \n",
       "0  CBSE   Maths  \n",
       "1  CBSE   Maths  \n",
       "2  CBSE   Maths  \n",
       "3  CBSE   Maths  \n",
       "4  CBSE   Maths  "
      ]
     },
     "execution_count": 115,
     "metadata": {},
     "output_type": "execute_result"
    }
   ],
   "source": [
    "current_downloads_data_check.head()"
   ]
  },
  {
   "cell_type": "code",
   "execution_count": 116,
   "id": "bcf430e3",
   "metadata": {},
   "outputs": [
    {
     "data": {
      "text/plain": [
       "(4655, 14)"
      ]
     },
     "execution_count": 116,
     "metadata": {},
     "output_type": "execute_result"
    }
   ],
   "source": [
    "current_downloads_data_check.shape"
   ]
  },
  {
   "cell_type": "code",
   "execution_count": 117,
   "id": "075bcc53",
   "metadata": {},
   "outputs": [
    {
     "data": {
      "text/plain": [
       "id                 0\n",
       "idnumber           0\n",
       "username           0\n",
       "firstname          0\n",
       "lastname           0\n",
       "email              0\n",
       "institution        0\n",
       "shortname          0\n",
       "course module      0\n",
       "file downloaded    0\n",
       "timestamp          0\n",
       "Class              9\n",
       "Board              9\n",
       "Subject            9\n",
       "dtype: int64"
      ]
     },
     "execution_count": 117,
     "metadata": {},
     "output_type": "execute_result"
    }
   ],
   "source": [
    "current_downloads_data_check.isnull().sum()"
   ]
  },
  {
   "cell_type": "code",
   "execution_count": 118,
   "id": "8000a2d2",
   "metadata": {},
   "outputs": [
    {
     "data": {
      "text/plain": [
       "8         985\n",
       "6         790\n",
       "7         661\n",
       "SOPAAN    523\n",
       "9         481\n",
       "5         449\n",
       "4         313\n",
       "2         153\n",
       "1         150\n",
       "3         141\n",
       "Name: Class, dtype: int64"
      ]
     },
     "execution_count": 118,
     "metadata": {},
     "output_type": "execute_result"
    }
   ],
   "source": [
    "current_downloads_data_check['Class'].value_counts()"
   ]
  },
  {
   "cell_type": "code",
   "execution_count": 119,
   "id": "a8f3bfa6",
   "metadata": {},
   "outputs": [
    {
     "data": {
      "text/plain": [
       "KSSE       2194\n",
       "CBSE       1846\n",
       "Content     523\n",
       "APSE         83\n",
       "Name: Board, dtype: int64"
      ]
     },
     "execution_count": 119,
     "metadata": {},
     "output_type": "execute_result"
    }
   ],
   "source": [
    "current_downloads_data_check['Board'].value_counts()"
   ]
  },
  {
   "cell_type": "code",
   "execution_count": 120,
   "id": "35386c0c",
   "metadata": {},
   "outputs": [
    {
     "data": {
      "text/plain": [
       "Maths         1527\n",
       "Science       1007\n",
       "EVS            872\n",
       "Social         606\n",
       "Repackaged     523\n",
       "English        111\n",
       "Name: Subject, dtype: int64"
      ]
     },
     "execution_count": 120,
     "metadata": {},
     "output_type": "execute_result"
    }
   ],
   "source": [
    "current_downloads_data_check['Subject'].value_counts()"
   ]
  },
  {
   "cell_type": "code",
   "execution_count": 121,
   "id": "1c845386",
   "metadata": {},
   "outputs": [],
   "source": [
    "#data = data.drop(data[(data['Class'] == 'Not Entered') | (data['Class'] == 'SOPAAN')| (data['Subject'] == 'Repackaged')|(data['Subject'] == 'Sample')].index)"
   ]
  },
  {
   "cell_type": "code",
   "execution_count": 122,
   "id": "002f3e35",
   "metadata": {},
   "outputs": [
    {
     "data": {
      "text/plain": [
       "8         985\n",
       "6         790\n",
       "7         661\n",
       "SOPAAN    523\n",
       "9         481\n",
       "5         449\n",
       "4         313\n",
       "2         153\n",
       "1         150\n",
       "3         141\n",
       "Name: Class, dtype: int64"
      ]
     },
     "execution_count": 122,
     "metadata": {},
     "output_type": "execute_result"
    }
   ],
   "source": [
    "current_downloads_data_check['Class'].value_counts()"
   ]
  },
  {
   "cell_type": "code",
   "execution_count": 123,
   "id": "c6714135",
   "metadata": {},
   "outputs": [
    {
     "data": {
      "text/plain": [
       "KSSE       2194\n",
       "CBSE       1846\n",
       "Content     523\n",
       "APSE         83\n",
       "Name: Board, dtype: int64"
      ]
     },
     "execution_count": 123,
     "metadata": {},
     "output_type": "execute_result"
    }
   ],
   "source": [
    "current_downloads_data_check['Board'].value_counts()"
   ]
  },
  {
   "cell_type": "code",
   "execution_count": 124,
   "id": "02942ef0",
   "metadata": {},
   "outputs": [
    {
     "data": {
      "text/plain": [
       "Maths         1527\n",
       "Science       1007\n",
       "EVS            872\n",
       "Social         606\n",
       "Repackaged     523\n",
       "English        111\n",
       "Name: Subject, dtype: int64"
      ]
     },
     "execution_count": 124,
     "metadata": {},
     "output_type": "execute_result"
    }
   ],
   "source": [
    "current_downloads_data_check['Subject'].value_counts()"
   ]
  },
  {
   "cell_type": "markdown",
   "id": "4318d756",
   "metadata": {},
   "source": [
    "## Change school name"
   ]
  },
  {
   "cell_type": "code",
   "execution_count": 125,
   "id": "a08a942b",
   "metadata": {},
   "outputs": [],
   "source": [
    "current_downloads_school_check = current_downloads_data_check.copy()"
   ]
  },
  {
   "cell_type": "code",
   "execution_count": 126,
   "id": "b68bcd1f",
   "metadata": {},
   "outputs": [
    {
     "name": "stdout",
     "output_type": "stream",
     "text": [
      "Number of Schools :  13\n"
     ]
    },
    {
     "data": {
      "text/plain": [
       "Sri Sathya Sai Vidya Mandir School, Dharwad                     1777\n",
       "Sri Sathya Sai School, Bhadravathi                              1218\n",
       "Sri Sathya Sai Baba Higher Primary and High School, Mysuru       433\n",
       "Sri Sathya Sai Academy of Integrated Education, Bhadravathi      344\n",
       "Sri Sathya Sai Academy Of Integrated Edcuation Bhadravati        260\n",
       "\\tSri Sathya Sai Vidya Mandir School, Dharwad                    219\n",
       "Prashanti English Medium School, Siddapura                       152\n",
       "Sri Sathya Sai Vidyaniketan, Bagepalli                           105\n",
       "Prashanthi Vidya Kendra, Bayar, Kasaragod                         96\n",
       "SSSVV KA Volunteer                                                22\n",
       "\\tSri Sathya Sai Baba Higher Primary and High School, Mysuru      19\n",
       "Sri Sathya sai Vidyaniketan, Bagepalli                             6\n",
       "Sri Sathya Sai Vidya Kendra                                        4\n",
       "Name: institution, dtype: int64"
      ]
     },
     "execution_count": 126,
     "metadata": {},
     "output_type": "execute_result"
    }
   ],
   "source": [
    "print(\"Number of Schools : \",current_downloads_school_check['institution'].nunique())\n",
    "current_downloads_school_check['institution'].value_counts()"
   ]
  },
  {
   "cell_type": "code",
   "execution_count": 127,
   "id": "1057f8e4",
   "metadata": {},
   "outputs": [],
   "source": [
    "from fuzzywuzzy import fuzz, process\n",
    "\n",
    "common_school_names = ['Sri Sathya Sai Academy of Integrated Education, Bhadravathi', 'Sri Sathya Sai Vidya Kendra', 'Sri Sathya Sai Vidya Mandir School, Dharwad', 'Sri Sathya Sai Baba Higher Primary and High School, Mysuru', 'Sri Sathya Sai Vidyaniketan, Bagepalli', 'Sri Eshwaramma English Medium High School, Tumakuru', 'Prashanti English Medium School, Siddapura', 'Ananda Sai Shikshana Samsthe Shimoga']\n",
    "\n",
    "current_downloads_school_check['institution'] = current_downloads_school_check['institution'].apply(lambda x: x.strip())\n",
    "\n",
    "for i, school_name in enumerate(current_downloads_school_check['institution']):\n",
    "    school_name = school_name.strip()\n",
    "    school_name_lower = school_name.lower()\n",
    "    \n",
    "    # Check for exact matches\n",
    "    if school_name in common_school_names:\n",
    "        current_downloads_school_check.at[i, 'institution'] = school_name\n",
    "    \n",
    "    # Check for fuzzy matches\n",
    "    else:\n",
    "        match, score = process.extractOne(school_name, common_school_names, scorer=fuzz.token_set_ratio)\n",
    "        \n",
    "        # If score is above a certain threshold, replace with common name\n",
    "        if score >= 85:\n",
    "            current_downloads_school_check.at[i, 'institution'] = match\n",
    "        else:\n",
    "            # Check for Bhadravathi School case\n",
    "            if \"bhadravathi\" in school_name_lower and \"sri sathya sai\" in school_name_lower:\n",
    "                current_downloads_school_check.at[i, 'institution'] = \"Sri Sathya Sai Academy of Integrated Education, Bhadravathi\"\n",
    "            else:\n",
    "                # Check for Dharwad School case\n",
    "                if \"dharwad\" in school_name_lower and \"sri sathya sai\" in school_name_lower:\n",
    "                    current_downloads_school_check.at[i, 'institution'] = \"Sri Sathya Sai Vidya Mandir School, Dharwad\"\n",
    "                else:\n",
    "                    current_downloads_school_check.at[i, 'institution'] = school_name"
   ]
  },
  {
   "cell_type": "code",
   "execution_count": 128,
   "id": "46555a28",
   "metadata": {},
   "outputs": [
    {
     "name": "stdout",
     "output_type": "stream",
     "text": [
      "Number of Schools :  8\n"
     ]
    },
    {
     "data": {
      "text/plain": [
       "Sri Sathya Sai Vidya Mandir School, Dharwad                    1996\n",
       "Sri Sathya Sai Academy of Integrated Education, Bhadravathi    1822\n",
       "Sri Sathya Sai Baba Higher Primary and High School, Mysuru      452\n",
       "Prashanti English Medium School, Siddapura                      152\n",
       "Sri Sathya Sai Vidyaniketan, Bagepalli                          111\n",
       "Prashanthi Vidya Kendra, Bayar, Kasaragod                        96\n",
       "SSSVV KA Volunteer                                               22\n",
       "Sri Sathya Sai Vidya Kendra                                       4\n",
       "Name: institution, dtype: int64"
      ]
     },
     "execution_count": 128,
     "metadata": {},
     "output_type": "execute_result"
    }
   ],
   "source": [
    "print(\"Number of Schools : \",current_downloads_school_check['institution'].nunique())\n",
    "current_downloads_school_check['institution'].value_counts()"
   ]
  },
  {
   "cell_type": "code",
   "execution_count": 129,
   "id": "cbb6119c",
   "metadata": {},
   "outputs": [
    {
     "data": {
      "text/plain": [
       "(4655, 14)"
      ]
     },
     "execution_count": 129,
     "metadata": {},
     "output_type": "execute_result"
    }
   ],
   "source": [
    "current_downloads_school_check.shape"
   ]
  },
  {
   "cell_type": "markdown",
   "id": "db20c9cb",
   "metadata": {},
   "source": [
    "## Add & Clean Date Column"
   ]
  },
  {
   "cell_type": "code",
   "execution_count": 130,
   "id": "33d2a5fc",
   "metadata": {},
   "outputs": [],
   "source": [
    "current_downloads_date_check = current_downloads_school_check.copy()"
   ]
  },
  {
   "cell_type": "code",
   "execution_count": 131,
   "id": "6bb28d91",
   "metadata": {},
   "outputs": [],
   "source": [
    "import pandas as pd\n",
    "\n",
    "def add_date_column(df):\n",
    "    if 'timestamp' in df.columns:\n",
    "        df['timestamp'] = pd.to_datetime(df['timestamp'])\n",
    "        df['Date'] = pd.to_datetime(df['timestamp']).dt.date.astype(str).apply(lambda x: datetime.datetime.strptime(x, '%Y-%m-%d').strftime('%d/%m/%Y'))\n",
    "    else:\n",
    "        print(\"Error: dataframe does not contain 'timestamp' column\")"
   ]
  },
  {
   "cell_type": "code",
   "execution_count": 132,
   "id": "f7ebdd6c",
   "metadata": {},
   "outputs": [
    {
     "data": {
      "text/html": [
       "<div>\n",
       "<style scoped>\n",
       "    .dataframe tbody tr th:only-of-type {\n",
       "        vertical-align: middle;\n",
       "    }\n",
       "\n",
       "    .dataframe tbody tr th {\n",
       "        vertical-align: top;\n",
       "    }\n",
       "\n",
       "    .dataframe thead th {\n",
       "        text-align: right;\n",
       "    }\n",
       "</style>\n",
       "<table border=\"1\" class=\"dataframe\">\n",
       "  <thead>\n",
       "    <tr style=\"text-align: right;\">\n",
       "      <th></th>\n",
       "      <th>id</th>\n",
       "      <th>idnumber</th>\n",
       "      <th>username</th>\n",
       "      <th>firstname</th>\n",
       "      <th>lastname</th>\n",
       "      <th>email</th>\n",
       "      <th>institution</th>\n",
       "      <th>shortname</th>\n",
       "      <th>course module</th>\n",
       "      <th>file downloaded</th>\n",
       "      <th>timestamp</th>\n",
       "      <th>Class</th>\n",
       "      <th>Board</th>\n",
       "      <th>Subject</th>\n",
       "      <th>Date</th>\n",
       "    </tr>\n",
       "  </thead>\n",
       "  <tbody>\n",
       "    <tr>\n",
       "      <th>0</th>\n",
       "      <td>1570</td>\n",
       "      <td>KA000</td>\n",
       "      <td>saraswati.bantwal</td>\n",
       "      <td>Saraswathi</td>\n",
       "      <td>Bantwal</td>\n",
       "      <td>saraswathi.sai2311@gmail.com</td>\n",
       "      <td>SSSVV KA Volunteer</td>\n",
       "      <td>VI CBSE Maths</td>\n",
       "      <td>Symmetry</td>\n",
       "      <td>MLP_Ideation Module_Symmetry.pdf</td>\n",
       "      <td>2023-02-22 16:24:08</td>\n",
       "      <td>6</td>\n",
       "      <td>CBSE</td>\n",
       "      <td>Maths</td>\n",
       "      <td>22/02/2023</td>\n",
       "    </tr>\n",
       "    <tr>\n",
       "      <th>1</th>\n",
       "      <td>1570</td>\n",
       "      <td>KA000</td>\n",
       "      <td>saraswati.bantwal</td>\n",
       "      <td>Saraswathi</td>\n",
       "      <td>Bantwal</td>\n",
       "      <td>saraswathi.sai2311@gmail.com</td>\n",
       "      <td>SSSVV KA Volunteer</td>\n",
       "      <td>VI CBSE Maths</td>\n",
       "      <td>Symmetry</td>\n",
       "      <td>MLP_Ideation Module_Symmetry.pdf</td>\n",
       "      <td>2023-02-23 10:22:03</td>\n",
       "      <td>6</td>\n",
       "      <td>CBSE</td>\n",
       "      <td>Maths</td>\n",
       "      <td>23/02/2023</td>\n",
       "    </tr>\n",
       "    <tr>\n",
       "      <th>2</th>\n",
       "      <td>1570</td>\n",
       "      <td>KA000</td>\n",
       "      <td>saraswati.bantwal</td>\n",
       "      <td>Saraswathi</td>\n",
       "      <td>Bantwal</td>\n",
       "      <td>saraswathi.sai2311@gmail.com</td>\n",
       "      <td>SSSVV KA Volunteer</td>\n",
       "      <td>VI CBSE Maths</td>\n",
       "      <td>Symmetry</td>\n",
       "      <td>MLP_Ideation Module_Symmetry.pdf</td>\n",
       "      <td>2023-02-23 10:44:59</td>\n",
       "      <td>6</td>\n",
       "      <td>CBSE</td>\n",
       "      <td>Maths</td>\n",
       "      <td>23/02/2023</td>\n",
       "    </tr>\n",
       "    <tr>\n",
       "      <th>3</th>\n",
       "      <td>1570</td>\n",
       "      <td>KA000</td>\n",
       "      <td>saraswati.bantwal</td>\n",
       "      <td>Saraswathi</td>\n",
       "      <td>Bantwal</td>\n",
       "      <td>saraswathi.sai2311@gmail.com</td>\n",
       "      <td>SSSVV KA Volunteer</td>\n",
       "      <td>VI CBSE Maths</td>\n",
       "      <td>Symmetry</td>\n",
       "      <td>MS_Lines of Symmetry.pptx</td>\n",
       "      <td>2023-02-22 16:19:41</td>\n",
       "      <td>6</td>\n",
       "      <td>CBSE</td>\n",
       "      <td>Maths</td>\n",
       "      <td>22/02/2023</td>\n",
       "    </tr>\n",
       "    <tr>\n",
       "      <th>4</th>\n",
       "      <td>1570</td>\n",
       "      <td>KA000</td>\n",
       "      <td>saraswati.bantwal</td>\n",
       "      <td>Saraswathi</td>\n",
       "      <td>Bantwal</td>\n",
       "      <td>saraswathi.sai2311@gmail.com</td>\n",
       "      <td>SSSVV KA Volunteer</td>\n",
       "      <td>VI CBSE Maths</td>\n",
       "      <td>Symmetry</td>\n",
       "      <td>VC_Beauty around us.mp3</td>\n",
       "      <td>2023-02-22 16:19:41</td>\n",
       "      <td>6</td>\n",
       "      <td>CBSE</td>\n",
       "      <td>Maths</td>\n",
       "      <td>22/02/2023</td>\n",
       "    </tr>\n",
       "  </tbody>\n",
       "</table>\n",
       "</div>"
      ],
      "text/plain": [
       "     id idnumber           username   firstname lastname  \\\n",
       "0  1570    KA000  saraswati.bantwal  Saraswathi  Bantwal   \n",
       "1  1570    KA000  saraswati.bantwal  Saraswathi  Bantwal   \n",
       "2  1570    KA000  saraswati.bantwal  Saraswathi  Bantwal   \n",
       "3  1570    KA000  saraswati.bantwal  Saraswathi  Bantwal   \n",
       "4  1570    KA000  saraswati.bantwal  Saraswathi  Bantwal   \n",
       "\n",
       "                          email         institution      shortname  \\\n",
       "0  saraswathi.sai2311@gmail.com  SSSVV KA Volunteer  VI CBSE Maths   \n",
       "1  saraswathi.sai2311@gmail.com  SSSVV KA Volunteer  VI CBSE Maths   \n",
       "2  saraswathi.sai2311@gmail.com  SSSVV KA Volunteer  VI CBSE Maths   \n",
       "3  saraswathi.sai2311@gmail.com  SSSVV KA Volunteer  VI CBSE Maths   \n",
       "4  saraswathi.sai2311@gmail.com  SSSVV KA Volunteer  VI CBSE Maths   \n",
       "\n",
       "  course module                   file downloaded           timestamp Class  \\\n",
       "0      Symmetry  MLP_Ideation Module_Symmetry.pdf 2023-02-22 16:24:08     6   \n",
       "1      Symmetry  MLP_Ideation Module_Symmetry.pdf 2023-02-23 10:22:03     6   \n",
       "2      Symmetry  MLP_Ideation Module_Symmetry.pdf 2023-02-23 10:44:59     6   \n",
       "3      Symmetry         MS_Lines of Symmetry.pptx 2023-02-22 16:19:41     6   \n",
       "4      Symmetry           VC_Beauty around us.mp3 2023-02-22 16:19:41     6   \n",
       "\n",
       "  Board Subject        Date  \n",
       "0  CBSE   Maths  22/02/2023  \n",
       "1  CBSE   Maths  23/02/2023  \n",
       "2  CBSE   Maths  23/02/2023  \n",
       "3  CBSE   Maths  22/02/2023  \n",
       "4  CBSE   Maths  22/02/2023  "
      ]
     },
     "execution_count": 132,
     "metadata": {},
     "output_type": "execute_result"
    }
   ],
   "source": [
    "add_date_column(current_downloads_date_check)\n",
    "current_downloads_date_check.head()"
   ]
  },
  {
   "cell_type": "code",
   "execution_count": 133,
   "id": "9b361169",
   "metadata": {},
   "outputs": [
    {
     "data": {
      "text/plain": [
       "id                          int64\n",
       "idnumber                   object\n",
       "username                   object\n",
       "firstname                  object\n",
       "lastname                   object\n",
       "email                      object\n",
       "institution                object\n",
       "shortname                  object\n",
       "course module              object\n",
       "file downloaded            object\n",
       "timestamp          datetime64[ns]\n",
       "Class                      object\n",
       "Board                      object\n",
       "Subject                    object\n",
       "Date                       object\n",
       "dtype: object"
      ]
     },
     "execution_count": 133,
     "metadata": {},
     "output_type": "execute_result"
    }
   ],
   "source": [
    "current_downloads_date_check.dtypes"
   ]
  },
  {
   "cell_type": "markdown",
   "id": "caa85ffc",
   "metadata": {},
   "source": [
    "## Check files downloaded column"
   ]
  },
  {
   "cell_type": "code",
   "execution_count": 134,
   "id": "c8fb2d6f",
   "metadata": {},
   "outputs": [],
   "source": [
    "current_downloads_files_check = current_downloads_date_check.copy()"
   ]
  },
  {
   "cell_type": "code",
   "execution_count": 135,
   "id": "eb216435",
   "metadata": {},
   "outputs": [
    {
     "data": {
      "text/plain": [
       "Punctuation.pdf                                       14\n",
       "Algebraic Expressions.pdf                             14\n",
       "Smart Chart.pdf                                       12\n",
       "Ratio and Proportion.pdf                              11\n",
       "Algebra.pdf                                           10\n",
       "                                                      ..\n",
       "DD_Common Features of an Indian Currency Note.pptx     1\n",
       "DD_Why we need Money.pptx                              1\n",
       "IA_Facts about currency.pptx                           1\n",
       "IA_Salary and Wages.pptx                               1\n",
       "DD_Products from Forest.pptx                           1\n",
       "Name: file downloaded, Length: 2082, dtype: int64"
      ]
     },
     "execution_count": 135,
     "metadata": {},
     "output_type": "execute_result"
    }
   ],
   "source": [
    "current_downloads_files_check['file downloaded'].value_counts()"
   ]
  },
  {
   "cell_type": "code",
   "execution_count": 136,
   "id": "b176c650",
   "metadata": {},
   "outputs": [
    {
     "name": "stdout",
     "output_type": "stream",
     "text": [
      "object\n"
     ]
    }
   ],
   "source": [
    "print(current_downloads_files_check['file downloaded'].dtype)"
   ]
  },
  {
   "cell_type": "markdown",
   "id": "54364d95",
   "metadata": {},
   "source": [
    "### Create Content Type column"
   ]
  },
  {
   "cell_type": "code",
   "execution_count": 137,
   "id": "cca12be7",
   "metadata": {},
   "outputs": [
    {
     "data": {
      "text/plain": [
       "0"
      ]
     },
     "execution_count": 137,
     "metadata": {},
     "output_type": "execute_result"
    }
   ],
   "source": [
    "current_downloads_files_check['file downloaded'].isnull().sum()"
   ]
  },
  {
   "cell_type": "code",
   "execution_count": 138,
   "id": "2708fe70",
   "metadata": {},
   "outputs": [
    {
     "data": {
      "text/html": [
       "<div>\n",
       "<style scoped>\n",
       "    .dataframe tbody tr th:only-of-type {\n",
       "        vertical-align: middle;\n",
       "    }\n",
       "\n",
       "    .dataframe tbody tr th {\n",
       "        vertical-align: top;\n",
       "    }\n",
       "\n",
       "    .dataframe thead th {\n",
       "        text-align: right;\n",
       "    }\n",
       "</style>\n",
       "<table border=\"1\" class=\"dataframe\">\n",
       "  <thead>\n",
       "    <tr style=\"text-align: right;\">\n",
       "      <th></th>\n",
       "      <th>id</th>\n",
       "      <th>idnumber</th>\n",
       "      <th>username</th>\n",
       "      <th>firstname</th>\n",
       "      <th>lastname</th>\n",
       "      <th>email</th>\n",
       "      <th>institution</th>\n",
       "      <th>shortname</th>\n",
       "      <th>course module</th>\n",
       "      <th>file downloaded</th>\n",
       "      <th>timestamp</th>\n",
       "      <th>Class</th>\n",
       "      <th>Board</th>\n",
       "      <th>Subject</th>\n",
       "      <th>Date</th>\n",
       "    </tr>\n",
       "  </thead>\n",
       "  <tbody>\n",
       "  </tbody>\n",
       "</table>\n",
       "</div>"
      ],
      "text/plain": [
       "Empty DataFrame\n",
       "Columns: [id, idnumber, username, firstname, lastname, email, institution, shortname, course module, file downloaded, timestamp, Class, Board, Subject, Date]\n",
       "Index: []"
      ]
     },
     "execution_count": 138,
     "metadata": {},
     "output_type": "execute_result"
    }
   ],
   "source": [
    "current_downloads_files_check['file downloaded'] = current_downloads_files_check['file downloaded'].fillna(\"Not Entered\")\n",
    "current_downloads_files_check[current_downloads_files_check['file downloaded'].isnull()]"
   ]
  },
  {
   "cell_type": "code",
   "execution_count": 139,
   "id": "3315f4d6",
   "metadata": {},
   "outputs": [
    {
     "data": {
      "text/plain": [
       "MM Teaching Aids    3636\n",
       "MLP                  913\n",
       "CCDP                  57\n",
       "Learning Aids         49\n",
       "Name: Content Type, dtype: int64"
      ]
     },
     "execution_count": 139,
     "metadata": {},
     "output_type": "execute_result"
    }
   ],
   "source": [
    "import re\n",
    "\n",
    "# create function to categorize content type\n",
    "def categorize(value):\n",
    "    if 'CCDP' in value:\n",
    "        return 'CCDP'\n",
    "    elif re.search(r'(.pptx|.ppt|.mp4|MP4|.mp3)$',value):\n",
    "        return 'MM Teaching Aids'\n",
    "    #elif re.search(r'^(MS|IA|QA|IQ|SA|VC|DD)',value):\n",
    "        #return 'MM Teaching Aids'\n",
    "    elif re.search(r'(docx|Worksheet|worksheet|Sheet$)',value):\n",
    "        return 'Learning Aids'\n",
    "    elif re.search(r'(.docx)$',value):\n",
    "        return 'Learning Aids'\n",
    "    else:\n",
    "        return 'MLP'\n",
    "\n",
    "# apply function to create new column\n",
    "current_downloads_files_check['Content Type'] = current_downloads_files_check['file downloaded'].apply(categorize)\n",
    "\n",
    "current_downloads_files_check['Content Type'].value_counts()"
   ]
  },
  {
   "cell_type": "markdown",
   "id": "816ad915",
   "metadata": {},
   "source": [
    "### Create File format type column"
   ]
  },
  {
   "cell_type": "code",
   "execution_count": 140,
   "id": "55436c89",
   "metadata": {},
   "outputs": [
    {
     "data": {
      "text/plain": [
       "PPT slide        3490\n",
       "PDF               928\n",
       "Audio             146\n",
       "Spreadsheet        68\n",
       "Word document      23\n",
       "Name: File Format Type, dtype: int64"
      ]
     },
     "execution_count": 140,
     "metadata": {},
     "output_type": "execute_result"
    }
   ],
   "source": [
    "import re\n",
    "\n",
    "# create function to categorize Asset type\n",
    "def categorize(value):\n",
    "    if '.xlsx' in value:\n",
    "        return 'Spreadsheet'\n",
    "    elif re.search(r'(.pptx|.ppt)',value):\n",
    "        return 'PPT slide'\n",
    "    elif re.search(r'(.mp4|MP4|.mp3)$',value):\n",
    "        return 'Audio'\n",
    "    elif 'pdf' in value:\n",
    "        return 'PDF'\n",
    "    elif 'docx' in value:\n",
    "        return 'Word document'\n",
    "    else:\n",
    "        return 'Unkown'\n",
    "\n",
    "# apply function to create new column\n",
    "current_downloads_files_check['File Format Type'] = current_downloads_files_check['file downloaded'].apply(categorize)\n",
    "\n",
    "current_downloads_files_check['File Format Type'].value_counts()"
   ]
  },
  {
   "cell_type": "markdown",
   "id": "086f3f1f",
   "metadata": {},
   "source": [
    "### Create Asset type column"
   ]
  },
  {
   "cell_type": "code",
   "execution_count": 141,
   "id": "9aa096b1",
   "metadata": {},
   "outputs": [
    {
     "data": {
      "text/plain": [
       "Main Script              1319\n",
       "Question to Assess        510\n",
       "Suggested Activity        491\n",
       "Interesting Asides        383\n",
       "Master Lesson Plan        371\n",
       "Day to Day Relevance      354\n",
       "Inquisitive Questions     327\n",
       "Value Content             283\n",
       "TA                        272\n",
       "LA                        235\n",
       "CCDP                       57\n",
       "Not Mentioned              34\n",
       "AS                         17\n",
       "MT                          2\n",
       "Name: Asset Type, dtype: int64"
      ]
     },
     "execution_count": 141,
     "metadata": {},
     "output_type": "execute_result"
    }
   ],
   "source": [
    "import re\n",
    "\n",
    "# create function to categorize Asset type\n",
    "def categorize(value):\n",
    "    if 'MS' in value:\n",
    "        return 'Main Script'\n",
    "    elif 'DD' in value:\n",
    "        return 'Day to Day Relevance'\n",
    "    elif 'QA' in value:\n",
    "        return 'Question to Assess'\n",
    "    elif 'VC' in value:\n",
    "        return 'Value Content'\n",
    "    elif 'IA' in value:\n",
    "        return 'Interesting Asides'\n",
    "    elif 'IQ' in value:\n",
    "        return 'Inquisitive Questions'\n",
    "    elif 'SA' in value:\n",
    "        return 'Suggested Activity'\n",
    "    elif 'CCDP' in value:\n",
    "        return 'CCDP'\n",
    "    elif 'LA' in value:\n",
    "        return 'LA'\n",
    "    elif 'TA' in value:\n",
    "        return 'TA'\n",
    "    elif 'MT' in value:\n",
    "        return 'MT'\n",
    "    elif 'AS' in value:\n",
    "        return 'AS'\n",
    "    elif 'pdf' in value:\n",
    "        return 'Master Lesson Plan'\n",
    "    else:\n",
    "        return 'Not Mentioned'\n",
    "\n",
    "# apply function to create new column\n",
    "current_downloads_files_check['Asset Type'] = current_downloads_files_check['file downloaded'].apply(categorize)\n",
    "\n",
    "current_downloads_files_check['Asset Type'].value_counts()"
   ]
  },
  {
   "cell_type": "code",
   "execution_count": 142,
   "id": "54723128",
   "metadata": {},
   "outputs": [
    {
     "data": {
      "text/html": [
       "<div>\n",
       "<style scoped>\n",
       "    .dataframe tbody tr th:only-of-type {\n",
       "        vertical-align: middle;\n",
       "    }\n",
       "\n",
       "    .dataframe tbody tr th {\n",
       "        vertical-align: top;\n",
       "    }\n",
       "\n",
       "    .dataframe thead th {\n",
       "        text-align: right;\n",
       "    }\n",
       "</style>\n",
       "<table border=\"1\" class=\"dataframe\">\n",
       "  <thead>\n",
       "    <tr style=\"text-align: right;\">\n",
       "      <th></th>\n",
       "      <th>id</th>\n",
       "      <th>idnumber</th>\n",
       "      <th>username</th>\n",
       "      <th>firstname</th>\n",
       "      <th>lastname</th>\n",
       "      <th>email</th>\n",
       "      <th>institution</th>\n",
       "      <th>shortname</th>\n",
       "      <th>course module</th>\n",
       "      <th>file downloaded</th>\n",
       "      <th>timestamp</th>\n",
       "      <th>Class</th>\n",
       "      <th>Board</th>\n",
       "      <th>Subject</th>\n",
       "      <th>Date</th>\n",
       "      <th>Content Type</th>\n",
       "      <th>File Format Type</th>\n",
       "      <th>Asset Type</th>\n",
       "    </tr>\n",
       "  </thead>\n",
       "  <tbody>\n",
       "    <tr>\n",
       "      <th>1695</th>\n",
       "      <td>2221</td>\n",
       "      <td>KA002</td>\n",
       "      <td>sashidhara_b</td>\n",
       "      <td>SHASHIDHARA</td>\n",
       "      <td>B</td>\n",
       "      <td>shashidharab2@gmail.com</td>\n",
       "      <td>Sri Sathya Sai Academy of Integrated Education...</td>\n",
       "      <td>VI KSSE Social</td>\n",
       "      <td>National Symbols and National Integration</td>\n",
       "      <td>02_Indian National Anthem.mp4</td>\n",
       "      <td>2023-02-20 08:42:35</td>\n",
       "      <td>6</td>\n",
       "      <td>KSSE</td>\n",
       "      <td>Social</td>\n",
       "      <td>20/02/2023</td>\n",
       "      <td>MM Teaching Aids</td>\n",
       "      <td>Audio</td>\n",
       "      <td>Not Mentioned</td>\n",
       "    </tr>\n",
       "    <tr>\n",
       "      <th>2015</th>\n",
       "      <td>119</td>\n",
       "      <td>KA006</td>\n",
       "      <td>tejaswini_naik</td>\n",
       "      <td>Tejaswini</td>\n",
       "      <td>Naik</td>\n",
       "      <td>tejaswinirameshnaik@gmail.com</td>\n",
       "      <td>Prashanti English Medium School, Siddapura</td>\n",
       "      <td>V KSSE Maths</td>\n",
       "      <td>Time</td>\n",
       "      <td>videoplayback.mp4</td>\n",
       "      <td>2023-02-16 07:01:52</td>\n",
       "      <td>5</td>\n",
       "      <td>KSSE</td>\n",
       "      <td>Maths</td>\n",
       "      <td>16/02/2023</td>\n",
       "      <td>MM Teaching Aids</td>\n",
       "      <td>Audio</td>\n",
       "      <td>Not Mentioned</td>\n",
       "    </tr>\n",
       "    <tr>\n",
       "      <th>3018</th>\n",
       "      <td>2135</td>\n",
       "      <td>KA007</td>\n",
       "      <td>malashree.nayyar</td>\n",
       "      <td>Malashree</td>\n",
       "      <td>Nayyar</td>\n",
       "      <td>malashreenayyar@gmail.com</td>\n",
       "      <td>Sri Sathya Sai Vidya Mandir School, Dharwad</td>\n",
       "      <td>V CBSE EVS</td>\n",
       "      <td>Super Senses</td>\n",
       "      <td>Sleeping position of animals.mp4</td>\n",
       "      <td>2023-02-28 01:14:03</td>\n",
       "      <td>5</td>\n",
       "      <td>CBSE</td>\n",
       "      <td>EVS</td>\n",
       "      <td>28/02/2023</td>\n",
       "      <td>MM Teaching Aids</td>\n",
       "      <td>Audio</td>\n",
       "      <td>Not Mentioned</td>\n",
       "    </tr>\n",
       "    <tr>\n",
       "      <th>3019</th>\n",
       "      <td>2135</td>\n",
       "      <td>KA007</td>\n",
       "      <td>malashree.nayyar</td>\n",
       "      <td>Malashree</td>\n",
       "      <td>Nayyar</td>\n",
       "      <td>malashreenayyar@gmail.com</td>\n",
       "      <td>Sri Sathya Sai Vidya Mandir School, Dharwad</td>\n",
       "      <td>V CBSE EVS</td>\n",
       "      <td>Super Senses</td>\n",
       "      <td>sleeping sloth (720 mp4).mp4</td>\n",
       "      <td>2023-02-28 01:14:03</td>\n",
       "      <td>5</td>\n",
       "      <td>CBSE</td>\n",
       "      <td>EVS</td>\n",
       "      <td>28/02/2023</td>\n",
       "      <td>MM Teaching Aids</td>\n",
       "      <td>Audio</td>\n",
       "      <td>Not Mentioned</td>\n",
       "    </tr>\n",
       "    <tr>\n",
       "      <th>3022</th>\n",
       "      <td>2135</td>\n",
       "      <td>KA007</td>\n",
       "      <td>malashree.nayyar</td>\n",
       "      <td>Malashree</td>\n",
       "      <td>Nayyar</td>\n",
       "      <td>malashreenayyar@gmail.com</td>\n",
       "      <td>Sri Sathya Sai Vidya Mandir School, Dharwad</td>\n",
       "      <td>V CBSE EVS</td>\n",
       "      <td>Super Senses</td>\n",
       "      <td>Alligator Alert! American Coot seems to alert ...</td>\n",
       "      <td>2023-02-28 01:14:03</td>\n",
       "      <td>5</td>\n",
       "      <td>CBSE</td>\n",
       "      <td>EVS</td>\n",
       "      <td>28/02/2023</td>\n",
       "      <td>MM Teaching Aids</td>\n",
       "      <td>Audio</td>\n",
       "      <td>Not Mentioned</td>\n",
       "    </tr>\n",
       "    <tr>\n",
       "      <th>3023</th>\n",
       "      <td>2135</td>\n",
       "      <td>KA007</td>\n",
       "      <td>malashree.nayyar</td>\n",
       "      <td>Malashree</td>\n",
       "      <td>Nayyar</td>\n",
       "      <td>malashreenayyar@gmail.com</td>\n",
       "      <td>Sri Sathya Sai Vidya Mandir School, Dharwad</td>\n",
       "      <td>V CBSE EVS</td>\n",
       "      <td>Super Senses</td>\n",
       "      <td>Bird_s eye view.mp4</td>\n",
       "      <td>2023-02-28 01:14:03</td>\n",
       "      <td>5</td>\n",
       "      <td>CBSE</td>\n",
       "      <td>EVS</td>\n",
       "      <td>28/02/2023</td>\n",
       "      <td>MM Teaching Aids</td>\n",
       "      <td>Audio</td>\n",
       "      <td>Not Mentioned</td>\n",
       "    </tr>\n",
       "    <tr>\n",
       "      <th>3037</th>\n",
       "      <td>2135</td>\n",
       "      <td>KA007</td>\n",
       "      <td>malashree.nayyar</td>\n",
       "      <td>Malashree</td>\n",
       "      <td>Nayyar</td>\n",
       "      <td>malashreenayyar@gmail.com</td>\n",
       "      <td>Sri Sathya Sai Vidya Mandir School, Dharwad</td>\n",
       "      <td>V CBSE EVS</td>\n",
       "      <td>Sunita in Space</td>\n",
       "      <td>Phases of the Moon.mp4</td>\n",
       "      <td>2023-02-14 04:30:50</td>\n",
       "      <td>5</td>\n",
       "      <td>CBSE</td>\n",
       "      <td>EVS</td>\n",
       "      <td>14/02/2023</td>\n",
       "      <td>MM Teaching Aids</td>\n",
       "      <td>Audio</td>\n",
       "      <td>Not Mentioned</td>\n",
       "    </tr>\n",
       "    <tr>\n",
       "      <th>3734</th>\n",
       "      <td>2507</td>\n",
       "      <td>KA007</td>\n",
       "      <td>kalpana.jadhav</td>\n",
       "      <td>Kalpana</td>\n",
       "      <td>Jadhav</td>\n",
       "      <td>jadhavkalpana593@gmail.com</td>\n",
       "      <td>Sri Sathya Sai Vidya Mandir School, Dharwad</td>\n",
       "      <td>VIII CBSE Social</td>\n",
       "      <td>Law and Social Justice</td>\n",
       "      <td>Bancha_the Solar Kitchen Village.mp4</td>\n",
       "      <td>2023-02-01 01:20:49</td>\n",
       "      <td>8</td>\n",
       "      <td>CBSE</td>\n",
       "      <td>Social</td>\n",
       "      <td>01/02/2023</td>\n",
       "      <td>MM Teaching Aids</td>\n",
       "      <td>Audio</td>\n",
       "      <td>Not Mentioned</td>\n",
       "    </tr>\n",
       "    <tr>\n",
       "      <th>3735</th>\n",
       "      <td>2507</td>\n",
       "      <td>KA007</td>\n",
       "      <td>kalpana.jadhav</td>\n",
       "      <td>Kalpana</td>\n",
       "      <td>Jadhav</td>\n",
       "      <td>jadhavkalpana593@gmail.com</td>\n",
       "      <td>Sri Sathya Sai Vidya Mandir School, Dharwad</td>\n",
       "      <td>VIII CBSE Social</td>\n",
       "      <td>Law and Social Justice</td>\n",
       "      <td>Bhopal Gas Tragedy.mp4</td>\n",
       "      <td>2023-02-01 01:20:49</td>\n",
       "      <td>8</td>\n",
       "      <td>CBSE</td>\n",
       "      <td>Social</td>\n",
       "      <td>01/02/2023</td>\n",
       "      <td>MM Teaching Aids</td>\n",
       "      <td>Audio</td>\n",
       "      <td>Not Mentioned</td>\n",
       "    </tr>\n",
       "    <tr>\n",
       "      <th>3754</th>\n",
       "      <td>2507</td>\n",
       "      <td>KA007</td>\n",
       "      <td>kalpana.jadhav</td>\n",
       "      <td>Kalpana</td>\n",
       "      <td>Jadhav</td>\n",
       "      <td>jadhavkalpana593@gmail.com</td>\n",
       "      <td>Sri Sathya Sai Vidya Mandir School, Dharwad</td>\n",
       "      <td>VIII CBSE Social</td>\n",
       "      <td>Law and Social Justice</td>\n",
       "      <td>Bancha_the Solar Kitchen Village.mp4</td>\n",
       "      <td>2023-02-01 01:28:16</td>\n",
       "      <td>8</td>\n",
       "      <td>CBSE</td>\n",
       "      <td>Social</td>\n",
       "      <td>01/02/2023</td>\n",
       "      <td>MM Teaching Aids</td>\n",
       "      <td>Audio</td>\n",
       "      <td>Not Mentioned</td>\n",
       "    </tr>\n",
       "    <tr>\n",
       "      <th>3755</th>\n",
       "      <td>2507</td>\n",
       "      <td>KA007</td>\n",
       "      <td>kalpana.jadhav</td>\n",
       "      <td>Kalpana</td>\n",
       "      <td>Jadhav</td>\n",
       "      <td>jadhavkalpana593@gmail.com</td>\n",
       "      <td>Sri Sathya Sai Vidya Mandir School, Dharwad</td>\n",
       "      <td>VIII CBSE Social</td>\n",
       "      <td>Law and Social Justice</td>\n",
       "      <td>Bhopal Gas Tragedy.mp4</td>\n",
       "      <td>2023-02-01 01:28:16</td>\n",
       "      <td>8</td>\n",
       "      <td>CBSE</td>\n",
       "      <td>Social</td>\n",
       "      <td>01/02/2023</td>\n",
       "      <td>MM Teaching Aids</td>\n",
       "      <td>Audio</td>\n",
       "      <td>Not Mentioned</td>\n",
       "    </tr>\n",
       "    <tr>\n",
       "      <th>3774</th>\n",
       "      <td>2507</td>\n",
       "      <td>KA007</td>\n",
       "      <td>kalpana.jadhav</td>\n",
       "      <td>Kalpana</td>\n",
       "      <td>Jadhav</td>\n",
       "      <td>jadhavkalpana593@gmail.com</td>\n",
       "      <td>Sri Sathya Sai Vidya Mandir School, Dharwad</td>\n",
       "      <td>VIII CBSE Social</td>\n",
       "      <td>Law and Social Justice</td>\n",
       "      <td>Bancha_the Solar Kitchen Village.mp4</td>\n",
       "      <td>2023-02-01 16:57:16</td>\n",
       "      <td>8</td>\n",
       "      <td>CBSE</td>\n",
       "      <td>Social</td>\n",
       "      <td>01/02/2023</td>\n",
       "      <td>MM Teaching Aids</td>\n",
       "      <td>Audio</td>\n",
       "      <td>Not Mentioned</td>\n",
       "    </tr>\n",
       "    <tr>\n",
       "      <th>3775</th>\n",
       "      <td>2507</td>\n",
       "      <td>KA007</td>\n",
       "      <td>kalpana.jadhav</td>\n",
       "      <td>Kalpana</td>\n",
       "      <td>Jadhav</td>\n",
       "      <td>jadhavkalpana593@gmail.com</td>\n",
       "      <td>Sri Sathya Sai Vidya Mandir School, Dharwad</td>\n",
       "      <td>VIII CBSE Social</td>\n",
       "      <td>Law and Social Justice</td>\n",
       "      <td>Bhopal Gas Tragedy.mp4</td>\n",
       "      <td>2023-02-01 16:57:16</td>\n",
       "      <td>8</td>\n",
       "      <td>CBSE</td>\n",
       "      <td>Social</td>\n",
       "      <td>01/02/2023</td>\n",
       "      <td>MM Teaching Aids</td>\n",
       "      <td>Audio</td>\n",
       "      <td>Not Mentioned</td>\n",
       "    </tr>\n",
       "    <tr>\n",
       "      <th>3794</th>\n",
       "      <td>2507</td>\n",
       "      <td>KA007</td>\n",
       "      <td>kalpana.jadhav</td>\n",
       "      <td>Kalpana</td>\n",
       "      <td>Jadhav</td>\n",
       "      <td>jadhavkalpana593@gmail.com</td>\n",
       "      <td>Sri Sathya Sai Vidya Mandir School, Dharwad</td>\n",
       "      <td>VIII CBSE Social</td>\n",
       "      <td>Law and Social Justice</td>\n",
       "      <td>Bancha_the Solar Kitchen Village.mp4</td>\n",
       "      <td>2023-02-04 09:05:19</td>\n",
       "      <td>8</td>\n",
       "      <td>CBSE</td>\n",
       "      <td>Social</td>\n",
       "      <td>04/02/2023</td>\n",
       "      <td>MM Teaching Aids</td>\n",
       "      <td>Audio</td>\n",
       "      <td>Not Mentioned</td>\n",
       "    </tr>\n",
       "    <tr>\n",
       "      <th>3795</th>\n",
       "      <td>2507</td>\n",
       "      <td>KA007</td>\n",
       "      <td>kalpana.jadhav</td>\n",
       "      <td>Kalpana</td>\n",
       "      <td>Jadhav</td>\n",
       "      <td>jadhavkalpana593@gmail.com</td>\n",
       "      <td>Sri Sathya Sai Vidya Mandir School, Dharwad</td>\n",
       "      <td>VIII CBSE Social</td>\n",
       "      <td>Law and Social Justice</td>\n",
       "      <td>Bhopal Gas Tragedy.mp4</td>\n",
       "      <td>2023-02-04 09:05:19</td>\n",
       "      <td>8</td>\n",
       "      <td>CBSE</td>\n",
       "      <td>Social</td>\n",
       "      <td>04/02/2023</td>\n",
       "      <td>MM Teaching Aids</td>\n",
       "      <td>Audio</td>\n",
       "      <td>Not Mentioned</td>\n",
       "    </tr>\n",
       "    <tr>\n",
       "      <th>3814</th>\n",
       "      <td>2507</td>\n",
       "      <td>KA007</td>\n",
       "      <td>kalpana.jadhav</td>\n",
       "      <td>Kalpana</td>\n",
       "      <td>Jadhav</td>\n",
       "      <td>jadhavkalpana593@gmail.com</td>\n",
       "      <td>Sri Sathya Sai Vidya Mandir School, Dharwad</td>\n",
       "      <td>VIII CBSE Social</td>\n",
       "      <td>Law and Social Justice</td>\n",
       "      <td>Bancha_the Solar Kitchen Village.mp4</td>\n",
       "      <td>2023-02-04 09:05:37</td>\n",
       "      <td>8</td>\n",
       "      <td>CBSE</td>\n",
       "      <td>Social</td>\n",
       "      <td>04/02/2023</td>\n",
       "      <td>MM Teaching Aids</td>\n",
       "      <td>Audio</td>\n",
       "      <td>Not Mentioned</td>\n",
       "    </tr>\n",
       "    <tr>\n",
       "      <th>3815</th>\n",
       "      <td>2507</td>\n",
       "      <td>KA007</td>\n",
       "      <td>kalpana.jadhav</td>\n",
       "      <td>Kalpana</td>\n",
       "      <td>Jadhav</td>\n",
       "      <td>jadhavkalpana593@gmail.com</td>\n",
       "      <td>Sri Sathya Sai Vidya Mandir School, Dharwad</td>\n",
       "      <td>VIII CBSE Social</td>\n",
       "      <td>Law and Social Justice</td>\n",
       "      <td>Bhopal Gas Tragedy.mp4</td>\n",
       "      <td>2023-02-04 09:05:37</td>\n",
       "      <td>8</td>\n",
       "      <td>CBSE</td>\n",
       "      <td>Social</td>\n",
       "      <td>04/02/2023</td>\n",
       "      <td>MM Teaching Aids</td>\n",
       "      <td>Audio</td>\n",
       "      <td>Not Mentioned</td>\n",
       "    </tr>\n",
       "    <tr>\n",
       "      <th>3834</th>\n",
       "      <td>2507</td>\n",
       "      <td>KA007</td>\n",
       "      <td>kalpana.jadhav</td>\n",
       "      <td>Kalpana</td>\n",
       "      <td>Jadhav</td>\n",
       "      <td>jadhavkalpana593@gmail.com</td>\n",
       "      <td>Sri Sathya Sai Vidya Mandir School, Dharwad</td>\n",
       "      <td>VIII CBSE Social</td>\n",
       "      <td>Law and Social Justice</td>\n",
       "      <td>Bancha_the Solar Kitchen Village.mp4</td>\n",
       "      <td>2023-02-04 09:05:57</td>\n",
       "      <td>8</td>\n",
       "      <td>CBSE</td>\n",
       "      <td>Social</td>\n",
       "      <td>04/02/2023</td>\n",
       "      <td>MM Teaching Aids</td>\n",
       "      <td>Audio</td>\n",
       "      <td>Not Mentioned</td>\n",
       "    </tr>\n",
       "    <tr>\n",
       "      <th>3835</th>\n",
       "      <td>2507</td>\n",
       "      <td>KA007</td>\n",
       "      <td>kalpana.jadhav</td>\n",
       "      <td>Kalpana</td>\n",
       "      <td>Jadhav</td>\n",
       "      <td>jadhavkalpana593@gmail.com</td>\n",
       "      <td>Sri Sathya Sai Vidya Mandir School, Dharwad</td>\n",
       "      <td>VIII CBSE Social</td>\n",
       "      <td>Law and Social Justice</td>\n",
       "      <td>Bhopal Gas Tragedy.mp4</td>\n",
       "      <td>2023-02-04 09:05:57</td>\n",
       "      <td>8</td>\n",
       "      <td>CBSE</td>\n",
       "      <td>Social</td>\n",
       "      <td>04/02/2023</td>\n",
       "      <td>MM Teaching Aids</td>\n",
       "      <td>Audio</td>\n",
       "      <td>Not Mentioned</td>\n",
       "    </tr>\n",
       "    <tr>\n",
       "      <th>3854</th>\n",
       "      <td>2507</td>\n",
       "      <td>KA007</td>\n",
       "      <td>kalpana.jadhav</td>\n",
       "      <td>Kalpana</td>\n",
       "      <td>Jadhav</td>\n",
       "      <td>jadhavkalpana593@gmail.com</td>\n",
       "      <td>Sri Sathya Sai Vidya Mandir School, Dharwad</td>\n",
       "      <td>VIII CBSE Social</td>\n",
       "      <td>Law and Social Justice</td>\n",
       "      <td>Bancha_the Solar Kitchen Village.mp4</td>\n",
       "      <td>2023-02-19 09:41:38</td>\n",
       "      <td>8</td>\n",
       "      <td>CBSE</td>\n",
       "      <td>Social</td>\n",
       "      <td>19/02/2023</td>\n",
       "      <td>MM Teaching Aids</td>\n",
       "      <td>Audio</td>\n",
       "      <td>Not Mentioned</td>\n",
       "    </tr>\n",
       "    <tr>\n",
       "      <th>3855</th>\n",
       "      <td>2507</td>\n",
       "      <td>KA007</td>\n",
       "      <td>kalpana.jadhav</td>\n",
       "      <td>Kalpana</td>\n",
       "      <td>Jadhav</td>\n",
       "      <td>jadhavkalpana593@gmail.com</td>\n",
       "      <td>Sri Sathya Sai Vidya Mandir School, Dharwad</td>\n",
       "      <td>VIII CBSE Social</td>\n",
       "      <td>Law and Social Justice</td>\n",
       "      <td>Bhopal Gas Tragedy.mp4</td>\n",
       "      <td>2023-02-19 09:41:38</td>\n",
       "      <td>8</td>\n",
       "      <td>CBSE</td>\n",
       "      <td>Social</td>\n",
       "      <td>19/02/2023</td>\n",
       "      <td>MM Teaching Aids</td>\n",
       "      <td>Audio</td>\n",
       "      <td>Not Mentioned</td>\n",
       "    </tr>\n",
       "    <tr>\n",
       "      <th>4384</th>\n",
       "      <td>2121</td>\n",
       "      <td>KA010</td>\n",
       "      <td>shruthi.m</td>\n",
       "      <td>Shruthi</td>\n",
       "      <td>M</td>\n",
       "      <td>shruthimahesh1@gmail.com</td>\n",
       "      <td>Sri Sathya Sai Baba Higher Primary and High Sc...</td>\n",
       "      <td>T2 - CBTE 2</td>\n",
       "      <td>Seven Assets Deep Dive</td>\n",
       "      <td>Seven Assets Deep-dive.pptx</td>\n",
       "      <td>2023-02-02 10:53:21</td>\n",
       "      <td>None</td>\n",
       "      <td>None</td>\n",
       "      <td>None</td>\n",
       "      <td>02/02/2023</td>\n",
       "      <td>MM Teaching Aids</td>\n",
       "      <td>PPT slide</td>\n",
       "      <td>Not Mentioned</td>\n",
       "    </tr>\n",
       "    <tr>\n",
       "      <th>4385</th>\n",
       "      <td>2121</td>\n",
       "      <td>KA010</td>\n",
       "      <td>shruthi.m</td>\n",
       "      <td>Shruthi</td>\n",
       "      <td>M</td>\n",
       "      <td>shruthimahesh1@gmail.com</td>\n",
       "      <td>Sri Sathya Sai Baba Higher Primary and High Sc...</td>\n",
       "      <td>T2 - CBTE 2</td>\n",
       "      <td>Seven Assets Deep Dive</td>\n",
       "      <td>Seven Assets Deep-dive.pptx</td>\n",
       "      <td>2023-02-02 10:53:35</td>\n",
       "      <td>None</td>\n",
       "      <td>None</td>\n",
       "      <td>None</td>\n",
       "      <td>02/02/2023</td>\n",
       "      <td>MM Teaching Aids</td>\n",
       "      <td>PPT slide</td>\n",
       "      <td>Not Mentioned</td>\n",
       "    </tr>\n",
       "    <tr>\n",
       "      <th>4397</th>\n",
       "      <td>2137</td>\n",
       "      <td>KA010</td>\n",
       "      <td>rashmi.siddaramu</td>\n",
       "      <td>Rashmi</td>\n",
       "      <td>Siddaramu</td>\n",
       "      <td>rashmisrisiddarameshwara@gmail.com</td>\n",
       "      <td>Sri Sathya Sai Baba Higher Primary and High Sc...</td>\n",
       "      <td>VI KSSE Social</td>\n",
       "      <td>Asia - A Land of Contrasts</td>\n",
       "      <td>05_Regional Divisions Follow-up worksheet.docx</td>\n",
       "      <td>2023-02-10 15:32:47</td>\n",
       "      <td>6</td>\n",
       "      <td>KSSE</td>\n",
       "      <td>Social</td>\n",
       "      <td>10/02/2023</td>\n",
       "      <td>Learning Aids</td>\n",
       "      <td>Word document</td>\n",
       "      <td>Not Mentioned</td>\n",
       "    </tr>\n",
       "    <tr>\n",
       "      <th>4398</th>\n",
       "      <td>2137</td>\n",
       "      <td>KA010</td>\n",
       "      <td>rashmi.siddaramu</td>\n",
       "      <td>Rashmi</td>\n",
       "      <td>Siddaramu</td>\n",
       "      <td>rashmisrisiddarameshwara@gmail.com</td>\n",
       "      <td>Sri Sathya Sai Baba Higher Primary and High Sc...</td>\n",
       "      <td>VI KSSE Social</td>\n",
       "      <td>Asia - A Land of Contrasts</td>\n",
       "      <td>05_Regional Divisions Follow-up worksheet.docx</td>\n",
       "      <td>2023-02-11 14:46:03</td>\n",
       "      <td>6</td>\n",
       "      <td>KSSE</td>\n",
       "      <td>Social</td>\n",
       "      <td>11/02/2023</td>\n",
       "      <td>Learning Aids</td>\n",
       "      <td>Word document</td>\n",
       "      <td>Not Mentioned</td>\n",
       "    </tr>\n",
       "    <tr>\n",
       "      <th>4484</th>\n",
       "      <td>2137</td>\n",
       "      <td>KA010</td>\n",
       "      <td>rashmi.siddaramu</td>\n",
       "      <td>Rashmi</td>\n",
       "      <td>Siddaramu</td>\n",
       "      <td>rashmisrisiddarameshwara@gmail.com</td>\n",
       "      <td>Sri Sathya Sai Baba Higher Primary and High Sc...</td>\n",
       "      <td>VI KSSE Social</td>\n",
       "      <td>National Symbols and National Integration</td>\n",
       "      <td>02_Indian National Anthem.mp4</td>\n",
       "      <td>2023-02-17 08:41:06</td>\n",
       "      <td>6</td>\n",
       "      <td>KSSE</td>\n",
       "      <td>Social</td>\n",
       "      <td>17/02/2023</td>\n",
       "      <td>MM Teaching Aids</td>\n",
       "      <td>Audio</td>\n",
       "      <td>Not Mentioned</td>\n",
       "    </tr>\n",
       "    <tr>\n",
       "      <th>4503</th>\n",
       "      <td>2137</td>\n",
       "      <td>KA010</td>\n",
       "      <td>rashmi.siddaramu</td>\n",
       "      <td>Rashmi</td>\n",
       "      <td>Siddaramu</td>\n",
       "      <td>rashmisrisiddarameshwara@gmail.com</td>\n",
       "      <td>Sri Sathya Sai Baba Higher Primary and High Sc...</td>\n",
       "      <td>VI KSSE Social</td>\n",
       "      <td>National Symbols and National Integration</td>\n",
       "      <td>02_Indian National Anthem.mp4</td>\n",
       "      <td>2023-02-23 16:54:55</td>\n",
       "      <td>6</td>\n",
       "      <td>KSSE</td>\n",
       "      <td>Social</td>\n",
       "      <td>23/02/2023</td>\n",
       "      <td>MM Teaching Aids</td>\n",
       "      <td>Audio</td>\n",
       "      <td>Not Mentioned</td>\n",
       "    </tr>\n",
       "    <tr>\n",
       "      <th>4521</th>\n",
       "      <td>2761</td>\n",
       "      <td>KA010</td>\n",
       "      <td>shahanaz.muskan</td>\n",
       "      <td>Shahanaz</td>\n",
       "      <td>Muskan</td>\n",
       "      <td>shahanazmuskan4@gmail.com</td>\n",
       "      <td>Sri Sathya Sai Baba Higher Primary and High Sc...</td>\n",
       "      <td>Team Refresher Course 1</td>\n",
       "      <td>SOP for Implementation and Sustenance</td>\n",
       "      <td>Form - 1.xlsx</td>\n",
       "      <td>2023-02-01 05:01:25</td>\n",
       "      <td>None</td>\n",
       "      <td>None</td>\n",
       "      <td>None</td>\n",
       "      <td>01/02/2023</td>\n",
       "      <td>MLP</td>\n",
       "      <td>Spreadsheet</td>\n",
       "      <td>Not Mentioned</td>\n",
       "    </tr>\n",
       "    <tr>\n",
       "      <th>4522</th>\n",
       "      <td>2761</td>\n",
       "      <td>KA010</td>\n",
       "      <td>shahanaz.muskan</td>\n",
       "      <td>Shahanaz</td>\n",
       "      <td>Muskan</td>\n",
       "      <td>shahanazmuskan4@gmail.com</td>\n",
       "      <td>Sri Sathya Sai Baba Higher Primary and High Sc...</td>\n",
       "      <td>Team Refresher Course 1</td>\n",
       "      <td>SOP for Implementation and Sustenance</td>\n",
       "      <td>Form - 2.xlsx</td>\n",
       "      <td>2023-02-01 05:01:25</td>\n",
       "      <td>None</td>\n",
       "      <td>None</td>\n",
       "      <td>None</td>\n",
       "      <td>01/02/2023</td>\n",
       "      <td>MLP</td>\n",
       "      <td>Spreadsheet</td>\n",
       "      <td>Not Mentioned</td>\n",
       "    </tr>\n",
       "    <tr>\n",
       "      <th>4523</th>\n",
       "      <td>2761</td>\n",
       "      <td>KA010</td>\n",
       "      <td>shahanaz.muskan</td>\n",
       "      <td>Shahanaz</td>\n",
       "      <td>Muskan</td>\n",
       "      <td>shahanazmuskan4@gmail.com</td>\n",
       "      <td>Sri Sathya Sai Baba Higher Primary and High Sc...</td>\n",
       "      <td>Team Refresher Course 1</td>\n",
       "      <td>SOP for Implementation and Sustenance</td>\n",
       "      <td>Form - 3.xlsx</td>\n",
       "      <td>2023-02-01 05:01:25</td>\n",
       "      <td>None</td>\n",
       "      <td>None</td>\n",
       "      <td>None</td>\n",
       "      <td>01/02/2023</td>\n",
       "      <td>MLP</td>\n",
       "      <td>Spreadsheet</td>\n",
       "      <td>Not Mentioned</td>\n",
       "    </tr>\n",
       "    <tr>\n",
       "      <th>4524</th>\n",
       "      <td>2761</td>\n",
       "      <td>KA010</td>\n",
       "      <td>shahanaz.muskan</td>\n",
       "      <td>Shahanaz</td>\n",
       "      <td>Muskan</td>\n",
       "      <td>shahanazmuskan4@gmail.com</td>\n",
       "      <td>Sri Sathya Sai Baba Higher Primary and High Sc...</td>\n",
       "      <td>Team Refresher Course 1</td>\n",
       "      <td>SOP for Implementation and Sustenance</td>\n",
       "      <td>Form - 4 _ 4A.xlsx</td>\n",
       "      <td>2023-02-01 05:01:25</td>\n",
       "      <td>None</td>\n",
       "      <td>None</td>\n",
       "      <td>None</td>\n",
       "      <td>01/02/2023</td>\n",
       "      <td>MLP</td>\n",
       "      <td>Spreadsheet</td>\n",
       "      <td>Not Mentioned</td>\n",
       "    </tr>\n",
       "    <tr>\n",
       "      <th>4525</th>\n",
       "      <td>2761</td>\n",
       "      <td>KA010</td>\n",
       "      <td>shahanaz.muskan</td>\n",
       "      <td>Shahanaz</td>\n",
       "      <td>Muskan</td>\n",
       "      <td>shahanazmuskan4@gmail.com</td>\n",
       "      <td>Sri Sathya Sai Baba Higher Primary and High Sc...</td>\n",
       "      <td>Team Refresher Course 1</td>\n",
       "      <td>SOP for Implementation and Sustenance</td>\n",
       "      <td>Form - 7.xlsx</td>\n",
       "      <td>2023-02-01 05:01:25</td>\n",
       "      <td>None</td>\n",
       "      <td>None</td>\n",
       "      <td>None</td>\n",
       "      <td>01/02/2023</td>\n",
       "      <td>MLP</td>\n",
       "      <td>Spreadsheet</td>\n",
       "      <td>Not Mentioned</td>\n",
       "    </tr>\n",
       "    <tr>\n",
       "      <th>4526</th>\n",
       "      <td>2761</td>\n",
       "      <td>KA010</td>\n",
       "      <td>shahanaz.muskan</td>\n",
       "      <td>Shahanaz</td>\n",
       "      <td>Muskan</td>\n",
       "      <td>shahanazmuskan4@gmail.com</td>\n",
       "      <td>Sri Sathya Sai Baba Higher Primary and High Sc...</td>\n",
       "      <td>Team Refresher Course 1</td>\n",
       "      <td>SOP for Implementation and Sustenance</td>\n",
       "      <td>Form - 8.xlsx</td>\n",
       "      <td>2023-02-01 05:01:25</td>\n",
       "      <td>None</td>\n",
       "      <td>None</td>\n",
       "      <td>None</td>\n",
       "      <td>01/02/2023</td>\n",
       "      <td>MLP</td>\n",
       "      <td>Spreadsheet</td>\n",
       "      <td>Not Mentioned</td>\n",
       "    </tr>\n",
       "    <tr>\n",
       "      <th>4527</th>\n",
       "      <td>2761</td>\n",
       "      <td>KA010</td>\n",
       "      <td>shahanaz.muskan</td>\n",
       "      <td>Shahanaz</td>\n",
       "      <td>Muskan</td>\n",
       "      <td>shahanazmuskan4@gmail.com</td>\n",
       "      <td>Sri Sathya Sai Baba Higher Primary and High Sc...</td>\n",
       "      <td>Team Refresher Course 1</td>\n",
       "      <td>SOP for Implementation and Sustenance</td>\n",
       "      <td>Form - 9.xlsx</td>\n",
       "      <td>2023-02-01 05:01:25</td>\n",
       "      <td>None</td>\n",
       "      <td>None</td>\n",
       "      <td>None</td>\n",
       "      <td>01/02/2023</td>\n",
       "      <td>MLP</td>\n",
       "      <td>Spreadsheet</td>\n",
       "      <td>Not Mentioned</td>\n",
       "    </tr>\n",
       "  </tbody>\n",
       "</table>\n",
       "</div>"
      ],
      "text/plain": [
       "        id idnumber          username    firstname   lastname  \\\n",
       "1695  2221    KA002      sashidhara_b  SHASHIDHARA          B   \n",
       "2015   119    KA006    tejaswini_naik    Tejaswini       Naik   \n",
       "3018  2135    KA007  malashree.nayyar    Malashree     Nayyar   \n",
       "3019  2135    KA007  malashree.nayyar    Malashree     Nayyar   \n",
       "3022  2135    KA007  malashree.nayyar    Malashree     Nayyar   \n",
       "3023  2135    KA007  malashree.nayyar    Malashree     Nayyar   \n",
       "3037  2135    KA007  malashree.nayyar    Malashree     Nayyar   \n",
       "3734  2507    KA007    kalpana.jadhav      Kalpana     Jadhav   \n",
       "3735  2507    KA007    kalpana.jadhav      Kalpana     Jadhav   \n",
       "3754  2507    KA007    kalpana.jadhav      Kalpana     Jadhav   \n",
       "3755  2507    KA007    kalpana.jadhav      Kalpana     Jadhav   \n",
       "3774  2507    KA007    kalpana.jadhav      Kalpana     Jadhav   \n",
       "3775  2507    KA007    kalpana.jadhav      Kalpana     Jadhav   \n",
       "3794  2507    KA007    kalpana.jadhav      Kalpana     Jadhav   \n",
       "3795  2507    KA007    kalpana.jadhav      Kalpana     Jadhav   \n",
       "3814  2507    KA007    kalpana.jadhav      Kalpana     Jadhav   \n",
       "3815  2507    KA007    kalpana.jadhav      Kalpana     Jadhav   \n",
       "3834  2507    KA007    kalpana.jadhav      Kalpana     Jadhav   \n",
       "3835  2507    KA007    kalpana.jadhav      Kalpana     Jadhav   \n",
       "3854  2507    KA007    kalpana.jadhav      Kalpana     Jadhav   \n",
       "3855  2507    KA007    kalpana.jadhav      Kalpana     Jadhav   \n",
       "4384  2121    KA010         shruthi.m      Shruthi          M   \n",
       "4385  2121    KA010         shruthi.m      Shruthi          M   \n",
       "4397  2137    KA010  rashmi.siddaramu       Rashmi  Siddaramu   \n",
       "4398  2137    KA010  rashmi.siddaramu       Rashmi  Siddaramu   \n",
       "4484  2137    KA010  rashmi.siddaramu       Rashmi  Siddaramu   \n",
       "4503  2137    KA010  rashmi.siddaramu       Rashmi  Siddaramu   \n",
       "4521  2761    KA010   shahanaz.muskan     Shahanaz     Muskan   \n",
       "4522  2761    KA010   shahanaz.muskan     Shahanaz     Muskan   \n",
       "4523  2761    KA010   shahanaz.muskan     Shahanaz     Muskan   \n",
       "4524  2761    KA010   shahanaz.muskan     Shahanaz     Muskan   \n",
       "4525  2761    KA010   shahanaz.muskan     Shahanaz     Muskan   \n",
       "4526  2761    KA010   shahanaz.muskan     Shahanaz     Muskan   \n",
       "4527  2761    KA010   shahanaz.muskan     Shahanaz     Muskan   \n",
       "\n",
       "                                   email  \\\n",
       "1695             shashidharab2@gmail.com   \n",
       "2015       tejaswinirameshnaik@gmail.com   \n",
       "3018           malashreenayyar@gmail.com   \n",
       "3019           malashreenayyar@gmail.com   \n",
       "3022           malashreenayyar@gmail.com   \n",
       "3023           malashreenayyar@gmail.com   \n",
       "3037           malashreenayyar@gmail.com   \n",
       "3734          jadhavkalpana593@gmail.com   \n",
       "3735          jadhavkalpana593@gmail.com   \n",
       "3754          jadhavkalpana593@gmail.com   \n",
       "3755          jadhavkalpana593@gmail.com   \n",
       "3774          jadhavkalpana593@gmail.com   \n",
       "3775          jadhavkalpana593@gmail.com   \n",
       "3794          jadhavkalpana593@gmail.com   \n",
       "3795          jadhavkalpana593@gmail.com   \n",
       "3814          jadhavkalpana593@gmail.com   \n",
       "3815          jadhavkalpana593@gmail.com   \n",
       "3834          jadhavkalpana593@gmail.com   \n",
       "3835          jadhavkalpana593@gmail.com   \n",
       "3854          jadhavkalpana593@gmail.com   \n",
       "3855          jadhavkalpana593@gmail.com   \n",
       "4384            shruthimahesh1@gmail.com   \n",
       "4385            shruthimahesh1@gmail.com   \n",
       "4397  rashmisrisiddarameshwara@gmail.com   \n",
       "4398  rashmisrisiddarameshwara@gmail.com   \n",
       "4484  rashmisrisiddarameshwara@gmail.com   \n",
       "4503  rashmisrisiddarameshwara@gmail.com   \n",
       "4521           shahanazmuskan4@gmail.com   \n",
       "4522           shahanazmuskan4@gmail.com   \n",
       "4523           shahanazmuskan4@gmail.com   \n",
       "4524           shahanazmuskan4@gmail.com   \n",
       "4525           shahanazmuskan4@gmail.com   \n",
       "4526           shahanazmuskan4@gmail.com   \n",
       "4527           shahanazmuskan4@gmail.com   \n",
       "\n",
       "                                            institution  \\\n",
       "1695  Sri Sathya Sai Academy of Integrated Education...   \n",
       "2015         Prashanti English Medium School, Siddapura   \n",
       "3018        Sri Sathya Sai Vidya Mandir School, Dharwad   \n",
       "3019        Sri Sathya Sai Vidya Mandir School, Dharwad   \n",
       "3022        Sri Sathya Sai Vidya Mandir School, Dharwad   \n",
       "3023        Sri Sathya Sai Vidya Mandir School, Dharwad   \n",
       "3037        Sri Sathya Sai Vidya Mandir School, Dharwad   \n",
       "3734        Sri Sathya Sai Vidya Mandir School, Dharwad   \n",
       "3735        Sri Sathya Sai Vidya Mandir School, Dharwad   \n",
       "3754        Sri Sathya Sai Vidya Mandir School, Dharwad   \n",
       "3755        Sri Sathya Sai Vidya Mandir School, Dharwad   \n",
       "3774        Sri Sathya Sai Vidya Mandir School, Dharwad   \n",
       "3775        Sri Sathya Sai Vidya Mandir School, Dharwad   \n",
       "3794        Sri Sathya Sai Vidya Mandir School, Dharwad   \n",
       "3795        Sri Sathya Sai Vidya Mandir School, Dharwad   \n",
       "3814        Sri Sathya Sai Vidya Mandir School, Dharwad   \n",
       "3815        Sri Sathya Sai Vidya Mandir School, Dharwad   \n",
       "3834        Sri Sathya Sai Vidya Mandir School, Dharwad   \n",
       "3835        Sri Sathya Sai Vidya Mandir School, Dharwad   \n",
       "3854        Sri Sathya Sai Vidya Mandir School, Dharwad   \n",
       "3855        Sri Sathya Sai Vidya Mandir School, Dharwad   \n",
       "4384  Sri Sathya Sai Baba Higher Primary and High Sc...   \n",
       "4385  Sri Sathya Sai Baba Higher Primary and High Sc...   \n",
       "4397  Sri Sathya Sai Baba Higher Primary and High Sc...   \n",
       "4398  Sri Sathya Sai Baba Higher Primary and High Sc...   \n",
       "4484  Sri Sathya Sai Baba Higher Primary and High Sc...   \n",
       "4503  Sri Sathya Sai Baba Higher Primary and High Sc...   \n",
       "4521  Sri Sathya Sai Baba Higher Primary and High Sc...   \n",
       "4522  Sri Sathya Sai Baba Higher Primary and High Sc...   \n",
       "4523  Sri Sathya Sai Baba Higher Primary and High Sc...   \n",
       "4524  Sri Sathya Sai Baba Higher Primary and High Sc...   \n",
       "4525  Sri Sathya Sai Baba Higher Primary and High Sc...   \n",
       "4526  Sri Sathya Sai Baba Higher Primary and High Sc...   \n",
       "4527  Sri Sathya Sai Baba Higher Primary and High Sc...   \n",
       "\n",
       "                    shortname                              course module  \\\n",
       "1695           VI KSSE Social  National Symbols and National Integration   \n",
       "2015             V KSSE Maths                                       Time   \n",
       "3018               V CBSE EVS                              Super Senses    \n",
       "3019               V CBSE EVS                              Super Senses    \n",
       "3022               V CBSE EVS                              Super Senses    \n",
       "3023               V CBSE EVS                              Super Senses    \n",
       "3037               V CBSE EVS                           Sunita in Space    \n",
       "3734         VIII CBSE Social                     Law and Social Justice   \n",
       "3735         VIII CBSE Social                     Law and Social Justice   \n",
       "3754         VIII CBSE Social                     Law and Social Justice   \n",
       "3755         VIII CBSE Social                     Law and Social Justice   \n",
       "3774         VIII CBSE Social                     Law and Social Justice   \n",
       "3775         VIII CBSE Social                     Law and Social Justice   \n",
       "3794         VIII CBSE Social                     Law and Social Justice   \n",
       "3795         VIII CBSE Social                     Law and Social Justice   \n",
       "3814         VIII CBSE Social                     Law and Social Justice   \n",
       "3815         VIII CBSE Social                     Law and Social Justice   \n",
       "3834         VIII CBSE Social                     Law and Social Justice   \n",
       "3835         VIII CBSE Social                     Law and Social Justice   \n",
       "3854         VIII CBSE Social                     Law and Social Justice   \n",
       "3855         VIII CBSE Social                     Law and Social Justice   \n",
       "4384              T2 - CBTE 2                     Seven Assets Deep Dive   \n",
       "4385              T2 - CBTE 2                     Seven Assets Deep Dive   \n",
       "4397           VI KSSE Social                 Asia - A Land of Contrasts   \n",
       "4398           VI KSSE Social                 Asia - A Land of Contrasts   \n",
       "4484           VI KSSE Social  National Symbols and National Integration   \n",
       "4503           VI KSSE Social  National Symbols and National Integration   \n",
       "4521  Team Refresher Course 1      SOP for Implementation and Sustenance   \n",
       "4522  Team Refresher Course 1      SOP for Implementation and Sustenance   \n",
       "4523  Team Refresher Course 1      SOP for Implementation and Sustenance   \n",
       "4524  Team Refresher Course 1      SOP for Implementation and Sustenance   \n",
       "4525  Team Refresher Course 1      SOP for Implementation and Sustenance   \n",
       "4526  Team Refresher Course 1      SOP for Implementation and Sustenance   \n",
       "4527  Team Refresher Course 1      SOP for Implementation and Sustenance   \n",
       "\n",
       "                                        file downloaded           timestamp  \\\n",
       "1695                      02_Indian National Anthem.mp4 2023-02-20 08:42:35   \n",
       "2015                                  videoplayback.mp4 2023-02-16 07:01:52   \n",
       "3018                   Sleeping position of animals.mp4 2023-02-28 01:14:03   \n",
       "3019                       sleeping sloth (720 mp4).mp4 2023-02-28 01:14:03   \n",
       "3022  Alligator Alert! American Coot seems to alert ... 2023-02-28 01:14:03   \n",
       "3023                                Bird_s eye view.mp4 2023-02-28 01:14:03   \n",
       "3037                             Phases of the Moon.mp4 2023-02-14 04:30:50   \n",
       "3734               Bancha_the Solar Kitchen Village.mp4 2023-02-01 01:20:49   \n",
       "3735                             Bhopal Gas Tragedy.mp4 2023-02-01 01:20:49   \n",
       "3754               Bancha_the Solar Kitchen Village.mp4 2023-02-01 01:28:16   \n",
       "3755                             Bhopal Gas Tragedy.mp4 2023-02-01 01:28:16   \n",
       "3774               Bancha_the Solar Kitchen Village.mp4 2023-02-01 16:57:16   \n",
       "3775                             Bhopal Gas Tragedy.mp4 2023-02-01 16:57:16   \n",
       "3794               Bancha_the Solar Kitchen Village.mp4 2023-02-04 09:05:19   \n",
       "3795                             Bhopal Gas Tragedy.mp4 2023-02-04 09:05:19   \n",
       "3814               Bancha_the Solar Kitchen Village.mp4 2023-02-04 09:05:37   \n",
       "3815                             Bhopal Gas Tragedy.mp4 2023-02-04 09:05:37   \n",
       "3834               Bancha_the Solar Kitchen Village.mp4 2023-02-04 09:05:57   \n",
       "3835                             Bhopal Gas Tragedy.mp4 2023-02-04 09:05:57   \n",
       "3854               Bancha_the Solar Kitchen Village.mp4 2023-02-19 09:41:38   \n",
       "3855                             Bhopal Gas Tragedy.mp4 2023-02-19 09:41:38   \n",
       "4384                        Seven Assets Deep-dive.pptx 2023-02-02 10:53:21   \n",
       "4385                        Seven Assets Deep-dive.pptx 2023-02-02 10:53:35   \n",
       "4397     05_Regional Divisions Follow-up worksheet.docx 2023-02-10 15:32:47   \n",
       "4398     05_Regional Divisions Follow-up worksheet.docx 2023-02-11 14:46:03   \n",
       "4484                      02_Indian National Anthem.mp4 2023-02-17 08:41:06   \n",
       "4503                      02_Indian National Anthem.mp4 2023-02-23 16:54:55   \n",
       "4521                                      Form - 1.xlsx 2023-02-01 05:01:25   \n",
       "4522                                      Form - 2.xlsx 2023-02-01 05:01:25   \n",
       "4523                                      Form - 3.xlsx 2023-02-01 05:01:25   \n",
       "4524                                 Form - 4 _ 4A.xlsx 2023-02-01 05:01:25   \n",
       "4525                                      Form - 7.xlsx 2023-02-01 05:01:25   \n",
       "4526                                      Form - 8.xlsx 2023-02-01 05:01:25   \n",
       "4527                                      Form - 9.xlsx 2023-02-01 05:01:25   \n",
       "\n",
       "     Class Board Subject        Date      Content Type File Format Type  \\\n",
       "1695     6  KSSE  Social  20/02/2023  MM Teaching Aids            Audio   \n",
       "2015     5  KSSE   Maths  16/02/2023  MM Teaching Aids            Audio   \n",
       "3018     5  CBSE     EVS  28/02/2023  MM Teaching Aids            Audio   \n",
       "3019     5  CBSE     EVS  28/02/2023  MM Teaching Aids            Audio   \n",
       "3022     5  CBSE     EVS  28/02/2023  MM Teaching Aids            Audio   \n",
       "3023     5  CBSE     EVS  28/02/2023  MM Teaching Aids            Audio   \n",
       "3037     5  CBSE     EVS  14/02/2023  MM Teaching Aids            Audio   \n",
       "3734     8  CBSE  Social  01/02/2023  MM Teaching Aids            Audio   \n",
       "3735     8  CBSE  Social  01/02/2023  MM Teaching Aids            Audio   \n",
       "3754     8  CBSE  Social  01/02/2023  MM Teaching Aids            Audio   \n",
       "3755     8  CBSE  Social  01/02/2023  MM Teaching Aids            Audio   \n",
       "3774     8  CBSE  Social  01/02/2023  MM Teaching Aids            Audio   \n",
       "3775     8  CBSE  Social  01/02/2023  MM Teaching Aids            Audio   \n",
       "3794     8  CBSE  Social  04/02/2023  MM Teaching Aids            Audio   \n",
       "3795     8  CBSE  Social  04/02/2023  MM Teaching Aids            Audio   \n",
       "3814     8  CBSE  Social  04/02/2023  MM Teaching Aids            Audio   \n",
       "3815     8  CBSE  Social  04/02/2023  MM Teaching Aids            Audio   \n",
       "3834     8  CBSE  Social  04/02/2023  MM Teaching Aids            Audio   \n",
       "3835     8  CBSE  Social  04/02/2023  MM Teaching Aids            Audio   \n",
       "3854     8  CBSE  Social  19/02/2023  MM Teaching Aids            Audio   \n",
       "3855     8  CBSE  Social  19/02/2023  MM Teaching Aids            Audio   \n",
       "4384  None  None    None  02/02/2023  MM Teaching Aids        PPT slide   \n",
       "4385  None  None    None  02/02/2023  MM Teaching Aids        PPT slide   \n",
       "4397     6  KSSE  Social  10/02/2023     Learning Aids    Word document   \n",
       "4398     6  KSSE  Social  11/02/2023     Learning Aids    Word document   \n",
       "4484     6  KSSE  Social  17/02/2023  MM Teaching Aids            Audio   \n",
       "4503     6  KSSE  Social  23/02/2023  MM Teaching Aids            Audio   \n",
       "4521  None  None    None  01/02/2023               MLP      Spreadsheet   \n",
       "4522  None  None    None  01/02/2023               MLP      Spreadsheet   \n",
       "4523  None  None    None  01/02/2023               MLP      Spreadsheet   \n",
       "4524  None  None    None  01/02/2023               MLP      Spreadsheet   \n",
       "4525  None  None    None  01/02/2023               MLP      Spreadsheet   \n",
       "4526  None  None    None  01/02/2023               MLP      Spreadsheet   \n",
       "4527  None  None    None  01/02/2023               MLP      Spreadsheet   \n",
       "\n",
       "         Asset Type  \n",
       "1695  Not Mentioned  \n",
       "2015  Not Mentioned  \n",
       "3018  Not Mentioned  \n",
       "3019  Not Mentioned  \n",
       "3022  Not Mentioned  \n",
       "3023  Not Mentioned  \n",
       "3037  Not Mentioned  \n",
       "3734  Not Mentioned  \n",
       "3735  Not Mentioned  \n",
       "3754  Not Mentioned  \n",
       "3755  Not Mentioned  \n",
       "3774  Not Mentioned  \n",
       "3775  Not Mentioned  \n",
       "3794  Not Mentioned  \n",
       "3795  Not Mentioned  \n",
       "3814  Not Mentioned  \n",
       "3815  Not Mentioned  \n",
       "3834  Not Mentioned  \n",
       "3835  Not Mentioned  \n",
       "3854  Not Mentioned  \n",
       "3855  Not Mentioned  \n",
       "4384  Not Mentioned  \n",
       "4385  Not Mentioned  \n",
       "4397  Not Mentioned  \n",
       "4398  Not Mentioned  \n",
       "4484  Not Mentioned  \n",
       "4503  Not Mentioned  \n",
       "4521  Not Mentioned  \n",
       "4522  Not Mentioned  \n",
       "4523  Not Mentioned  \n",
       "4524  Not Mentioned  \n",
       "4525  Not Mentioned  \n",
       "4526  Not Mentioned  \n",
       "4527  Not Mentioned  "
      ]
     },
     "execution_count": 142,
     "metadata": {},
     "output_type": "execute_result"
    }
   ],
   "source": [
    "current_downloads_files_check[current_downloads_files_check['Asset Type']=='Not Mentioned']"
   ]
  },
  {
   "cell_type": "markdown",
   "id": "5598a6e4",
   "metadata": {},
   "source": [
    "### Clean file downloaded column"
   ]
  },
  {
   "cell_type": "code",
   "execution_count": 143,
   "id": "4e5cb689",
   "metadata": {},
   "outputs": [
    {
     "name": "stdout",
     "output_type": "stream",
     "text": [
      "VII - The Roman Empire -> I - The Roman Empire\n",
      "IV - The Dark Ages -> - The Dark Ages\n",
      "V - The Renaissance -> - The Renaissance\n",
      "I - The Origins of Civilization -> I - The Origins of Civilization\n",
      "IX - The Age of Exploration -> - The Age of Exploration\n",
      "X - The Modern World -> - The Modern World\n",
      "Introduction -> Introduction\n",
      "Vijaynagar Empire -> Vijaynagar Empire\n",
      "CCDP English Language Arts -> Language Arts\n",
      "SA History and Culture -> History and Culture\n",
      "Class X Mathematics - Chapter 1 -> - 1\n",
      "CBSE Class IX Physics - Chapter 3 -> Physics - 3\n",
      "KSSE Biology - Grade 9 -> Biology - 9\n",
      "STD X English Grammar -> STD Grammar\n",
      "5 Digit Numbers -> 5 Digit Numbers\n",
      "CCDP KSSE Mathematics STD V 5-Digit Numbers -> 5-Digit Numbers\n",
      "Grade 5 Science -> 5 Science\n",
      "A snake charmer&#039;s story -> A snake charmer&#039;s story\n",
      "Multiplication 2 -> Multiplication 2\n",
      "Hu Tu Tu Hu Tu Tu -> Hu Tu Tu Hu Tu Tu\n",
      "CCDP KSSE Social Science STD VIII Atmosphere -> Atmosphere\n",
      "03 QA Testing Usage of Nouns Worksheet. -> Testing Usage of Nouns Worksheet\n",
      "CCDP KSSE Mathematics STD VIII Cube and Cube Roots -> Cube and Cube Roots\n",
      "Herons Formula -> Herons Formula\n",
      "CCDP KSSE Mathematics STD IX Herons Formula -> Herons Formula\n",
      "A day in the garden -> A day in the garden\n",
      "Honey sweet honey -> Honey sweet honey\n",
      "Atmosphere -> Atmosphere\n",
      "CCDP KSSE Social Science STD VIII Atmosphere -> Atmosphere\n",
      "Comprehension -> Comprehension\n",
      "01 SA Picture Comprehension -> Picture Comprehension\n",
      "Tenses -> Tenses\n",
      "CCDP KSSE English STD III Tenses -> Tenses\n",
      "Prepositions -> Prepositions\n",
      "CCDP KSSE English STD IV Prepositions -> Prepositions\n",
      "Genders -> Genders\n",
      "I need these -> I need these\n"
     ]
    }
   ],
   "source": [
    "import re\n",
    "\n",
    "def clean_title(title):\n",
    "    # remove leading digits, two-letter asset code, board, subject, class in roman letters, STD\n",
    "    title = re.sub(r'(CCDP\\s|SA\\s|MS\\s|QA\\s|DD\\s|CBSE\\s|KSSE\\s|APSE\\s|Mathematics\\s|EVS\\s|Science\\s|Social Science\\s|English\\s|Class\\s|Grade\\s|Chapter\\s|\\d{2}\\s[A-Z]{2}\\s|STD\\sI\\s|II|STD\\sII\\s|STD\\sIII\\s|III|STD\\sIV\\s|IV|STD\\sV\\s|V\\s|STD\\sVI\\s|VI|STD\\sVII\\s|VII|STD\\sVIII\\s|VIII|STD\\sIX\\s|IX|X\\s)', '', title)\n",
    "    #title = re.sub(r'(CCDP\\s|SA\\s|MS\\s|QA\\s|DD\\s|CBSE\\s|KSSE\\s|APSE\\s|Mathematics\\s|EVS\\s|Science\\s|Social Science\\s|English\\s|Class\\s|Grade\\s|Chapter\\s|\\d{2}\\s[A-Z]{2}\\s|STD\\sI\\s|[VI]\\s|[-]\\s|II|STD\\sII\\s|STD\\sIII\\s|III|STD\\sIV\\s|IV\\s|STD\\sV\\s|V\\s|STD\\sVI\\s|VI|STD\\sVII\\s|VII|STD\\sVIII\\s|VIII|STD\\sIX\\s|IX\\s|X\\s|STD\\s|[''%&#;]|\\d{3})', '', title)\n",
    "    title = re.sub(r'([\\d]+_[A-Z{2}]+_*|[A-Z{2}]+_|.pdf|.pptx|.ppt|.docx|.xlsx|.mp4|.mp3)', '', title)\n",
    "\n",
    "    \n",
    "    # remove trailing hyphens, spaces, and periods\n",
    "    title = re.sub(r'[-.\\s]*$', '', title)\n",
    "    title = re.sub(r'^\\s+ \\s$', '', title)\n",
    "    title = re.sub(r'^\\s+ ', '', title)\n",
    "\n",
    "    return title.strip()\n",
    "\n",
    "# test the function with some sample inputs\n",
    "titles = [\n",
    "    'VII - The Roman Empire',\n",
    "    'IV - The Dark Ages',\n",
    "    'V - The Renaissance',\n",
    "    'I - The Origins of Civilization',\n",
    "    'IX - The Age of Exploration',\n",
    "    'X - The Modern World',\n",
    "    'Introduction','Vijaynagar Empire',\n",
    "    'CCDP English Language Arts',\n",
    "    'SA History and Culture',\n",
    "    'Class X Mathematics - Chapter 1',\n",
    "    'CBSE Class IX Physics - Chapter 3',\n",
    "    'KSSE Biology - Grade 9',\n",
    "    'STD X English Grammar',\n",
    "    '5 Digit Numbers','CCDP KSSE Mathematics STD V 5-Digit Numbers',\n",
    "    'Grade 5 Science',\n",
    "    'A snake charmer&#039;s story',\n",
    "    'Multiplication 2',\n",
    "    'Hu Tu Tu Hu Tu Tu',\n",
    "    'CCDP KSSE Social Science STD VIII Atmosphere',\n",
    "    '03 QA Testing Usage of Nouns Worksheet.',\n",
    "    'CCDP KSSE Mathematics STD VIII Cube and Cube Roots',\n",
    "    'Herons Formula',\n",
    "    'CCDP KSSE Mathematics STD IX Herons Formula',\n",
    "    'A day in the garden',\n",
    "    'Honey sweet honey',\n",
    "    'Atmosphere',\n",
    "    'CCDP KSSE Social Science STD VIII Atmosphere',\n",
    "    'Comprehension',\n",
    "    '01 SA Picture Comprehension',\n",
    "    'Tenses',\n",
    "    'CCDP KSSE English STD III Tenses',\n",
    "    'Prepositions',\n",
    "    'CCDP KSSE English STD IV Prepositions',\n",
    "    'Genders','I need these'\n",
    "\n",
    "]\n",
    "\n",
    "for title in titles:\n",
    "    print(f\"{title} -> {clean_title(title)}\")\n"
   ]
  },
  {
   "cell_type": "code",
   "execution_count": 144,
   "id": "c2d1b49a",
   "metadata": {},
   "outputs": [
    {
     "data": {
      "text/plain": [
       "Algebraic Expressions                18\n",
       "Punctuation                          14\n",
       "Bhopal Gas Tragedy                   14\n",
       "Glory of Vijayanagara                12\n",
       "Smart Chart                          12\n",
       "                                     ..\n",
       "Counting and Presenting Data          1\n",
       "Indian Currency - Notes and Coins     1\n",
       "Mock market experience                1\n",
       "Save Money                            1\n",
       "Mangroves                             1\n",
       "Name: File name, Length: 2025, dtype: int64"
      ]
     },
     "execution_count": 144,
     "metadata": {},
     "output_type": "execute_result"
    }
   ],
   "source": [
    "import re\n",
    "\n",
    "def clean_title(title):\n",
    "    # remove leading digits, two-letter asset code, board, subject, class in roman letters, STD\n",
    "    title = re.sub(r'(CCDP\\s|SA\\s|MS\\s|QA\\s|DD\\s|SA\\s|VC\\s|IQ\\s|IA\\s|CBSE\\s|KSSE\\s|APSE\\s|Mathematics\\s|EVS\\s|Science\\s|Social Science\\s|English\\s|Class\\s|Grade\\s|Chapter\\s|\\d{2}\\s[A-Z]{2}\\s|STD\\sI\\s|II|STD\\sII\\s|STD\\sIII\\s|III|STD\\sIV\\s|IV|STD\\sV\\s|V\\s|STD\\sVI\\s|VI|STD\\sVII\\s|VII|STD\\sVIII\\s|VIII|STD\\sIX\\s|IX|X\\s)', '', title)\n",
    "    title = re.sub(r'([\\d]+_[A-Z{2}]+_*|[A-Z{2}]+_|.pdf|.pptx|.ppt|.docx|.xlsx|.mp4|.mp3)', '', title)\n",
    "\n",
    "    #title = re.sub(r'(CCDP\\s|SA\\s|MS\\s|QA\\s|DD\\s|CBSE\\s|KSSE\\s|APSE\\s|Mathematics\\s|EVS\\s|Science\\s|Social Science\\s|English\\s|Class\\s|Grade\\s|Chapter\\s|\\d{2}\\s[A-Z]{2}\\s|STD\\sI\\s|[VI]\\s|[-]\\s|II|STD\\sII\\s|STD\\sIII\\s|III|STD\\sIV\\s|IV\\s|STD\\sV\\s|V\\s|STD\\sVI\\s|VI|STD\\sVII\\s|VII|STD\\sVIII\\s|VIII|STD\\sIX\\s|IX\\s|X\\s|STD\\s|[''%&#;]|\\d{3})', '', title)\n",
    "    \n",
    "    # remove trailing hyphens, spaces, and periods\n",
    "    title = re.sub(r'[-.\\s]*$', '', title)\n",
    "    title = re.sub(r'^\\s+ \\s$', '', title)\n",
    "    title = re.sub(r'^\\s+ ', '', title)\n",
    "\n",
    "    return title.strip()\n",
    "\n",
    "\n",
    "# replace underscore with space in the 'file downloaded' column\n",
    "current_downloads_files_check['File name'] = current_downloads_files_check['file downloaded'].str.replace('_', ' ')\n",
    "\n",
    "#Apply the clean_text function to the 'resource viewed' column of the 'resource_check' dataframe \n",
    "\n",
    "current_downloads_files_check['File name'] = current_downloads_files_check['file downloaded'].apply(clean_title)\n",
    "\n",
    "current_downloads_files_check['File name'].value_counts() \n",
    "#print(resource_check)"
   ]
  },
  {
   "cell_type": "code",
   "execution_count": null,
   "id": "2e1fa7ea",
   "metadata": {},
   "outputs": [],
   "source": []
  },
  {
   "cell_type": "markdown",
   "id": "3b71fe29",
   "metadata": {},
   "source": [
    "### Correct Spelling"
   ]
  },
  {
   "cell_type": "markdown",
   "id": "c9d5aa53",
   "metadata": {},
   "source": [
    "from spellchecker import SpellChecker\n",
    "import re\n",
    "\n",
    "#Initialize spell checker\n",
    "spell = SpellChecker()\n",
    "\n",
    "#Define a function to correct spelling mistakes in a string\n",
    "def correct_spelling(text):\n",
    "    # Split the text into words\n",
    "    words = re.findall(r'\\b\\w+\\b', text)\n",
    "    \n",
    "    # Find and correct misspelled words\n",
    "    corrected_words = []\n",
    "    for word in words:\n",
    "        corrected_word = spell.correction(word.lower())\n",
    "        if corrected_word is not None:\n",
    "            corrected_words.append(corrected_word)\n",
    "        else:\n",
    "            corrected_words.append(word)\n",
    "    \n",
    "    #Join the corrected words back into a single string\n",
    "    return \" \".join(corrected_words)\n",
    "\n",
    "#Apply correct_spelling() function to 'chapter name' column\n",
    "#feedback_check['spelling check'] = feedback_check['chapter name'].apply(correct_spelling)\n",
    "\n",
    "#test the function with some sample inputs\n",
    "titles = [\n",
    "    'Stars and the solar system',\n",
    "    'My Neighbourhood',\n",
    "    'vijayanagara empire',\n",
    "    'Multiplication 2',\n",
    "    'Hu Tu Tu Hu Tu Tu',\n",
    "    'CCDP KSSE Social Science STD VIII Atmosphere',\n",
    "    '03 QA Testing Usage of Nouns Worksheet.',\n",
    "    'CCDP KSSE Social Science STD IX Our Constitution',\n",
    "    'India Political and Cultural',\n",
    "    'introduction to graph',\n",
    "    'exponents powers',\n",
    "    'Introduction','linear equations in two variables',\n",
    "    'Abdul in the Garden',\n",
    "    'numbers 1 t0 20',\n",
    "    'Eating Togerher','Reprosuction in Animals',\n",
    "    'A snake charmer&#039;s story','how many ponytails?'\n",
    "    \n",
    "]\n",
    "\n",
    "for title in titles:\n",
    "    print(f\"{title} -> {correct_spelling(title)}\")"
   ]
  },
  {
   "cell_type": "markdown",
   "id": "50663c24",
   "metadata": {},
   "source": [
    "### Capitalize first letter"
   ]
  },
  {
   "cell_type": "markdown",
   "id": "a148f5db",
   "metadata": {},
   "source": [
    "import re\n",
    "\n",
    "def clean_chapter_name(chapter_name):\n",
    "    # Exclude special characters and digits\n",
    "    chapter_name = re.sub(r\"(['%&#;]|\\d{3})\", \"\", chapter_name)\n",
    "    \n",
    "    # Capitalize first letters of each word\n",
    "    words = chapter_name.split()\n",
    "    for i, word in enumerate(words):\n",
    "        if word.lower() not in ['in', 'the', 'to', 'on', 'at', 'into', 'and']:\n",
    "            words[i] = word.title()\n",
    "    return \" \".join(words)\n",
    "\n",
    "#test the function with some sample inputs\n",
    "titles = [\n",
    "   'Stars and the solar system',\n",
    "    'My Neighbourhood',\n",
    "    'vijayanagara empire',\n",
    "    'Multiplication 2',\n",
    "    'Hu Tu Tu Hu Tu Tu',\n",
    "    'CCDP KSSE Social Science STD VIII Atmosphere',\n",
    "    '03 QA Testing Usage of Nouns Worksheet.',\n",
    "    'CCDP KSSE Social Science STD IX Our Constitution',\n",
    "    'India Political and Cultural',\n",
    "    'introduction to graph',\n",
    "    'exponents powers',\n",
    "    'Introduction','linear equations in two variables',\n",
    "    'Abdul in the Garden',\n",
    "    'numbers 1 t0 20',\n",
    "    'Eating Togerher','Reprosuction in Animals',\n",
    "    'A snake charmer&#039;s story','how many ponytails?'\n",
    "    \n",
    "]\n",
    "\n",
    "for title in titles:\n",
    "    print(f\"{title} -> {clean_chapter_name(title)}\")\n",
    "\n"
   ]
  },
  {
   "cell_type": "code",
   "execution_count": null,
   "id": "0d1b239c",
   "metadata": {},
   "outputs": [],
   "source": []
  },
  {
   "cell_type": "code",
   "execution_count": 145,
   "id": "fcac3701",
   "metadata": {},
   "outputs": [],
   "source": [
    "#Save the cleaned dataframe to an excel file\n",
    "current_downloads_files_check.to_excel(r\"D:\\Side Hustles\\SSSVV activities\\SRC - Karnataka\\Monthly Reports\\downloads_check.xlsx\", index=False)"
   ]
  },
  {
   "cell_type": "code",
   "execution_count": null,
   "id": "30fbfbe2",
   "metadata": {},
   "outputs": [],
   "source": []
  },
  {
   "cell_type": "code",
   "execution_count": 146,
   "id": "fdde725c",
   "metadata": {},
   "outputs": [],
   "source": [
    "current_downloads_cleaned = current_downloads_files_check.copy()"
   ]
  },
  {
   "cell_type": "code",
   "execution_count": 147,
   "id": "d7e507b3",
   "metadata": {},
   "outputs": [],
   "source": [
    "# Rename the file with the current month and year\n",
    "new_downloads_ = f'Downloads_{previous.month}_{previous.year}.xlsx'"
   ]
  },
  {
   "cell_type": "code",
   "execution_count": 148,
   "id": "af1e6f4c",
   "metadata": {},
   "outputs": [],
   "source": [
    "#Set the new file path\n",
    "new_path = os.path.join(r'D:\\Side Hustles\\SSSVV activities\\SRC - Karnataka\\Monthly Reports\\Downloads', new_downloads_)\n",
    "\n",
    "#Save the dataframe to the new file path\n",
    "current_downloads_cleaned.to_excel(new_path, index=False)"
   ]
  },
  {
   "cell_type": "code",
   "execution_count": null,
   "id": "5bf34711",
   "metadata": {},
   "outputs": [],
   "source": []
  },
  {
   "cell_type": "markdown",
   "id": "3c4f064f",
   "metadata": {},
   "source": [
    "# Master Folders"
   ]
  },
  {
   "cell_type": "markdown",
   "id": "28f65cb0",
   "metadata": {},
   "source": [
    "## Current Users List"
   ]
  },
  {
   "cell_type": "code",
   "execution_count": 149,
   "id": "207ce366",
   "metadata": {},
   "outputs": [
    {
     "data": {
      "text/plain": [
       "'D:\\\\Side Hustles\\\\SSSVV activities\\\\SRC - Karnataka\\\\Current_month_data\\\\Input'"
      ]
     },
     "execution_count": 149,
     "metadata": {},
     "output_type": "execute_result"
    }
   ],
   "source": [
    "# Set the directory where the Excel file is located\n",
    "# Set the old file path\n",
    "reporting_month_directory_path = r'D:\\Side Hustles\\SSSVV activities\\SRC - Karnataka\\Current_month_data\\Input'\n",
    "\n",
    "#Shift directory to current_month_path\n",
    "os.chdir(reporting_month_directory_path)\n",
    "os.getcwd()"
   ]
  },
  {
   "cell_type": "code",
   "execution_count": 357,
   "id": "b584f038",
   "metadata": {},
   "outputs": [
    {
     "data": {
      "text/html": [
       "<div>\n",
       "<style scoped>\n",
       "    .dataframe tbody tr th:only-of-type {\n",
       "        vertical-align: middle;\n",
       "    }\n",
       "\n",
       "    .dataframe tbody tr th {\n",
       "        vertical-align: top;\n",
       "    }\n",
       "\n",
       "    .dataframe thead th {\n",
       "        text-align: right;\n",
       "    }\n",
       "</style>\n",
       "<table border=\"1\" class=\"dataframe\">\n",
       "  <thead>\n",
       "    <tr style=\"text-align: right;\">\n",
       "      <th></th>\n",
       "      <th>id</th>\n",
       "      <th>idnumber</th>\n",
       "      <th>username</th>\n",
       "      <th>firstname</th>\n",
       "      <th>lastname</th>\n",
       "      <th>email</th>\n",
       "      <th>institution</th>\n",
       "      <th>last accessed</th>\n",
       "    </tr>\n",
       "  </thead>\n",
       "  <tbody>\n",
       "    <tr>\n",
       "      <th>0</th>\n",
       "      <td>95</td>\n",
       "      <td>KA000</td>\n",
       "      <td>nanda_t</td>\n",
       "      <td>Nanda</td>\n",
       "      <td>Tirumala</td>\n",
       "      <td>tirumalanandaa@gmail.com</td>\n",
       "      <td>SSSVV KA Volunteer</td>\n",
       "      <td>2022-01-19</td>\n",
       "    </tr>\n",
       "    <tr>\n",
       "      <th>1</th>\n",
       "      <td>139</td>\n",
       "      <td>KA000</td>\n",
       "      <td>sandhya_u</td>\n",
       "      <td>Sandhya</td>\n",
       "      <td>Uchil</td>\n",
       "      <td>uchil.sandhya@gmail.com</td>\n",
       "      <td>SSSVV KA Volunteer, Trainer, Mentor</td>\n",
       "      <td>2021-05-25</td>\n",
       "    </tr>\n",
       "    <tr>\n",
       "      <th>2</th>\n",
       "      <td>1565</td>\n",
       "      <td>KA000</td>\n",
       "      <td>preethi_somaiah</td>\n",
       "      <td>Preethi</td>\n",
       "      <td>Somaiah</td>\n",
       "      <td>preethisomaiah24@gmail.com</td>\n",
       "      <td>SSSVV KA Volunteer</td>\n",
       "      <td>2021-09-23</td>\n",
       "    </tr>\n",
       "    <tr>\n",
       "      <th>3</th>\n",
       "      <td>1570</td>\n",
       "      <td>KA000</td>\n",
       "      <td>saraswati.bantwal</td>\n",
       "      <td>Saraswathi</td>\n",
       "      <td>Bantwal</td>\n",
       "      <td>saraswathi.sai2311@gmail.com</td>\n",
       "      <td>SSSVV KA Volunteer</td>\n",
       "      <td>2023-02-23</td>\n",
       "    </tr>\n",
       "    <tr>\n",
       "      <th>4</th>\n",
       "      <td>1571</td>\n",
       "      <td>KA000</td>\n",
       "      <td>madhavi_chillara</td>\n",
       "      <td>Madhavi</td>\n",
       "      <td>Chillara</td>\n",
       "      <td>smadhavichillara@gmail.com</td>\n",
       "      <td>SSSVV KA Volunteer</td>\n",
       "      <td>2023-02-07</td>\n",
       "    </tr>\n",
       "  </tbody>\n",
       "</table>\n",
       "</div>"
      ],
      "text/plain": [
       "     id idnumber           username   firstname  lastname  \\\n",
       "0    95    KA000            nanda_t       Nanda  Tirumala   \n",
       "1   139    KA000          sandhya_u     Sandhya     Uchil   \n",
       "2  1565    KA000    preethi_somaiah     Preethi   Somaiah   \n",
       "3  1570    KA000  saraswati.bantwal  Saraswathi   Bantwal   \n",
       "4  1571    KA000   madhavi_chillara     Madhavi  Chillara   \n",
       "\n",
       "                          email                          institution  \\\n",
       "0      tirumalanandaa@gmail.com                   SSSVV KA Volunteer   \n",
       "1       uchil.sandhya@gmail.com  SSSVV KA Volunteer, Trainer, Mentor   \n",
       "2    preethisomaiah24@gmail.com                   SSSVV KA Volunteer   \n",
       "3  saraswathi.sai2311@gmail.com                   SSSVV KA Volunteer   \n",
       "4    smadhavichillara@gmail.com                   SSSVV KA Volunteer   \n",
       "\n",
       "  last accessed  \n",
       "0    2022-01-19  \n",
       "1    2021-05-25  \n",
       "2    2021-09-23  \n",
       "3    2023-02-23  \n",
       "4    2023-02-07  "
      ]
     },
     "execution_count": 357,
     "metadata": {},
     "output_type": "execute_result"
    }
   ],
   "source": [
    "current_users_list.head()"
   ]
  },
  {
   "cell_type": "code",
   "execution_count": 151,
   "id": "c3fa2fcf",
   "metadata": {},
   "outputs": [
    {
     "data": {
      "text/plain": [
       "(194, 8)"
      ]
     },
     "execution_count": 151,
     "metadata": {},
     "output_type": "execute_result"
    }
   ],
   "source": [
    "current_users_list.shape"
   ]
  },
  {
   "cell_type": "code",
   "execution_count": 152,
   "id": "c5ba86d9",
   "metadata": {},
   "outputs": [
    {
     "data": {
      "application/vnd.jupyter.widget-view+json": {
       "model_id": "703dd1eacd3e498e92a666154879dbf7",
       "version_major": 2,
       "version_minor": 0
      },
      "text/plain": [
       "Summarize dataset:   0%|          | 0/5 [00:00<?, ?it/s]"
      ]
     },
     "metadata": {},
     "output_type": "display_data"
    },
    {
     "data": {
      "application/vnd.jupyter.widget-view+json": {
       "model_id": "d94275751d154253984995aeb7a48d03",
       "version_major": 2,
       "version_minor": 0
      },
      "text/plain": [
       "Generate report structure:   0%|          | 0/1 [00:00<?, ?it/s]"
      ]
     },
     "metadata": {},
     "output_type": "display_data"
    },
    {
     "data": {
      "application/vnd.jupyter.widget-view+json": {
       "model_id": "6890d52ed2de41e2be4c91a035af2e5e",
       "version_major": 2,
       "version_minor": 0
      },
      "text/plain": [
       "Render HTML:   0%|          | 0/1 [00:00<?, ?it/s]"
      ]
     },
     "metadata": {},
     "output_type": "display_data"
    },
    {
     "data": {
      "application/vnd.jupyter.widget-view+json": {
       "model_id": "f30e5de011cc42008499bad6427852fb",
       "version_major": 2,
       "version_minor": 0
      },
      "text/plain": [
       "Export report to file:   0%|          | 0/1 [00:00<?, ?it/s]"
      ]
     },
     "metadata": {},
     "output_type": "display_data"
    }
   ],
   "source": [
    "import ydata_profiling\n",
    "from ydata_profiling import ProfileReport\n",
    "\n",
    "profile = ProfileReport(current_users_list, title='Users List')\n",
    "profile.to_file('Users List.html')"
   ]
  },
  {
   "cell_type": "code",
   "execution_count": 153,
   "id": "7655b791",
   "metadata": {},
   "outputs": [],
   "source": [
    "#Input Corrections needed\n",
    "\n",
    "#General Check for any new inconsistency\n",
    "#change school name\n",
    "#Clean Date Column"
   ]
  },
  {
   "cell_type": "markdown",
   "id": "8fbdff46",
   "metadata": {},
   "source": [
    "### 1. General Check for any new inconsistency"
   ]
  },
  {
   "cell_type": "code",
   "execution_count": 154,
   "id": "ad060c91",
   "metadata": {},
   "outputs": [
    {
     "data": {
      "text/plain": [
       "(194, 8)"
      ]
     },
     "execution_count": 154,
     "metadata": {},
     "output_type": "execute_result"
    }
   ],
   "source": [
    "current_users_list.shape"
   ]
  },
  {
   "cell_type": "code",
   "execution_count": 155,
   "id": "0c689af6",
   "metadata": {},
   "outputs": [
    {
     "data": {
      "text/plain": [
       "Index(['id', 'idnumber', 'username', 'firstname', 'lastname', 'email',\n",
       "       'institution', 'last accessed'],\n",
       "      dtype='object')"
      ]
     },
     "execution_count": 155,
     "metadata": {},
     "output_type": "execute_result"
    }
   ],
   "source": [
    "current_users_list.columns"
   ]
  },
  {
   "cell_type": "code",
   "execution_count": 156,
   "id": "7862504f",
   "metadata": {},
   "outputs": [
    {
     "data": {
      "text/plain": [
       "id                int64\n",
       "idnumber         object\n",
       "username         object\n",
       "firstname        object\n",
       "lastname         object\n",
       "email            object\n",
       "institution      object\n",
       "last accessed    object\n",
       "dtype: object"
      ]
     },
     "execution_count": 156,
     "metadata": {},
     "output_type": "execute_result"
    }
   ],
   "source": [
    "current_users_list.dtypes"
   ]
  },
  {
   "cell_type": "code",
   "execution_count": 157,
   "id": "774ed480",
   "metadata": {},
   "outputs": [
    {
     "data": {
      "text/plain": [
       "id               0\n",
       "idnumber         0\n",
       "username         0\n",
       "firstname        0\n",
       "lastname         0\n",
       "email            0\n",
       "institution      1\n",
       "last accessed    0\n",
       "dtype: int64"
      ]
     },
     "execution_count": 157,
     "metadata": {},
     "output_type": "execute_result"
    }
   ],
   "source": [
    "current_users_list.isnull().sum()"
   ]
  },
  {
   "cell_type": "code",
   "execution_count": 158,
   "id": "22d97422",
   "metadata": {},
   "outputs": [
    {
     "data": {
      "text/html": [
       "<div>\n",
       "<style scoped>\n",
       "    .dataframe tbody tr th:only-of-type {\n",
       "        vertical-align: middle;\n",
       "    }\n",
       "\n",
       "    .dataframe tbody tr th {\n",
       "        vertical-align: top;\n",
       "    }\n",
       "\n",
       "    .dataframe thead th {\n",
       "        text-align: right;\n",
       "    }\n",
       "</style>\n",
       "<table border=\"1\" class=\"dataframe\">\n",
       "  <thead>\n",
       "    <tr style=\"text-align: right;\">\n",
       "      <th></th>\n",
       "      <th>idnumber</th>\n",
       "      <th>username</th>\n",
       "      <th>firstname</th>\n",
       "      <th>lastname</th>\n",
       "      <th>email</th>\n",
       "      <th>institution</th>\n",
       "      <th>last accessed</th>\n",
       "    </tr>\n",
       "  </thead>\n",
       "  <tbody>\n",
       "    <tr>\n",
       "      <th>count</th>\n",
       "      <td>194</td>\n",
       "      <td>194</td>\n",
       "      <td>194</td>\n",
       "      <td>194</td>\n",
       "      <td>194</td>\n",
       "      <td>193</td>\n",
       "      <td>194</td>\n",
       "    </tr>\n",
       "    <tr>\n",
       "      <th>unique</th>\n",
       "      <td>12</td>\n",
       "      <td>194</td>\n",
       "      <td>175</td>\n",
       "      <td>129</td>\n",
       "      <td>194</td>\n",
       "      <td>21</td>\n",
       "      <td>106</td>\n",
       "    </tr>\n",
       "    <tr>\n",
       "      <th>top</th>\n",
       "      <td>KA002</td>\n",
       "      <td>nanda_t</td>\n",
       "      <td>Sowmya</td>\n",
       "      <td>B</td>\n",
       "      <td>tirumalanandaa@gmail.com</td>\n",
       "      <td>Prashanthi Vidya Kendra, Bayar, Kasaragod</td>\n",
       "      <td>never</td>\n",
       "    </tr>\n",
       "    <tr>\n",
       "      <th>freq</th>\n",
       "      <td>37</td>\n",
       "      <td>1</td>\n",
       "      <td>3</td>\n",
       "      <td>15</td>\n",
       "      <td>1</td>\n",
       "      <td>27</td>\n",
       "      <td>15</td>\n",
       "    </tr>\n",
       "  </tbody>\n",
       "</table>\n",
       "</div>"
      ],
      "text/plain": [
       "       idnumber username firstname lastname                     email  \\\n",
       "count       194      194       194      194                       194   \n",
       "unique       12      194       175      129                       194   \n",
       "top       KA002  nanda_t    Sowmya        B  tirumalanandaa@gmail.com   \n",
       "freq         37        1         3       15                         1   \n",
       "\n",
       "                                      institution last accessed  \n",
       "count                                         193           194  \n",
       "unique                                         21           106  \n",
       "top     Prashanthi Vidya Kendra, Bayar, Kasaragod         never  \n",
       "freq                                           27            15  "
      ]
     },
     "execution_count": 158,
     "metadata": {},
     "output_type": "execute_result"
    }
   ],
   "source": [
    "current_users_list.describe(include=['O'])"
   ]
  },
  {
   "cell_type": "code",
   "execution_count": 159,
   "id": "3c8757a4",
   "metadata": {},
   "outputs": [],
   "source": [
    "#Note: No cleaning required in Date column"
   ]
  },
  {
   "cell_type": "markdown",
   "id": "dedd27fc",
   "metadata": {},
   "source": [
    "## Add & Clean Date Column"
   ]
  },
  {
   "cell_type": "code",
   "execution_count": 358,
   "id": "0df85d40",
   "metadata": {},
   "outputs": [],
   "source": [
    "current_users_date_check = current_users_list.copy()"
   ]
  },
  {
   "cell_type": "code",
   "execution_count": null,
   "id": "9d707439",
   "metadata": {},
   "outputs": [],
   "source": []
  },
  {
   "cell_type": "code",
   "execution_count": 366,
   "id": "fd428ac0",
   "metadata": {},
   "outputs": [],
   "source": [
    "import pandas as pd\n",
    "import numpy as np\n",
    "import datetime\n",
    "\n",
    "def add_date_column(df):\n",
    "    if 'last accessed' in df.columns:\n",
    "        df['last accessed'] = df['last accessed'].replace('never', np.nan) # replace 'never' with NaN\n",
    "        df['last accessed'] = pd.to_datetime(df['last accessed'])\n",
    "        df['Date'] = df['last accessed'].apply(lambda x: datetime.datetime.strptime(str(x.date()), '%Y-%m-%d').strftime('%d/%m/%Y') if not pd.isna(x) else '')\n",
    "    else:\n",
    "        print(\"Error: dataframe does not contain 'last accessed' column\")\n"
   ]
  },
  {
   "cell_type": "code",
   "execution_count": 367,
   "id": "1fc0f8f1",
   "metadata": {},
   "outputs": [
    {
     "data": {
      "text/html": [
       "<div>\n",
       "<style scoped>\n",
       "    .dataframe tbody tr th:only-of-type {\n",
       "        vertical-align: middle;\n",
       "    }\n",
       "\n",
       "    .dataframe tbody tr th {\n",
       "        vertical-align: top;\n",
       "    }\n",
       "\n",
       "    .dataframe thead th {\n",
       "        text-align: right;\n",
       "    }\n",
       "</style>\n",
       "<table border=\"1\" class=\"dataframe\">\n",
       "  <thead>\n",
       "    <tr style=\"text-align: right;\">\n",
       "      <th></th>\n",
       "      <th>id</th>\n",
       "      <th>idnumber</th>\n",
       "      <th>username</th>\n",
       "      <th>firstname</th>\n",
       "      <th>lastname</th>\n",
       "      <th>email</th>\n",
       "      <th>institution</th>\n",
       "      <th>last accessed</th>\n",
       "      <th>Date</th>\n",
       "    </tr>\n",
       "  </thead>\n",
       "  <tbody>\n",
       "    <tr>\n",
       "      <th>0</th>\n",
       "      <td>95</td>\n",
       "      <td>KA000</td>\n",
       "      <td>nanda_t</td>\n",
       "      <td>Nanda</td>\n",
       "      <td>Tirumala</td>\n",
       "      <td>tirumalanandaa@gmail.com</td>\n",
       "      <td>SSSVV KA Volunteer</td>\n",
       "      <td>2022-01-19</td>\n",
       "      <td>19/01/2022</td>\n",
       "    </tr>\n",
       "    <tr>\n",
       "      <th>1</th>\n",
       "      <td>139</td>\n",
       "      <td>KA000</td>\n",
       "      <td>sandhya_u</td>\n",
       "      <td>Sandhya</td>\n",
       "      <td>Uchil</td>\n",
       "      <td>uchil.sandhya@gmail.com</td>\n",
       "      <td>SSSVV KA Volunteer, Trainer, Mentor</td>\n",
       "      <td>2021-05-25</td>\n",
       "      <td>25/05/2021</td>\n",
       "    </tr>\n",
       "    <tr>\n",
       "      <th>2</th>\n",
       "      <td>1565</td>\n",
       "      <td>KA000</td>\n",
       "      <td>preethi_somaiah</td>\n",
       "      <td>Preethi</td>\n",
       "      <td>Somaiah</td>\n",
       "      <td>preethisomaiah24@gmail.com</td>\n",
       "      <td>SSSVV KA Volunteer</td>\n",
       "      <td>2021-09-23</td>\n",
       "      <td>23/09/2021</td>\n",
       "    </tr>\n",
       "    <tr>\n",
       "      <th>3</th>\n",
       "      <td>1570</td>\n",
       "      <td>KA000</td>\n",
       "      <td>saraswati.bantwal</td>\n",
       "      <td>Saraswathi</td>\n",
       "      <td>Bantwal</td>\n",
       "      <td>saraswathi.sai2311@gmail.com</td>\n",
       "      <td>SSSVV KA Volunteer</td>\n",
       "      <td>2023-02-23</td>\n",
       "      <td>23/02/2023</td>\n",
       "    </tr>\n",
       "    <tr>\n",
       "      <th>4</th>\n",
       "      <td>1571</td>\n",
       "      <td>KA000</td>\n",
       "      <td>madhavi_chillara</td>\n",
       "      <td>Madhavi</td>\n",
       "      <td>Chillara</td>\n",
       "      <td>smadhavichillara@gmail.com</td>\n",
       "      <td>SSSVV KA Volunteer</td>\n",
       "      <td>2023-02-07</td>\n",
       "      <td>07/02/2023</td>\n",
       "    </tr>\n",
       "  </tbody>\n",
       "</table>\n",
       "</div>"
      ],
      "text/plain": [
       "     id idnumber           username   firstname  lastname  \\\n",
       "0    95    KA000            nanda_t       Nanda  Tirumala   \n",
       "1   139    KA000          sandhya_u     Sandhya     Uchil   \n",
       "2  1565    KA000    preethi_somaiah     Preethi   Somaiah   \n",
       "3  1570    KA000  saraswati.bantwal  Saraswathi   Bantwal   \n",
       "4  1571    KA000   madhavi_chillara     Madhavi  Chillara   \n",
       "\n",
       "                          email                          institution  \\\n",
       "0      tirumalanandaa@gmail.com                   SSSVV KA Volunteer   \n",
       "1       uchil.sandhya@gmail.com  SSSVV KA Volunteer, Trainer, Mentor   \n",
       "2    preethisomaiah24@gmail.com                   SSSVV KA Volunteer   \n",
       "3  saraswathi.sai2311@gmail.com                   SSSVV KA Volunteer   \n",
       "4    smadhavichillara@gmail.com                   SSSVV KA Volunteer   \n",
       "\n",
       "  last accessed        Date  \n",
       "0    2022-01-19  19/01/2022  \n",
       "1    2021-05-25  25/05/2021  \n",
       "2    2021-09-23  23/09/2021  \n",
       "3    2023-02-23  23/02/2023  \n",
       "4    2023-02-07  07/02/2023  "
      ]
     },
     "execution_count": 367,
     "metadata": {},
     "output_type": "execute_result"
    }
   ],
   "source": [
    "add_date_column(current_users_date_check)\n",
    "current_users_date_check.head()"
   ]
  },
  {
   "cell_type": "code",
   "execution_count": 368,
   "id": "c1d3dd1f",
   "metadata": {},
   "outputs": [
    {
     "data": {
      "text/plain": [
       "id                        int64\n",
       "idnumber                 object\n",
       "username                 object\n",
       "firstname                object\n",
       "lastname                 object\n",
       "email                    object\n",
       "institution              object\n",
       "last accessed    datetime64[ns]\n",
       "Date                     object\n",
       "dtype: object"
      ]
     },
     "execution_count": 368,
     "metadata": {},
     "output_type": "execute_result"
    }
   ],
   "source": [
    "current_users_date_check.dtypes"
   ]
  },
  {
   "cell_type": "code",
   "execution_count": null,
   "id": "255a2531",
   "metadata": {},
   "outputs": [],
   "source": []
  },
  {
   "cell_type": "code",
   "execution_count": 369,
   "id": "0e83d196",
   "metadata": {},
   "outputs": [
    {
     "name": "stdout",
     "output_type": "stream",
     "text": [
      "Number of Schools: 21\n",
      "Name of Schools:\n",
      " Prashanthi Vidya Kendra, Bayar, Kasaragod                       27\n",
      "Sri Sathya Sai School, Bhadravathi                              24\n",
      "Sri Sathya Sai Vidyaniketan, Bagepalli                          23\n",
      "Sri Sathya Sai Vidya Mandir School, Dharwad                     20\n",
      "Sri Sathya Sai Vidya Kendra                                     16\n",
      "Sri Eshwaramma English Medium High School, Tumakuru             12\n",
      "Sri Sathya Sai Loka Seva High School, Alike                     10\n",
      "Ananda Sai Shikshana Samsthe Shimoga                            10\n",
      "Sri Sathya Sai Baba Higher Primary and High School, Mysuru       9\n",
      "Sri Sathya Sai Academy of Integrated Education, Bhadravathi      7\n",
      "SSSVV KA Volunteer                                               7\n",
      "Prashanti English Medium School, Siddapura                       6\n",
      "Sri Sathya Sai Academy Of Integrated Edcuation Bhadravati        6\n",
      "Sri  Sathya Sai Primary and High School, Bagalkot                4\n",
      "\\tSri Sathya Sai Baba Higher Primary and High School, Mysuru     4\n",
      "SSSVV KA Volunteer, Trainer, Mentor                              2\n",
      "Sri Sathya Sai Loka Seva High School                             2\n",
      "\\tPrashanti English Medium School, Siddapura                     1\n",
      "\\tSri Sathya Sai Vidya Mandir School, Dharwad                    1\n",
      "SSSSO KA Education Trust                                         1\n",
      "Sri Sathya sai Vidyaniketan, Bagepalli                           1\n",
      "Name: institution, dtype: int64\n"
     ]
    }
   ],
   "source": [
    "print(\"Number of Schools:\", current_users_date_check[\"institution\"].nunique())\n",
    "print(\"Name of Schools:\\n\",current_users_date_check[\"institution\"].value_counts().sort_values(ascending = False))"
   ]
  },
  {
   "cell_type": "code",
   "execution_count": 370,
   "id": "a0912b9c",
   "metadata": {},
   "outputs": [
    {
     "name": "stdout",
     "output_type": "stream",
     "text": [
      "Number of Users: 194\n",
      "Name of Users:\n",
      " Sowmya           3\n",
      "Chaitra          3\n",
      "Anuradha         2\n",
      "Likhitha         2\n",
      "Saraswathi       2\n",
      "                ..\n",
      "Yarab            1\n",
      "Venkatesha       1\n",
      "Peer Bhakthar    1\n",
      "Narasimha        1\n",
      "Shravanthi       1\n",
      "Name: firstname, Length: 175, dtype: int64\n"
     ]
    }
   ],
   "source": [
    "print(\"Number of Users:\", current_users_date_check[\"id\"].nunique())\n",
    "print(\"Name of Users:\\n\",current_users_date_check[\"firstname\"].value_counts().sort_values(ascending = False))"
   ]
  },
  {
   "cell_type": "markdown",
   "id": "2ea21012",
   "metadata": {},
   "source": [
    "### 2. change school name"
   ]
  },
  {
   "cell_type": "code",
   "execution_count": 371,
   "id": "f2a66bef",
   "metadata": {},
   "outputs": [],
   "source": [
    "current_users_school_check = current_users_date_check.copy()"
   ]
  },
  {
   "cell_type": "code",
   "execution_count": 372,
   "id": "dbb6717e",
   "metadata": {},
   "outputs": [
    {
     "name": "stdout",
     "output_type": "stream",
     "text": [
      "Number of Schools :  21\n"
     ]
    },
    {
     "data": {
      "text/plain": [
       "Prashanthi Vidya Kendra, Bayar, Kasaragod                       27\n",
       "Sri Sathya Sai School, Bhadravathi                              24\n",
       "Sri Sathya Sai Vidyaniketan, Bagepalli                          23\n",
       "Sri Sathya Sai Vidya Mandir School, Dharwad                     20\n",
       "Sri Sathya Sai Vidya Kendra                                     16\n",
       "Sri Eshwaramma English Medium High School, Tumakuru             12\n",
       "Sri Sathya Sai Loka Seva High School, Alike                     10\n",
       "Ananda Sai Shikshana Samsthe Shimoga                            10\n",
       "Sri Sathya Sai Baba Higher Primary and High School, Mysuru       9\n",
       "SSSVV KA Volunteer                                               7\n",
       "Sri Sathya Sai Academy of Integrated Education, Bhadravathi      7\n",
       "Prashanti English Medium School, Siddapura                       6\n",
       "Sri Sathya Sai Academy Of Integrated Edcuation Bhadravati        6\n",
       "Sri  Sathya Sai Primary and High School, Bagalkot                4\n",
       "\\tSri Sathya Sai Baba Higher Primary and High School, Mysuru     4\n",
       "SSSVV KA Volunteer, Trainer, Mentor                              2\n",
       "Sri Sathya Sai Loka Seva High School                             2\n",
       "\\tPrashanti English Medium School, Siddapura                     1\n",
       "\\tSri Sathya Sai Vidya Mandir School, Dharwad                    1\n",
       "SSSSO KA Education Trust                                         1\n",
       "Sri Sathya sai Vidyaniketan, Bagepalli                           1\n",
       "Name: institution, dtype: int64"
      ]
     },
     "execution_count": 372,
     "metadata": {},
     "output_type": "execute_result"
    }
   ],
   "source": [
    "print(\"Number of Schools : \",current_users_school_check['institution'].nunique())\n",
    "current_users_school_check['institution'].value_counts()"
   ]
  },
  {
   "cell_type": "code",
   "execution_count": 164,
   "id": "b92005ac",
   "metadata": {},
   "outputs": [
    {
     "data": {
      "text/plain": [
       "id               0\n",
       "idnumber         0\n",
       "username         0\n",
       "firstname        0\n",
       "lastname         0\n",
       "email            0\n",
       "institution      1\n",
       "last accessed    0\n",
       "dtype: int64"
      ]
     },
     "execution_count": 164,
     "metadata": {},
     "output_type": "execute_result"
    }
   ],
   "source": [
    "current_users_school_check.isnull().sum()"
   ]
  },
  {
   "cell_type": "code",
   "execution_count": 373,
   "id": "62d4c1f4",
   "metadata": {},
   "outputs": [
    {
     "data": {
      "text/html": [
       "<div>\n",
       "<style scoped>\n",
       "    .dataframe tbody tr th:only-of-type {\n",
       "        vertical-align: middle;\n",
       "    }\n",
       "\n",
       "    .dataframe tbody tr th {\n",
       "        vertical-align: top;\n",
       "    }\n",
       "\n",
       "    .dataframe thead th {\n",
       "        text-align: right;\n",
       "    }\n",
       "</style>\n",
       "<table border=\"1\" class=\"dataframe\">\n",
       "  <thead>\n",
       "    <tr style=\"text-align: right;\">\n",
       "      <th></th>\n",
       "      <th>id</th>\n",
       "      <th>idnumber</th>\n",
       "      <th>username</th>\n",
       "      <th>firstname</th>\n",
       "      <th>lastname</th>\n",
       "      <th>email</th>\n",
       "      <th>institution</th>\n",
       "      <th>last accessed</th>\n",
       "      <th>Date</th>\n",
       "    </tr>\n",
       "  </thead>\n",
       "  <tbody>\n",
       "    <tr>\n",
       "      <th>10</th>\n",
       "      <td>2214</td>\n",
       "      <td>KA000</td>\n",
       "      <td>nandu_s</td>\n",
       "      <td>Nandu</td>\n",
       "      <td>Sasindran</td>\n",
       "      <td>nandusasinandran@gmail.com</td>\n",
       "      <td>NaN</td>\n",
       "      <td>2022-06-19</td>\n",
       "      <td>19/06/2022</td>\n",
       "    </tr>\n",
       "  </tbody>\n",
       "</table>\n",
       "</div>"
      ],
      "text/plain": [
       "      id idnumber username firstname   lastname                       email  \\\n",
       "10  2214    KA000  nandu_s     Nandu  Sasindran  nandusasinandran@gmail.com   \n",
       "\n",
       "   institution last accessed        Date  \n",
       "10         NaN    2022-06-19  19/06/2022  "
      ]
     },
     "execution_count": 373,
     "metadata": {},
     "output_type": "execute_result"
    }
   ],
   "source": [
    "current_users_school_check[current_users_school_check['institution'].isnull()]"
   ]
  },
  {
   "cell_type": "code",
   "execution_count": 374,
   "id": "88e791ad",
   "metadata": {},
   "outputs": [],
   "source": [
    "from fuzzywuzzy import fuzz, process\n",
    "\n",
    "common_school_names = ['Sri Sathya Sai Academy of Integrated Education, Bhadravathi', 'Sri Sathya Sai Vidya Kendra', 'Sri Sathya Sai Vidya Mandir School, Dharwad', 'Sri Sathya Sai Baba Higher Primary and High School, Mysuru', 'Sri Sathya Sai Vidyaniketan, Bagepalli', 'Sri Eshwaramma English Medium High School, Tumakuru', 'Prashanti English Medium School, Siddapura', 'Ananda Sai Shikshana Samsthe Shimoga','SSSVV KA Volunteer','Sri Sathya Sai Loka Seva High School, Alike','Sri Sathya Sai Primary and High School, Bagalkot','Prashanthi Vidya Kendra, Bayar, Kasaragod']\n",
    "\n",
    "# replace null or missing values in the 'institution' column with empty strings\n",
    "current_users_school_check['institution'] = current_users_school_check['institution'].fillna('Not Filled')\n",
    "\n",
    "\n",
    "current_users_school_check['institution'] = current_users_school_check['institution'].apply(lambda x: x.strip())\n",
    "\n",
    "for i, school_name in enumerate(current_users_school_check['institution']):\n",
    "    school_name = school_name.strip()\n",
    "    school_name_lower = school_name.lower()\n",
    "    \n",
    "    # Check for exact matches\n",
    "    if school_name in common_school_names:\n",
    "        current_users_school_check.at[i, 'institution'] = school_name\n",
    "    \n",
    "    # Check for fuzzy matches\n",
    "    else:\n",
    "        match, score = process.extractOne(school_name, common_school_names, scorer=fuzz.token_set_ratio)\n",
    "        \n",
    "        # If score is above a certain threshold, replace with common name\n",
    "        if score >= 85:\n",
    "            current_users_school_check.at[i, 'institution'] = match\n",
    "        else:\n",
    "            # Check for Bhadravathi School case\n",
    "            if \"bhadravathi\" in school_name_lower and \"sri sathya sai\" in school_name_lower:\n",
    "                current_users_school_check.at[i, 'institution'] = \"Sri Sathya Sai Academy of Integrated Education, Bhadravathi\"\n",
    "            else:\n",
    "                # Check for Dharwad School case\n",
    "                if \"dharwad\" in school_name_lower and \"sri sathya sai\" in school_name_lower:\n",
    "                    current_users_school_check.at[i, 'institution'] = \"Sri Sathya Sai Vidya Mandir School, Dharwad\"\n",
    "                else:\n",
    "                    # Check for Bagepalli school\n",
    "                    if \"bagepalli\" in school_name and \"sri sathya sai\" in school_name_lower:\n",
    "                        current_users_school_check.at[i, 'institution'] = \"Sri Sathya Sai Academy of Integrated Education, Bhadravathi\"\n",
    "                    else:\n",
    "                        # Check for SSSVV KA Volunteer\n",
    "                        if \"sss\" in school_name_lower and \"ka\" in school_name_lower:\n",
    "                            current_users_school_check.at[i,'institution'] = \"SSSVV KA Volunteer\"\n",
    "                        else:\n",
    "                            current_users_school_check.at[i, 'institution'] = school_name\n",
    "                    "
   ]
  },
  {
   "cell_type": "code",
   "execution_count": 375,
   "id": "74a6a35f",
   "metadata": {},
   "outputs": [
    {
     "name": "stdout",
     "output_type": "stream",
     "text": [
      "Number of Schools :  13\n"
     ]
    },
    {
     "data": {
      "text/plain": [
       "Sri Sathya Sai Academy of Integrated Education, Bhadravathi    37\n",
       "Prashanthi Vidya Kendra, Bayar, Kasaragod                      27\n",
       "Sri Sathya Sai Vidyaniketan, Bagepalli                         24\n",
       "Sri Sathya Sai Vidya Mandir School, Dharwad                    21\n",
       "Sri Sathya Sai Vidya Kendra                                    16\n",
       "Sri Sathya Sai Baba Higher Primary and High School, Mysuru     13\n",
       "Sri Sathya Sai Loka Seva High School, Alike                    12\n",
       "Sri Eshwaramma English Medium High School, Tumakuru            12\n",
       "SSSVV KA Volunteer                                             10\n",
       "Ananda Sai Shikshana Samsthe Shimoga                           10\n",
       "Prashanti English Medium School, Siddapura                      7\n",
       "Sri Sathya Sai Primary and High School, Bagalkot                4\n",
       "Not Filled                                                      1\n",
       "Name: institution, dtype: int64"
      ]
     },
     "execution_count": 375,
     "metadata": {},
     "output_type": "execute_result"
    }
   ],
   "source": [
    "print(\"Number of Schools : \",current_users_school_check['institution'].nunique())\n",
    "current_users_school_check['institution'].value_counts()"
   ]
  },
  {
   "cell_type": "code",
   "execution_count": 376,
   "id": "13b73716",
   "metadata": {},
   "outputs": [
    {
     "data": {
      "text/plain": [
       "(194, 9)"
      ]
     },
     "execution_count": 376,
     "metadata": {},
     "output_type": "execute_result"
    }
   ],
   "source": [
    "current_users_school_check.shape"
   ]
  },
  {
   "cell_type": "code",
   "execution_count": 377,
   "id": "ee640377",
   "metadata": {},
   "outputs": [
    {
     "data": {
      "text/html": [
       "<div>\n",
       "<style scoped>\n",
       "    .dataframe tbody tr th:only-of-type {\n",
       "        vertical-align: middle;\n",
       "    }\n",
       "\n",
       "    .dataframe tbody tr th {\n",
       "        vertical-align: top;\n",
       "    }\n",
       "\n",
       "    .dataframe thead th {\n",
       "        text-align: right;\n",
       "    }\n",
       "</style>\n",
       "<table border=\"1\" class=\"dataframe\">\n",
       "  <thead>\n",
       "    <tr style=\"text-align: right;\">\n",
       "      <th></th>\n",
       "      <th>id</th>\n",
       "      <th>idnumber</th>\n",
       "      <th>username</th>\n",
       "      <th>firstname</th>\n",
       "      <th>lastname</th>\n",
       "      <th>email</th>\n",
       "      <th>institution</th>\n",
       "      <th>last accessed</th>\n",
       "      <th>Date</th>\n",
       "    </tr>\n",
       "  </thead>\n",
       "  <tbody>\n",
       "    <tr>\n",
       "      <th>10</th>\n",
       "      <td>2214</td>\n",
       "      <td>KA000</td>\n",
       "      <td>nandu_s</td>\n",
       "      <td>Nandu</td>\n",
       "      <td>Sasindran</td>\n",
       "      <td>nandusasinandran@gmail.com</td>\n",
       "      <td>Not Filled</td>\n",
       "      <td>2022-06-19</td>\n",
       "      <td>19/06/2022</td>\n",
       "    </tr>\n",
       "  </tbody>\n",
       "</table>\n",
       "</div>"
      ],
      "text/plain": [
       "      id idnumber username firstname   lastname                       email  \\\n",
       "10  2214    KA000  nandu_s     Nandu  Sasindran  nandusasinandran@gmail.com   \n",
       "\n",
       "   institution last accessed        Date  \n",
       "10  Not Filled    2022-06-19  19/06/2022  "
      ]
     },
     "execution_count": 377,
     "metadata": {},
     "output_type": "execute_result"
    }
   ],
   "source": [
    "current_users_school_check[current_users_school_check['institution'] == \"Not Filled\"]"
   ]
  },
  {
   "cell_type": "code",
   "execution_count": 378,
   "id": "de4f0779",
   "metadata": {},
   "outputs": [],
   "source": [
    "current_users_list_cleaned = current_users_school_check.copy()"
   ]
  },
  {
   "cell_type": "markdown",
   "id": "194e9bb1",
   "metadata": {},
   "source": [
    "### Save file in master path"
   ]
  },
  {
   "cell_type": "code",
   "execution_count": null,
   "id": "c2ed381a",
   "metadata": {},
   "outputs": [],
   "source": []
  },
  {
   "cell_type": "code",
   "execution_count": 379,
   "id": "37677552",
   "metadata": {},
   "outputs": [],
   "source": [
    "# Rename the file with the current month and year\n",
    "new_users_list_ = f'Master_Users_List.xlsx'"
   ]
  },
  {
   "cell_type": "code",
   "execution_count": 380,
   "id": "0d71714e",
   "metadata": {},
   "outputs": [],
   "source": [
    "#Set the new file path\n",
    "new_path = os.path.join(r'D:\\Side Hustles\\SSSVV activities\\SRC - Karnataka\\Monthly Reports\\Master Folder', new_users_list_)\n",
    "\n",
    "#Save the dataframe to the new file path\n",
    "current_users_list_cleaned.to_excel(new_path, index=False)"
   ]
  },
  {
   "cell_type": "markdown",
   "id": "2f5675f2",
   "metadata": {},
   "source": [
    "## Loading all the files"
   ]
  },
  {
   "cell_type": "code",
   "execution_count": 522,
   "id": "9039d358",
   "metadata": {},
   "outputs": [
    {
     "data": {
      "text/plain": [
       "'D:\\\\Side Hustles\\\\SSSVV activities\\\\SRC - Karnataka\\\\Monthly Reports\\\\Master Folder'"
      ]
     },
     "execution_count": 522,
     "metadata": {},
     "output_type": "execute_result"
    }
   ],
   "source": [
    "# Set the directory where the Excel file is located\n",
    "# Set the old file path\n",
    "Master_directory_path = r'D:\\Side Hustles\\SSSVV activities\\SRC - Karnataka\\Monthly Reports\\Master Folder'\n",
    "\n",
    "#Shift directory to current_month_path\n",
    "os.chdir(Master_directory_path)\n",
    "os.getcwd()"
   ]
  },
  {
   "cell_type": "code",
   "execution_count": 523,
   "id": "ed4c9e93",
   "metadata": {},
   "outputs": [
    {
     "name": "stdout",
     "output_type": "stream",
     "text": [
      "Chapters viewed per user KA Schools-main.xlsx\n",
      "Consolidated_Count.xlsx\n",
      "Files downloaded per user KASchoolsr.xlsx\n",
      "Master_Feedback_List.xlsx\n",
      "Master_Users_List.xlsx\n",
      "~$Master_Views.xlsx\n"
     ]
    }
   ],
   "source": [
    "import gc\n",
    "gc.collect()\n",
    "\n",
    "import os\n",
    "for file_name in os.listdir(Master_directory_path):\n",
    "    print(file_name)"
   ]
  },
  {
   "cell_type": "code",
   "execution_count": 175,
   "id": "13a5a557",
   "metadata": {},
   "outputs": [],
   "source": [
    "import zipfile\n",
    "import openpyxl"
   ]
  },
  {
   "cell_type": "code",
   "execution_count": 644,
   "id": "4a8bac20",
   "metadata": {},
   "outputs": [
    {
     "name": "stdout",
     "output_type": "stream",
     "text": [
      "Imported sheet 'Sheet1' from file: Consolidated_Count.xlsx\n",
      "Imported sheet 'Sheet1' from file: Master_Downloads.xlsx\n",
      "Imported sheet 'Sheet1' from file: Master_Feedback_List.xlsx\n",
      "Imported sheet 'Sheet1' from file: Master_Users_List.xlsx\n",
      "Imported sheet 'Sheet1' from file: Master_Views.xlsx\n"
     ]
    }
   ],
   "source": [
    "dfs = []\n",
    "\n",
    "for file_name in os.listdir(Master_directory_path):\n",
    "    if file_name.endswith('.xlsx') and not file_name.startswith('~$'): # only read excel files that don't start with '~$'\n",
    "        file_path = os.path.join(Master_directory_path, file_name) # get full file path\n",
    "        try:\n",
    "            df_dict = pd.read_excel(file_path, sheet_name=None, engine='openpyxl') # specify the engine to use\n",
    "            for sheet_name, df in df_dict.items():\n",
    "                dfs.append(df) # append dataframe to list\n",
    "                print(f\"Imported sheet '{sheet_name}' from file: {file_name}\")\n",
    "        except zipfile.BadZipFile:\n",
    "            print(f\"File '{file_name}' is not a valid Excel file.\")"
   ]
  },
  {
   "cell_type": "code",
   "execution_count": 526,
   "id": "1e47ce79",
   "metadata": {},
   "outputs": [],
   "source": [
    "cc_main = dfs[0]\n",
    "\n",
    "master_downloads = dfs[1]\n",
    "master_feedback = dfs[2]\n",
    "master_users_list = dfs[3]\n",
    "master_views = dfs[4]"
   ]
  },
  {
   "cell_type": "markdown",
   "id": "d5f357c9",
   "metadata": {},
   "source": [
    "## Master Views File"
   ]
  },
  {
   "cell_type": "code",
   "execution_count": 527,
   "id": "6c5ee7c4",
   "metadata": {},
   "outputs": [
    {
     "data": {
      "text/html": [
       "<div>\n",
       "<style scoped>\n",
       "    .dataframe tbody tr th:only-of-type {\n",
       "        vertical-align: middle;\n",
       "    }\n",
       "\n",
       "    .dataframe tbody tr th {\n",
       "        vertical-align: top;\n",
       "    }\n",
       "\n",
       "    .dataframe thead th {\n",
       "        text-align: right;\n",
       "    }\n",
       "</style>\n",
       "<table border=\"1\" class=\"dataframe\">\n",
       "  <thead>\n",
       "    <tr style=\"text-align: right;\">\n",
       "      <th></th>\n",
       "      <th>id</th>\n",
       "      <th>idnumber</th>\n",
       "      <th>username</th>\n",
       "      <th>firstname</th>\n",
       "      <th>lastname</th>\n",
       "      <th>email</th>\n",
       "      <th>institution</th>\n",
       "      <th>shortname</th>\n",
       "      <th>Class</th>\n",
       "      <th>Board</th>\n",
       "      <th>Subject</th>\n",
       "      <th>resource viewed</th>\n",
       "      <th>timestamp</th>\n",
       "      <th>Date</th>\n",
       "    </tr>\n",
       "  </thead>\n",
       "  <tbody>\n",
       "    <tr>\n",
       "      <th>0</th>\n",
       "      <td>1575</td>\n",
       "      <td>KA000</td>\n",
       "      <td>chithra_srikanth</td>\n",
       "      <td>Chithra</td>\n",
       "      <td>Srikanth</td>\n",
       "      <td>chithrasrikanth76@gmail.com</td>\n",
       "      <td>SSSVV KA Volunteer</td>\n",
       "      <td>VI CBSE Science</td>\n",
       "      <td>VI</td>\n",
       "      <td>CBSE</td>\n",
       "      <td>Science</td>\n",
       "      <td>CCDP CBSE Science STD VI Fun with Magnets</td>\n",
       "      <td>2022-12-05 13:53:10</td>\n",
       "      <td>2022-12-05</td>\n",
       "    </tr>\n",
       "    <tr>\n",
       "      <th>1</th>\n",
       "      <td>1575</td>\n",
       "      <td>KA000</td>\n",
       "      <td>chithra_srikanth</td>\n",
       "      <td>Chithra</td>\n",
       "      <td>Srikanth</td>\n",
       "      <td>chithrasrikanth76@gmail.com</td>\n",
       "      <td>SSSVV KA Volunteer</td>\n",
       "      <td>VI CBSE Science</td>\n",
       "      <td>VI</td>\n",
       "      <td>CBSE</td>\n",
       "      <td>Science</td>\n",
       "      <td>Fun with Magnets</td>\n",
       "      <td>2022-12-05 13:54:01</td>\n",
       "      <td>2022-12-05</td>\n",
       "    </tr>\n",
       "    <tr>\n",
       "      <th>2</th>\n",
       "      <td>637</td>\n",
       "      <td>KA001</td>\n",
       "      <td>shwetha_l</td>\n",
       "      <td>Shwetha</td>\n",
       "      <td>L C</td>\n",
       "      <td>shwethasunil87@gmail.com</td>\n",
       "      <td>Ananda Sai Shikshana Samsthe Shimoga</td>\n",
       "      <td>I CBSE EVS</td>\n",
       "      <td>I</td>\n",
       "      <td>CBSE</td>\n",
       "      <td>EVS</td>\n",
       "      <td>My Neighbourhood</td>\n",
       "      <td>2022-12-05 05:04:53</td>\n",
       "      <td>2022-12-05</td>\n",
       "    </tr>\n",
       "    <tr>\n",
       "      <th>3</th>\n",
       "      <td>637</td>\n",
       "      <td>KA001</td>\n",
       "      <td>shwetha_l</td>\n",
       "      <td>Shwetha</td>\n",
       "      <td>L C</td>\n",
       "      <td>shwethasunil87@gmail.com</td>\n",
       "      <td>Ananda Sai Shikshana Samsthe Shimoga</td>\n",
       "      <td>I CBSE EVS</td>\n",
       "      <td>I</td>\n",
       "      <td>CBSE</td>\n",
       "      <td>EVS</td>\n",
       "      <td>My Neighbourhood</td>\n",
       "      <td>2022-12-05 05:04:55</td>\n",
       "      <td>2022-12-05</td>\n",
       "    </tr>\n",
       "    <tr>\n",
       "      <th>4</th>\n",
       "      <td>637</td>\n",
       "      <td>KA001</td>\n",
       "      <td>shwetha_l</td>\n",
       "      <td>Shwetha</td>\n",
       "      <td>L C</td>\n",
       "      <td>shwethasunil87@gmail.com</td>\n",
       "      <td>Ananda Sai Shikshana Samsthe Shimoga</td>\n",
       "      <td>I CBSE EVS</td>\n",
       "      <td>I</td>\n",
       "      <td>CBSE</td>\n",
       "      <td>EVS</td>\n",
       "      <td>Festivals</td>\n",
       "      <td>2022-12-14 05:09:06</td>\n",
       "      <td>2022-12-14</td>\n",
       "    </tr>\n",
       "  </tbody>\n",
       "</table>\n",
       "</div>"
      ],
      "text/plain": [
       "     id idnumber          username firstname  lastname  \\\n",
       "0  1575    KA000  chithra_srikanth   Chithra  Srikanth   \n",
       "1  1575    KA000  chithra_srikanth   Chithra  Srikanth   \n",
       "2   637    KA001         shwetha_l   Shwetha       L C   \n",
       "3   637    KA001         shwetha_l   Shwetha       L C   \n",
       "4   637    KA001         shwetha_l   Shwetha       L C   \n",
       "\n",
       "                         email                           institution  \\\n",
       "0  chithrasrikanth76@gmail.com                    SSSVV KA Volunteer   \n",
       "1  chithrasrikanth76@gmail.com                    SSSVV KA Volunteer   \n",
       "2     shwethasunil87@gmail.com  Ananda Sai Shikshana Samsthe Shimoga   \n",
       "3     shwethasunil87@gmail.com  Ananda Sai Shikshana Samsthe Shimoga   \n",
       "4     shwethasunil87@gmail.com  Ananda Sai Shikshana Samsthe Shimoga   \n",
       "\n",
       "         shortname Class Board  Subject  \\\n",
       "0  VI CBSE Science    VI  CBSE  Science   \n",
       "1  VI CBSE Science    VI  CBSE  Science   \n",
       "2       I CBSE EVS     I  CBSE      EVS   \n",
       "3       I CBSE EVS     I  CBSE      EVS   \n",
       "4       I CBSE EVS     I  CBSE      EVS   \n",
       "\n",
       "                             resource viewed           timestamp       Date  \n",
       "0  CCDP CBSE Science STD VI Fun with Magnets 2022-12-05 13:53:10 2022-12-05  \n",
       "1                           Fun with Magnets 2022-12-05 13:54:01 2022-12-05  \n",
       "2                           My Neighbourhood 2022-12-05 05:04:53 2022-12-05  \n",
       "3                           My Neighbourhood 2022-12-05 05:04:55 2022-12-05  \n",
       "4                                  Festivals 2022-12-14 05:09:06 2022-12-14  "
      ]
     },
     "execution_count": 527,
     "metadata": {},
     "output_type": "execute_result"
    }
   ],
   "source": [
    "master_views.head()"
   ]
  },
  {
   "cell_type": "code",
   "execution_count": 179,
   "id": "ffb59b65",
   "metadata": {},
   "outputs": [],
   "source": [
    "#Input Corrections needed\n",
    "\n",
    "#General Check for any new inconsistency\n",
    "#Spell Check Class, Board & Subject colums\n",
    "#Clean School Names\n",
    "#Clean Date Column\n",
    "#Merge with current_views data "
   ]
  },
  {
   "cell_type": "markdown",
   "id": "23c91c07",
   "metadata": {},
   "source": [
    "### 1. General Check for any new inconsistency"
   ]
  },
  {
   "cell_type": "code",
   "execution_count": 528,
   "id": "9013007e",
   "metadata": {},
   "outputs": [
    {
     "data": {
      "text/plain": [
       "(2003, 14)"
      ]
     },
     "execution_count": 528,
     "metadata": {},
     "output_type": "execute_result"
    }
   ],
   "source": [
    "master_views.shape"
   ]
  },
  {
   "cell_type": "code",
   "execution_count": 529,
   "id": "649b5b12",
   "metadata": {},
   "outputs": [
    {
     "data": {
      "text/plain": [
       "Index(['id', 'idnumber', 'username', 'firstname', 'lastname', 'email',\n",
       "       'institution', 'shortname', 'Class', 'Board', 'Subject',\n",
       "       'resource viewed', 'timestamp', 'Date'],\n",
       "      dtype='object')"
      ]
     },
     "execution_count": 529,
     "metadata": {},
     "output_type": "execute_result"
    }
   ],
   "source": [
    "master_views.columns"
   ]
  },
  {
   "cell_type": "code",
   "execution_count": 530,
   "id": "7e680796",
   "metadata": {},
   "outputs": [
    {
     "data": {
      "text/plain": [
       "id                          int64\n",
       "idnumber                   object\n",
       "username                   object\n",
       "firstname                  object\n",
       "lastname                   object\n",
       "email                      object\n",
       "institution                object\n",
       "shortname                  object\n",
       "Class                      object\n",
       "Board                      object\n",
       "Subject                    object\n",
       "resource viewed            object\n",
       "timestamp          datetime64[ns]\n",
       "Date               datetime64[ns]\n",
       "dtype: object"
      ]
     },
     "execution_count": 530,
     "metadata": {},
     "output_type": "execute_result"
    }
   ],
   "source": [
    "master_views.dtypes"
   ]
  },
  {
   "cell_type": "code",
   "execution_count": 531,
   "id": "48c04ab4",
   "metadata": {},
   "outputs": [
    {
     "data": {
      "text/plain": [
       "id                   0\n",
       "idnumber             0\n",
       "username             0\n",
       "firstname            0\n",
       "lastname             0\n",
       "email                0\n",
       "institution          0\n",
       "shortname            0\n",
       "Class               27\n",
       "Board              109\n",
       "Subject             82\n",
       "resource viewed     53\n",
       "timestamp          397\n",
       "Date               397\n",
       "dtype: int64"
      ]
     },
     "execution_count": 531,
     "metadata": {},
     "output_type": "execute_result"
    }
   ],
   "source": [
    "master_views.isnull().sum()"
   ]
  },
  {
   "cell_type": "code",
   "execution_count": 532,
   "id": "0d8324a7",
   "metadata": {},
   "outputs": [
    {
     "data": {
      "text/html": [
       "<div>\n",
       "<style scoped>\n",
       "    .dataframe tbody tr th:only-of-type {\n",
       "        vertical-align: middle;\n",
       "    }\n",
       "\n",
       "    .dataframe tbody tr th {\n",
       "        vertical-align: top;\n",
       "    }\n",
       "\n",
       "    .dataframe thead th {\n",
       "        text-align: right;\n",
       "    }\n",
       "</style>\n",
       "<table border=\"1\" class=\"dataframe\">\n",
       "  <thead>\n",
       "    <tr style=\"text-align: right;\">\n",
       "      <th></th>\n",
       "      <th>idnumber</th>\n",
       "      <th>username</th>\n",
       "      <th>firstname</th>\n",
       "      <th>lastname</th>\n",
       "      <th>email</th>\n",
       "      <th>institution</th>\n",
       "      <th>shortname</th>\n",
       "      <th>Class</th>\n",
       "      <th>Board</th>\n",
       "      <th>Subject</th>\n",
       "      <th>resource viewed</th>\n",
       "    </tr>\n",
       "  </thead>\n",
       "  <tbody>\n",
       "    <tr>\n",
       "      <th>count</th>\n",
       "      <td>2003</td>\n",
       "      <td>2003</td>\n",
       "      <td>2003</td>\n",
       "      <td>2003</td>\n",
       "      <td>2003</td>\n",
       "      <td>2003</td>\n",
       "      <td>2003</td>\n",
       "      <td>1976</td>\n",
       "      <td>1894</td>\n",
       "      <td>1921</td>\n",
       "      <td>1950</td>\n",
       "    </tr>\n",
       "    <tr>\n",
       "      <th>unique</th>\n",
       "      <td>10</td>\n",
       "      <td>81</td>\n",
       "      <td>80</td>\n",
       "      <td>67</td>\n",
       "      <td>81</td>\n",
       "      <td>10</td>\n",
       "      <td>56</td>\n",
       "      <td>15</td>\n",
       "      <td>3</td>\n",
       "      <td>6</td>\n",
       "      <td>556</td>\n",
       "    </tr>\n",
       "    <tr>\n",
       "      <th>top</th>\n",
       "      <td>KA007</td>\n",
       "      <td>kalpana.jadhav</td>\n",
       "      <td>Kalpana</td>\n",
       "      <td>Jadhav</td>\n",
       "      <td>jadhavkalpana593@gmail.com</td>\n",
       "      <td>Sri Sathya Sai Vidya Mandir School, Dharwad</td>\n",
       "      <td>V CBSE EVS</td>\n",
       "      <td>VII</td>\n",
       "      <td>CBSE</td>\n",
       "      <td>Maths</td>\n",
       "      <td>Practical Geometry</td>\n",
       "    </tr>\n",
       "    <tr>\n",
       "      <th>freq</th>\n",
       "      <td>685</td>\n",
       "      <td>190</td>\n",
       "      <td>190</td>\n",
       "      <td>190</td>\n",
       "      <td>190</td>\n",
       "      <td>685</td>\n",
       "      <td>119</td>\n",
       "      <td>297</td>\n",
       "      <td>1039</td>\n",
       "      <td>668</td>\n",
       "      <td>27</td>\n",
       "    </tr>\n",
       "  </tbody>\n",
       "</table>\n",
       "</div>"
      ],
      "text/plain": [
       "       idnumber        username firstname lastname  \\\n",
       "count      2003            2003      2003     2003   \n",
       "unique       10              81        80       67   \n",
       "top       KA007  kalpana.jadhav   Kalpana   Jadhav   \n",
       "freq        685             190       190      190   \n",
       "\n",
       "                             email  \\\n",
       "count                         2003   \n",
       "unique                          81   \n",
       "top     jadhavkalpana593@gmail.com   \n",
       "freq                           190   \n",
       "\n",
       "                                        institution   shortname Class Board  \\\n",
       "count                                          2003        2003  1976  1894   \n",
       "unique                                           10          56    15     3   \n",
       "top     Sri Sathya Sai Vidya Mandir School, Dharwad  V CBSE EVS   VII  CBSE   \n",
       "freq                                            685         119   297  1039   \n",
       "\n",
       "       Subject     resource viewed  \n",
       "count     1921                1950  \n",
       "unique       6                 556  \n",
       "top      Maths  Practical Geometry  \n",
       "freq       668                  27  "
      ]
     },
     "execution_count": 532,
     "metadata": {},
     "output_type": "execute_result"
    }
   ],
   "source": [
    "master_views.describe(include=['O'])"
   ]
  },
  {
   "cell_type": "code",
   "execution_count": 533,
   "id": "f7eb479d",
   "metadata": {},
   "outputs": [
    {
     "name": "stdout",
     "output_type": "stream",
     "text": [
      "Number of Schools: 10\n",
      "Name of Schools:\n",
      " Sri Sathya Sai Vidya Mandir School, Dharwad                    685\n",
      "Sri Sathya Sai Academy of Integrated Education, Bhadravathi    467\n",
      "Sri Sathya Sai Baba Higher Primary and High School, Mysuru     372\n",
      "Sri Sathya Sai Vidyaniketan, Bagepalli                         170\n",
      "Sri Sathya Sai Vidya Kendra                                    153\n",
      "Sri Eshwaramma English Medium High School, Tumakuru             60\n",
      "Ananda Sai Shikshana Samsthe Shimoga                            33\n",
      "Prashanti English Medium School, Siddapura                      31\n",
      "Prashanthi Vidya Kendra, Bayar, Kasaragod                       30\n",
      "SSSVV KA Volunteer                                               2\n",
      "Name: institution, dtype: int64\n"
     ]
    }
   ],
   "source": [
    "print(\"Number of Schools:\", master_views[\"institution\"].nunique())\n",
    "print(\"Name of Schools:\\n\",master_views[\"institution\"].value_counts().sort_values(ascending = False))"
   ]
  },
  {
   "cell_type": "code",
   "execution_count": 534,
   "id": "4086428a",
   "metadata": {},
   "outputs": [
    {
     "name": "stdout",
     "output_type": "stream",
     "text": [
      "Number of Schools: 21\n",
      "Name of Schools:\n",
      " Prashanthi Vidya Kendra, Bayar, Kasaragod                       27\n",
      "Sri Sathya Sai School, Bhadravathi                              24\n",
      "Sri Sathya Sai Vidyaniketan, Bagepalli                          23\n",
      "Sri Sathya Sai Vidya Mandir School, Dharwad                     20\n",
      "Sri Sathya Sai Vidya Kendra                                     16\n",
      "Sri Eshwaramma English Medium High School, Tumakuru             12\n",
      "Sri Sathya Sai Loka Seva High School, Alike                     10\n",
      "Ananda Sai Shikshana Samsthe Shimoga                            10\n",
      "Sri Sathya Sai Baba Higher Primary and High School, Mysuru       9\n",
      "Sri Sathya Sai Academy of Integrated Education, Bhadravathi      7\n",
      "SSSVV KA Volunteer                                               7\n",
      "Prashanti English Medium School, Siddapura                       6\n",
      "Sri Sathya Sai Academy Of Integrated Edcuation Bhadravati        6\n",
      "Sri  Sathya Sai Primary and High School, Bagalkot                4\n",
      "\\tSri Sathya Sai Baba Higher Primary and High School, Mysuru     4\n",
      "SSSVV KA Volunteer, Trainer, Mentor                              2\n",
      "Sri Sathya Sai Loka Seva High School                             2\n",
      "\\tPrashanti English Medium School, Siddapura                     1\n",
      "\\tSri Sathya Sai Vidya Mandir School, Dharwad                    1\n",
      "SSSSO KA Education Trust                                         1\n",
      "Sri Sathya sai Vidyaniketan, Bagepalli                           1\n",
      "Name: institution, dtype: int64\n"
     ]
    }
   ],
   "source": [
    "print(\"Number of Schools:\", current_users_list[\"institution\"].nunique())\n",
    "print(\"Name of Schools:\\n\",current_users_list[\"institution\"].value_counts().sort_values(ascending = False))"
   ]
  },
  {
   "cell_type": "code",
   "execution_count": 535,
   "id": "a1714777",
   "metadata": {},
   "outputs": [
    {
     "name": "stdout",
     "output_type": "stream",
     "text": [
      "Number of Users: 81\n",
      "Name of Users:\n",
      " Kalpana           190\n",
      "Shahanaz          135\n",
      "Likhitha          115\n",
      "Poornima          110\n",
      "Jyoti             106\n",
      "                 ... \n",
      "Nagma Sulthana      1\n",
      "Nandini             1\n",
      "Deepa               1\n",
      "NAGA                1\n",
      "Bhavana             1\n",
      "Name: firstname, Length: 80, dtype: int64\n"
     ]
    }
   ],
   "source": [
    "print(\"Number of Users:\", master_views[\"id\"].nunique())\n",
    "print(\"Name of Users:\\n\",master_views[\"firstname\"].value_counts().sort_values(ascending = False))"
   ]
  },
  {
   "cell_type": "code",
   "execution_count": 536,
   "id": "6ce28192",
   "metadata": {},
   "outputs": [
    {
     "data": {
      "text/plain": [
       "VII          297\n",
       "VIII         291\n",
       "I            256\n",
       "V            244\n",
       "VI           231\n",
       "III          210\n",
       "IV           177\n",
       "II           125\n",
       "IX            58\n",
       "FN            40\n",
       "FL            19\n",
       "SN            16\n",
       "Chemistry      7\n",
       "Ii             4\n",
       "SOPAAN         1\n",
       "Name: Class, dtype: int64"
      ]
     },
     "execution_count": 536,
     "metadata": {},
     "output_type": "execute_result"
    }
   ],
   "source": [
    "master_views[\"Class\"].value_counts()"
   ]
  },
  {
   "cell_type": "code",
   "execution_count": 537,
   "id": "4b067ad7",
   "metadata": {},
   "outputs": [
    {
     "data": {
      "text/plain": [
       "CBSE       1039\n",
       "KSSE        854\n",
       "Content       1\n",
       "Name: Board, dtype: int64"
      ]
     },
     "execution_count": 537,
     "metadata": {},
     "output_type": "execute_result"
    }
   ],
   "source": [
    "master_views[\"Board\"].value_counts()"
   ]
  },
  {
   "cell_type": "code",
   "execution_count": 538,
   "id": "2caec2ee",
   "metadata": {},
   "outputs": [
    {
     "data": {
      "text/plain": [
       "Maths         668\n",
       "EVS           486\n",
       "Social        275\n",
       "Science       262\n",
       "English       229\n",
       "Repackaged      1\n",
       "Name: Subject, dtype: int64"
      ]
     },
     "execution_count": 538,
     "metadata": {},
     "output_type": "execute_result"
    }
   ],
   "source": [
    "master_views[\"Subject\"].value_counts()"
   ]
  },
  {
   "cell_type": "markdown",
   "id": "abdd2f03",
   "metadata": {},
   "source": [
    "### 2. Sepearate shortname column into 3 parts & Treat disordered values"
   ]
  },
  {
   "cell_type": "code",
   "execution_count": 539,
   "id": "95914065",
   "metadata": {},
   "outputs": [],
   "source": [
    "master_views_data_check = master_views.copy()"
   ]
  },
  {
   "cell_type": "code",
   "execution_count": 540,
   "id": "1b3fbb1b",
   "metadata": {},
   "outputs": [],
   "source": [
    "# First remove existing split columns Class, Board, Subject\n",
    "\n",
    "master_views_data_check = master_views_data_check.drop([\"Class\", \"Board\", \"Subject\",\"Date\"], axis=1)"
   ]
  },
  {
   "cell_type": "code",
   "execution_count": 541,
   "id": "4a7fcfaa",
   "metadata": {},
   "outputs": [
    {
     "name": "stdout",
     "output_type": "stream",
     "text": [
      "        id idnumber          username   firstname  lastname  \\\n",
      "0     1575    KA000  chithra_srikanth     Chithra  Srikanth   \n",
      "1     1575    KA000  chithra_srikanth     Chithra  Srikanth   \n",
      "2      637    KA001         shwetha_l     Shwetha       L C   \n",
      "3      637    KA001         shwetha_l     Shwetha       L C   \n",
      "4      637    KA001         shwetha_l     Shwetha       L C   \n",
      "...    ...      ...               ...         ...       ...   \n",
      "1998  1761    KA015     samprutha.bgp   Samprutha         R   \n",
      "1999  2140    KA015      shravanthi.b  Shravanthi         B   \n",
      "2000  2140    KA015      shravanthi.b  Shravanthi         B   \n",
      "2001  2140    KA015      shravanthi.b  Shravanthi         B   \n",
      "2002  2140    KA015      shravanthi.b  Shravanthi         B   \n",
      "\n",
      "                            email                             institution  \\\n",
      "0     chithrasrikanth76@gmail.com                      SSSVV KA Volunteer   \n",
      "1     chithrasrikanth76@gmail.com                      SSSVV KA Volunteer   \n",
      "2        shwethasunil87@gmail.com    Ananda Sai Shikshana Samsthe Shimoga   \n",
      "3        shwethasunil87@gmail.com    Ananda Sai Shikshana Samsthe Shimoga   \n",
      "4        shwethasunil87@gmail.com    Ananda Sai Shikshana Samsthe Shimoga   \n",
      "...                           ...                                     ...   \n",
      "1998      sampruthar873@gmail.com  Sri Sathya Sai Vidyaniketan, Bagepalli   \n",
      "1999          ss2690835@gmail.com  Sri Sathya Sai Vidyaniketan, Bagepalli   \n",
      "2000          ss2690835@gmail.com  Sri Sathya Sai Vidyaniketan, Bagepalli   \n",
      "2001          ss2690835@gmail.com  Sri Sathya Sai Vidyaniketan, Bagepalli   \n",
      "2002          ss2690835@gmail.com  Sri Sathya Sai Vidyaniketan, Bagepalli   \n",
      "\n",
      "             shortname                            resource viewed  \\\n",
      "0      VI CBSE Science  CCDP CBSE Science STD VI Fun with Magnets   \n",
      "1      VI CBSE Science                           Fun with Magnets   \n",
      "2           I CBSE EVS                           My Neighbourhood   \n",
      "3           I CBSE EVS                           My Neighbourhood   \n",
      "4           I CBSE EVS                                  Festivals   \n",
      "...                ...                                        ...   \n",
      "1998      V KSSE Maths                          Weight and volume   \n",
      "1999   VI KSSE Science                   Electricity And Circuits   \n",
      "2000   VI KSSE Science                   Electricity And Circuits   \n",
      "2001  VII KSSE Science          Electric currents and its effects   \n",
      "2002        V KSSE EVS                             Amazing Energy   \n",
      "\n",
      "               timestamp Class Board  Subject  \n",
      "0    2022-12-05 13:53:10     6  CBSE  Science  \n",
      "1    2022-12-05 13:54:01     6  CBSE  Science  \n",
      "2    2022-12-05 05:04:53     1  CBSE      EVS  \n",
      "3    2022-12-05 05:04:55     1  CBSE      EVS  \n",
      "4    2022-12-14 05:09:06     1  CBSE      EVS  \n",
      "...                  ...   ...   ...      ...  \n",
      "1998 2023-01-17 06:12:41     5  KSSE    Maths  \n",
      "1999 2023-01-18 10:00:24     6  KSSE  Science  \n",
      "2000 2023-01-18 10:00:38     6  KSSE  Science  \n",
      "2001 2023-01-28 13:02:59     7  KSSE  Science  \n",
      "2002 2023-01-25 07:40:16     5  KSSE      EVS  \n",
      "\n",
      "[2003 rows x 13 columns]\n"
     ]
    }
   ],
   "source": [
    "# Seperate shortname column\n",
    "import re\n",
    "\n",
    "# Define mapping dictionaries for Class, Board, and Subject\n",
    "class_map = {'I': 1, 'II': 2,'Ii': 2, 'III': 3, 'IV': 4, 'V': 5, 'VI': 6, 'VII': 7, 'VIII': 8, 'IX': 9,'SOPAAN':'SOPAAN'}\n",
    "board_map = {'KSSE': 'KSSE', 'CBSE': 'CBSE', 'APSE': 'APSE','Content':'Content'}\n",
    "subject_map = {'Maths': 'Maths', 'Science': 'Science','English': 'English', 'Social': 'Social', 'EVS': 'EVS','Repackaged':'Repackaged','Sample':'Sample'}\n",
    "\n",
    "\n",
    "# Define a function to split the shortname column into Class, Board, and Subject columns\n",
    "def split_shortname(shortname):\n",
    "    # Initialize variables\n",
    "    class_ = None\n",
    "    board = None\n",
    "    subject = None\n",
    "    \n",
    "    # Split the string into words\n",
    "    words = re.findall(r'\\b\\w+\\b', shortname)\n",
    "    \n",
    "    # Map the values to Class, Board, and Subject columns\n",
    "    for word in words:\n",
    "        if word in class_map:\n",
    "            class_ = class_map[word]\n",
    "        elif word in board_map:\n",
    "            board = board_map[word]\n",
    "        elif word in subject_map:\n",
    "            subject = subject_map[word]\n",
    "        elif word == 'SC':\n",
    "            subject = 'Science'\n",
    "        elif word == 'Chemistry':\n",
    "            if class_ is None and board is None:\n",
    "                class_ = 'Not Entered'\n",
    "                board = 'Not Entered'\n",
    "            subject = 'Science'\n",
    "        elif word == 'Physics':\n",
    "            if class_ is None and board is None:\n",
    "                class_ = 'Not Entered'\n",
    "                board = 'Not Entered'\n",
    "            subject = 'Science'\n",
    "        elif word == 'FN':\n",
    "            if class_ is None and board is None:\n",
    "                class_ = 'Not Entered'\n",
    "                board = 'Not Entered'\n",
    "            subject = 'FN'\n",
    "        elif word == 'FL':\n",
    "            if class_ is None and board is None:\n",
    "                class_ = 'Not Entered'\n",
    "                board = 'Not Entered'\n",
    "            subject = 'FL'\n",
    "        elif word == 'SN':\n",
    "            if class_ is None and board is None:\n",
    "                class_ = 'Not Entered'\n",
    "                board = 'Not Entered'\n",
    "            subject = 'SN'\n",
    "            \n",
    "    # Return the values as a tuple\n",
    "    return (class_, board, subject)\n",
    "\n",
    "# Split the shortname column into Class, Board, and Subject columns\n",
    "master_views_data_check[['Class', 'Board', 'Subject']] = master_views_data_check['shortname'].apply(split_shortname).apply(pd.Series)\n",
    "\n",
    "# Convert Class column to integers\n",
    "#data['Class'] = pd.to_numeric(data['Class'])\n",
    "\n",
    "# Sort the data by Class column\n",
    "#data = data.sort_values('Class')\n",
    "\n",
    "# Print the cleaned data\n",
    "print(master_views_data_check)\n",
    "\n",
    "#Save the cleaned dataframe to an excel file\n",
    "master_views_data_check.to_excel(r\"D:\\Side Hustles\\SSSVV activities\\SRC - Karnataka\\Monthly Reports\\master_views_data_check.xlsx\", index=False)"
   ]
  },
  {
   "cell_type": "code",
   "execution_count": 542,
   "id": "0d6d1ce5",
   "metadata": {},
   "outputs": [
    {
     "data": {
      "text/html": [
       "<div>\n",
       "<style scoped>\n",
       "    .dataframe tbody tr th:only-of-type {\n",
       "        vertical-align: middle;\n",
       "    }\n",
       "\n",
       "    .dataframe tbody tr th {\n",
       "        vertical-align: top;\n",
       "    }\n",
       "\n",
       "    .dataframe thead th {\n",
       "        text-align: right;\n",
       "    }\n",
       "</style>\n",
       "<table border=\"1\" class=\"dataframe\">\n",
       "  <thead>\n",
       "    <tr style=\"text-align: right;\">\n",
       "      <th></th>\n",
       "      <th>id</th>\n",
       "      <th>idnumber</th>\n",
       "      <th>username</th>\n",
       "      <th>firstname</th>\n",
       "      <th>lastname</th>\n",
       "      <th>email</th>\n",
       "      <th>institution</th>\n",
       "      <th>shortname</th>\n",
       "      <th>resource viewed</th>\n",
       "      <th>timestamp</th>\n",
       "      <th>Class</th>\n",
       "      <th>Board</th>\n",
       "      <th>Subject</th>\n",
       "    </tr>\n",
       "  </thead>\n",
       "  <tbody>\n",
       "    <tr>\n",
       "      <th>0</th>\n",
       "      <td>1575</td>\n",
       "      <td>KA000</td>\n",
       "      <td>chithra_srikanth</td>\n",
       "      <td>Chithra</td>\n",
       "      <td>Srikanth</td>\n",
       "      <td>chithrasrikanth76@gmail.com</td>\n",
       "      <td>SSSVV KA Volunteer</td>\n",
       "      <td>VI CBSE Science</td>\n",
       "      <td>CCDP CBSE Science STD VI Fun with Magnets</td>\n",
       "      <td>2022-12-05 13:53:10</td>\n",
       "      <td>6</td>\n",
       "      <td>CBSE</td>\n",
       "      <td>Science</td>\n",
       "    </tr>\n",
       "    <tr>\n",
       "      <th>1</th>\n",
       "      <td>1575</td>\n",
       "      <td>KA000</td>\n",
       "      <td>chithra_srikanth</td>\n",
       "      <td>Chithra</td>\n",
       "      <td>Srikanth</td>\n",
       "      <td>chithrasrikanth76@gmail.com</td>\n",
       "      <td>SSSVV KA Volunteer</td>\n",
       "      <td>VI CBSE Science</td>\n",
       "      <td>Fun with Magnets</td>\n",
       "      <td>2022-12-05 13:54:01</td>\n",
       "      <td>6</td>\n",
       "      <td>CBSE</td>\n",
       "      <td>Science</td>\n",
       "    </tr>\n",
       "    <tr>\n",
       "      <th>2</th>\n",
       "      <td>637</td>\n",
       "      <td>KA001</td>\n",
       "      <td>shwetha_l</td>\n",
       "      <td>Shwetha</td>\n",
       "      <td>L C</td>\n",
       "      <td>shwethasunil87@gmail.com</td>\n",
       "      <td>Ananda Sai Shikshana Samsthe Shimoga</td>\n",
       "      <td>I CBSE EVS</td>\n",
       "      <td>My Neighbourhood</td>\n",
       "      <td>2022-12-05 05:04:53</td>\n",
       "      <td>1</td>\n",
       "      <td>CBSE</td>\n",
       "      <td>EVS</td>\n",
       "    </tr>\n",
       "    <tr>\n",
       "      <th>3</th>\n",
       "      <td>637</td>\n",
       "      <td>KA001</td>\n",
       "      <td>shwetha_l</td>\n",
       "      <td>Shwetha</td>\n",
       "      <td>L C</td>\n",
       "      <td>shwethasunil87@gmail.com</td>\n",
       "      <td>Ananda Sai Shikshana Samsthe Shimoga</td>\n",
       "      <td>I CBSE EVS</td>\n",
       "      <td>My Neighbourhood</td>\n",
       "      <td>2022-12-05 05:04:55</td>\n",
       "      <td>1</td>\n",
       "      <td>CBSE</td>\n",
       "      <td>EVS</td>\n",
       "    </tr>\n",
       "    <tr>\n",
       "      <th>4</th>\n",
       "      <td>637</td>\n",
       "      <td>KA001</td>\n",
       "      <td>shwetha_l</td>\n",
       "      <td>Shwetha</td>\n",
       "      <td>L C</td>\n",
       "      <td>shwethasunil87@gmail.com</td>\n",
       "      <td>Ananda Sai Shikshana Samsthe Shimoga</td>\n",
       "      <td>I CBSE EVS</td>\n",
       "      <td>Festivals</td>\n",
       "      <td>2022-12-14 05:09:06</td>\n",
       "      <td>1</td>\n",
       "      <td>CBSE</td>\n",
       "      <td>EVS</td>\n",
       "    </tr>\n",
       "  </tbody>\n",
       "</table>\n",
       "</div>"
      ],
      "text/plain": [
       "     id idnumber          username firstname  lastname  \\\n",
       "0  1575    KA000  chithra_srikanth   Chithra  Srikanth   \n",
       "1  1575    KA000  chithra_srikanth   Chithra  Srikanth   \n",
       "2   637    KA001         shwetha_l   Shwetha       L C   \n",
       "3   637    KA001         shwetha_l   Shwetha       L C   \n",
       "4   637    KA001         shwetha_l   Shwetha       L C   \n",
       "\n",
       "                         email                           institution  \\\n",
       "0  chithrasrikanth76@gmail.com                    SSSVV KA Volunteer   \n",
       "1  chithrasrikanth76@gmail.com                    SSSVV KA Volunteer   \n",
       "2     shwethasunil87@gmail.com  Ananda Sai Shikshana Samsthe Shimoga   \n",
       "3     shwethasunil87@gmail.com  Ananda Sai Shikshana Samsthe Shimoga   \n",
       "4     shwethasunil87@gmail.com  Ananda Sai Shikshana Samsthe Shimoga   \n",
       "\n",
       "         shortname                            resource viewed  \\\n",
       "0  VI CBSE Science  CCDP CBSE Science STD VI Fun with Magnets   \n",
       "1  VI CBSE Science                           Fun with Magnets   \n",
       "2       I CBSE EVS                           My Neighbourhood   \n",
       "3       I CBSE EVS                           My Neighbourhood   \n",
       "4       I CBSE EVS                                  Festivals   \n",
       "\n",
       "            timestamp Class Board  Subject  \n",
       "0 2022-12-05 13:53:10     6  CBSE  Science  \n",
       "1 2022-12-05 13:54:01     6  CBSE  Science  \n",
       "2 2022-12-05 05:04:53     1  CBSE      EVS  \n",
       "3 2022-12-05 05:04:55     1  CBSE      EVS  \n",
       "4 2022-12-14 05:09:06     1  CBSE      EVS  "
      ]
     },
     "execution_count": 542,
     "metadata": {},
     "output_type": "execute_result"
    }
   ],
   "source": [
    "master_views_data_check.head()"
   ]
  },
  {
   "cell_type": "code",
   "execution_count": 543,
   "id": "029f7add",
   "metadata": {},
   "outputs": [
    {
     "data": {
      "text/plain": [
       "(2003, 13)"
      ]
     },
     "execution_count": 543,
     "metadata": {},
     "output_type": "execute_result"
    }
   ],
   "source": [
    "master_views_data_check.shape"
   ]
  },
  {
   "cell_type": "code",
   "execution_count": 544,
   "id": "2d9e68dc",
   "metadata": {},
   "outputs": [
    {
     "data": {
      "text/plain": [
       "id                   0\n",
       "idnumber             0\n",
       "username             0\n",
       "firstname            0\n",
       "lastname             0\n",
       "email                0\n",
       "institution          0\n",
       "shortname            0\n",
       "resource viewed     53\n",
       "timestamp          397\n",
       "Class                0\n",
       "Board                0\n",
       "Subject              0\n",
       "dtype: int64"
      ]
     },
     "execution_count": 544,
     "metadata": {},
     "output_type": "execute_result"
    }
   ],
   "source": [
    "master_views_data_check.isnull().sum()"
   ]
  },
  {
   "cell_type": "code",
   "execution_count": 546,
   "id": "f114512c",
   "metadata": {},
   "outputs": [
    {
     "data": {
      "text/plain": [
       "7              297\n",
       "8              291\n",
       "1              256\n",
       "5              244\n",
       "6              231\n",
       "3              210\n",
       "4              177\n",
       "2              118\n",
       "Not Entered    109\n",
       "9               69\n",
       "SOPAAN           1\n",
       "Name: Class, dtype: int64"
      ]
     },
     "execution_count": 546,
     "metadata": {},
     "output_type": "execute_result"
    }
   ],
   "source": [
    "master_views_data_check['Class'].value_counts()"
   ]
  },
  {
   "cell_type": "code",
   "execution_count": 547,
   "id": "bac801a7",
   "metadata": {},
   "outputs": [
    {
     "data": {
      "text/plain": [
       "CBSE           1039\n",
       "KSSE            854\n",
       "Not Entered     109\n",
       "Content           1\n",
       "Name: Board, dtype: int64"
      ]
     },
     "execution_count": 547,
     "metadata": {},
     "output_type": "execute_result"
    }
   ],
   "source": [
    "master_views_data_check['Board'].value_counts()"
   ]
  },
  {
   "cell_type": "code",
   "execution_count": 548,
   "id": "9c3fc70e",
   "metadata": {},
   "outputs": [
    {
     "data": {
      "text/plain": [
       "Maths         668\n",
       "EVS           486\n",
       "Social        275\n",
       "Science       269\n",
       "English       229\n",
       "FN             40\n",
       "FL             19\n",
       "SN             16\n",
       "Repackaged      1\n",
       "Name: Subject, dtype: int64"
      ]
     },
     "execution_count": 548,
     "metadata": {},
     "output_type": "execute_result"
    }
   ],
   "source": [
    "master_views_data_check['Subject'].value_counts()"
   ]
  },
  {
   "cell_type": "code",
   "execution_count": 200,
   "id": "dafdc315",
   "metadata": {},
   "outputs": [],
   "source": [
    "#data = data.drop(data[(data['Class'] == 'Not Entered') | (data['Board'] == 'Not Entered')| data[(data['Board'] == 'Content') | (data['Subject'] == 'Repackaged') | (data['Subject'] == 'FN') | (data['Subject'] == 'FL') | (data['Subject'] == 'SN')].index)"
   ]
  },
  {
   "cell_type": "markdown",
   "id": "3a4236f6",
   "metadata": {},
   "source": [
    "### 3. change school name"
   ]
  },
  {
   "cell_type": "code",
   "execution_count": 549,
   "id": "25e40f2a",
   "metadata": {},
   "outputs": [],
   "source": [
    "master_views_school_check = master_views_data_check.copy()"
   ]
  },
  {
   "cell_type": "code",
   "execution_count": 550,
   "id": "08393cd5",
   "metadata": {},
   "outputs": [
    {
     "name": "stdout",
     "output_type": "stream",
     "text": [
      "Number of Schools :  10\n"
     ]
    },
    {
     "data": {
      "text/plain": [
       "Sri Sathya Sai Vidya Mandir School, Dharwad                    685\n",
       "Sri Sathya Sai Academy of Integrated Education, Bhadravathi    467\n",
       "Sri Sathya Sai Baba Higher Primary and High School, Mysuru     372\n",
       "Sri Sathya Sai Vidyaniketan, Bagepalli                         170\n",
       "Sri Sathya Sai Vidya Kendra                                    153\n",
       "Sri Eshwaramma English Medium High School, Tumakuru             60\n",
       "Ananda Sai Shikshana Samsthe Shimoga                            33\n",
       "Prashanti English Medium School, Siddapura                      31\n",
       "Prashanthi Vidya Kendra, Bayar, Kasaragod                       30\n",
       "SSSVV KA Volunteer                                               2\n",
       "Name: institution, dtype: int64"
      ]
     },
     "execution_count": 550,
     "metadata": {},
     "output_type": "execute_result"
    }
   ],
   "source": [
    "print(\"Number of Schools : \",master_views_school_check['institution'].nunique())\n",
    "master_views_school_check['institution'].value_counts()"
   ]
  },
  {
   "cell_type": "code",
   "execution_count": 551,
   "id": "b310958f",
   "metadata": {},
   "outputs": [],
   "source": [
    "from fuzzywuzzy import fuzz, process\n",
    "\n",
    "common_school_names = ['Sri Sathya Sai Academy of Integrated Education, Bhadravathi', 'Sri Sathya Sai Vidya Kendra', 'Sri Sathya Sai Vidya Mandir School, Dharwad', 'Sri Sathya Sai Baba Higher Primary and High School, Mysuru', 'Sri Sathya Sai Vidyaniketan, Bagepalli', 'Sri Eshwaramma English Medium High School, Tumakuru', 'Prashanti English Medium School, Siddapura', 'Ananda Sai Shikshana Samsthe Shimoga']\n",
    "\n",
    "master_views_school_check['institution'] = master_views_school_check['institution'].apply(lambda x: x.strip())\n",
    "\n",
    "for i, school_name in enumerate(master_views_school_check['institution']):\n",
    "    school_name = school_name.strip()\n",
    "    school_name_lower = school_name.lower()\n",
    "    \n",
    "    # Check for exact matches\n",
    "    if school_name in common_school_names:\n",
    "        master_views_school_check.at[i, 'institution'] = school_name\n",
    "    \n",
    "    # Check for fuzzy matches\n",
    "    else:\n",
    "        match, score = process.extractOne(school_name, common_school_names, scorer=fuzz.token_set_ratio)\n",
    "        \n",
    "        # If score is above a certain threshold, replace with common name\n",
    "        if score >= 85:\n",
    "            master_views_school_check.at[i, 'institution'] = match\n",
    "        else:\n",
    "            # Check for Bhadravathi School case\n",
    "            if \"bhadravathi\" in school_name_lower and \"sri sathya sai\" in school_name_lower:\n",
    "                master_views_school_check.at[i, 'institution'] = \"Sri Sathya Sai Academy of Integrated Education, Bhadravathi\"\n",
    "            else:\n",
    "                # Check for Dharwad School case\n",
    "                if \"dharwad\" in school_name_lower and \"sri sathya sai\" in school_name_lower:\n",
    "                    master_views_school_check.at[i, 'institution'] = \"Sri Sathya Sai Vidya Mandir School, Dharwad\"\n",
    "                else:\n",
    "                    master_views_school_check.at[i, 'institution'] = school_name\n"
   ]
  },
  {
   "cell_type": "code",
   "execution_count": 552,
   "id": "c3935967",
   "metadata": {},
   "outputs": [
    {
     "name": "stdout",
     "output_type": "stream",
     "text": [
      "Number of Schools :  10\n"
     ]
    },
    {
     "data": {
      "text/plain": [
       "Sri Sathya Sai Vidya Mandir School, Dharwad                    685\n",
       "Sri Sathya Sai Academy of Integrated Education, Bhadravathi    467\n",
       "Sri Sathya Sai Baba Higher Primary and High School, Mysuru     372\n",
       "Sri Sathya Sai Vidyaniketan, Bagepalli                         170\n",
       "Sri Sathya Sai Vidya Kendra                                    153\n",
       "Sri Eshwaramma English Medium High School, Tumakuru             60\n",
       "Ananda Sai Shikshana Samsthe Shimoga                            33\n",
       "Prashanti English Medium School, Siddapura                      31\n",
       "Prashanthi Vidya Kendra, Bayar, Kasaragod                       30\n",
       "SSSVV KA Volunteer                                               2\n",
       "Name: institution, dtype: int64"
      ]
     },
     "execution_count": 552,
     "metadata": {},
     "output_type": "execute_result"
    }
   ],
   "source": [
    "print(\"Number of Schools : \",master_views_school_check['institution'].nunique())\n",
    "master_views_school_check['institution'].value_counts()"
   ]
  },
  {
   "cell_type": "code",
   "execution_count": 553,
   "id": "f5fec3fa",
   "metadata": {},
   "outputs": [
    {
     "data": {
      "text/plain": [
       "(2003, 13)"
      ]
     },
     "execution_count": 553,
     "metadata": {},
     "output_type": "execute_result"
    }
   ],
   "source": [
    "master_views_school_check.shape"
   ]
  },
  {
   "cell_type": "markdown",
   "id": "eadc0bd3",
   "metadata": {},
   "source": [
    "### 4. Add Date Column"
   ]
  },
  {
   "cell_type": "code",
   "execution_count": 554,
   "id": "933c0bfb",
   "metadata": {},
   "outputs": [],
   "source": [
    "master_views_date_check = master_views_school_check.copy()"
   ]
  },
  {
   "cell_type": "code",
   "execution_count": 555,
   "id": "a42289e4",
   "metadata": {},
   "outputs": [
    {
     "data": {
      "text/plain": [
       "2023-01-18 05:13:12    4\n",
       "2022-12-13 05:02:24    3\n",
       "2023-01-13 04:25:16    2\n",
       "2023-01-04 07:05:32    2\n",
       "2023-01-02 10:18:19    2\n",
       "                      ..\n",
       "2022-12-01 16:35:56    1\n",
       "2022-12-01 16:36:15    1\n",
       "2022-12-01 16:35:52    1\n",
       "2022-12-01 17:12:55    1\n",
       "2023-01-25 07:40:16    1\n",
       "Name: timestamp, Length: 1593, dtype: int64"
      ]
     },
     "execution_count": 555,
     "metadata": {},
     "output_type": "execute_result"
    }
   ],
   "source": [
    "master_views_date_check['timestamp'].value_counts()"
   ]
  },
  {
   "cell_type": "code",
   "execution_count": 556,
   "id": "7a79e9bc",
   "metadata": {},
   "outputs": [
    {
     "data": {
      "text/plain": [
       "id                          int64\n",
       "idnumber                   object\n",
       "username                   object\n",
       "firstname                  object\n",
       "lastname                   object\n",
       "email                      object\n",
       "institution                object\n",
       "shortname                  object\n",
       "resource viewed            object\n",
       "timestamp          datetime64[ns]\n",
       "Class                      object\n",
       "Board                      object\n",
       "Subject                    object\n",
       "dtype: object"
      ]
     },
     "execution_count": 556,
     "metadata": {},
     "output_type": "execute_result"
    }
   ],
   "source": [
    "master_views_date_check.dtypes"
   ]
  },
  {
   "cell_type": "code",
   "execution_count": 557,
   "id": "6f8722db",
   "metadata": {},
   "outputs": [],
   "source": [
    "# convert timestamp column to datetime format\n",
    "master_views_date_check['timestamp'] = pd.to_datetime(master_views_date_check['timestamp'])\n",
    "\n",
    "# Create a new column 'Date' with datetime64 data type\n",
    "#date_check['Date'] = pd.to_datetime(date_check['timestamp'].dt.date)\n",
    "master_views_date_check['Date'] = pd.to_datetime(master_views_date_check['timestamp'], format='%d/%m/%Y', errors='coerce')"
   ]
  },
  {
   "cell_type": "markdown",
   "id": "22bfdf0d",
   "metadata": {},
   "source": [
    "import pandas as pd\n",
    "\n",
    "def add_date_column(df):\n",
    "    if 'timestamp' in df.columns:\n",
    "        df['timestamp'] = pd.to_datetime(df['timestamp'])\n",
    "        df['Date'] = pd.to_datetime(df['timestamp']).dt.date.astype(str).apply(lambda x: datetime.datetime.strptime(x, '%Y-%m-%d').strftime('%d/%m/%Y'))\n",
    "    else:\n",
    "        print(\"Error: dataframe does not contain 'Time' column\")"
   ]
  },
  {
   "cell_type": "code",
   "execution_count": 210,
   "id": "bfe91738",
   "metadata": {},
   "outputs": [],
   "source": [
    "#add_date_column(date_check)\n",
    "#date_check.head()"
   ]
  },
  {
   "cell_type": "code",
   "execution_count": 558,
   "id": "1f78606f",
   "metadata": {},
   "outputs": [
    {
     "data": {
      "text/plain": [
       "id                          int64\n",
       "idnumber                   object\n",
       "username                   object\n",
       "firstname                  object\n",
       "lastname                   object\n",
       "email                      object\n",
       "institution                object\n",
       "shortname                  object\n",
       "resource viewed            object\n",
       "timestamp          datetime64[ns]\n",
       "Class                      object\n",
       "Board                      object\n",
       "Subject                    object\n",
       "Date               datetime64[ns]\n",
       "dtype: object"
      ]
     },
     "execution_count": 558,
     "metadata": {},
     "output_type": "execute_result"
    }
   ],
   "source": [
    "master_views_date_check.dtypes"
   ]
  },
  {
   "cell_type": "code",
   "execution_count": 559,
   "id": "e2afcf3b",
   "metadata": {},
   "outputs": [
    {
     "data": {
      "text/plain": [
       "2023-01-18 05:13:12    4\n",
       "2022-12-13 05:02:24    3\n",
       "2023-01-13 04:25:16    2\n",
       "2023-01-04 07:05:32    2\n",
       "2023-01-02 10:18:19    2\n",
       "                      ..\n",
       "2022-12-01 16:35:56    1\n",
       "2022-12-01 16:36:15    1\n",
       "2022-12-01 16:35:52    1\n",
       "2022-12-01 17:12:55    1\n",
       "2023-01-25 07:40:16    1\n",
       "Name: Date, Length: 1593, dtype: int64"
      ]
     },
     "execution_count": 559,
     "metadata": {},
     "output_type": "execute_result"
    }
   ],
   "source": [
    "master_views_date_check['Date'].value_counts()"
   ]
  },
  {
   "cell_type": "code",
   "execution_count": 560,
   "id": "3f2f879e",
   "metadata": {},
   "outputs": [],
   "source": [
    "#create new 'Date' column in desired format\n",
    "master_views_date_check['Date'] = master_views_date_check['Date'].dt.strftime('%d/%m/%Y')"
   ]
  },
  {
   "cell_type": "code",
   "execution_count": 561,
   "id": "d3a51a51",
   "metadata": {},
   "outputs": [
    {
     "data": {
      "text/plain": [
       "23/01/2023    112\n",
       "09/12/2022     90\n",
       "05/12/2022     80\n",
       "24/01/2023     75\n",
       "03/01/2023     65\n",
       "             ... \n",
       "16/12/2022      4\n",
       "30/01/2023      4\n",
       "30/12/2022      4\n",
       "18/12/2022      3\n",
       "28/01/2023      1\n",
       "Name: Date, Length: 61, dtype: int64"
      ]
     },
     "execution_count": 561,
     "metadata": {},
     "output_type": "execute_result"
    }
   ],
   "source": [
    "master_views_date_check['Date'].value_counts()"
   ]
  },
  {
   "cell_type": "code",
   "execution_count": 562,
   "id": "b8f84ae4",
   "metadata": {},
   "outputs": [
    {
     "data": {
      "text/plain": [
       "id                          int64\n",
       "idnumber                   object\n",
       "username                   object\n",
       "firstname                  object\n",
       "lastname                   object\n",
       "email                      object\n",
       "institution                object\n",
       "shortname                  object\n",
       "resource viewed            object\n",
       "timestamp          datetime64[ns]\n",
       "Class                      object\n",
       "Board                      object\n",
       "Subject                    object\n",
       "Date                       object\n",
       "dtype: object"
      ]
     },
     "execution_count": 562,
     "metadata": {},
     "output_type": "execute_result"
    }
   ],
   "source": [
    "master_views_date_check.dtypes"
   ]
  },
  {
   "cell_type": "markdown",
   "id": "540c41b6",
   "metadata": {},
   "source": [
    "### Check Resource viewed column"
   ]
  },
  {
   "cell_type": "code",
   "execution_count": 563,
   "id": "fb372ec7",
   "metadata": {},
   "outputs": [],
   "source": [
    "master_views_resource_check = master_views_date_check.copy()"
   ]
  },
  {
   "cell_type": "code",
   "execution_count": 564,
   "id": "4bfc6d55",
   "metadata": {},
   "outputs": [
    {
     "data": {
      "text/plain": [
       "Practical Geometry                          27\n",
       "Visualising Solid Shapes                    24\n",
       "Data Handling                               23\n",
       "Comparing Quantities                        23\n",
       "Perimeter and Area                          22\n",
       "                                            ..\n",
       "CCDP KSSE Mathematics STD I Digits (1-9)     1\n",
       "Digits 1 9                                   1\n",
       "CCDP KSSE EVS STD I Plants around us         1\n",
       "Introduction of Animals                      1\n",
       "Number Systems                               1\n",
       "Name: resource viewed, Length: 556, dtype: int64"
      ]
     },
     "execution_count": 564,
     "metadata": {},
     "output_type": "execute_result"
    }
   ],
   "source": [
    "master_views_resource_check['resource viewed'].value_counts()"
   ]
  },
  {
   "cell_type": "code",
   "execution_count": 565,
   "id": "cf3a8947",
   "metadata": {},
   "outputs": [
    {
     "name": "stdout",
     "output_type": "stream",
     "text": [
      "object\n"
     ]
    }
   ],
   "source": [
    "print(master_views_resource_check['resource viewed'].dtype)"
   ]
  },
  {
   "cell_type": "code",
   "execution_count": null,
   "id": "51120a1f",
   "metadata": {},
   "outputs": [],
   "source": []
  },
  {
   "cell_type": "markdown",
   "id": "1d6d3cda",
   "metadata": {},
   "source": [
    "#### Create Content Type column"
   ]
  },
  {
   "cell_type": "code",
   "execution_count": 566,
   "id": "01d87b41",
   "metadata": {},
   "outputs": [
    {
     "data": {
      "text/html": [
       "<div>\n",
       "<style scoped>\n",
       "    .dataframe tbody tr th:only-of-type {\n",
       "        vertical-align: middle;\n",
       "    }\n",
       "\n",
       "    .dataframe tbody tr th {\n",
       "        vertical-align: top;\n",
       "    }\n",
       "\n",
       "    .dataframe thead th {\n",
       "        text-align: right;\n",
       "    }\n",
       "</style>\n",
       "<table border=\"1\" class=\"dataframe\">\n",
       "  <thead>\n",
       "    <tr style=\"text-align: right;\">\n",
       "      <th></th>\n",
       "      <th>id</th>\n",
       "      <th>idnumber</th>\n",
       "      <th>username</th>\n",
       "      <th>firstname</th>\n",
       "      <th>lastname</th>\n",
       "      <th>email</th>\n",
       "      <th>institution</th>\n",
       "      <th>shortname</th>\n",
       "      <th>resource viewed</th>\n",
       "      <th>timestamp</th>\n",
       "      <th>Class</th>\n",
       "      <th>Board</th>\n",
       "      <th>Subject</th>\n",
       "      <th>Date</th>\n",
       "    </tr>\n",
       "  </thead>\n",
       "  <tbody>\n",
       "    <tr>\n",
       "      <th>58</th>\n",
       "      <td>1148</td>\n",
       "      <td>KA002</td>\n",
       "      <td>bdr.t26</td>\n",
       "      <td>ANTHONY</td>\n",
       "      <td>JEROME</td>\n",
       "      <td>anthonyjerome1479@gmail.com</td>\n",
       "      <td>Sri Sathya Sai Academy of Integrated Education...</td>\n",
       "      <td>III KSSE English</td>\n",
       "      <td>NaN</td>\n",
       "      <td>2022-12-21 19:30:12</td>\n",
       "      <td>3</td>\n",
       "      <td>KSSE</td>\n",
       "      <td>English</td>\n",
       "      <td>21/12/2022</td>\n",
       "    </tr>\n",
       "    <tr>\n",
       "      <th>59</th>\n",
       "      <td>1148</td>\n",
       "      <td>KA002</td>\n",
       "      <td>bdr.t26</td>\n",
       "      <td>ANTHONY</td>\n",
       "      <td>JEROME</td>\n",
       "      <td>anthonyjerome1479@gmail.com</td>\n",
       "      <td>Sri Sathya Sai Academy of Integrated Education...</td>\n",
       "      <td>III KSSE English</td>\n",
       "      <td>NaN</td>\n",
       "      <td>2022-12-21 19:30:18</td>\n",
       "      <td>3</td>\n",
       "      <td>KSSE</td>\n",
       "      <td>English</td>\n",
       "      <td>21/12/2022</td>\n",
       "    </tr>\n",
       "    <tr>\n",
       "      <th>137</th>\n",
       "      <td>2236</td>\n",
       "      <td>KA002</td>\n",
       "      <td>bdr.t07</td>\n",
       "      <td>Bharathi</td>\n",
       "      <td>T G</td>\n",
       "      <td>bharathinataraja@gmail.com</td>\n",
       "      <td>Sri Sathya Sai Academy of Integrated Education...</td>\n",
       "      <td>VII CBSE Maths</td>\n",
       "      <td>NaN</td>\n",
       "      <td>2022-12-05 15:36:20</td>\n",
       "      <td>7</td>\n",
       "      <td>CBSE</td>\n",
       "      <td>Maths</td>\n",
       "      <td>05/12/2022</td>\n",
       "    </tr>\n",
       "    <tr>\n",
       "      <th>138</th>\n",
       "      <td>2236</td>\n",
       "      <td>KA002</td>\n",
       "      <td>bdr.t07</td>\n",
       "      <td>Bharathi</td>\n",
       "      <td>T G</td>\n",
       "      <td>bharathinataraja@gmail.com</td>\n",
       "      <td>Sri Sathya Sai Academy of Integrated Education...</td>\n",
       "      <td>VII CBSE Maths</td>\n",
       "      <td>NaN</td>\n",
       "      <td>2022-12-05 15:36:32</td>\n",
       "      <td>7</td>\n",
       "      <td>CBSE</td>\n",
       "      <td>Maths</td>\n",
       "      <td>05/12/2022</td>\n",
       "    </tr>\n",
       "    <tr>\n",
       "      <th>139</th>\n",
       "      <td>2236</td>\n",
       "      <td>KA002</td>\n",
       "      <td>bdr.t07</td>\n",
       "      <td>Bharathi</td>\n",
       "      <td>T G</td>\n",
       "      <td>bharathinataraja@gmail.com</td>\n",
       "      <td>Sri Sathya Sai Academy of Integrated Education...</td>\n",
       "      <td>VII CBSE Maths</td>\n",
       "      <td>NaN</td>\n",
       "      <td>2022-12-05 15:42:02</td>\n",
       "      <td>7</td>\n",
       "      <td>CBSE</td>\n",
       "      <td>Maths</td>\n",
       "      <td>05/12/2022</td>\n",
       "    </tr>\n",
       "    <tr>\n",
       "      <th>158</th>\n",
       "      <td>2724</td>\n",
       "      <td>KA002</td>\n",
       "      <td>poornima.bdht</td>\n",
       "      <td>Poornima</td>\n",
       "      <td>N</td>\n",
       "      <td>Poornanithya0625@gmail.com</td>\n",
       "      <td>Sri Sathya Sai Academy of Integrated Education...</td>\n",
       "      <td>IV CBSE Maths</td>\n",
       "      <td>NaN</td>\n",
       "      <td>2022-12-04 09:37:46</td>\n",
       "      <td>4</td>\n",
       "      <td>CBSE</td>\n",
       "      <td>Maths</td>\n",
       "      <td>04/12/2022</td>\n",
       "    </tr>\n",
       "    <tr>\n",
       "      <th>159</th>\n",
       "      <td>2724</td>\n",
       "      <td>KA002</td>\n",
       "      <td>poornima.bdht</td>\n",
       "      <td>Poornima</td>\n",
       "      <td>N</td>\n",
       "      <td>Poornanithya0625@gmail.com</td>\n",
       "      <td>Sri Sathya Sai Academy of Integrated Education...</td>\n",
       "      <td>IV CBSE Maths</td>\n",
       "      <td>NaN</td>\n",
       "      <td>2022-12-04 09:37:48</td>\n",
       "      <td>4</td>\n",
       "      <td>CBSE</td>\n",
       "      <td>Maths</td>\n",
       "      <td>04/12/2022</td>\n",
       "    </tr>\n",
       "    <tr>\n",
       "      <th>160</th>\n",
       "      <td>2724</td>\n",
       "      <td>KA002</td>\n",
       "      <td>poornima.bdht</td>\n",
       "      <td>Poornima</td>\n",
       "      <td>N</td>\n",
       "      <td>Poornanithya0625@gmail.com</td>\n",
       "      <td>Sri Sathya Sai Academy of Integrated Education...</td>\n",
       "      <td>IV CBSE Maths</td>\n",
       "      <td>NaN</td>\n",
       "      <td>2022-12-05 13:11:28</td>\n",
       "      <td>4</td>\n",
       "      <td>CBSE</td>\n",
       "      <td>Maths</td>\n",
       "      <td>05/12/2022</td>\n",
       "    </tr>\n",
       "    <tr>\n",
       "      <th>161</th>\n",
       "      <td>2724</td>\n",
       "      <td>KA002</td>\n",
       "      <td>poornima.bdht</td>\n",
       "      <td>Poornima</td>\n",
       "      <td>N</td>\n",
       "      <td>Poornanithya0625@gmail.com</td>\n",
       "      <td>Sri Sathya Sai Academy of Integrated Education...</td>\n",
       "      <td>IV CBSE Maths</td>\n",
       "      <td>NaN</td>\n",
       "      <td>2022-12-05 13:11:31</td>\n",
       "      <td>4</td>\n",
       "      <td>CBSE</td>\n",
       "      <td>Maths</td>\n",
       "      <td>05/12/2022</td>\n",
       "    </tr>\n",
       "    <tr>\n",
       "      <th>162</th>\n",
       "      <td>2724</td>\n",
       "      <td>KA002</td>\n",
       "      <td>poornima.bdht</td>\n",
       "      <td>Poornima</td>\n",
       "      <td>N</td>\n",
       "      <td>Poornanithya0625@gmail.com</td>\n",
       "      <td>Sri Sathya Sai Academy of Integrated Education...</td>\n",
       "      <td>IV CBSE Maths</td>\n",
       "      <td>NaN</td>\n",
       "      <td>2022-12-05 14:30:23</td>\n",
       "      <td>4</td>\n",
       "      <td>CBSE</td>\n",
       "      <td>Maths</td>\n",
       "      <td>05/12/2022</td>\n",
       "    </tr>\n",
       "    <tr>\n",
       "      <th>163</th>\n",
       "      <td>2724</td>\n",
       "      <td>KA002</td>\n",
       "      <td>poornima.bdht</td>\n",
       "      <td>Poornima</td>\n",
       "      <td>N</td>\n",
       "      <td>Poornanithya0625@gmail.com</td>\n",
       "      <td>Sri Sathya Sai Academy of Integrated Education...</td>\n",
       "      <td>IV CBSE Maths</td>\n",
       "      <td>NaN</td>\n",
       "      <td>2022-12-05 14:30:24</td>\n",
       "      <td>4</td>\n",
       "      <td>CBSE</td>\n",
       "      <td>Maths</td>\n",
       "      <td>05/12/2022</td>\n",
       "    </tr>\n",
       "    <tr>\n",
       "      <th>164</th>\n",
       "      <td>2724</td>\n",
       "      <td>KA002</td>\n",
       "      <td>poornima.bdht</td>\n",
       "      <td>Poornima</td>\n",
       "      <td>N</td>\n",
       "      <td>Poornanithya0625@gmail.com</td>\n",
       "      <td>Sri Sathya Sai Academy of Integrated Education...</td>\n",
       "      <td>IV CBSE Maths</td>\n",
       "      <td>NaN</td>\n",
       "      <td>2022-12-05 14:57:37</td>\n",
       "      <td>4</td>\n",
       "      <td>CBSE</td>\n",
       "      <td>Maths</td>\n",
       "      <td>05/12/2022</td>\n",
       "    </tr>\n",
       "    <tr>\n",
       "      <th>221</th>\n",
       "      <td>649</td>\n",
       "      <td>KA006</td>\n",
       "      <td>anusha_hegde</td>\n",
       "      <td>Anusha</td>\n",
       "      <td>Hegde</td>\n",
       "      <td>anusha.sdp5@gmail.com</td>\n",
       "      <td>Prashanti English Medium School, Siddapura</td>\n",
       "      <td>III KSSE English</td>\n",
       "      <td>NaN</td>\n",
       "      <td>2022-12-26 09:41:16</td>\n",
       "      <td>3</td>\n",
       "      <td>KSSE</td>\n",
       "      <td>English</td>\n",
       "      <td>26/12/2022</td>\n",
       "    </tr>\n",
       "    <tr>\n",
       "      <th>269</th>\n",
       "      <td>1573</td>\n",
       "      <td>KA007</td>\n",
       "      <td>jyoti_kurawatti</td>\n",
       "      <td>Jyoti</td>\n",
       "      <td>Kurawatti</td>\n",
       "      <td>jyoti.d.kurawatti@gmail.com</td>\n",
       "      <td>Sri Sathya Sai Vidya Mandir School, Dharwad</td>\n",
       "      <td>IV CBSE EVS</td>\n",
       "      <td>NaN</td>\n",
       "      <td>2022-12-09 10:33:41</td>\n",
       "      <td>4</td>\n",
       "      <td>CBSE</td>\n",
       "      <td>EVS</td>\n",
       "      <td>09/12/2022</td>\n",
       "    </tr>\n",
       "    <tr>\n",
       "      <th>270</th>\n",
       "      <td>1573</td>\n",
       "      <td>KA007</td>\n",
       "      <td>jyoti_kurawatti</td>\n",
       "      <td>Jyoti</td>\n",
       "      <td>Kurawatti</td>\n",
       "      <td>jyoti.d.kurawatti@gmail.com</td>\n",
       "      <td>Sri Sathya Sai Vidya Mandir School, Dharwad</td>\n",
       "      <td>IV CBSE EVS</td>\n",
       "      <td>NaN</td>\n",
       "      <td>2022-12-09 10:33:49</td>\n",
       "      <td>4</td>\n",
       "      <td>CBSE</td>\n",
       "      <td>EVS</td>\n",
       "      <td>09/12/2022</td>\n",
       "    </tr>\n",
       "    <tr>\n",
       "      <th>360</th>\n",
       "      <td>2135</td>\n",
       "      <td>KA007</td>\n",
       "      <td>malashree.nayyar</td>\n",
       "      <td>Malashree</td>\n",
       "      <td>Nayyar</td>\n",
       "      <td>malashreenayyar@gmail.com</td>\n",
       "      <td>Sri Sathya Sai Vidya Mandir School, Dharwad</td>\n",
       "      <td>V CBSE EVS</td>\n",
       "      <td>NaN</td>\n",
       "      <td>2022-12-09 06:41:05</td>\n",
       "      <td>5</td>\n",
       "      <td>CBSE</td>\n",
       "      <td>EVS</td>\n",
       "      <td>09/12/2022</td>\n",
       "    </tr>\n",
       "    <tr>\n",
       "      <th>361</th>\n",
       "      <td>2135</td>\n",
       "      <td>KA007</td>\n",
       "      <td>malashree.nayyar</td>\n",
       "      <td>Malashree</td>\n",
       "      <td>Nayyar</td>\n",
       "      <td>malashreenayyar@gmail.com</td>\n",
       "      <td>Sri Sathya Sai Vidya Mandir School, Dharwad</td>\n",
       "      <td>V CBSE EVS</td>\n",
       "      <td>NaN</td>\n",
       "      <td>2022-12-09 06:41:34</td>\n",
       "      <td>5</td>\n",
       "      <td>CBSE</td>\n",
       "      <td>EVS</td>\n",
       "      <td>09/12/2022</td>\n",
       "    </tr>\n",
       "    <tr>\n",
       "      <th>362</th>\n",
       "      <td>2135</td>\n",
       "      <td>KA007</td>\n",
       "      <td>malashree.nayyar</td>\n",
       "      <td>Malashree</td>\n",
       "      <td>Nayyar</td>\n",
       "      <td>malashreenayyar@gmail.com</td>\n",
       "      <td>Sri Sathya Sai Vidya Mandir School, Dharwad</td>\n",
       "      <td>V CBSE EVS</td>\n",
       "      <td>NaN</td>\n",
       "      <td>2022-12-09 06:41:55</td>\n",
       "      <td>5</td>\n",
       "      <td>CBSE</td>\n",
       "      <td>EVS</td>\n",
       "      <td>09/12/2022</td>\n",
       "    </tr>\n",
       "    <tr>\n",
       "      <th>363</th>\n",
       "      <td>2135</td>\n",
       "      <td>KA007</td>\n",
       "      <td>malashree.nayyar</td>\n",
       "      <td>Malashree</td>\n",
       "      <td>Nayyar</td>\n",
       "      <td>malashreenayyar@gmail.com</td>\n",
       "      <td>Sri Sathya Sai Vidya Mandir School, Dharwad</td>\n",
       "      <td>V CBSE EVS</td>\n",
       "      <td>NaN</td>\n",
       "      <td>2022-12-09 06:42:04</td>\n",
       "      <td>5</td>\n",
       "      <td>CBSE</td>\n",
       "      <td>EVS</td>\n",
       "      <td>09/12/2022</td>\n",
       "    </tr>\n",
       "    <tr>\n",
       "      <th>364</th>\n",
       "      <td>2135</td>\n",
       "      <td>KA007</td>\n",
       "      <td>malashree.nayyar</td>\n",
       "      <td>Malashree</td>\n",
       "      <td>Nayyar</td>\n",
       "      <td>malashreenayyar@gmail.com</td>\n",
       "      <td>Sri Sathya Sai Vidya Mandir School, Dharwad</td>\n",
       "      <td>V CBSE EVS</td>\n",
       "      <td>NaN</td>\n",
       "      <td>2022-12-09 06:42:10</td>\n",
       "      <td>5</td>\n",
       "      <td>CBSE</td>\n",
       "      <td>EVS</td>\n",
       "      <td>09/12/2022</td>\n",
       "    </tr>\n",
       "    <tr>\n",
       "      <th>365</th>\n",
       "      <td>2135</td>\n",
       "      <td>KA007</td>\n",
       "      <td>malashree.nayyar</td>\n",
       "      <td>Malashree</td>\n",
       "      <td>Nayyar</td>\n",
       "      <td>malashreenayyar@gmail.com</td>\n",
       "      <td>Sri Sathya Sai Vidya Mandir School, Dharwad</td>\n",
       "      <td>V CBSE EVS</td>\n",
       "      <td>NaN</td>\n",
       "      <td>2022-12-13 05:02:24</td>\n",
       "      <td>5</td>\n",
       "      <td>CBSE</td>\n",
       "      <td>EVS</td>\n",
       "      <td>13/12/2022</td>\n",
       "    </tr>\n",
       "    <tr>\n",
       "      <th>642</th>\n",
       "      <td>2761</td>\n",
       "      <td>KA010</td>\n",
       "      <td>shahanaz.muskan</td>\n",
       "      <td>Shahanaz</td>\n",
       "      <td>Muskan</td>\n",
       "      <td>shahanazmuskan4@gmail.com</td>\n",
       "      <td>Sri Sathya Sai Baba Higher Primary and High Sc...</td>\n",
       "      <td>Ii KSSE English</td>\n",
       "      <td>NaN</td>\n",
       "      <td>2022-12-05 09:32:24</td>\n",
       "      <td>2</td>\n",
       "      <td>KSSE</td>\n",
       "      <td>English</td>\n",
       "      <td>05/12/2022</td>\n",
       "    </tr>\n",
       "    <tr>\n",
       "      <th>643</th>\n",
       "      <td>2761</td>\n",
       "      <td>KA010</td>\n",
       "      <td>shahanaz.muskan</td>\n",
       "      <td>Shahanaz</td>\n",
       "      <td>Muskan</td>\n",
       "      <td>shahanazmuskan4@gmail.com</td>\n",
       "      <td>Sri Sathya Sai Baba Higher Primary and High Sc...</td>\n",
       "      <td>Ii KSSE English</td>\n",
       "      <td>NaN</td>\n",
       "      <td>2022-12-05 09:32:29</td>\n",
       "      <td>2</td>\n",
       "      <td>KSSE</td>\n",
       "      <td>English</td>\n",
       "      <td>05/12/2022</td>\n",
       "    </tr>\n",
       "    <tr>\n",
       "      <th>644</th>\n",
       "      <td>2761</td>\n",
       "      <td>KA010</td>\n",
       "      <td>shahanaz.muskan</td>\n",
       "      <td>Shahanaz</td>\n",
       "      <td>Muskan</td>\n",
       "      <td>shahanazmuskan4@gmail.com</td>\n",
       "      <td>Sri Sathya Sai Baba Higher Primary and High Sc...</td>\n",
       "      <td>Ii KSSE English</td>\n",
       "      <td>NaN</td>\n",
       "      <td>2022-12-05 09:32:31</td>\n",
       "      <td>2</td>\n",
       "      <td>KSSE</td>\n",
       "      <td>English</td>\n",
       "      <td>05/12/2022</td>\n",
       "    </tr>\n",
       "    <tr>\n",
       "      <th>645</th>\n",
       "      <td>2761</td>\n",
       "      <td>KA010</td>\n",
       "      <td>shahanaz.muskan</td>\n",
       "      <td>Shahanaz</td>\n",
       "      <td>Muskan</td>\n",
       "      <td>shahanazmuskan4@gmail.com</td>\n",
       "      <td>Sri Sathya Sai Baba Higher Primary and High Sc...</td>\n",
       "      <td>III KSSE English</td>\n",
       "      <td>NaN</td>\n",
       "      <td>2022-12-05 06:57:39</td>\n",
       "      <td>3</td>\n",
       "      <td>KSSE</td>\n",
       "      <td>English</td>\n",
       "      <td>05/12/2022</td>\n",
       "    </tr>\n",
       "    <tr>\n",
       "      <th>646</th>\n",
       "      <td>2761</td>\n",
       "      <td>KA010</td>\n",
       "      <td>shahanaz.muskan</td>\n",
       "      <td>Shahanaz</td>\n",
       "      <td>Muskan</td>\n",
       "      <td>shahanazmuskan4@gmail.com</td>\n",
       "      <td>Sri Sathya Sai Baba Higher Primary and High Sc...</td>\n",
       "      <td>III KSSE English</td>\n",
       "      <td>NaN</td>\n",
       "      <td>2022-12-05 06:57:49</td>\n",
       "      <td>3</td>\n",
       "      <td>KSSE</td>\n",
       "      <td>English</td>\n",
       "      <td>05/12/2022</td>\n",
       "    </tr>\n",
       "    <tr>\n",
       "      <th>647</th>\n",
       "      <td>2761</td>\n",
       "      <td>KA010</td>\n",
       "      <td>shahanaz.muskan</td>\n",
       "      <td>Shahanaz</td>\n",
       "      <td>Muskan</td>\n",
       "      <td>shahanazmuskan4@gmail.com</td>\n",
       "      <td>Sri Sathya Sai Baba Higher Primary and High Sc...</td>\n",
       "      <td>III KSSE English</td>\n",
       "      <td>NaN</td>\n",
       "      <td>2022-12-05 07:02:05</td>\n",
       "      <td>3</td>\n",
       "      <td>KSSE</td>\n",
       "      <td>English</td>\n",
       "      <td>05/12/2022</td>\n",
       "    </tr>\n",
       "    <tr>\n",
       "      <th>648</th>\n",
       "      <td>2761</td>\n",
       "      <td>KA010</td>\n",
       "      <td>shahanaz.muskan</td>\n",
       "      <td>Shahanaz</td>\n",
       "      <td>Muskan</td>\n",
       "      <td>shahanazmuskan4@gmail.com</td>\n",
       "      <td>Sri Sathya Sai Baba Higher Primary and High Sc...</td>\n",
       "      <td>III KSSE English</td>\n",
       "      <td>NaN</td>\n",
       "      <td>2022-12-05 07:02:18</td>\n",
       "      <td>3</td>\n",
       "      <td>KSSE</td>\n",
       "      <td>English</td>\n",
       "      <td>05/12/2022</td>\n",
       "    </tr>\n",
       "    <tr>\n",
       "      <th>649</th>\n",
       "      <td>2761</td>\n",
       "      <td>KA010</td>\n",
       "      <td>shahanaz.muskan</td>\n",
       "      <td>Shahanaz</td>\n",
       "      <td>Muskan</td>\n",
       "      <td>shahanazmuskan4@gmail.com</td>\n",
       "      <td>Sri Sathya Sai Baba Higher Primary and High Sc...</td>\n",
       "      <td>III KSSE English</td>\n",
       "      <td>NaN</td>\n",
       "      <td>2022-12-05 07:02:30</td>\n",
       "      <td>3</td>\n",
       "      <td>KSSE</td>\n",
       "      <td>English</td>\n",
       "      <td>05/12/2022</td>\n",
       "    </tr>\n",
       "    <tr>\n",
       "      <th>650</th>\n",
       "      <td>2761</td>\n",
       "      <td>KA010</td>\n",
       "      <td>shahanaz.muskan</td>\n",
       "      <td>Shahanaz</td>\n",
       "      <td>Muskan</td>\n",
       "      <td>shahanazmuskan4@gmail.com</td>\n",
       "      <td>Sri Sathya Sai Baba Higher Primary and High Sc...</td>\n",
       "      <td>III KSSE English</td>\n",
       "      <td>NaN</td>\n",
       "      <td>2022-12-05 07:02:48</td>\n",
       "      <td>3</td>\n",
       "      <td>KSSE</td>\n",
       "      <td>English</td>\n",
       "      <td>05/12/2022</td>\n",
       "    </tr>\n",
       "    <tr>\n",
       "      <th>651</th>\n",
       "      <td>2761</td>\n",
       "      <td>KA010</td>\n",
       "      <td>shahanaz.muskan</td>\n",
       "      <td>Shahanaz</td>\n",
       "      <td>Muskan</td>\n",
       "      <td>shahanazmuskan4@gmail.com</td>\n",
       "      <td>Sri Sathya Sai Baba Higher Primary and High Sc...</td>\n",
       "      <td>Ii KSSE English</td>\n",
       "      <td>NaN</td>\n",
       "      <td>2022-12-05 09:33:22</td>\n",
       "      <td>2</td>\n",
       "      <td>KSSE</td>\n",
       "      <td>English</td>\n",
       "      <td>05/12/2022</td>\n",
       "    </tr>\n",
       "    <tr>\n",
       "      <th>652</th>\n",
       "      <td>2761</td>\n",
       "      <td>KA010</td>\n",
       "      <td>shahanaz.muskan</td>\n",
       "      <td>Shahanaz</td>\n",
       "      <td>Muskan</td>\n",
       "      <td>shahanazmuskan4@gmail.com</td>\n",
       "      <td>Sri Sathya Sai Baba Higher Primary and High Sc...</td>\n",
       "      <td>Ii KSSE English</td>\n",
       "      <td>NaN</td>\n",
       "      <td>2022-12-05 09:33:26</td>\n",
       "      <td>2</td>\n",
       "      <td>KSSE</td>\n",
       "      <td>English</td>\n",
       "      <td>05/12/2022</td>\n",
       "    </tr>\n",
       "    <tr>\n",
       "      <th>653</th>\n",
       "      <td>2761</td>\n",
       "      <td>KA010</td>\n",
       "      <td>shahanaz.muskan</td>\n",
       "      <td>Shahanaz</td>\n",
       "      <td>Muskan</td>\n",
       "      <td>shahanazmuskan4@gmail.com</td>\n",
       "      <td>Sri Sathya Sai Baba Higher Primary and High Sc...</td>\n",
       "      <td>III KSSE English</td>\n",
       "      <td>NaN</td>\n",
       "      <td>2022-12-05 08:10:36</td>\n",
       "      <td>3</td>\n",
       "      <td>KSSE</td>\n",
       "      <td>English</td>\n",
       "      <td>05/12/2022</td>\n",
       "    </tr>\n",
       "    <tr>\n",
       "      <th>654</th>\n",
       "      <td>2761</td>\n",
       "      <td>KA010</td>\n",
       "      <td>shahanaz.muskan</td>\n",
       "      <td>Shahanaz</td>\n",
       "      <td>Muskan</td>\n",
       "      <td>shahanazmuskan4@gmail.com</td>\n",
       "      <td>Sri Sathya Sai Baba Higher Primary and High Sc...</td>\n",
       "      <td>III KSSE English</td>\n",
       "      <td>NaN</td>\n",
       "      <td>2022-12-05 08:10:43</td>\n",
       "      <td>3</td>\n",
       "      <td>KSSE</td>\n",
       "      <td>English</td>\n",
       "      <td>05/12/2022</td>\n",
       "    </tr>\n",
       "    <tr>\n",
       "      <th>655</th>\n",
       "      <td>2761</td>\n",
       "      <td>KA010</td>\n",
       "      <td>shahanaz.muskan</td>\n",
       "      <td>Shahanaz</td>\n",
       "      <td>Muskan</td>\n",
       "      <td>shahanazmuskan4@gmail.com</td>\n",
       "      <td>Sri Sathya Sai Baba Higher Primary and High Sc...</td>\n",
       "      <td>III KSSE English</td>\n",
       "      <td>NaN</td>\n",
       "      <td>2022-12-02 06:12:52</td>\n",
       "      <td>3</td>\n",
       "      <td>KSSE</td>\n",
       "      <td>English</td>\n",
       "      <td>02/12/2022</td>\n",
       "    </tr>\n",
       "    <tr>\n",
       "      <th>656</th>\n",
       "      <td>2761</td>\n",
       "      <td>KA010</td>\n",
       "      <td>shahanaz.muskan</td>\n",
       "      <td>Shahanaz</td>\n",
       "      <td>Muskan</td>\n",
       "      <td>shahanazmuskan4@gmail.com</td>\n",
       "      <td>Sri Sathya Sai Baba Higher Primary and High Sc...</td>\n",
       "      <td>III KSSE English</td>\n",
       "      <td>NaN</td>\n",
       "      <td>2022-12-02 06:12:57</td>\n",
       "      <td>3</td>\n",
       "      <td>KSSE</td>\n",
       "      <td>English</td>\n",
       "      <td>02/12/2022</td>\n",
       "    </tr>\n",
       "    <tr>\n",
       "      <th>657</th>\n",
       "      <td>2761</td>\n",
       "      <td>KA010</td>\n",
       "      <td>shahanaz.muskan</td>\n",
       "      <td>Shahanaz</td>\n",
       "      <td>Muskan</td>\n",
       "      <td>shahanazmuskan4@gmail.com</td>\n",
       "      <td>Sri Sathya Sai Baba Higher Primary and High Sc...</td>\n",
       "      <td>III KSSE English</td>\n",
       "      <td>NaN</td>\n",
       "      <td>2022-12-05 06:57:01</td>\n",
       "      <td>3</td>\n",
       "      <td>KSSE</td>\n",
       "      <td>English</td>\n",
       "      <td>05/12/2022</td>\n",
       "    </tr>\n",
       "    <tr>\n",
       "      <th>658</th>\n",
       "      <td>2761</td>\n",
       "      <td>KA010</td>\n",
       "      <td>shahanaz.muskan</td>\n",
       "      <td>Shahanaz</td>\n",
       "      <td>Muskan</td>\n",
       "      <td>shahanazmuskan4@gmail.com</td>\n",
       "      <td>Sri Sathya Sai Baba Higher Primary and High Sc...</td>\n",
       "      <td>III KSSE English</td>\n",
       "      <td>NaN</td>\n",
       "      <td>2022-12-05 06:57:03</td>\n",
       "      <td>3</td>\n",
       "      <td>KSSE</td>\n",
       "      <td>English</td>\n",
       "      <td>05/12/2022</td>\n",
       "    </tr>\n",
       "    <tr>\n",
       "      <th>659</th>\n",
       "      <td>2761</td>\n",
       "      <td>KA010</td>\n",
       "      <td>shahanaz.muskan</td>\n",
       "      <td>Shahanaz</td>\n",
       "      <td>Muskan</td>\n",
       "      <td>shahanazmuskan4@gmail.com</td>\n",
       "      <td>Sri Sathya Sai Baba Higher Primary and High Sc...</td>\n",
       "      <td>III KSSE English</td>\n",
       "      <td>NaN</td>\n",
       "      <td>2022-12-05 08:12:05</td>\n",
       "      <td>3</td>\n",
       "      <td>KSSE</td>\n",
       "      <td>English</td>\n",
       "      <td>05/12/2022</td>\n",
       "    </tr>\n",
       "    <tr>\n",
       "      <th>660</th>\n",
       "      <td>2761</td>\n",
       "      <td>KA010</td>\n",
       "      <td>shahanaz.muskan</td>\n",
       "      <td>Shahanaz</td>\n",
       "      <td>Muskan</td>\n",
       "      <td>shahanazmuskan4@gmail.com</td>\n",
       "      <td>Sri Sathya Sai Baba Higher Primary and High Sc...</td>\n",
       "      <td>III KSSE English</td>\n",
       "      <td>NaN</td>\n",
       "      <td>2022-12-05 08:12:07</td>\n",
       "      <td>3</td>\n",
       "      <td>KSSE</td>\n",
       "      <td>English</td>\n",
       "      <td>05/12/2022</td>\n",
       "    </tr>\n",
       "    <tr>\n",
       "      <th>661</th>\n",
       "      <td>2761</td>\n",
       "      <td>KA010</td>\n",
       "      <td>shahanaz.muskan</td>\n",
       "      <td>Shahanaz</td>\n",
       "      <td>Muskan</td>\n",
       "      <td>shahanazmuskan4@gmail.com</td>\n",
       "      <td>Sri Sathya Sai Baba Higher Primary and High Sc...</td>\n",
       "      <td>III KSSE English</td>\n",
       "      <td>NaN</td>\n",
       "      <td>2022-12-05 06:57:23</td>\n",
       "      <td>3</td>\n",
       "      <td>KSSE</td>\n",
       "      <td>English</td>\n",
       "      <td>05/12/2022</td>\n",
       "    </tr>\n",
       "    <tr>\n",
       "      <th>662</th>\n",
       "      <td>2761</td>\n",
       "      <td>KA010</td>\n",
       "      <td>shahanaz.muskan</td>\n",
       "      <td>Shahanaz</td>\n",
       "      <td>Muskan</td>\n",
       "      <td>shahanazmuskan4@gmail.com</td>\n",
       "      <td>Sri Sathya Sai Baba Higher Primary and High Sc...</td>\n",
       "      <td>III KSSE English</td>\n",
       "      <td>NaN</td>\n",
       "      <td>2022-12-05 06:57:26</td>\n",
       "      <td>3</td>\n",
       "      <td>KSSE</td>\n",
       "      <td>English</td>\n",
       "      <td>05/12/2022</td>\n",
       "    </tr>\n",
       "    <tr>\n",
       "      <th>663</th>\n",
       "      <td>2761</td>\n",
       "      <td>KA010</td>\n",
       "      <td>shahanaz.muskan</td>\n",
       "      <td>Shahanaz</td>\n",
       "      <td>Muskan</td>\n",
       "      <td>shahanazmuskan4@gmail.com</td>\n",
       "      <td>Sri Sathya Sai Baba Higher Primary and High Sc...</td>\n",
       "      <td>III KSSE English</td>\n",
       "      <td>NaN</td>\n",
       "      <td>2022-12-05 08:16:00</td>\n",
       "      <td>3</td>\n",
       "      <td>KSSE</td>\n",
       "      <td>English</td>\n",
       "      <td>05/12/2022</td>\n",
       "    </tr>\n",
       "    <tr>\n",
       "      <th>664</th>\n",
       "      <td>2761</td>\n",
       "      <td>KA010</td>\n",
       "      <td>shahanaz.muskan</td>\n",
       "      <td>Shahanaz</td>\n",
       "      <td>Muskan</td>\n",
       "      <td>shahanazmuskan4@gmail.com</td>\n",
       "      <td>Sri Sathya Sai Baba Higher Primary and High Sc...</td>\n",
       "      <td>III KSSE English</td>\n",
       "      <td>NaN</td>\n",
       "      <td>2022-12-05 08:16:08</td>\n",
       "      <td>3</td>\n",
       "      <td>KSSE</td>\n",
       "      <td>English</td>\n",
       "      <td>05/12/2022</td>\n",
       "    </tr>\n",
       "    <tr>\n",
       "      <th>665</th>\n",
       "      <td>2761</td>\n",
       "      <td>KA010</td>\n",
       "      <td>shahanaz.muskan</td>\n",
       "      <td>Shahanaz</td>\n",
       "      <td>Muskan</td>\n",
       "      <td>shahanazmuskan4@gmail.com</td>\n",
       "      <td>Sri Sathya Sai Baba Higher Primary and High Sc...</td>\n",
       "      <td>III KSSE English</td>\n",
       "      <td>NaN</td>\n",
       "      <td>2022-12-05 08:17:03</td>\n",
       "      <td>3</td>\n",
       "      <td>KSSE</td>\n",
       "      <td>English</td>\n",
       "      <td>05/12/2022</td>\n",
       "    </tr>\n",
       "    <tr>\n",
       "      <th>666</th>\n",
       "      <td>2761</td>\n",
       "      <td>KA010</td>\n",
       "      <td>shahanaz.muskan</td>\n",
       "      <td>Shahanaz</td>\n",
       "      <td>Muskan</td>\n",
       "      <td>shahanazmuskan4@gmail.com</td>\n",
       "      <td>Sri Sathya Sai Baba Higher Primary and High Sc...</td>\n",
       "      <td>III KSSE English</td>\n",
       "      <td>NaN</td>\n",
       "      <td>2022-12-05 08:17:27</td>\n",
       "      <td>3</td>\n",
       "      <td>KSSE</td>\n",
       "      <td>English</td>\n",
       "      <td>05/12/2022</td>\n",
       "    </tr>\n",
       "    <tr>\n",
       "      <th>667</th>\n",
       "      <td>2761</td>\n",
       "      <td>KA010</td>\n",
       "      <td>shahanaz.muskan</td>\n",
       "      <td>Shahanaz</td>\n",
       "      <td>Muskan</td>\n",
       "      <td>shahanazmuskan4@gmail.com</td>\n",
       "      <td>Sri Sathya Sai Baba Higher Primary and High Sc...</td>\n",
       "      <td>III KSSE English</td>\n",
       "      <td>NaN</td>\n",
       "      <td>2022-12-05 09:27:41</td>\n",
       "      <td>3</td>\n",
       "      <td>KSSE</td>\n",
       "      <td>English</td>\n",
       "      <td>05/12/2022</td>\n",
       "    </tr>\n",
       "    <tr>\n",
       "      <th>668</th>\n",
       "      <td>2761</td>\n",
       "      <td>KA010</td>\n",
       "      <td>shahanaz.muskan</td>\n",
       "      <td>Shahanaz</td>\n",
       "      <td>Muskan</td>\n",
       "      <td>shahanazmuskan4@gmail.com</td>\n",
       "      <td>Sri Sathya Sai Baba Higher Primary and High Sc...</td>\n",
       "      <td>III KSSE English</td>\n",
       "      <td>NaN</td>\n",
       "      <td>2022-12-05 09:27:45</td>\n",
       "      <td>3</td>\n",
       "      <td>KSSE</td>\n",
       "      <td>English</td>\n",
       "      <td>05/12/2022</td>\n",
       "    </tr>\n",
       "    <tr>\n",
       "      <th>669</th>\n",
       "      <td>2761</td>\n",
       "      <td>KA010</td>\n",
       "      <td>shahanaz.muskan</td>\n",
       "      <td>Shahanaz</td>\n",
       "      <td>Muskan</td>\n",
       "      <td>shahanazmuskan4@gmail.com</td>\n",
       "      <td>Sri Sathya Sai Baba Higher Primary and High Sc...</td>\n",
       "      <td>III KSSE English</td>\n",
       "      <td>NaN</td>\n",
       "      <td>2022-12-05 09:28:19</td>\n",
       "      <td>3</td>\n",
       "      <td>KSSE</td>\n",
       "      <td>English</td>\n",
       "      <td>05/12/2022</td>\n",
       "    </tr>\n",
       "    <tr>\n",
       "      <th>670</th>\n",
       "      <td>2761</td>\n",
       "      <td>KA010</td>\n",
       "      <td>shahanaz.muskan</td>\n",
       "      <td>Shahanaz</td>\n",
       "      <td>Muskan</td>\n",
       "      <td>shahanazmuskan4@gmail.com</td>\n",
       "      <td>Sri Sathya Sai Baba Higher Primary and High Sc...</td>\n",
       "      <td>III KSSE English</td>\n",
       "      <td>NaN</td>\n",
       "      <td>2022-12-05 09:28:23</td>\n",
       "      <td>3</td>\n",
       "      <td>KSSE</td>\n",
       "      <td>English</td>\n",
       "      <td>05/12/2022</td>\n",
       "    </tr>\n",
       "    <tr>\n",
       "      <th>762</th>\n",
       "      <td>559</td>\n",
       "      <td>KA015</td>\n",
       "      <td>sarala_b</td>\n",
       "      <td>Sarala</td>\n",
       "      <td>B</td>\n",
       "      <td>saralamma200@gmail.com</td>\n",
       "      <td>Sri Sathya Sai Vidyaniketan, Bagepalli</td>\n",
       "      <td>IX CBSE Maths</td>\n",
       "      <td>NaN</td>\n",
       "      <td>2022-12-06 05:07:35</td>\n",
       "      <td>9</td>\n",
       "      <td>CBSE</td>\n",
       "      <td>Maths</td>\n",
       "      <td>06/12/2022</td>\n",
       "    </tr>\n",
       "    <tr>\n",
       "      <th>763</th>\n",
       "      <td>559</td>\n",
       "      <td>KA015</td>\n",
       "      <td>sarala_b</td>\n",
       "      <td>Sarala</td>\n",
       "      <td>B</td>\n",
       "      <td>saralamma200@gmail.com</td>\n",
       "      <td>Sri Sathya Sai Vidyaniketan, Bagepalli</td>\n",
       "      <td>IX CBSE Maths</td>\n",
       "      <td>NaN</td>\n",
       "      <td>2022-12-06 05:07:36</td>\n",
       "      <td>9</td>\n",
       "      <td>CBSE</td>\n",
       "      <td>Maths</td>\n",
       "      <td>06/12/2022</td>\n",
       "    </tr>\n",
       "    <tr>\n",
       "      <th>764</th>\n",
       "      <td>559</td>\n",
       "      <td>KA015</td>\n",
       "      <td>sarala_b</td>\n",
       "      <td>Sarala</td>\n",
       "      <td>B</td>\n",
       "      <td>saralamma200@gmail.com</td>\n",
       "      <td>Sri Sathya Sai Vidyaniketan, Bagepalli</td>\n",
       "      <td>IX KSSE Maths</td>\n",
       "      <td>NaN</td>\n",
       "      <td>2022-12-02 09:49:46</td>\n",
       "      <td>9</td>\n",
       "      <td>KSSE</td>\n",
       "      <td>Maths</td>\n",
       "      <td>02/12/2022</td>\n",
       "    </tr>\n",
       "  </tbody>\n",
       "</table>\n",
       "</div>"
      ],
      "text/plain": [
       "       id idnumber          username  firstname   lastname  \\\n",
       "58   1148    KA002           bdr.t26    ANTHONY     JEROME   \n",
       "59   1148    KA002           bdr.t26    ANTHONY     JEROME   \n",
       "137  2236    KA002           bdr.t07   Bharathi        T G   \n",
       "138  2236    KA002           bdr.t07   Bharathi        T G   \n",
       "139  2236    KA002           bdr.t07   Bharathi        T G   \n",
       "158  2724    KA002     poornima.bdht   Poornima          N   \n",
       "159  2724    KA002     poornima.bdht   Poornima          N   \n",
       "160  2724    KA002     poornima.bdht   Poornima          N   \n",
       "161  2724    KA002     poornima.bdht   Poornima          N   \n",
       "162  2724    KA002     poornima.bdht   Poornima          N   \n",
       "163  2724    KA002     poornima.bdht   Poornima          N   \n",
       "164  2724    KA002     poornima.bdht   Poornima          N   \n",
       "221   649    KA006      anusha_hegde     Anusha      Hegde   \n",
       "269  1573    KA007   jyoti_kurawatti      Jyoti  Kurawatti   \n",
       "270  1573    KA007   jyoti_kurawatti      Jyoti  Kurawatti   \n",
       "360  2135    KA007  malashree.nayyar  Malashree     Nayyar   \n",
       "361  2135    KA007  malashree.nayyar  Malashree     Nayyar   \n",
       "362  2135    KA007  malashree.nayyar  Malashree     Nayyar   \n",
       "363  2135    KA007  malashree.nayyar  Malashree     Nayyar   \n",
       "364  2135    KA007  malashree.nayyar  Malashree     Nayyar   \n",
       "365  2135    KA007  malashree.nayyar  Malashree     Nayyar   \n",
       "642  2761    KA010   shahanaz.muskan   Shahanaz     Muskan   \n",
       "643  2761    KA010   shahanaz.muskan   Shahanaz     Muskan   \n",
       "644  2761    KA010   shahanaz.muskan   Shahanaz     Muskan   \n",
       "645  2761    KA010   shahanaz.muskan   Shahanaz     Muskan   \n",
       "646  2761    KA010   shahanaz.muskan   Shahanaz     Muskan   \n",
       "647  2761    KA010   shahanaz.muskan   Shahanaz     Muskan   \n",
       "648  2761    KA010   shahanaz.muskan   Shahanaz     Muskan   \n",
       "649  2761    KA010   shahanaz.muskan   Shahanaz     Muskan   \n",
       "650  2761    KA010   shahanaz.muskan   Shahanaz     Muskan   \n",
       "651  2761    KA010   shahanaz.muskan   Shahanaz     Muskan   \n",
       "652  2761    KA010   shahanaz.muskan   Shahanaz     Muskan   \n",
       "653  2761    KA010   shahanaz.muskan   Shahanaz     Muskan   \n",
       "654  2761    KA010   shahanaz.muskan   Shahanaz     Muskan   \n",
       "655  2761    KA010   shahanaz.muskan   Shahanaz     Muskan   \n",
       "656  2761    KA010   shahanaz.muskan   Shahanaz     Muskan   \n",
       "657  2761    KA010   shahanaz.muskan   Shahanaz     Muskan   \n",
       "658  2761    KA010   shahanaz.muskan   Shahanaz     Muskan   \n",
       "659  2761    KA010   shahanaz.muskan   Shahanaz     Muskan   \n",
       "660  2761    KA010   shahanaz.muskan   Shahanaz     Muskan   \n",
       "661  2761    KA010   shahanaz.muskan   Shahanaz     Muskan   \n",
       "662  2761    KA010   shahanaz.muskan   Shahanaz     Muskan   \n",
       "663  2761    KA010   shahanaz.muskan   Shahanaz     Muskan   \n",
       "664  2761    KA010   shahanaz.muskan   Shahanaz     Muskan   \n",
       "665  2761    KA010   shahanaz.muskan   Shahanaz     Muskan   \n",
       "666  2761    KA010   shahanaz.muskan   Shahanaz     Muskan   \n",
       "667  2761    KA010   shahanaz.muskan   Shahanaz     Muskan   \n",
       "668  2761    KA010   shahanaz.muskan   Shahanaz     Muskan   \n",
       "669  2761    KA010   shahanaz.muskan   Shahanaz     Muskan   \n",
       "670  2761    KA010   shahanaz.muskan   Shahanaz     Muskan   \n",
       "762   559    KA015          sarala_b     Sarala          B   \n",
       "763   559    KA015          sarala_b     Sarala          B   \n",
       "764   559    KA015          sarala_b     Sarala          B   \n",
       "\n",
       "                           email  \\\n",
       "58   anthonyjerome1479@gmail.com   \n",
       "59   anthonyjerome1479@gmail.com   \n",
       "137   bharathinataraja@gmail.com   \n",
       "138   bharathinataraja@gmail.com   \n",
       "139   bharathinataraja@gmail.com   \n",
       "158   Poornanithya0625@gmail.com   \n",
       "159   Poornanithya0625@gmail.com   \n",
       "160   Poornanithya0625@gmail.com   \n",
       "161   Poornanithya0625@gmail.com   \n",
       "162   Poornanithya0625@gmail.com   \n",
       "163   Poornanithya0625@gmail.com   \n",
       "164   Poornanithya0625@gmail.com   \n",
       "221        anusha.sdp5@gmail.com   \n",
       "269  jyoti.d.kurawatti@gmail.com   \n",
       "270  jyoti.d.kurawatti@gmail.com   \n",
       "360    malashreenayyar@gmail.com   \n",
       "361    malashreenayyar@gmail.com   \n",
       "362    malashreenayyar@gmail.com   \n",
       "363    malashreenayyar@gmail.com   \n",
       "364    malashreenayyar@gmail.com   \n",
       "365    malashreenayyar@gmail.com   \n",
       "642    shahanazmuskan4@gmail.com   \n",
       "643    shahanazmuskan4@gmail.com   \n",
       "644    shahanazmuskan4@gmail.com   \n",
       "645    shahanazmuskan4@gmail.com   \n",
       "646    shahanazmuskan4@gmail.com   \n",
       "647    shahanazmuskan4@gmail.com   \n",
       "648    shahanazmuskan4@gmail.com   \n",
       "649    shahanazmuskan4@gmail.com   \n",
       "650    shahanazmuskan4@gmail.com   \n",
       "651    shahanazmuskan4@gmail.com   \n",
       "652    shahanazmuskan4@gmail.com   \n",
       "653    shahanazmuskan4@gmail.com   \n",
       "654    shahanazmuskan4@gmail.com   \n",
       "655    shahanazmuskan4@gmail.com   \n",
       "656    shahanazmuskan4@gmail.com   \n",
       "657    shahanazmuskan4@gmail.com   \n",
       "658    shahanazmuskan4@gmail.com   \n",
       "659    shahanazmuskan4@gmail.com   \n",
       "660    shahanazmuskan4@gmail.com   \n",
       "661    shahanazmuskan4@gmail.com   \n",
       "662    shahanazmuskan4@gmail.com   \n",
       "663    shahanazmuskan4@gmail.com   \n",
       "664    shahanazmuskan4@gmail.com   \n",
       "665    shahanazmuskan4@gmail.com   \n",
       "666    shahanazmuskan4@gmail.com   \n",
       "667    shahanazmuskan4@gmail.com   \n",
       "668    shahanazmuskan4@gmail.com   \n",
       "669    shahanazmuskan4@gmail.com   \n",
       "670    shahanazmuskan4@gmail.com   \n",
       "762       saralamma200@gmail.com   \n",
       "763       saralamma200@gmail.com   \n",
       "764       saralamma200@gmail.com   \n",
       "\n",
       "                                           institution         shortname  \\\n",
       "58   Sri Sathya Sai Academy of Integrated Education...  III KSSE English   \n",
       "59   Sri Sathya Sai Academy of Integrated Education...  III KSSE English   \n",
       "137  Sri Sathya Sai Academy of Integrated Education...    VII CBSE Maths   \n",
       "138  Sri Sathya Sai Academy of Integrated Education...    VII CBSE Maths   \n",
       "139  Sri Sathya Sai Academy of Integrated Education...    VII CBSE Maths   \n",
       "158  Sri Sathya Sai Academy of Integrated Education...     IV CBSE Maths   \n",
       "159  Sri Sathya Sai Academy of Integrated Education...     IV CBSE Maths   \n",
       "160  Sri Sathya Sai Academy of Integrated Education...     IV CBSE Maths   \n",
       "161  Sri Sathya Sai Academy of Integrated Education...     IV CBSE Maths   \n",
       "162  Sri Sathya Sai Academy of Integrated Education...     IV CBSE Maths   \n",
       "163  Sri Sathya Sai Academy of Integrated Education...     IV CBSE Maths   \n",
       "164  Sri Sathya Sai Academy of Integrated Education...     IV CBSE Maths   \n",
       "221         Prashanti English Medium School, Siddapura  III KSSE English   \n",
       "269        Sri Sathya Sai Vidya Mandir School, Dharwad       IV CBSE EVS   \n",
       "270        Sri Sathya Sai Vidya Mandir School, Dharwad       IV CBSE EVS   \n",
       "360        Sri Sathya Sai Vidya Mandir School, Dharwad        V CBSE EVS   \n",
       "361        Sri Sathya Sai Vidya Mandir School, Dharwad        V CBSE EVS   \n",
       "362        Sri Sathya Sai Vidya Mandir School, Dharwad        V CBSE EVS   \n",
       "363        Sri Sathya Sai Vidya Mandir School, Dharwad        V CBSE EVS   \n",
       "364        Sri Sathya Sai Vidya Mandir School, Dharwad        V CBSE EVS   \n",
       "365        Sri Sathya Sai Vidya Mandir School, Dharwad        V CBSE EVS   \n",
       "642  Sri Sathya Sai Baba Higher Primary and High Sc...   Ii KSSE English   \n",
       "643  Sri Sathya Sai Baba Higher Primary and High Sc...   Ii KSSE English   \n",
       "644  Sri Sathya Sai Baba Higher Primary and High Sc...   Ii KSSE English   \n",
       "645  Sri Sathya Sai Baba Higher Primary and High Sc...  III KSSE English   \n",
       "646  Sri Sathya Sai Baba Higher Primary and High Sc...  III KSSE English   \n",
       "647  Sri Sathya Sai Baba Higher Primary and High Sc...  III KSSE English   \n",
       "648  Sri Sathya Sai Baba Higher Primary and High Sc...  III KSSE English   \n",
       "649  Sri Sathya Sai Baba Higher Primary and High Sc...  III KSSE English   \n",
       "650  Sri Sathya Sai Baba Higher Primary and High Sc...  III KSSE English   \n",
       "651  Sri Sathya Sai Baba Higher Primary and High Sc...   Ii KSSE English   \n",
       "652  Sri Sathya Sai Baba Higher Primary and High Sc...   Ii KSSE English   \n",
       "653  Sri Sathya Sai Baba Higher Primary and High Sc...  III KSSE English   \n",
       "654  Sri Sathya Sai Baba Higher Primary and High Sc...  III KSSE English   \n",
       "655  Sri Sathya Sai Baba Higher Primary and High Sc...  III KSSE English   \n",
       "656  Sri Sathya Sai Baba Higher Primary and High Sc...  III KSSE English   \n",
       "657  Sri Sathya Sai Baba Higher Primary and High Sc...  III KSSE English   \n",
       "658  Sri Sathya Sai Baba Higher Primary and High Sc...  III KSSE English   \n",
       "659  Sri Sathya Sai Baba Higher Primary and High Sc...  III KSSE English   \n",
       "660  Sri Sathya Sai Baba Higher Primary and High Sc...  III KSSE English   \n",
       "661  Sri Sathya Sai Baba Higher Primary and High Sc...  III KSSE English   \n",
       "662  Sri Sathya Sai Baba Higher Primary and High Sc...  III KSSE English   \n",
       "663  Sri Sathya Sai Baba Higher Primary and High Sc...  III KSSE English   \n",
       "664  Sri Sathya Sai Baba Higher Primary and High Sc...  III KSSE English   \n",
       "665  Sri Sathya Sai Baba Higher Primary and High Sc...  III KSSE English   \n",
       "666  Sri Sathya Sai Baba Higher Primary and High Sc...  III KSSE English   \n",
       "667  Sri Sathya Sai Baba Higher Primary and High Sc...  III KSSE English   \n",
       "668  Sri Sathya Sai Baba Higher Primary and High Sc...  III KSSE English   \n",
       "669  Sri Sathya Sai Baba Higher Primary and High Sc...  III KSSE English   \n",
       "670  Sri Sathya Sai Baba Higher Primary and High Sc...  III KSSE English   \n",
       "762             Sri Sathya Sai Vidyaniketan, Bagepalli     IX CBSE Maths   \n",
       "763             Sri Sathya Sai Vidyaniketan, Bagepalli     IX CBSE Maths   \n",
       "764             Sri Sathya Sai Vidyaniketan, Bagepalli     IX KSSE Maths   \n",
       "\n",
       "    resource viewed           timestamp Class Board  Subject        Date  \n",
       "58              NaN 2022-12-21 19:30:12     3  KSSE  English  21/12/2022  \n",
       "59              NaN 2022-12-21 19:30:18     3  KSSE  English  21/12/2022  \n",
       "137             NaN 2022-12-05 15:36:20     7  CBSE    Maths  05/12/2022  \n",
       "138             NaN 2022-12-05 15:36:32     7  CBSE    Maths  05/12/2022  \n",
       "139             NaN 2022-12-05 15:42:02     7  CBSE    Maths  05/12/2022  \n",
       "158             NaN 2022-12-04 09:37:46     4  CBSE    Maths  04/12/2022  \n",
       "159             NaN 2022-12-04 09:37:48     4  CBSE    Maths  04/12/2022  \n",
       "160             NaN 2022-12-05 13:11:28     4  CBSE    Maths  05/12/2022  \n",
       "161             NaN 2022-12-05 13:11:31     4  CBSE    Maths  05/12/2022  \n",
       "162             NaN 2022-12-05 14:30:23     4  CBSE    Maths  05/12/2022  \n",
       "163             NaN 2022-12-05 14:30:24     4  CBSE    Maths  05/12/2022  \n",
       "164             NaN 2022-12-05 14:57:37     4  CBSE    Maths  05/12/2022  \n",
       "221             NaN 2022-12-26 09:41:16     3  KSSE  English  26/12/2022  \n",
       "269             NaN 2022-12-09 10:33:41     4  CBSE      EVS  09/12/2022  \n",
       "270             NaN 2022-12-09 10:33:49     4  CBSE      EVS  09/12/2022  \n",
       "360             NaN 2022-12-09 06:41:05     5  CBSE      EVS  09/12/2022  \n",
       "361             NaN 2022-12-09 06:41:34     5  CBSE      EVS  09/12/2022  \n",
       "362             NaN 2022-12-09 06:41:55     5  CBSE      EVS  09/12/2022  \n",
       "363             NaN 2022-12-09 06:42:04     5  CBSE      EVS  09/12/2022  \n",
       "364             NaN 2022-12-09 06:42:10     5  CBSE      EVS  09/12/2022  \n",
       "365             NaN 2022-12-13 05:02:24     5  CBSE      EVS  13/12/2022  \n",
       "642             NaN 2022-12-05 09:32:24     2  KSSE  English  05/12/2022  \n",
       "643             NaN 2022-12-05 09:32:29     2  KSSE  English  05/12/2022  \n",
       "644             NaN 2022-12-05 09:32:31     2  KSSE  English  05/12/2022  \n",
       "645             NaN 2022-12-05 06:57:39     3  KSSE  English  05/12/2022  \n",
       "646             NaN 2022-12-05 06:57:49     3  KSSE  English  05/12/2022  \n",
       "647             NaN 2022-12-05 07:02:05     3  KSSE  English  05/12/2022  \n",
       "648             NaN 2022-12-05 07:02:18     3  KSSE  English  05/12/2022  \n",
       "649             NaN 2022-12-05 07:02:30     3  KSSE  English  05/12/2022  \n",
       "650             NaN 2022-12-05 07:02:48     3  KSSE  English  05/12/2022  \n",
       "651             NaN 2022-12-05 09:33:22     2  KSSE  English  05/12/2022  \n",
       "652             NaN 2022-12-05 09:33:26     2  KSSE  English  05/12/2022  \n",
       "653             NaN 2022-12-05 08:10:36     3  KSSE  English  05/12/2022  \n",
       "654             NaN 2022-12-05 08:10:43     3  KSSE  English  05/12/2022  \n",
       "655             NaN 2022-12-02 06:12:52     3  KSSE  English  02/12/2022  \n",
       "656             NaN 2022-12-02 06:12:57     3  KSSE  English  02/12/2022  \n",
       "657             NaN 2022-12-05 06:57:01     3  KSSE  English  05/12/2022  \n",
       "658             NaN 2022-12-05 06:57:03     3  KSSE  English  05/12/2022  \n",
       "659             NaN 2022-12-05 08:12:05     3  KSSE  English  05/12/2022  \n",
       "660             NaN 2022-12-05 08:12:07     3  KSSE  English  05/12/2022  \n",
       "661             NaN 2022-12-05 06:57:23     3  KSSE  English  05/12/2022  \n",
       "662             NaN 2022-12-05 06:57:26     3  KSSE  English  05/12/2022  \n",
       "663             NaN 2022-12-05 08:16:00     3  KSSE  English  05/12/2022  \n",
       "664             NaN 2022-12-05 08:16:08     3  KSSE  English  05/12/2022  \n",
       "665             NaN 2022-12-05 08:17:03     3  KSSE  English  05/12/2022  \n",
       "666             NaN 2022-12-05 08:17:27     3  KSSE  English  05/12/2022  \n",
       "667             NaN 2022-12-05 09:27:41     3  KSSE  English  05/12/2022  \n",
       "668             NaN 2022-12-05 09:27:45     3  KSSE  English  05/12/2022  \n",
       "669             NaN 2022-12-05 09:28:19     3  KSSE  English  05/12/2022  \n",
       "670             NaN 2022-12-05 09:28:23     3  KSSE  English  05/12/2022  \n",
       "762             NaN 2022-12-06 05:07:35     9  CBSE    Maths  06/12/2022  \n",
       "763             NaN 2022-12-06 05:07:36     9  CBSE    Maths  06/12/2022  \n",
       "764             NaN 2022-12-02 09:49:46     9  KSSE    Maths  02/12/2022  "
      ]
     },
     "execution_count": 566,
     "metadata": {},
     "output_type": "execute_result"
    }
   ],
   "source": [
    "master_views_resource_check[master_views_resource_check['resource viewed'].isnull()]"
   ]
  },
  {
   "cell_type": "code",
   "execution_count": 567,
   "id": "2b997ab4",
   "metadata": {},
   "outputs": [
    {
     "data": {
      "text/html": [
       "<div>\n",
       "<style scoped>\n",
       "    .dataframe tbody tr th:only-of-type {\n",
       "        vertical-align: middle;\n",
       "    }\n",
       "\n",
       "    .dataframe tbody tr th {\n",
       "        vertical-align: top;\n",
       "    }\n",
       "\n",
       "    .dataframe thead th {\n",
       "        text-align: right;\n",
       "    }\n",
       "</style>\n",
       "<table border=\"1\" class=\"dataframe\">\n",
       "  <thead>\n",
       "    <tr style=\"text-align: right;\">\n",
       "      <th></th>\n",
       "      <th>id</th>\n",
       "      <th>idnumber</th>\n",
       "      <th>username</th>\n",
       "      <th>firstname</th>\n",
       "      <th>lastname</th>\n",
       "      <th>email</th>\n",
       "      <th>institution</th>\n",
       "      <th>shortname</th>\n",
       "      <th>resource viewed</th>\n",
       "      <th>timestamp</th>\n",
       "      <th>Class</th>\n",
       "      <th>Board</th>\n",
       "      <th>Subject</th>\n",
       "      <th>Date</th>\n",
       "    </tr>\n",
       "  </thead>\n",
       "  <tbody>\n",
       "  </tbody>\n",
       "</table>\n",
       "</div>"
      ],
      "text/plain": [
       "Empty DataFrame\n",
       "Columns: [id, idnumber, username, firstname, lastname, email, institution, shortname, resource viewed, timestamp, Class, Board, Subject, Date]\n",
       "Index: []"
      ]
     },
     "execution_count": 567,
     "metadata": {},
     "output_type": "execute_result"
    }
   ],
   "source": [
    "master_views_resource_check['resource viewed'] = master_views_resource_check['resource viewed'].fillna(\"Not Entered\")\n",
    "master_views_resource_check[master_views_resource_check['resource viewed'].isnull()]"
   ]
  },
  {
   "cell_type": "code",
   "execution_count": 568,
   "id": "5dd58872",
   "metadata": {},
   "outputs": [
    {
     "data": {
      "text/plain": [
       "MLP              1616\n",
       "CCDP              357\n",
       "Learning Aids      30\n",
       "Name: Content Type, dtype: int64"
      ]
     },
     "execution_count": 568,
     "metadata": {},
     "output_type": "execute_result"
    }
   ],
   "source": [
    "import re\n",
    "\n",
    "# create function to categorize content type\n",
    "def categorize(value):\n",
    "    if 'CCDP' in value:\n",
    "        return 'CCDP'\n",
    "    elif re.search(r'(.pptx|.ppt|.mp4|MP4|.mp3)$',value):\n",
    "        return 'MM Teaching Aids'\n",
    "    #elif re.search(r'(QA\\s|Worksheet|worksheet|Activity|Sheet$)',value):\n",
    "        #return 'Learning Aids'\n",
    "    #elif re.search(r'(\\d{2}\\s[A-Z]{2}\\s|Worksheet|worksheet|Activity|Sheet$)',value):\n",
    "        #return 'Learning Aids'\n",
    "    #elif re.search(r'(SA\\s|Worksheet|worksheet|Activity|Sheet$)',value):\n",
    "        #return 'Learning Aids'\n",
    "    elif re.search(r'(docx|Worksheet|worksheet|Sheet$)',value):\n",
    "        return 'Learning Aids'\n",
    "    elif re.search(r'(.docx)$',value):\n",
    "        return 'Learning Aids'\n",
    "    else:\n",
    "        return 'MLP'\n",
    "\n",
    "# apply function to create new column\n",
    "master_views_resource_check['Content Type'] = master_views_resource_check['resource viewed'].apply(categorize)\n",
    "\n",
    "master_views_resource_check['Content Type'].value_counts()"
   ]
  },
  {
   "cell_type": "markdown",
   "id": "26403c70",
   "metadata": {},
   "source": [
    "#### Create File format type column"
   ]
  },
  {
   "cell_type": "code",
   "execution_count": 569,
   "id": "def79114",
   "metadata": {},
   "outputs": [
    {
     "data": {
      "text/plain": [
       "Unkown    2003\n",
       "Name: File Format Type, dtype: int64"
      ]
     },
     "execution_count": 569,
     "metadata": {},
     "output_type": "execute_result"
    }
   ],
   "source": [
    "import re\n",
    "\n",
    "# create function to categorize Asset type\n",
    "def categorize(value):\n",
    "    if '.xlsx' in value:\n",
    "        return 'Spreadsheet'\n",
    "    elif re.search(r'(.pptx|.ppt)',value):\n",
    "        return 'PPT slide'\n",
    "    elif re.search(r'(.mp4|MP4|.mp3)$',value):\n",
    "        return 'Audio'\n",
    "    elif 'pdf' in value:\n",
    "        return 'PDF'\n",
    "    elif 'docx' in value:\n",
    "        return 'Word document'\n",
    "    else:\n",
    "        return 'Unkown'\n",
    "\n",
    "# apply function to create new column\n",
    "master_views_resource_check['File Format Type'] = master_views_resource_check['resource viewed'].apply(categorize)\n",
    "\n",
    "master_views_resource_check['File Format Type'].value_counts()"
   ]
  },
  {
   "cell_type": "markdown",
   "id": "3886f952",
   "metadata": {},
   "source": [
    "#### Create Asset type column"
   ]
  },
  {
   "cell_type": "code",
   "execution_count": 570,
   "id": "b2e68c95",
   "metadata": {},
   "outputs": [
    {
     "data": {
      "text/plain": [
       "Not Mentioned         1591\n",
       "CCDP                   357\n",
       "Question to Assess      35\n",
       "Suggested Activity      19\n",
       "AS                       1\n",
       "Name: Asset Type, dtype: int64"
      ]
     },
     "execution_count": 570,
     "metadata": {},
     "output_type": "execute_result"
    }
   ],
   "source": [
    "import re\n",
    "\n",
    "# create function to categorize Asset type\n",
    "def categorize(value):\n",
    "    if 'MS' in value:\n",
    "        return 'Main Script'\n",
    "    elif 'DD' in value:\n",
    "        return 'Day to Day Relevance'\n",
    "    elif 'QA' in value:\n",
    "        return 'Question to Assess'\n",
    "    elif 'VC' in value:\n",
    "        return 'Value Content'\n",
    "    elif 'IA' in value:\n",
    "        return 'Interesting Asides'\n",
    "    elif 'IQ' in value:\n",
    "        return 'Inquisitive Questions'\n",
    "    elif 'SA' in value:\n",
    "        return 'Suggested Activity'\n",
    "    elif 'CCDP' in value:\n",
    "        return 'CCDP'\n",
    "    elif 'LA' in value:\n",
    "        return 'LA'\n",
    "    elif 'TA' in value:\n",
    "        return 'TA'\n",
    "    elif 'MT' in value:\n",
    "        return 'MT'\n",
    "    elif 'AS' in value:\n",
    "        return 'AS'\n",
    "    elif 'pdf' in value:\n",
    "        return 'Master Lesson Plan'\n",
    "    else:\n",
    "        return 'Not Mentioned'\n",
    "\n",
    "# apply function to create new column\n",
    "master_views_resource_check['Asset Type'] = master_views_resource_check['resource viewed'].apply(categorize)\n",
    "\n",
    "master_views_resource_check['Asset Type'].value_counts()"
   ]
  },
  {
   "cell_type": "code",
   "execution_count": 229,
   "id": "6412aa60",
   "metadata": {},
   "outputs": [],
   "source": [
    "#master_views_check[master_views_check['Asset Type']=='Not Mentioned']"
   ]
  },
  {
   "cell_type": "code",
   "execution_count": null,
   "id": "11f800fe",
   "metadata": {},
   "outputs": [],
   "source": []
  },
  {
   "cell_type": "markdown",
   "id": "afbe3aef",
   "metadata": {},
   "source": [
    "#### Clean resource viewed column"
   ]
  },
  {
   "cell_type": "code",
   "execution_count": 230,
   "id": "f8408e06",
   "metadata": {},
   "outputs": [
    {
     "name": "stdout",
     "output_type": "stream",
     "text": [
      "VII - The Roman Empire -> I - The Roman Empire\n",
      "IV - The Dark Ages -> - The Dark Ages\n",
      "V - The Renaissance -> - The Renaissance\n",
      "I - The Origins of Civilization -> I - The Origins of Civilization\n",
      "IX - The Age of Exploration -> - The Age of Exploration\n",
      "X - The Modern World -> - The Modern World\n",
      "Introduction -> Introduction\n",
      "Vijaynagar Empire -> Vijaynagar Empire\n",
      "CCDP English Language Arts -> Language Arts\n",
      "SA History and Culture -> History and Culture\n",
      "Class X Mathematics - Chapter 1 -> - 1\n",
      "CBSE Class IX Physics - Chapter 3 -> Physics - 3\n",
      "KSSE Biology - Grade 9 -> Biology - 9\n",
      "STD X English Grammar -> STD Grammar\n",
      "5 Digit Numbers -> 5 Digit Numbers\n",
      "CCDP KSSE Mathematics STD V 5-Digit Numbers -> 5-Digit Numbers\n",
      "Grade 5 Science -> 5 Science\n",
      "A snake charmer&#039;s story -> A snake charmer&#039;s story\n",
      "Multiplication 2 -> Multiplication 2\n",
      "Hu Tu Tu Hu Tu Tu -> Hu Tu Tu Hu Tu Tu\n",
      "CCDP KSSE Social Science STD VIII Atmosphere -> Atmosphere\n",
      "03 QA Testing Usage of Nouns Worksheet. -> Testing Usage of Nouns Worksheet\n",
      "CCDP KSSE Mathematics STD VIII Cube and Cube Roots -> Cube and Cube Roots\n",
      "Herons Formula -> Herons Formula\n",
      "CCDP KSSE Mathematics STD IX Herons Formula -> Herons Formula\n",
      "A day in the garden -> A day in the garden\n",
      "Honey sweet honey -> Honey sweet honey\n",
      "Atmosphere -> Atmosphere\n",
      "CCDP KSSE Social Science STD VIII Atmosphere -> Atmosphere\n",
      "Comprehension -> Comprehension\n",
      "01 SA Picture Comprehension -> Picture Comprehension\n",
      "Tenses -> Tenses\n",
      "CCDP KSSE English STD III Tenses -> Tenses\n",
      "Prepositions -> Prepositions\n",
      "CCDP KSSE English STD IV Prepositions -> Prepositions\n",
      "Genders -> Genders\n",
      "I need these -> I need these\n"
     ]
    }
   ],
   "source": [
    "import re\n",
    "\n",
    "def clean_title(title):\n",
    "    # remove leading digits, two-letter asset code, board, subject, class in roman letters, STD\n",
    "    title = re.sub(r'(CCDP\\s|SA\\s|MS\\s|QA\\s|DD\\s|CBSE\\s|KSSE\\s|APSE\\s|Mathematics\\s|EVS\\s|Science\\s|Social Science\\s|English\\s|Class\\s|Grade\\s|Chapter\\s|\\d{2}\\s[A-Z]{2}\\s|STD\\sI\\s|II|STD\\sII\\s|STD\\sIII\\s|III|STD\\sIV\\s|IV|STD\\sV\\s|V\\s|STD\\sVI\\s|VI|STD\\sVII\\s|VII|STD\\sVIII\\s|VIII|STD\\sIX\\s|IX|X\\s)', '', title)\n",
    "    #title = re.sub(r'(CCDP\\s|SA\\s|MS\\s|QA\\s|DD\\s|CBSE\\s|KSSE\\s|APSE\\s|Mathematics\\s|EVS\\s|Science\\s|Social Science\\s|English\\s|Class\\s|Grade\\s|Chapter\\s|\\d{2}\\s[A-Z]{2}\\s|STD\\sI\\s|[VI]\\s|[-]\\s|II|STD\\sII\\s|STD\\sIII\\s|III|STD\\sIV\\s|IV\\s|STD\\sV\\s|V\\s|STD\\sVI\\s|VI|STD\\sVII\\s|VII|STD\\sVIII\\s|VIII|STD\\sIX\\s|IX\\s|X\\s|STD\\s|[''%&#;]|\\d{3})', '', title)\n",
    "    \n",
    "    \n",
    "    # remove trailing hyphens, spaces, and periods\n",
    "    title = re.sub(r'[-.\\s]*$', '', title)\n",
    "    title = re.sub(r'^\\s+ \\s$', '', title)\n",
    "    title = re.sub(r'^\\s+ ', '', title)\n",
    "\n",
    "    return title.strip()\n",
    "\n",
    "# test the function with some sample inputs\n",
    "titles = [\n",
    "    'VII - The Roman Empire',\n",
    "    'IV - The Dark Ages',\n",
    "    'V - The Renaissance',\n",
    "    'I - The Origins of Civilization',\n",
    "    'IX - The Age of Exploration',\n",
    "    'X - The Modern World',\n",
    "    'Introduction','Vijaynagar Empire',\n",
    "    'CCDP English Language Arts',\n",
    "    'SA History and Culture',\n",
    "    'Class X Mathematics - Chapter 1',\n",
    "    'CBSE Class IX Physics - Chapter 3',\n",
    "    'KSSE Biology - Grade 9',\n",
    "    'STD X English Grammar',\n",
    "    '5 Digit Numbers','CCDP KSSE Mathematics STD V 5-Digit Numbers',\n",
    "    'Grade 5 Science',\n",
    "    'A snake charmer&#039;s story',\n",
    "    'Multiplication 2',\n",
    "    'Hu Tu Tu Hu Tu Tu',\n",
    "    'CCDP KSSE Social Science STD VIII Atmosphere',\n",
    "    '03 QA Testing Usage of Nouns Worksheet.',\n",
    "    'CCDP KSSE Mathematics STD VIII Cube and Cube Roots',\n",
    "    'Herons Formula',\n",
    "    'CCDP KSSE Mathematics STD IX Herons Formula',\n",
    "    'A day in the garden',\n",
    "    'Honey sweet honey',\n",
    "    'Atmosphere',\n",
    "    'CCDP KSSE Social Science STD VIII Atmosphere',\n",
    "    'Comprehension',\n",
    "    '01 SA Picture Comprehension',\n",
    "    'Tenses',\n",
    "    'CCDP KSSE English STD III Tenses',\n",
    "    'Prepositions',\n",
    "    'CCDP KSSE English STD IV Prepositions',\n",
    "    'Genders','I need these'\n",
    "\n",
    "]\n",
    "\n",
    "for title in titles:\n",
    "    print(f\"{title} -> {clean_title(title)}\")\n"
   ]
  },
  {
   "cell_type": "code",
   "execution_count": 571,
   "id": "487717c2",
   "metadata": {},
   "outputs": [
    {
     "data": {
      "text/plain": [
       "Not Entered              53\n",
       "Verbs                    32\n",
       "Practical Geometry       29\n",
       "Comparing Quantities     29\n",
       "Data Handling            26\n",
       "                         ..\n",
       "5-Digit Numbers           1\n",
       "We Need a House           1\n",
       "Number 11 t0 20           1\n",
       "Measurement of Volume     1\n",
       "Number Systems            1\n",
       "Name: course module, Length: 433, dtype: int64"
      ]
     },
     "execution_count": 571,
     "metadata": {},
     "output_type": "execute_result"
    }
   ],
   "source": [
    "import re\n",
    "\n",
    "def clean_title(title):\n",
    "    # remove leading digits, two-letter asset code, board, subject, class in roman letters, STD\n",
    "    title = re.sub(r'(CCDP\\s|SA\\s|MS\\s|QA\\s|DD\\s|CBSE\\s|KSSE\\s|APSE\\s|Mathematics\\s|EVS\\s|Science\\s|Social Science\\s|English\\s|Class\\s|Grade\\s|Chapter\\s|\\d{2}\\s[A-Z]{2}\\s|STD\\sI\\s|II|STD\\sII\\s|STD\\sIII\\s|III|STD\\sIV\\s|IV|STD\\sV\\s|V\\s|STD\\sVI\\s|VI|STD\\sVII\\s|VII|STD\\sVIII\\s|VIII|STD\\sIX\\s|IX|X\\s)', '', title)\n",
    "    #title = re.sub(r'(CCDP\\s|SA\\s|MS\\s|QA\\s|DD\\s|CBSE\\s|KSSE\\s|APSE\\s|Mathematics\\s|EVS\\s|Science\\s|Social Science\\s|English\\s|Class\\s|Grade\\s|Chapter\\s|\\d{2}\\s[A-Z]{2}\\s|STD\\sI\\s|[VI]\\s|[-]\\s|II|STD\\sII\\s|STD\\sIII\\s|III|STD\\sIV\\s|IV\\s|STD\\sV\\s|V\\s|STD\\sVI\\s|VI|STD\\sVII\\s|VII|STD\\sVIII\\s|VIII|STD\\sIX\\s|IX\\s|X\\s|STD\\s|[''%&#;]|\\d{3})', '', title)\n",
    "    \n",
    "    # remove trailing hyphens, spaces, and periods\n",
    "    title = re.sub(r'[-.\\s]*$', '', title)\n",
    "    title = re.sub(r'^\\s+ \\s$', '', title)\n",
    "    title = re.sub(r'^\\s+ ', '', title)\n",
    "\n",
    "    return title.strip()\n",
    "\n",
    "#Apply the clean_text function to the 'resource viewed' column of the 'resource_check' dataframe \n",
    "\n",
    "master_views_resource_check['course module'] = master_views_resource_check['resource viewed'].apply(clean_title)\n",
    "\n",
    "master_views_resource_check['course module'].value_counts() \n",
    "#print(master_views_check)"
   ]
  },
  {
   "cell_type": "markdown",
   "id": "9eb45878",
   "metadata": {},
   "source": [
    "#### Correct Spelling"
   ]
  },
  {
   "cell_type": "markdown",
   "id": "8a88aa77",
   "metadata": {},
   "source": [
    "from spellchecker import SpellChecker\n",
    "import re\n",
    "\n",
    "#Initialize spell checker\n",
    "spell = SpellChecker()\n",
    "\n",
    "#Define a function to correct spelling mistakes in a string\n",
    "def correct_spelling(text):\n",
    "    # Split the text into words\n",
    "    words = re.findall(r'\\b\\w+\\b', text)\n",
    "    \n",
    "    # Find and correct misspelled words\n",
    "    corrected_words = []\n",
    "    for word in words:\n",
    "        corrected_word = spell.correction(word.lower())\n",
    "        if corrected_word is not None:\n",
    "            corrected_words.append(corrected_word)\n",
    "        else:\n",
    "            corrected_words.append(word)\n",
    "    \n",
    "    #Join the corrected words back into a single string\n",
    "    return \" \".join(corrected_words)\n",
    "\n",
    "#test the function with some sample inputs\n",
    "titles = [\n",
    "    'Stars and the solar system',\n",
    "    'My Neighbourhood',\n",
    "    'vijayanagara empire',\n",
    "    'Multiplication 2',\n",
    "    'Hu Tu Tu Hu Tu Tu',\n",
    "    'CCDP KSSE Social Science STD VIII Atmosphere',\n",
    "    '03 QA Testing Usage of Nouns Worksheet.',\n",
    "    'CCDP KSSE Social Science STD IX Our Constitution',\n",
    "    'India Political and Cultural',\n",
    "    'introduction to graph',\n",
    "    'exponents powers',\n",
    "    'Introduction','linear equations in two variables',\n",
    "    'Abdul in the Garden',\n",
    "    'numbers 1 t0 20',\n",
    "    'Eating Togerher','Reprosuction in Animals',\n",
    "    'A snake charmer&#039;s story','how many ponytails?'\n",
    "    \n",
    "]\n",
    "\n",
    "for title in titles:\n",
    "    print(f\"{title} -> {correct_spelling(title)}\")"
   ]
  },
  {
   "cell_type": "markdown",
   "id": "1cdcad46",
   "metadata": {},
   "source": [
    "from spellchecker import SpellChecker\n",
    "import re\n",
    "\n",
    "#Initialize spell checker\n",
    "spell = SpellChecker()\n",
    "\n",
    "#Define a function to correct spelling mistakes in a string\n",
    "def correct_spelling(text):\n",
    "    # Split the text into words\n",
    "    words = re.findall(r'\\b\\w+\\b', text)\n",
    "    \n",
    "    # Find and correct misspelled words\n",
    "    corrected_words = []\n",
    "    for word in words:\n",
    "        corrected_word = spell.correction(word.lower())\n",
    "        if corrected_word is not None:\n",
    "            corrected_words.append(corrected_word)\n",
    "        else:\n",
    "            corrected_words.append(word)\n",
    "    \n",
    "    #Join the corrected words back into a single string\n",
    "    return \" \".join(corrected_words)\n",
    "\n",
    "#Apply correct_spelling() function to 'chapter title' column\n",
    "resource_check['chapter title cleaned'] = resource_check['chapter title'].apply(correct_spelling)\n",
    "resource_check['chapter title cleaned'].value_counts()"
   ]
  },
  {
   "cell_type": "markdown",
   "id": "838e9766",
   "metadata": {},
   "source": [
    "#### Capitalize first letter"
   ]
  },
  {
   "cell_type": "markdown",
   "id": "0d09fed4",
   "metadata": {},
   "source": [
    "import re\n",
    "\n",
    "def clean_chapter_name(chapter_name):\n",
    "    # Exclude special characters and digits\n",
    "    chapter_name = re.sub(r\"(['%&#;]|\\d{3})\", \"\", chapter_name)\n",
    "    \n",
    "    # Capitalize first letters of each word\n",
    "    words = chapter_name.split()\n",
    "    for i, word in enumerate(words):\n",
    "        if word.lower() not in ['in', 'the', 'to', 'on', 'at', 'into', 'and','a','with','of']:\n",
    "            words[i] = word.title()\n",
    "    return \" \".join(words)\n",
    "\n",
    "#test the function with some sample inputs\n",
    "titles = [\n",
    "    'Stars and the solar system',\n",
    "    'My Neighbourhood',\n",
    "    'vijayanagara empire',\n",
    "    'Multiplication 2',\n",
    "    'Hu Tu Tu Hu Tu Tu',\n",
    "    'CCDP KSSE Social Science STD VIII Atmosphere',\n",
    "    '03 QA Testing Usage of Nouns Worksheet.',\n",
    "    'CCDP KSSE Social Science STD IX Our Constitution',\n",
    "    'India Political and Cultural',\n",
    "    'introduction to graph',\n",
    "    'exponents powers',\n",
    "    'Introduction','linear equations in two variables',\n",
    "    'Abdul in the Garden',\n",
    "    'numbers 1 t0 20',\n",
    "    'Eating Togerher','Reprosuction in Animals',\n",
    "    'A snake charmer&#039;s story','how many ponytails?'\n",
    "    \n",
    "]\n",
    "\n",
    "for title in titles:\n",
    "    print(f\"{title} -> {clean_chapter_name(title)}\")"
   ]
  },
  {
   "cell_type": "markdown",
   "id": "c863401d",
   "metadata": {},
   "source": [
    "def clean_chapter_name(chapter_name):\n",
    "    words = chapter_name.split()\n",
    "    for i, word in enumerate(words):\n",
    "        if i == 0 or word.lower() not in ['in','the' 'to', 'on', 'at', 'into', 'and','a','of','with','it','so','']:\n",
    "            words[i] = word.capitalize()\n",
    "    return \" \".join(words)\n",
    "#apply function to chapter_name_cleaneed column\n",
    "resource_check['chapter title cleaned'] = resource_check['chapter title cleaned'].apply(clean_chapter_name)\n",
    "\n",
    "resource_check['chapter title cleaned'].value_counts()"
   ]
  },
  {
   "cell_type": "code",
   "execution_count": 572,
   "id": "ae1254a5",
   "metadata": {},
   "outputs": [],
   "source": [
    "#Save the cleaned dataframe to an excel file\n",
    "master_views_resource_check.to_excel(r\"D:\\Side Hustles\\SSSVV activities\\SRC - Karnataka\\Monthly Reports\\master_views_check.xlsx\", index=False)"
   ]
  },
  {
   "cell_type": "markdown",
   "id": "6012ad46",
   "metadata": {},
   "source": [
    "### 5. Merge with current month data"
   ]
  },
  {
   "cell_type": "code",
   "execution_count": 573,
   "id": "98d60bb3",
   "metadata": {},
   "outputs": [],
   "source": [
    "master_views_resource_check_cleaned = master_views_resource_check.copy()"
   ]
  },
  {
   "cell_type": "code",
   "execution_count": 574,
   "id": "ab1dbfbe",
   "metadata": {},
   "outputs": [
    {
     "data": {
      "text/html": [
       "<div>\n",
       "<style scoped>\n",
       "    .dataframe tbody tr th:only-of-type {\n",
       "        vertical-align: middle;\n",
       "    }\n",
       "\n",
       "    .dataframe tbody tr th {\n",
       "        vertical-align: top;\n",
       "    }\n",
       "\n",
       "    .dataframe thead th {\n",
       "        text-align: right;\n",
       "    }\n",
       "</style>\n",
       "<table border=\"1\" class=\"dataframe\">\n",
       "  <thead>\n",
       "    <tr style=\"text-align: right;\">\n",
       "      <th></th>\n",
       "      <th>id</th>\n",
       "      <th>idnumber</th>\n",
       "      <th>username</th>\n",
       "      <th>firstname</th>\n",
       "      <th>lastname</th>\n",
       "      <th>email</th>\n",
       "      <th>institution</th>\n",
       "      <th>shortname</th>\n",
       "      <th>resource viewed</th>\n",
       "      <th>timestamp</th>\n",
       "      <th>Class</th>\n",
       "      <th>Board</th>\n",
       "      <th>Subject</th>\n",
       "      <th>Date</th>\n",
       "      <th>Content Type</th>\n",
       "      <th>File Format Type</th>\n",
       "      <th>Asset Type</th>\n",
       "      <th>course module</th>\n",
       "    </tr>\n",
       "  </thead>\n",
       "  <tbody>\n",
       "    <tr>\n",
       "      <th>0</th>\n",
       "      <td>1575</td>\n",
       "      <td>KA000</td>\n",
       "      <td>chithra_srikanth</td>\n",
       "      <td>Chithra</td>\n",
       "      <td>Srikanth</td>\n",
       "      <td>chithrasrikanth76@gmail.com</td>\n",
       "      <td>SSSVV KA Volunteer</td>\n",
       "      <td>VI CBSE Science</td>\n",
       "      <td>CCDP CBSE Science STD VI Fun with Magnets</td>\n",
       "      <td>2022-12-05 13:53:10</td>\n",
       "      <td>6</td>\n",
       "      <td>CBSE</td>\n",
       "      <td>Science</td>\n",
       "      <td>05/12/2022</td>\n",
       "      <td>CCDP</td>\n",
       "      <td>Unkown</td>\n",
       "      <td>CCDP</td>\n",
       "      <td>Fun with Magnets</td>\n",
       "    </tr>\n",
       "    <tr>\n",
       "      <th>1</th>\n",
       "      <td>1575</td>\n",
       "      <td>KA000</td>\n",
       "      <td>chithra_srikanth</td>\n",
       "      <td>Chithra</td>\n",
       "      <td>Srikanth</td>\n",
       "      <td>chithrasrikanth76@gmail.com</td>\n",
       "      <td>SSSVV KA Volunteer</td>\n",
       "      <td>VI CBSE Science</td>\n",
       "      <td>Fun with Magnets</td>\n",
       "      <td>2022-12-05 13:54:01</td>\n",
       "      <td>6</td>\n",
       "      <td>CBSE</td>\n",
       "      <td>Science</td>\n",
       "      <td>05/12/2022</td>\n",
       "      <td>MLP</td>\n",
       "      <td>Unkown</td>\n",
       "      <td>Not Mentioned</td>\n",
       "      <td>Fun with Magnets</td>\n",
       "    </tr>\n",
       "    <tr>\n",
       "      <th>2</th>\n",
       "      <td>637</td>\n",
       "      <td>KA001</td>\n",
       "      <td>shwetha_l</td>\n",
       "      <td>Shwetha</td>\n",
       "      <td>L C</td>\n",
       "      <td>shwethasunil87@gmail.com</td>\n",
       "      <td>Ananda Sai Shikshana Samsthe Shimoga</td>\n",
       "      <td>I CBSE EVS</td>\n",
       "      <td>My Neighbourhood</td>\n",
       "      <td>2022-12-05 05:04:53</td>\n",
       "      <td>1</td>\n",
       "      <td>CBSE</td>\n",
       "      <td>EVS</td>\n",
       "      <td>05/12/2022</td>\n",
       "      <td>MLP</td>\n",
       "      <td>Unkown</td>\n",
       "      <td>Not Mentioned</td>\n",
       "      <td>My Neighbourhood</td>\n",
       "    </tr>\n",
       "    <tr>\n",
       "      <th>3</th>\n",
       "      <td>637</td>\n",
       "      <td>KA001</td>\n",
       "      <td>shwetha_l</td>\n",
       "      <td>Shwetha</td>\n",
       "      <td>L C</td>\n",
       "      <td>shwethasunil87@gmail.com</td>\n",
       "      <td>Ananda Sai Shikshana Samsthe Shimoga</td>\n",
       "      <td>I CBSE EVS</td>\n",
       "      <td>My Neighbourhood</td>\n",
       "      <td>2022-12-05 05:04:55</td>\n",
       "      <td>1</td>\n",
       "      <td>CBSE</td>\n",
       "      <td>EVS</td>\n",
       "      <td>05/12/2022</td>\n",
       "      <td>MLP</td>\n",
       "      <td>Unkown</td>\n",
       "      <td>Not Mentioned</td>\n",
       "      <td>My Neighbourhood</td>\n",
       "    </tr>\n",
       "    <tr>\n",
       "      <th>4</th>\n",
       "      <td>637</td>\n",
       "      <td>KA001</td>\n",
       "      <td>shwetha_l</td>\n",
       "      <td>Shwetha</td>\n",
       "      <td>L C</td>\n",
       "      <td>shwethasunil87@gmail.com</td>\n",
       "      <td>Ananda Sai Shikshana Samsthe Shimoga</td>\n",
       "      <td>I CBSE EVS</td>\n",
       "      <td>Festivals</td>\n",
       "      <td>2022-12-14 05:09:06</td>\n",
       "      <td>1</td>\n",
       "      <td>CBSE</td>\n",
       "      <td>EVS</td>\n",
       "      <td>14/12/2022</td>\n",
       "      <td>MLP</td>\n",
       "      <td>Unkown</td>\n",
       "      <td>Not Mentioned</td>\n",
       "      <td>Festivals</td>\n",
       "    </tr>\n",
       "  </tbody>\n",
       "</table>\n",
       "</div>"
      ],
      "text/plain": [
       "     id idnumber          username firstname  lastname  \\\n",
       "0  1575    KA000  chithra_srikanth   Chithra  Srikanth   \n",
       "1  1575    KA000  chithra_srikanth   Chithra  Srikanth   \n",
       "2   637    KA001         shwetha_l   Shwetha       L C   \n",
       "3   637    KA001         shwetha_l   Shwetha       L C   \n",
       "4   637    KA001         shwetha_l   Shwetha       L C   \n",
       "\n",
       "                         email                           institution  \\\n",
       "0  chithrasrikanth76@gmail.com                    SSSVV KA Volunteer   \n",
       "1  chithrasrikanth76@gmail.com                    SSSVV KA Volunteer   \n",
       "2     shwethasunil87@gmail.com  Ananda Sai Shikshana Samsthe Shimoga   \n",
       "3     shwethasunil87@gmail.com  Ananda Sai Shikshana Samsthe Shimoga   \n",
       "4     shwethasunil87@gmail.com  Ananda Sai Shikshana Samsthe Shimoga   \n",
       "\n",
       "         shortname                            resource viewed  \\\n",
       "0  VI CBSE Science  CCDP CBSE Science STD VI Fun with Magnets   \n",
       "1  VI CBSE Science                           Fun with Magnets   \n",
       "2       I CBSE EVS                           My Neighbourhood   \n",
       "3       I CBSE EVS                           My Neighbourhood   \n",
       "4       I CBSE EVS                                  Festivals   \n",
       "\n",
       "            timestamp Class Board  Subject        Date Content Type  \\\n",
       "0 2022-12-05 13:53:10     6  CBSE  Science  05/12/2022         CCDP   \n",
       "1 2022-12-05 13:54:01     6  CBSE  Science  05/12/2022          MLP   \n",
       "2 2022-12-05 05:04:53     1  CBSE      EVS  05/12/2022          MLP   \n",
       "3 2022-12-05 05:04:55     1  CBSE      EVS  05/12/2022          MLP   \n",
       "4 2022-12-14 05:09:06     1  CBSE      EVS  14/12/2022          MLP   \n",
       "\n",
       "  File Format Type     Asset Type     course module  \n",
       "0           Unkown           CCDP  Fun with Magnets  \n",
       "1           Unkown  Not Mentioned  Fun with Magnets  \n",
       "2           Unkown  Not Mentioned  My Neighbourhood  \n",
       "3           Unkown  Not Mentioned  My Neighbourhood  \n",
       "4           Unkown  Not Mentioned         Festivals  "
      ]
     },
     "execution_count": 574,
     "metadata": {},
     "output_type": "execute_result"
    }
   ],
   "source": [
    "master_views_resource_check_cleaned.head()"
   ]
  },
  {
   "cell_type": "code",
   "execution_count": 580,
   "id": "24910351",
   "metadata": {},
   "outputs": [
    {
     "data": {
      "text/plain": [
       "(2003, 18)"
      ]
     },
     "execution_count": 580,
     "metadata": {},
     "output_type": "execute_result"
    }
   ],
   "source": [
    "master_views_resource_check_cleaned.shape"
   ]
  },
  {
   "cell_type": "code",
   "execution_count": 575,
   "id": "08f9ff16",
   "metadata": {},
   "outputs": [
    {
     "data": {
      "text/html": [
       "<div>\n",
       "<style scoped>\n",
       "    .dataframe tbody tr th:only-of-type {\n",
       "        vertical-align: middle;\n",
       "    }\n",
       "\n",
       "    .dataframe tbody tr th {\n",
       "        vertical-align: top;\n",
       "    }\n",
       "\n",
       "    .dataframe thead th {\n",
       "        text-align: right;\n",
       "    }\n",
       "</style>\n",
       "<table border=\"1\" class=\"dataframe\">\n",
       "  <thead>\n",
       "    <tr style=\"text-align: right;\">\n",
       "      <th></th>\n",
       "      <th>id</th>\n",
       "      <th>idnumber</th>\n",
       "      <th>username</th>\n",
       "      <th>firstname</th>\n",
       "      <th>lastname</th>\n",
       "      <th>email</th>\n",
       "      <th>institution</th>\n",
       "      <th>shortname</th>\n",
       "      <th>resource viewed</th>\n",
       "      <th>timestamp</th>\n",
       "      <th>Class</th>\n",
       "      <th>Board</th>\n",
       "      <th>Subject</th>\n",
       "      <th>Date</th>\n",
       "      <th>Content Type</th>\n",
       "      <th>File Format Type</th>\n",
       "      <th>Asset Type</th>\n",
       "      <th>course module</th>\n",
       "    </tr>\n",
       "  </thead>\n",
       "  <tbody>\n",
       "    <tr>\n",
       "      <th>0</th>\n",
       "      <td>1575</td>\n",
       "      <td>KA000</td>\n",
       "      <td>chithra_srikanth</td>\n",
       "      <td>Chithra</td>\n",
       "      <td>Srikanth</td>\n",
       "      <td>chithrasrikanth76@gmail.com</td>\n",
       "      <td>SSSVV KA Volunteer</td>\n",
       "      <td>VII APSE Science</td>\n",
       "      <td>Food Components</td>\n",
       "      <td>2023-02-11 16:46:22</td>\n",
       "      <td>7.0</td>\n",
       "      <td>APSE</td>\n",
       "      <td>Science</td>\n",
       "      <td>11/02/2023</td>\n",
       "      <td>MLP</td>\n",
       "      <td>Unkown</td>\n",
       "      <td>Not Mentioned</td>\n",
       "      <td>Food Components</td>\n",
       "    </tr>\n",
       "    <tr>\n",
       "      <th>1</th>\n",
       "      <td>1575</td>\n",
       "      <td>KA000</td>\n",
       "      <td>chithra_srikanth</td>\n",
       "      <td>Chithra</td>\n",
       "      <td>Srikanth</td>\n",
       "      <td>chithrasrikanth76@gmail.com</td>\n",
       "      <td>SSSVV KA Volunteer</td>\n",
       "      <td>VII APSE Science</td>\n",
       "      <td>Animal Fibre</td>\n",
       "      <td>2023-02-13 00:34:08</td>\n",
       "      <td>7.0</td>\n",
       "      <td>APSE</td>\n",
       "      <td>Science</td>\n",
       "      <td>13/02/2023</td>\n",
       "      <td>MLP</td>\n",
       "      <td>Unkown</td>\n",
       "      <td>Not Mentioned</td>\n",
       "      <td>Animal Fibre</td>\n",
       "    </tr>\n",
       "    <tr>\n",
       "      <th>2</th>\n",
       "      <td>1575</td>\n",
       "      <td>KA000</td>\n",
       "      <td>chithra_srikanth</td>\n",
       "      <td>Chithra</td>\n",
       "      <td>Srikanth</td>\n",
       "      <td>chithrasrikanth76@gmail.com</td>\n",
       "      <td>SSSVV KA Volunteer</td>\n",
       "      <td>VII APSE Science</td>\n",
       "      <td>CCDP APSE Science STD VII Food Components</td>\n",
       "      <td>2023-02-11 16:46:33</td>\n",
       "      <td>7.0</td>\n",
       "      <td>APSE</td>\n",
       "      <td>Science</td>\n",
       "      <td>11/02/2023</td>\n",
       "      <td>CCDP</td>\n",
       "      <td>Unkown</td>\n",
       "      <td>CCDP</td>\n",
       "      <td>Food Components</td>\n",
       "    </tr>\n",
       "    <tr>\n",
       "      <th>3</th>\n",
       "      <td>1575</td>\n",
       "      <td>KA000</td>\n",
       "      <td>chithra_srikanth</td>\n",
       "      <td>Chithra</td>\n",
       "      <td>Srikanth</td>\n",
       "      <td>chithrasrikanth76@gmail.com</td>\n",
       "      <td>SSSVV KA Volunteer</td>\n",
       "      <td>IX CBSE Science</td>\n",
       "      <td>Tissues</td>\n",
       "      <td>2023-02-13 03:11:20</td>\n",
       "      <td>9.0</td>\n",
       "      <td>CBSE</td>\n",
       "      <td>Science</td>\n",
       "      <td>13/02/2023</td>\n",
       "      <td>MLP</td>\n",
       "      <td>Unkown</td>\n",
       "      <td>Not Mentioned</td>\n",
       "      <td>Tissues</td>\n",
       "    </tr>\n",
       "    <tr>\n",
       "      <th>4</th>\n",
       "      <td>1575</td>\n",
       "      <td>KA000</td>\n",
       "      <td>chithra_srikanth</td>\n",
       "      <td>Chithra</td>\n",
       "      <td>Srikanth</td>\n",
       "      <td>chithrasrikanth76@gmail.com</td>\n",
       "      <td>SSSVV KA Volunteer</td>\n",
       "      <td>VI APSE Science</td>\n",
       "      <td>Fun with Magnets</td>\n",
       "      <td>2023-02-02 15:14:49</td>\n",
       "      <td>6.0</td>\n",
       "      <td>APSE</td>\n",
       "      <td>Science</td>\n",
       "      <td>02/02/2023</td>\n",
       "      <td>MLP</td>\n",
       "      <td>Unkown</td>\n",
       "      <td>Not Mentioned</td>\n",
       "      <td>Fun with Magnets</td>\n",
       "    </tr>\n",
       "  </tbody>\n",
       "</table>\n",
       "</div>"
      ],
      "text/plain": [
       "     id idnumber          username firstname  lastname  \\\n",
       "0  1575    KA000  chithra_srikanth   Chithra  Srikanth   \n",
       "1  1575    KA000  chithra_srikanth   Chithra  Srikanth   \n",
       "2  1575    KA000  chithra_srikanth   Chithra  Srikanth   \n",
       "3  1575    KA000  chithra_srikanth   Chithra  Srikanth   \n",
       "4  1575    KA000  chithra_srikanth   Chithra  Srikanth   \n",
       "\n",
       "                         email         institution         shortname  \\\n",
       "0  chithrasrikanth76@gmail.com  SSSVV KA Volunteer  VII APSE Science   \n",
       "1  chithrasrikanth76@gmail.com  SSSVV KA Volunteer  VII APSE Science   \n",
       "2  chithrasrikanth76@gmail.com  SSSVV KA Volunteer  VII APSE Science   \n",
       "3  chithrasrikanth76@gmail.com  SSSVV KA Volunteer   IX CBSE Science   \n",
       "4  chithrasrikanth76@gmail.com  SSSVV KA Volunteer   VI APSE Science   \n",
       "\n",
       "                             resource viewed           timestamp  Class Board  \\\n",
       "0                            Food Components 2023-02-11 16:46:22    7.0  APSE   \n",
       "1                               Animal Fibre 2023-02-13 00:34:08    7.0  APSE   \n",
       "2  CCDP APSE Science STD VII Food Components 2023-02-11 16:46:33    7.0  APSE   \n",
       "3                                    Tissues 2023-02-13 03:11:20    9.0  CBSE   \n",
       "4                           Fun with Magnets 2023-02-02 15:14:49    6.0  APSE   \n",
       "\n",
       "   Subject        Date Content Type File Format Type     Asset Type  \\\n",
       "0  Science  11/02/2023          MLP           Unkown  Not Mentioned   \n",
       "1  Science  13/02/2023          MLP           Unkown  Not Mentioned   \n",
       "2  Science  11/02/2023         CCDP           Unkown           CCDP   \n",
       "3  Science  13/02/2023          MLP           Unkown  Not Mentioned   \n",
       "4  Science  02/02/2023          MLP           Unkown  Not Mentioned   \n",
       "\n",
       "      course module  \n",
       "0   Food Components  \n",
       "1      Animal Fibre  \n",
       "2   Food Components  \n",
       "3           Tissues  \n",
       "4  Fun with Magnets  "
      ]
     },
     "execution_count": 575,
     "metadata": {},
     "output_type": "execute_result"
    }
   ],
   "source": [
    "current_views_cleaned.head()"
   ]
  },
  {
   "cell_type": "code",
   "execution_count": 579,
   "id": "d758c427",
   "metadata": {},
   "outputs": [
    {
     "data": {
      "text/plain": [
       "(439, 18)"
      ]
     },
     "execution_count": 579,
     "metadata": {},
     "output_type": "execute_result"
    }
   ],
   "source": [
    "current_views_cleaned.shape"
   ]
  },
  {
   "cell_type": "code",
   "execution_count": 577,
   "id": "abe4badf",
   "metadata": {},
   "outputs": [],
   "source": [
    "# Concatenate the filtered data with the previous months' data\n",
    "master_views_comb = pd.concat([master_views_resource_check_cleaned, current_views_cleaned], ignore_index=True)"
   ]
  },
  {
   "cell_type": "code",
   "execution_count": 578,
   "id": "69220f7a",
   "metadata": {},
   "outputs": [
    {
     "data": {
      "text/html": [
       "<div>\n",
       "<style scoped>\n",
       "    .dataframe tbody tr th:only-of-type {\n",
       "        vertical-align: middle;\n",
       "    }\n",
       "\n",
       "    .dataframe tbody tr th {\n",
       "        vertical-align: top;\n",
       "    }\n",
       "\n",
       "    .dataframe thead th {\n",
       "        text-align: right;\n",
       "    }\n",
       "</style>\n",
       "<table border=\"1\" class=\"dataframe\">\n",
       "  <thead>\n",
       "    <tr style=\"text-align: right;\">\n",
       "      <th></th>\n",
       "      <th>id</th>\n",
       "      <th>idnumber</th>\n",
       "      <th>username</th>\n",
       "      <th>firstname</th>\n",
       "      <th>lastname</th>\n",
       "      <th>email</th>\n",
       "      <th>institution</th>\n",
       "      <th>shortname</th>\n",
       "      <th>resource viewed</th>\n",
       "      <th>timestamp</th>\n",
       "      <th>Class</th>\n",
       "      <th>Board</th>\n",
       "      <th>Subject</th>\n",
       "      <th>Date</th>\n",
       "      <th>Content Type</th>\n",
       "      <th>File Format Type</th>\n",
       "      <th>Asset Type</th>\n",
       "      <th>course module</th>\n",
       "    </tr>\n",
       "  </thead>\n",
       "  <tbody>\n",
       "    <tr>\n",
       "      <th>0</th>\n",
       "      <td>1575</td>\n",
       "      <td>KA000</td>\n",
       "      <td>chithra_srikanth</td>\n",
       "      <td>Chithra</td>\n",
       "      <td>Srikanth</td>\n",
       "      <td>chithrasrikanth76@gmail.com</td>\n",
       "      <td>SSSVV KA Volunteer</td>\n",
       "      <td>VI CBSE Science</td>\n",
       "      <td>CCDP CBSE Science STD VI Fun with Magnets</td>\n",
       "      <td>2022-12-05 13:53:10</td>\n",
       "      <td>6</td>\n",
       "      <td>CBSE</td>\n",
       "      <td>Science</td>\n",
       "      <td>05/12/2022</td>\n",
       "      <td>CCDP</td>\n",
       "      <td>Unkown</td>\n",
       "      <td>CCDP</td>\n",
       "      <td>Fun with Magnets</td>\n",
       "    </tr>\n",
       "    <tr>\n",
       "      <th>1</th>\n",
       "      <td>1575</td>\n",
       "      <td>KA000</td>\n",
       "      <td>chithra_srikanth</td>\n",
       "      <td>Chithra</td>\n",
       "      <td>Srikanth</td>\n",
       "      <td>chithrasrikanth76@gmail.com</td>\n",
       "      <td>SSSVV KA Volunteer</td>\n",
       "      <td>VI CBSE Science</td>\n",
       "      <td>Fun with Magnets</td>\n",
       "      <td>2022-12-05 13:54:01</td>\n",
       "      <td>6</td>\n",
       "      <td>CBSE</td>\n",
       "      <td>Science</td>\n",
       "      <td>05/12/2022</td>\n",
       "      <td>MLP</td>\n",
       "      <td>Unkown</td>\n",
       "      <td>Not Mentioned</td>\n",
       "      <td>Fun with Magnets</td>\n",
       "    </tr>\n",
       "    <tr>\n",
       "      <th>2</th>\n",
       "      <td>637</td>\n",
       "      <td>KA001</td>\n",
       "      <td>shwetha_l</td>\n",
       "      <td>Shwetha</td>\n",
       "      <td>L C</td>\n",
       "      <td>shwethasunil87@gmail.com</td>\n",
       "      <td>Ananda Sai Shikshana Samsthe Shimoga</td>\n",
       "      <td>I CBSE EVS</td>\n",
       "      <td>My Neighbourhood</td>\n",
       "      <td>2022-12-05 05:04:53</td>\n",
       "      <td>1</td>\n",
       "      <td>CBSE</td>\n",
       "      <td>EVS</td>\n",
       "      <td>05/12/2022</td>\n",
       "      <td>MLP</td>\n",
       "      <td>Unkown</td>\n",
       "      <td>Not Mentioned</td>\n",
       "      <td>My Neighbourhood</td>\n",
       "    </tr>\n",
       "    <tr>\n",
       "      <th>3</th>\n",
       "      <td>637</td>\n",
       "      <td>KA001</td>\n",
       "      <td>shwetha_l</td>\n",
       "      <td>Shwetha</td>\n",
       "      <td>L C</td>\n",
       "      <td>shwethasunil87@gmail.com</td>\n",
       "      <td>Ananda Sai Shikshana Samsthe Shimoga</td>\n",
       "      <td>I CBSE EVS</td>\n",
       "      <td>My Neighbourhood</td>\n",
       "      <td>2022-12-05 05:04:55</td>\n",
       "      <td>1</td>\n",
       "      <td>CBSE</td>\n",
       "      <td>EVS</td>\n",
       "      <td>05/12/2022</td>\n",
       "      <td>MLP</td>\n",
       "      <td>Unkown</td>\n",
       "      <td>Not Mentioned</td>\n",
       "      <td>My Neighbourhood</td>\n",
       "    </tr>\n",
       "    <tr>\n",
       "      <th>4</th>\n",
       "      <td>637</td>\n",
       "      <td>KA001</td>\n",
       "      <td>shwetha_l</td>\n",
       "      <td>Shwetha</td>\n",
       "      <td>L C</td>\n",
       "      <td>shwethasunil87@gmail.com</td>\n",
       "      <td>Ananda Sai Shikshana Samsthe Shimoga</td>\n",
       "      <td>I CBSE EVS</td>\n",
       "      <td>Festivals</td>\n",
       "      <td>2022-12-14 05:09:06</td>\n",
       "      <td>1</td>\n",
       "      <td>CBSE</td>\n",
       "      <td>EVS</td>\n",
       "      <td>14/12/2022</td>\n",
       "      <td>MLP</td>\n",
       "      <td>Unkown</td>\n",
       "      <td>Not Mentioned</td>\n",
       "      <td>Festivals</td>\n",
       "    </tr>\n",
       "  </tbody>\n",
       "</table>\n",
       "</div>"
      ],
      "text/plain": [
       "     id idnumber          username firstname  lastname  \\\n",
       "0  1575    KA000  chithra_srikanth   Chithra  Srikanth   \n",
       "1  1575    KA000  chithra_srikanth   Chithra  Srikanth   \n",
       "2   637    KA001         shwetha_l   Shwetha       L C   \n",
       "3   637    KA001         shwetha_l   Shwetha       L C   \n",
       "4   637    KA001         shwetha_l   Shwetha       L C   \n",
       "\n",
       "                         email                           institution  \\\n",
       "0  chithrasrikanth76@gmail.com                    SSSVV KA Volunteer   \n",
       "1  chithrasrikanth76@gmail.com                    SSSVV KA Volunteer   \n",
       "2     shwethasunil87@gmail.com  Ananda Sai Shikshana Samsthe Shimoga   \n",
       "3     shwethasunil87@gmail.com  Ananda Sai Shikshana Samsthe Shimoga   \n",
       "4     shwethasunil87@gmail.com  Ananda Sai Shikshana Samsthe Shimoga   \n",
       "\n",
       "         shortname                            resource viewed  \\\n",
       "0  VI CBSE Science  CCDP CBSE Science STD VI Fun with Magnets   \n",
       "1  VI CBSE Science                           Fun with Magnets   \n",
       "2       I CBSE EVS                           My Neighbourhood   \n",
       "3       I CBSE EVS                           My Neighbourhood   \n",
       "4       I CBSE EVS                                  Festivals   \n",
       "\n",
       "            timestamp Class Board  Subject        Date Content Type  \\\n",
       "0 2022-12-05 13:53:10     6  CBSE  Science  05/12/2022         CCDP   \n",
       "1 2022-12-05 13:54:01     6  CBSE  Science  05/12/2022          MLP   \n",
       "2 2022-12-05 05:04:53     1  CBSE      EVS  05/12/2022          MLP   \n",
       "3 2022-12-05 05:04:55     1  CBSE      EVS  05/12/2022          MLP   \n",
       "4 2022-12-14 05:09:06     1  CBSE      EVS  14/12/2022          MLP   \n",
       "\n",
       "  File Format Type     Asset Type     course module  \n",
       "0           Unkown           CCDP  Fun with Magnets  \n",
       "1           Unkown  Not Mentioned  Fun with Magnets  \n",
       "2           Unkown  Not Mentioned  My Neighbourhood  \n",
       "3           Unkown  Not Mentioned  My Neighbourhood  \n",
       "4           Unkown  Not Mentioned         Festivals  "
      ]
     },
     "execution_count": 578,
     "metadata": {},
     "output_type": "execute_result"
    }
   ],
   "source": [
    "master_views_comb.head()"
   ]
  },
  {
   "cell_type": "code",
   "execution_count": 581,
   "id": "2abd9f47",
   "metadata": {},
   "outputs": [
    {
     "data": {
      "text/plain": [
       "(2442, 18)"
      ]
     },
     "execution_count": 581,
     "metadata": {},
     "output_type": "execute_result"
    }
   ],
   "source": [
    "master_views_comb.shape"
   ]
  },
  {
   "cell_type": "code",
   "execution_count": null,
   "id": "5c725893",
   "metadata": {},
   "outputs": [],
   "source": []
  },
  {
   "cell_type": "markdown",
   "id": "54795732",
   "metadata": {},
   "source": [
    "### 6. Save file in master path"
   ]
  },
  {
   "cell_type": "code",
   "execution_count": 582,
   "id": "dd1dba90",
   "metadata": {},
   "outputs": [],
   "source": [
    "master_views_comb_cleaned = master_views_comb.copy()"
   ]
  },
  {
   "cell_type": "code",
   "execution_count": 583,
   "id": "a737b6dc",
   "metadata": {},
   "outputs": [],
   "source": [
    "# Rename the file with the current month and year\n",
    "master_views_ = f'Master_Views.xlsx'"
   ]
  },
  {
   "cell_type": "code",
   "execution_count": 584,
   "id": "6dd76bac",
   "metadata": {},
   "outputs": [],
   "source": [
    "#Set the new file path\n",
    "master_path = os.path.join(r'D:\\Side Hustles\\SSSVV activities\\SRC - Karnataka\\Monthly Reports\\Master Folder', master_views_)\n",
    "\n",
    "#Save the dataframe to the new file path\n",
    "master_views_comb_cleaned.to_excel(master_path, index=False)"
   ]
  },
  {
   "cell_type": "code",
   "execution_count": null,
   "id": "2089e0df",
   "metadata": {},
   "outputs": [],
   "source": []
  },
  {
   "cell_type": "markdown",
   "id": "abaa213b",
   "metadata": {},
   "source": [
    "## Master Feedback File"
   ]
  },
  {
   "cell_type": "code",
   "execution_count": 457,
   "id": "910dff17",
   "metadata": {},
   "outputs": [
    {
     "data": {
      "text/html": [
       "<div>\n",
       "<style scoped>\n",
       "    .dataframe tbody tr th:only-of-type {\n",
       "        vertical-align: middle;\n",
       "    }\n",
       "\n",
       "    .dataframe tbody tr th {\n",
       "        vertical-align: top;\n",
       "    }\n",
       "\n",
       "    .dataframe thead th {\n",
       "        text-align: right;\n",
       "    }\n",
       "</style>\n",
       "<table border=\"1\" class=\"dataframe\">\n",
       "  <thead>\n",
       "    <tr style=\"text-align: right;\">\n",
       "      <th></th>\n",
       "      <th>Time</th>\n",
       "      <th>Date</th>\n",
       "      <th>id</th>\n",
       "      <th>idnumber</th>\n",
       "      <th>username</th>\n",
       "      <th>firstname</th>\n",
       "      <th>lastname</th>\n",
       "      <th>email</th>\n",
       "      <th>institution</th>\n",
       "      <th>email entered</th>\n",
       "      <th>...</th>\n",
       "      <th>dd</th>\n",
       "      <th>vc</th>\n",
       "      <th>ia</th>\n",
       "      <th>comm. 1</th>\n",
       "      <th>comm. 2</th>\n",
       "      <th>comm. 3</th>\n",
       "      <th>comm. 4</th>\n",
       "      <th>comm. 5</th>\n",
       "      <th>comm. 6</th>\n",
       "      <th>userid</th>\n",
       "    </tr>\n",
       "  </thead>\n",
       "  <tbody>\n",
       "    <tr>\n",
       "      <th>0</th>\n",
       "      <td>2022-11-16 07:53:41</td>\n",
       "      <td>2022-11-16</td>\n",
       "      <td>630</td>\n",
       "      <td>KA014</td>\n",
       "      <td>varshini_s</td>\n",
       "      <td>Varshini</td>\n",
       "      <td>S P</td>\n",
       "      <td>varshinisettypal@gmail.com</td>\n",
       "      <td>Sri Sathya Sai Vidya Kendra</td>\n",
       "      <td>varshinisettypal@gmail.com</td>\n",
       "      <td>...</td>\n",
       "      <td>4.0</td>\n",
       "      <td>5.0</td>\n",
       "      <td>5.0</td>\n",
       "      <td>1.0</td>\n",
       "      <td>1.0</td>\n",
       "      <td>1.0</td>\n",
       "      <td>1.0</td>\n",
       "      <td>no</td>\n",
       "      <td>no</td>\n",
       "      <td>630</td>\n",
       "    </tr>\n",
       "    <tr>\n",
       "      <th>1</th>\n",
       "      <td>2022-11-17 06:41:47</td>\n",
       "      <td>2022-11-17</td>\n",
       "      <td>2133</td>\n",
       "      <td>KA015</td>\n",
       "      <td>yarab.baba</td>\n",
       "      <td>Yarab</td>\n",
       "      <td>baba</td>\n",
       "      <td>yarabbaba94@gmail.com</td>\n",
       "      <td>Sri Sathya Sai Vidyaniketan, Bagepalli</td>\n",
       "      <td>yarabbaba94@gmail.com</td>\n",
       "      <td>...</td>\n",
       "      <td>1.0</td>\n",
       "      <td>1.0</td>\n",
       "      <td>1.0</td>\n",
       "      <td>1.0</td>\n",
       "      <td>1.0</td>\n",
       "      <td>1.0</td>\n",
       "      <td>1.0</td>\n",
       "      <td>NaN</td>\n",
       "      <td>which content given in this it&amp;#039;s good, bu...</td>\n",
       "      <td>2133</td>\n",
       "    </tr>\n",
       "    <tr>\n",
       "      <th>2</th>\n",
       "      <td>2022-11-17 09:43:29</td>\n",
       "      <td>2022-11-17</td>\n",
       "      <td>571</td>\n",
       "      <td>KA015</td>\n",
       "      <td>subbalakshmamma</td>\n",
       "      <td>Subbalakshmamma</td>\n",
       "      <td>B O</td>\n",
       "      <td>lakshmalakshmi24@gmail.com</td>\n",
       "      <td>Sri Sathya Sai Vidyaniketan, Bagepalli</td>\n",
       "      <td>lakshmilakshma24@gmail.com</td>\n",
       "      <td>...</td>\n",
       "      <td>5.0</td>\n",
       "      <td>5.0</td>\n",
       "      <td>5.0</td>\n",
       "      <td>1.0</td>\n",
       "      <td>1.0</td>\n",
       "      <td>1.0</td>\n",
       "      <td>1.0</td>\n",
       "      <td>No comments.</td>\n",
       "      <td>The content is easy and simple.Students are en...</td>\n",
       "      <td>571</td>\n",
       "    </tr>\n",
       "    <tr>\n",
       "      <th>3</th>\n",
       "      <td>2022-11-17 10:01:37</td>\n",
       "      <td>2022-11-17</td>\n",
       "      <td>559</td>\n",
       "      <td>KA015</td>\n",
       "      <td>sarala_b</td>\n",
       "      <td>Sarala</td>\n",
       "      <td>B</td>\n",
       "      <td>saralamma200@gmail.com</td>\n",
       "      <td>Sri Sathya Sai Vidyaniketan, Bagepalli</td>\n",
       "      <td>NaN</td>\n",
       "      <td>...</td>\n",
       "      <td>5.0</td>\n",
       "      <td>4.0</td>\n",
       "      <td>5.0</td>\n",
       "      <td>1.0</td>\n",
       "      <td>1.0</td>\n",
       "      <td>1.0</td>\n",
       "      <td>1.0</td>\n",
       "      <td>no</td>\n",
       "      <td>NaN</td>\n",
       "      <td>559</td>\n",
       "    </tr>\n",
       "    <tr>\n",
       "      <th>4</th>\n",
       "      <td>2022-11-28 08:58:00</td>\n",
       "      <td>2022-11-28</td>\n",
       "      <td>576</td>\n",
       "      <td>KA015</td>\n",
       "      <td>bhagya_v</td>\n",
       "      <td>Bhagya</td>\n",
       "      <td>V</td>\n",
       "      <td>bhagyanagaraju6@gmail.com</td>\n",
       "      <td>Sri Sathya Sai Vidyaniketan, Bagepalli</td>\n",
       "      <td>bhagyanagaraju6@gmail.com</td>\n",
       "      <td>...</td>\n",
       "      <td>5.0</td>\n",
       "      <td>5.0</td>\n",
       "      <td>4.0</td>\n",
       "      <td>1.0</td>\n",
       "      <td>1.0</td>\n",
       "      <td>1.0</td>\n",
       "      <td>1.0</td>\n",
       "      <td>NaN</td>\n",
       "      <td>Good</td>\n",
       "      <td>576</td>\n",
       "    </tr>\n",
       "  </tbody>\n",
       "</table>\n",
       "<p>5 rows × 25 columns</p>\n",
       "</div>"
      ],
      "text/plain": [
       "                  Time       Date    id idnumber         username  \\\n",
       "0  2022-11-16 07:53:41 2022-11-16   630    KA014       varshini_s   \n",
       "1  2022-11-17 06:41:47 2022-11-17  2133    KA015       yarab.baba   \n",
       "2  2022-11-17 09:43:29 2022-11-17   571    KA015  subbalakshmamma   \n",
       "3  2022-11-17 10:01:37 2022-11-17   559    KA015         sarala_b   \n",
       "4  2022-11-28 08:58:00 2022-11-28   576    KA015         bhagya_v   \n",
       "\n",
       "         firstname lastname                       email  \\\n",
       "0         Varshini      S P  varshinisettypal@gmail.com   \n",
       "1            Yarab     baba       yarabbaba94@gmail.com   \n",
       "2  Subbalakshmamma      B O  lakshmalakshmi24@gmail.com   \n",
       "3           Sarala        B      saralamma200@gmail.com   \n",
       "4           Bhagya        V   bhagyanagaraju6@gmail.com   \n",
       "\n",
       "                              institution               email entered  ...  \\\n",
       "0             Sri Sathya Sai Vidya Kendra  varshinisettypal@gmail.com  ...   \n",
       "1  Sri Sathya Sai Vidyaniketan, Bagepalli       yarabbaba94@gmail.com  ...   \n",
       "2  Sri Sathya Sai Vidyaniketan, Bagepalli  lakshmilakshma24@gmail.com  ...   \n",
       "3  Sri Sathya Sai Vidyaniketan, Bagepalli                         NaN  ...   \n",
       "4  Sri Sathya Sai Vidyaniketan, Bagepalli   bhagyanagaraju6@gmail.com  ...   \n",
       "\n",
       "    dd   vc   ia  comm. 1  comm. 2  comm. 3  comm. 4       comm. 5  \\\n",
       "0  4.0  5.0  5.0      1.0      1.0      1.0      1.0            no   \n",
       "1  1.0  1.0  1.0      1.0      1.0      1.0      1.0           NaN   \n",
       "2  5.0  5.0  5.0      1.0      1.0      1.0      1.0  No comments.   \n",
       "3  5.0  4.0  5.0      1.0      1.0      1.0      1.0            no   \n",
       "4  5.0  5.0  4.0      1.0      1.0      1.0      1.0           NaN   \n",
       "\n",
       "                                             comm. 6  userid  \n",
       "0                                                 no     630  \n",
       "1  which content given in this it&#039;s good, bu...    2133  \n",
       "2  The content is easy and simple.Students are en...     571  \n",
       "3                                                NaN     559  \n",
       "4                                               Good     576  \n",
       "\n",
       "[5 rows x 25 columns]"
      ]
     },
     "execution_count": 457,
     "metadata": {},
     "output_type": "execute_result"
    }
   ],
   "source": [
    "master_feedback.head()"
   ]
  },
  {
   "cell_type": "code",
   "execution_count": 237,
   "id": "b78f52a5",
   "metadata": {},
   "outputs": [],
   "source": [
    "#Input Corrections needed\n",
    "\n",
    "#General Check for any new inconsistency\n",
    "#Spell Check Class, Board & Subject colums\n",
    "#Clean School Names\n",
    "#Clean Date Column\n",
    "#Merge with current_views data "
   ]
  },
  {
   "cell_type": "markdown",
   "id": "da6c4bfa",
   "metadata": {},
   "source": [
    "### 1. General Check for any new inconsistency"
   ]
  },
  {
   "cell_type": "code",
   "execution_count": 458,
   "id": "04bb044d",
   "metadata": {},
   "outputs": [
    {
     "data": {
      "text/plain": [
       "(94, 25)"
      ]
     },
     "execution_count": 458,
     "metadata": {},
     "output_type": "execute_result"
    }
   ],
   "source": [
    "master_feedback.shape"
   ]
  },
  {
   "cell_type": "code",
   "execution_count": 459,
   "id": "949e64f7",
   "metadata": {},
   "outputs": [
    {
     "data": {
      "text/plain": [
       "Index(['Time', 'Date', 'id', 'idnumber', 'username', 'firstname', 'lastname',\n",
       "       'email', 'institution', 'email entered', 'chapter name', 'mainscript',\n",
       "       'iq', 'sa', 'qa', 'dd', 'vc', 'ia', 'comm. 1', 'comm. 2', 'comm. 3',\n",
       "       'comm. 4', 'comm. 5', 'comm. 6', 'userid'],\n",
       "      dtype='object')"
      ]
     },
     "execution_count": 459,
     "metadata": {},
     "output_type": "execute_result"
    }
   ],
   "source": [
    "master_feedback.columns"
   ]
  },
  {
   "cell_type": "code",
   "execution_count": 460,
   "id": "993d5b60",
   "metadata": {},
   "outputs": [
    {
     "data": {
      "text/plain": [
       "Time                     object\n",
       "Date             datetime64[ns]\n",
       "id                        int64\n",
       "idnumber                 object\n",
       "username                 object\n",
       "firstname                object\n",
       "lastname                 object\n",
       "email                    object\n",
       "institution              object\n",
       "email entered            object\n",
       "chapter name             object\n",
       "mainscript                int64\n",
       "iq                      float64\n",
       "sa                      float64\n",
       "qa                      float64\n",
       "dd                      float64\n",
       "vc                      float64\n",
       "ia                      float64\n",
       "comm. 1                 float64\n",
       "comm. 2                 float64\n",
       "comm. 3                 float64\n",
       "comm. 4                 float64\n",
       "comm. 5                  object\n",
       "comm. 6                  object\n",
       "userid                    int64\n",
       "dtype: object"
      ]
     },
     "execution_count": 460,
     "metadata": {},
     "output_type": "execute_result"
    }
   ],
   "source": [
    "master_feedback.dtypes"
   ]
  },
  {
   "cell_type": "code",
   "execution_count": 461,
   "id": "ba64dba4",
   "metadata": {},
   "outputs": [
    {
     "data": {
      "text/plain": [
       "Time              0\n",
       "Date              0\n",
       "id                0\n",
       "idnumber          0\n",
       "username          0\n",
       "firstname         0\n",
       "lastname          0\n",
       "email             0\n",
       "institution       0\n",
       "email entered     3\n",
       "chapter name      2\n",
       "mainscript        0\n",
       "iq                6\n",
       "sa                3\n",
       "qa                6\n",
       "dd                7\n",
       "vc                8\n",
       "ia                8\n",
       "comm. 1           8\n",
       "comm. 2           2\n",
       "comm. 3           3\n",
       "comm. 4           3\n",
       "comm. 5          66\n",
       "comm. 6          67\n",
       "userid            0\n",
       "dtype: int64"
      ]
     },
     "execution_count": 461,
     "metadata": {},
     "output_type": "execute_result"
    }
   ],
   "source": [
    "master_feedback.isnull().sum()"
   ]
  },
  {
   "cell_type": "code",
   "execution_count": 462,
   "id": "ee77b383",
   "metadata": {},
   "outputs": [
    {
     "data": {
      "text/html": [
       "<div>\n",
       "<style scoped>\n",
       "    .dataframe tbody tr th:only-of-type {\n",
       "        vertical-align: middle;\n",
       "    }\n",
       "\n",
       "    .dataframe tbody tr th {\n",
       "        vertical-align: top;\n",
       "    }\n",
       "\n",
       "    .dataframe thead th {\n",
       "        text-align: right;\n",
       "    }\n",
       "</style>\n",
       "<table border=\"1\" class=\"dataframe\">\n",
       "  <thead>\n",
       "    <tr style=\"text-align: right;\">\n",
       "      <th></th>\n",
       "      <th>Time</th>\n",
       "      <th>idnumber</th>\n",
       "      <th>username</th>\n",
       "      <th>firstname</th>\n",
       "      <th>lastname</th>\n",
       "      <th>email</th>\n",
       "      <th>institution</th>\n",
       "      <th>email entered</th>\n",
       "      <th>chapter name</th>\n",
       "      <th>comm. 5</th>\n",
       "      <th>comm. 6</th>\n",
       "    </tr>\n",
       "  </thead>\n",
       "  <tbody>\n",
       "    <tr>\n",
       "      <th>count</th>\n",
       "      <td>94</td>\n",
       "      <td>94</td>\n",
       "      <td>94</td>\n",
       "      <td>94</td>\n",
       "      <td>94</td>\n",
       "      <td>94</td>\n",
       "      <td>94</td>\n",
       "      <td>91</td>\n",
       "      <td>92</td>\n",
       "      <td>28</td>\n",
       "      <td>27</td>\n",
       "    </tr>\n",
       "    <tr>\n",
       "      <th>unique</th>\n",
       "      <td>94</td>\n",
       "      <td>5</td>\n",
       "      <td>18</td>\n",
       "      <td>18</td>\n",
       "      <td>18</td>\n",
       "      <td>18</td>\n",
       "      <td>5</td>\n",
       "      <td>19</td>\n",
       "      <td>84</td>\n",
       "      <td>9</td>\n",
       "      <td>11</td>\n",
       "    </tr>\n",
       "    <tr>\n",
       "      <th>top</th>\n",
       "      <td>2022-11-16 07:53:41</td>\n",
       "      <td>KA007</td>\n",
       "      <td>sssvm.saisowmya</td>\n",
       "      <td>Sai Sowmya</td>\n",
       "      <td>Kalyanam</td>\n",
       "      <td>saisowmyakalyanam@gmail.com</td>\n",
       "      <td>Sri Sathya Sai Vidya Mandir School, Dharwad</td>\n",
       "      <td>saisowmyakalyanam@gmail.com</td>\n",
       "      <td>money</td>\n",
       "      <td>No</td>\n",
       "      <td>No</td>\n",
       "    </tr>\n",
       "    <tr>\n",
       "      <th>freq</th>\n",
       "      <td>1</td>\n",
       "      <td>80</td>\n",
       "      <td>34</td>\n",
       "      <td>34</td>\n",
       "      <td>34</td>\n",
       "      <td>34</td>\n",
       "      <td>80</td>\n",
       "      <td>34</td>\n",
       "      <td>2</td>\n",
       "      <td>11</td>\n",
       "      <td>12</td>\n",
       "    </tr>\n",
       "  </tbody>\n",
       "</table>\n",
       "</div>"
      ],
      "text/plain": [
       "                       Time idnumber         username   firstname  lastname  \\\n",
       "count                    94       94               94          94        94   \n",
       "unique                   94        5               18          18        18   \n",
       "top     2022-11-16 07:53:41    KA007  sssvm.saisowmya  Sai Sowmya  Kalyanam   \n",
       "freq                      1       80               34          34        34   \n",
       "\n",
       "                              email  \\\n",
       "count                            94   \n",
       "unique                           18   \n",
       "top     saisowmyakalyanam@gmail.com   \n",
       "freq                             34   \n",
       "\n",
       "                                        institution  \\\n",
       "count                                            94   \n",
       "unique                                            5   \n",
       "top     Sri Sathya Sai Vidya Mandir School, Dharwad   \n",
       "freq                                             80   \n",
       "\n",
       "                      email entered chapter name comm. 5 comm. 6  \n",
       "count                            91           92      28      27  \n",
       "unique                           19           84       9      11  \n",
       "top     saisowmyakalyanam@gmail.com        money      No      No  \n",
       "freq                             34            2      11      12  "
      ]
     },
     "execution_count": 462,
     "metadata": {},
     "output_type": "execute_result"
    }
   ],
   "source": [
    "master_feedback.describe(include=['O'])"
   ]
  },
  {
   "cell_type": "code",
   "execution_count": 463,
   "id": "15d58b0d",
   "metadata": {},
   "outputs": [
    {
     "name": "stdout",
     "output_type": "stream",
     "text": [
      "Number of Schools: 5\n",
      "Name of Schools:\n",
      " Sri Sathya Sai Vidya Mandir School, Dharwad            80\n",
      "Sri Sathya Sai Vidyaniketan, Bagepalli                  8\n",
      "Sri Sathya Sai Vidya Kendra                             4\n",
      "Sri Eshwaramma English Medium High School, Tumakuru     1\n",
      "Prashanthi Vidya Kendra, Bayar, Kasaragod               1\n",
      "Name: institution, dtype: int64\n"
     ]
    }
   ],
   "source": [
    "print(\"Number of Schools:\", master_feedback[\"institution\"].nunique())\n",
    "print(\"Name of Schools:\\n\",master_feedback[\"institution\"].value_counts().sort_values(ascending = False))"
   ]
  },
  {
   "cell_type": "code",
   "execution_count": 464,
   "id": "2f9dca00",
   "metadata": {},
   "outputs": [
    {
     "name": "stdout",
     "output_type": "stream",
     "text": [
      "Number of Schools: 5\n",
      "Name of Schools:\n",
      " Sri Sathya Sai Vidya Mandir School, Dharwad            80\n",
      "Sri Sathya Sai Vidyaniketan, Bagepalli                  8\n",
      "Sri Sathya Sai Vidya Kendra                             4\n",
      "Sri Eshwaramma English Medium High School, Tumakuru     1\n",
      "Prashanthi Vidya Kendra, Bayar, Kasaragod               1\n",
      "Name: institution, dtype: int64\n"
     ]
    }
   ],
   "source": [
    "print(\"Number of Schools:\", master_feedback[\"institution\"].nunique())\n",
    "print(\"Name of Schools:\\n\",master_feedback[\"institution\"].value_counts().sort_values(ascending = False))"
   ]
  },
  {
   "cell_type": "code",
   "execution_count": 465,
   "id": "d0fa340a",
   "metadata": {},
   "outputs": [
    {
     "name": "stdout",
     "output_type": "stream",
     "text": [
      "Number of Users: 18\n",
      "Name of Users:\n",
      " Sai Sowmya         34\n",
      "Jyoti              16\n",
      "Veerayya           11\n",
      "Jayalaxmi           8\n",
      "Kalawati            6\n",
      "Sarala              3\n",
      "Chaitra             3\n",
      "Nandini             2\n",
      "Varshini            2\n",
      "Bhagyalakshmi       1\n",
      "Manisha             1\n",
      "Subbalakshmamma     1\n",
      "Bhagya              1\n",
      "Yarab               1\n",
      "Chandralekha        1\n",
      "Rakshitha           1\n",
      "Sowmya A            1\n",
      "Kalpana             1\n",
      "Name: firstname, dtype: int64\n"
     ]
    }
   ],
   "source": [
    "print(\"Number of Users:\", master_feedback[\"id\"].nunique())\n",
    "print(\"Name of Users:\\n\",master_feedback[\"firstname\"].value_counts().sort_values(ascending = False))"
   ]
  },
  {
   "cell_type": "markdown",
   "id": "6432e5fa",
   "metadata": {},
   "source": [
    "### 2. Remove Date Column"
   ]
  },
  {
   "cell_type": "code",
   "execution_count": 466,
   "id": "3e773000",
   "metadata": {},
   "outputs": [],
   "source": [
    "master_feedback_date = master_feedback.copy()"
   ]
  },
  {
   "cell_type": "code",
   "execution_count": 467,
   "id": "cef436c9",
   "metadata": {},
   "outputs": [],
   "source": [
    "# First remove existing split columns Class, Board, Subject\n",
    "\n",
    "master_feedback_date = master_feedback_date.drop([\"Date\"], axis=1)"
   ]
  },
  {
   "cell_type": "code",
   "execution_count": 468,
   "id": "a7b8085a",
   "metadata": {},
   "outputs": [
    {
     "data": {
      "text/html": [
       "<div>\n",
       "<style scoped>\n",
       "    .dataframe tbody tr th:only-of-type {\n",
       "        vertical-align: middle;\n",
       "    }\n",
       "\n",
       "    .dataframe tbody tr th {\n",
       "        vertical-align: top;\n",
       "    }\n",
       "\n",
       "    .dataframe thead th {\n",
       "        text-align: right;\n",
       "    }\n",
       "</style>\n",
       "<table border=\"1\" class=\"dataframe\">\n",
       "  <thead>\n",
       "    <tr style=\"text-align: right;\">\n",
       "      <th></th>\n",
       "      <th>Time</th>\n",
       "      <th>id</th>\n",
       "      <th>idnumber</th>\n",
       "      <th>username</th>\n",
       "      <th>firstname</th>\n",
       "      <th>lastname</th>\n",
       "      <th>email</th>\n",
       "      <th>institution</th>\n",
       "      <th>email entered</th>\n",
       "      <th>chapter name</th>\n",
       "      <th>...</th>\n",
       "      <th>dd</th>\n",
       "      <th>vc</th>\n",
       "      <th>ia</th>\n",
       "      <th>comm. 1</th>\n",
       "      <th>comm. 2</th>\n",
       "      <th>comm. 3</th>\n",
       "      <th>comm. 4</th>\n",
       "      <th>comm. 5</th>\n",
       "      <th>comm. 6</th>\n",
       "      <th>userid</th>\n",
       "    </tr>\n",
       "  </thead>\n",
       "  <tbody>\n",
       "    <tr>\n",
       "      <th>0</th>\n",
       "      <td>2022-11-16 07:53:41</td>\n",
       "      <td>630</td>\n",
       "      <td>KA014</td>\n",
       "      <td>varshini_s</td>\n",
       "      <td>Varshini</td>\n",
       "      <td>S P</td>\n",
       "      <td>varshinisettypal@gmail.com</td>\n",
       "      <td>Sri Sathya Sai Vidya Kendra</td>\n",
       "      <td>varshinisettypal@gmail.com</td>\n",
       "      <td>money</td>\n",
       "      <td>...</td>\n",
       "      <td>4.0</td>\n",
       "      <td>5.0</td>\n",
       "      <td>5.0</td>\n",
       "      <td>1.0</td>\n",
       "      <td>1.0</td>\n",
       "      <td>1.0</td>\n",
       "      <td>1.0</td>\n",
       "      <td>no</td>\n",
       "      <td>no</td>\n",
       "      <td>630</td>\n",
       "    </tr>\n",
       "    <tr>\n",
       "      <th>1</th>\n",
       "      <td>2022-11-17 06:41:47</td>\n",
       "      <td>2133</td>\n",
       "      <td>KA015</td>\n",
       "      <td>yarab.baba</td>\n",
       "      <td>Yarab</td>\n",
       "      <td>baba</td>\n",
       "      <td>yarabbaba94@gmail.com</td>\n",
       "      <td>Sri Sathya Sai Vidyaniketan, Bagepalli</td>\n",
       "      <td>yarabbaba94@gmail.com</td>\n",
       "      <td>vijayanagara empire</td>\n",
       "      <td>...</td>\n",
       "      <td>1.0</td>\n",
       "      <td>1.0</td>\n",
       "      <td>1.0</td>\n",
       "      <td>1.0</td>\n",
       "      <td>1.0</td>\n",
       "      <td>1.0</td>\n",
       "      <td>1.0</td>\n",
       "      <td>NaN</td>\n",
       "      <td>which content given in this it&amp;#039;s good, bu...</td>\n",
       "      <td>2133</td>\n",
       "    </tr>\n",
       "    <tr>\n",
       "      <th>2</th>\n",
       "      <td>2022-11-17 09:43:29</td>\n",
       "      <td>571</td>\n",
       "      <td>KA015</td>\n",
       "      <td>subbalakshmamma</td>\n",
       "      <td>Subbalakshmamma</td>\n",
       "      <td>B O</td>\n",
       "      <td>lakshmalakshmi24@gmail.com</td>\n",
       "      <td>Sri Sathya Sai Vidyaniketan, Bagepalli</td>\n",
       "      <td>lakshmilakshma24@gmail.com</td>\n",
       "      <td>Multiplication 2</td>\n",
       "      <td>...</td>\n",
       "      <td>5.0</td>\n",
       "      <td>5.0</td>\n",
       "      <td>5.0</td>\n",
       "      <td>1.0</td>\n",
       "      <td>1.0</td>\n",
       "      <td>1.0</td>\n",
       "      <td>1.0</td>\n",
       "      <td>No comments.</td>\n",
       "      <td>The content is easy and simple.Students are en...</td>\n",
       "      <td>571</td>\n",
       "    </tr>\n",
       "    <tr>\n",
       "      <th>3</th>\n",
       "      <td>2022-11-17 10:01:37</td>\n",
       "      <td>559</td>\n",
       "      <td>KA015</td>\n",
       "      <td>sarala_b</td>\n",
       "      <td>Sarala</td>\n",
       "      <td>B</td>\n",
       "      <td>saralamma200@gmail.com</td>\n",
       "      <td>Sri Sathya Sai Vidyaniketan, Bagepalli</td>\n",
       "      <td>NaN</td>\n",
       "      <td>NaN</td>\n",
       "      <td>...</td>\n",
       "      <td>5.0</td>\n",
       "      <td>4.0</td>\n",
       "      <td>5.0</td>\n",
       "      <td>1.0</td>\n",
       "      <td>1.0</td>\n",
       "      <td>1.0</td>\n",
       "      <td>1.0</td>\n",
       "      <td>no</td>\n",
       "      <td>NaN</td>\n",
       "      <td>559</td>\n",
       "    </tr>\n",
       "    <tr>\n",
       "      <th>4</th>\n",
       "      <td>2022-11-28 08:58:00</td>\n",
       "      <td>576</td>\n",
       "      <td>KA015</td>\n",
       "      <td>bhagya_v</td>\n",
       "      <td>Bhagya</td>\n",
       "      <td>V</td>\n",
       "      <td>bhagyanagaraju6@gmail.com</td>\n",
       "      <td>Sri Sathya Sai Vidyaniketan, Bagepalli</td>\n",
       "      <td>bhagyanagaraju6@gmail.com</td>\n",
       "      <td>India Political and Cultural</td>\n",
       "      <td>...</td>\n",
       "      <td>5.0</td>\n",
       "      <td>5.0</td>\n",
       "      <td>4.0</td>\n",
       "      <td>1.0</td>\n",
       "      <td>1.0</td>\n",
       "      <td>1.0</td>\n",
       "      <td>1.0</td>\n",
       "      <td>NaN</td>\n",
       "      <td>Good</td>\n",
       "      <td>576</td>\n",
       "    </tr>\n",
       "  </tbody>\n",
       "</table>\n",
       "<p>5 rows × 24 columns</p>\n",
       "</div>"
      ],
      "text/plain": [
       "                  Time    id idnumber         username        firstname  \\\n",
       "0  2022-11-16 07:53:41   630    KA014       varshini_s         Varshini   \n",
       "1  2022-11-17 06:41:47  2133    KA015       yarab.baba            Yarab   \n",
       "2  2022-11-17 09:43:29   571    KA015  subbalakshmamma  Subbalakshmamma   \n",
       "3  2022-11-17 10:01:37   559    KA015         sarala_b           Sarala   \n",
       "4  2022-11-28 08:58:00   576    KA015         bhagya_v           Bhagya   \n",
       "\n",
       "  lastname                       email  \\\n",
       "0      S P  varshinisettypal@gmail.com   \n",
       "1     baba       yarabbaba94@gmail.com   \n",
       "2      B O  lakshmalakshmi24@gmail.com   \n",
       "3        B      saralamma200@gmail.com   \n",
       "4        V   bhagyanagaraju6@gmail.com   \n",
       "\n",
       "                              institution               email entered  \\\n",
       "0             Sri Sathya Sai Vidya Kendra  varshinisettypal@gmail.com   \n",
       "1  Sri Sathya Sai Vidyaniketan, Bagepalli       yarabbaba94@gmail.com   \n",
       "2  Sri Sathya Sai Vidyaniketan, Bagepalli  lakshmilakshma24@gmail.com   \n",
       "3  Sri Sathya Sai Vidyaniketan, Bagepalli                         NaN   \n",
       "4  Sri Sathya Sai Vidyaniketan, Bagepalli   bhagyanagaraju6@gmail.com   \n",
       "\n",
       "                   chapter name  ...   dd   vc   ia  comm. 1  comm. 2  \\\n",
       "0                         money  ...  4.0  5.0  5.0      1.0      1.0   \n",
       "1           vijayanagara empire  ...  1.0  1.0  1.0      1.0      1.0   \n",
       "2              Multiplication 2  ...  5.0  5.0  5.0      1.0      1.0   \n",
       "3                           NaN  ...  5.0  4.0  5.0      1.0      1.0   \n",
       "4  India Political and Cultural  ...  5.0  5.0  4.0      1.0      1.0   \n",
       "\n",
       "   comm. 3  comm. 4       comm. 5  \\\n",
       "0      1.0      1.0            no   \n",
       "1      1.0      1.0           NaN   \n",
       "2      1.0      1.0  No comments.   \n",
       "3      1.0      1.0            no   \n",
       "4      1.0      1.0           NaN   \n",
       "\n",
       "                                             comm. 6  userid  \n",
       "0                                                 no     630  \n",
       "1  which content given in this it&#039;s good, bu...    2133  \n",
       "2  The content is easy and simple.Students are en...     571  \n",
       "3                                                NaN     559  \n",
       "4                                               Good     576  \n",
       "\n",
       "[5 rows x 24 columns]"
      ]
     },
     "execution_count": 468,
     "metadata": {},
     "output_type": "execute_result"
    }
   ],
   "source": [
    "master_feedback_date.head()"
   ]
  },
  {
   "cell_type": "code",
   "execution_count": 469,
   "id": "dcee63b8",
   "metadata": {},
   "outputs": [
    {
     "data": {
      "text/plain": [
       "(94, 24)"
      ]
     },
     "execution_count": 469,
     "metadata": {},
     "output_type": "execute_result"
    }
   ],
   "source": [
    "master_feedback_date.shape"
   ]
  },
  {
   "cell_type": "code",
   "execution_count": 470,
   "id": "a0600309",
   "metadata": {},
   "outputs": [
    {
     "data": {
      "text/plain": [
       "Time              0\n",
       "id                0\n",
       "idnumber          0\n",
       "username          0\n",
       "firstname         0\n",
       "lastname          0\n",
       "email             0\n",
       "institution       0\n",
       "email entered     3\n",
       "chapter name      2\n",
       "mainscript        0\n",
       "iq                6\n",
       "sa                3\n",
       "qa                6\n",
       "dd                7\n",
       "vc                8\n",
       "ia                8\n",
       "comm. 1           8\n",
       "comm. 2           2\n",
       "comm. 3           3\n",
       "comm. 4           3\n",
       "comm. 5          66\n",
       "comm. 6          67\n",
       "userid            0\n",
       "dtype: int64"
      ]
     },
     "execution_count": 470,
     "metadata": {},
     "output_type": "execute_result"
    }
   ],
   "source": [
    "master_feedback_date.isnull().sum()"
   ]
  },
  {
   "cell_type": "markdown",
   "id": "65a302c0",
   "metadata": {},
   "source": [
    "### 3. change school name"
   ]
  },
  {
   "cell_type": "code",
   "execution_count": 471,
   "id": "7bf9bf18",
   "metadata": {},
   "outputs": [],
   "source": [
    "master_feedback_school_check = master_feedback_date.copy()"
   ]
  },
  {
   "cell_type": "code",
   "execution_count": 472,
   "id": "5856bdaf",
   "metadata": {},
   "outputs": [
    {
     "name": "stdout",
     "output_type": "stream",
     "text": [
      "Number of Schools :  5\n"
     ]
    },
    {
     "data": {
      "text/plain": [
       "Sri Sathya Sai Vidya Mandir School, Dharwad            80\n",
       "Sri Sathya Sai Vidyaniketan, Bagepalli                  8\n",
       "Sri Sathya Sai Vidya Kendra                             4\n",
       "Sri Eshwaramma English Medium High School, Tumakuru     1\n",
       "Prashanthi Vidya Kendra, Bayar, Kasaragod               1\n",
       "Name: institution, dtype: int64"
      ]
     },
     "execution_count": 472,
     "metadata": {},
     "output_type": "execute_result"
    }
   ],
   "source": [
    "print(\"Number of Schools : \",master_feedback_school_check['institution'].nunique())\n",
    "master_feedback_school_check['institution'].value_counts()"
   ]
  },
  {
   "cell_type": "code",
   "execution_count": 473,
   "id": "afd533a4",
   "metadata": {},
   "outputs": [],
   "source": [
    "from fuzzywuzzy import fuzz, process\n",
    "\n",
    "common_school_names = ['Sri Sathya Sai Academy of Integrated Education, Bhadravathi', 'Sri Sathya Sai Vidya Kendra', 'Sri Sathya Sai Vidya Mandir School, Dharwad', 'Sri Sathya Sai Baba Higher Primary and High School, Mysuru', 'Sri Sathya Sai Vidyaniketan, Bagepalli', 'Sri Eshwaramma English Medium High School, Tumakuru', 'Prashanti English Medium School, Siddapura', 'Ananda Sai Shikshana Samsthe Shimoga']\n",
    "\n",
    "school_check['institution'] = school_check['institution'].apply(lambda x: x.strip())\n",
    "\n",
    "for i, school_name in enumerate(school_check['institution']):\n",
    "    school_name = school_name.strip()\n",
    "    school_name_lower = school_name.lower()\n",
    "    \n",
    "    # Check for exact matches\n",
    "    if school_name in common_school_names:\n",
    "        school_check.at[i, 'institution'] = school_name\n",
    "    \n",
    "    # Check for fuzzy matches\n",
    "    else:\n",
    "        match, score = process.extractOne(school_name, common_school_names, scorer=fuzz.token_set_ratio)\n",
    "        \n",
    "        # If score is above a certain threshold, replace with common name\n",
    "        if score >= 85:\n",
    "            school_check.at[i, 'institution'] = match\n",
    "        else:\n",
    "            # Check for Bhadravathi School case\n",
    "            if \"bhadravathi\" in school_name_lower and \"sri sathya sai\" in school_name_lower:\n",
    "                school_check.at[i, 'institution'] = \"Sri Sathya Sai Academy of Integrated Education, Bhadravathi\"\n",
    "            else:\n",
    "                # Check for Dharwad School case\n",
    "                if \"dharwad\" in school_name_lower and \"sri sathya sai\" in school_name_lower:\n",
    "                    school_check.at[i, 'institution'] = \"Sri Sathya Sai Vidya Mandir School, Dharwad\"\n",
    "                else:\n",
    "                    school_check.at[i, 'institution'] = school_name\n"
   ]
  },
  {
   "cell_type": "code",
   "execution_count": 474,
   "id": "61a061f6",
   "metadata": {},
   "outputs": [
    {
     "name": "stdout",
     "output_type": "stream",
     "text": [
      "Number of Schools :  5\n"
     ]
    },
    {
     "data": {
      "text/plain": [
       "Sri Sathya Sai Vidya Mandir School, Dharwad            80\n",
       "Sri Sathya Sai Vidyaniketan, Bagepalli                  8\n",
       "Sri Sathya Sai Vidya Kendra                             4\n",
       "Sri Eshwaramma English Medium High School, Tumakuru     1\n",
       "Prashanthi Vidya Kendra, Bayar, Kasaragod               1\n",
       "Name: institution, dtype: int64"
      ]
     },
     "execution_count": 474,
     "metadata": {},
     "output_type": "execute_result"
    }
   ],
   "source": [
    "print(\"Number of Schools : \",master_feedback_school_check['institution'].nunique())\n",
    "master_feedback_school_check['institution'].value_counts()"
   ]
  },
  {
   "cell_type": "code",
   "execution_count": 475,
   "id": "642258e9",
   "metadata": {},
   "outputs": [
    {
     "data": {
      "text/plain": [
       "(94, 24)"
      ]
     },
     "execution_count": 475,
     "metadata": {},
     "output_type": "execute_result"
    }
   ],
   "source": [
    "master_feedback_school_check.shape"
   ]
  },
  {
   "cell_type": "markdown",
   "id": "852e8122",
   "metadata": {},
   "source": [
    "### 4. Add Date Column"
   ]
  },
  {
   "cell_type": "code",
   "execution_count": 476,
   "id": "fd04cc6e",
   "metadata": {},
   "outputs": [],
   "source": [
    "master_feedback_date_add = master_feedback_school_check.copy()"
   ]
  },
  {
   "cell_type": "code",
   "execution_count": 477,
   "id": "d6ab05c0",
   "metadata": {},
   "outputs": [
    {
     "data": {
      "text/plain": [
       "2022-11-16 07:53:41    1\n",
       "2023-01-23 04:46:53    1\n",
       "2023-01-23 10:42:40    1\n",
       "2023-01-23 10:40:28    1\n",
       "2023-01-23 10:20:41    1\n",
       "                      ..\n",
       "2023-01-18 09:31:52    1\n",
       "2023-01-18 09:30:33    1\n",
       "2023-01-18 09:27:36    1\n",
       "2023-01-17 13:32:16    1\n",
       "2023-01-24 16:12:07    1\n",
       "Name: Time, Length: 94, dtype: int64"
      ]
     },
     "execution_count": 477,
     "metadata": {},
     "output_type": "execute_result"
    }
   ],
   "source": [
    "master_feedback_date_add['Time'].value_counts()"
   ]
  },
  {
   "cell_type": "code",
   "execution_count": 478,
   "id": "5950c2b3",
   "metadata": {},
   "outputs": [
    {
     "data": {
      "text/plain": [
       "Time              object\n",
       "id                 int64\n",
       "idnumber          object\n",
       "username          object\n",
       "firstname         object\n",
       "lastname          object\n",
       "email             object\n",
       "institution       object\n",
       "email entered     object\n",
       "chapter name      object\n",
       "mainscript         int64\n",
       "iq               float64\n",
       "sa               float64\n",
       "qa               float64\n",
       "dd               float64\n",
       "vc               float64\n",
       "ia               float64\n",
       "comm. 1          float64\n",
       "comm. 2          float64\n",
       "comm. 3          float64\n",
       "comm. 4          float64\n",
       "comm. 5           object\n",
       "comm. 6           object\n",
       "userid             int64\n",
       "dtype: object"
      ]
     },
     "execution_count": 478,
     "metadata": {},
     "output_type": "execute_result"
    }
   ],
   "source": [
    "master_feedback_date_add.dtypes"
   ]
  },
  {
   "cell_type": "code",
   "execution_count": 479,
   "id": "5cf12bb8",
   "metadata": {},
   "outputs": [],
   "source": [
    "# convert timestamp column to datetime format\n",
    "master_feedback_date_add['Time'] = pd.to_datetime(master_feedback_date_add['Time'])\n",
    "\n",
    "# Create a new column 'Date' with datetime64 data type\n",
    "master_feedback_date_add['Date'] = pd.to_datetime(master_feedback_date_add['Time'], format='%d/%m/%Y', errors='coerce')"
   ]
  },
  {
   "cell_type": "markdown",
   "id": "eb6f72af",
   "metadata": {},
   "source": [
    "import pandas as pd\n",
    "\n",
    "def add_date_column(df):\n",
    "    if 'timestamp' in df.columns:\n",
    "        df['timestamp'] = pd.to_datetime(df['timestamp'])\n",
    "        df['Date'] = pd.to_datetime(df['timestamp']).dt.date.astype(str).apply(lambda x: datetime.datetime.strptime(x, '%Y-%m-%d').strftime('%d/%m/%Y'))\n",
    "    else:\n",
    "        print(\"Error: dataframe does not contain 'Time' column\")"
   ]
  },
  {
   "cell_type": "code",
   "execution_count": 260,
   "id": "8449d24e",
   "metadata": {},
   "outputs": [],
   "source": [
    "#add_date_column(date_check)\n",
    "#date_check.head()"
   ]
  },
  {
   "cell_type": "code",
   "execution_count": 480,
   "id": "a0a17ede",
   "metadata": {},
   "outputs": [
    {
     "data": {
      "text/plain": [
       "Time             datetime64[ns]\n",
       "id                        int64\n",
       "idnumber                 object\n",
       "username                 object\n",
       "firstname                object\n",
       "lastname                 object\n",
       "email                    object\n",
       "institution              object\n",
       "email entered            object\n",
       "chapter name             object\n",
       "mainscript                int64\n",
       "iq                      float64\n",
       "sa                      float64\n",
       "qa                      float64\n",
       "dd                      float64\n",
       "vc                      float64\n",
       "ia                      float64\n",
       "comm. 1                 float64\n",
       "comm. 2                 float64\n",
       "comm. 3                 float64\n",
       "comm. 4                 float64\n",
       "comm. 5                  object\n",
       "comm. 6                  object\n",
       "userid                    int64\n",
       "Date             datetime64[ns]\n",
       "dtype: object"
      ]
     },
     "execution_count": 480,
     "metadata": {},
     "output_type": "execute_result"
    }
   ],
   "source": [
    "master_feedback_date_add.dtypes"
   ]
  },
  {
   "cell_type": "code",
   "execution_count": 481,
   "id": "b6fcf524",
   "metadata": {},
   "outputs": [
    {
     "data": {
      "text/plain": [
       "2022-11-16 07:53:41    1\n",
       "2023-01-23 04:46:53    1\n",
       "2023-01-23 10:42:40    1\n",
       "2023-01-23 10:40:28    1\n",
       "2023-01-23 10:20:41    1\n",
       "                      ..\n",
       "2023-01-18 09:31:52    1\n",
       "2023-01-18 09:30:33    1\n",
       "2023-01-18 09:27:36    1\n",
       "2023-01-17 13:32:16    1\n",
       "2023-01-24 16:12:07    1\n",
       "Name: Date, Length: 94, dtype: int64"
      ]
     },
     "execution_count": 481,
     "metadata": {},
     "output_type": "execute_result"
    }
   ],
   "source": [
    "master_feedback_date_add['Date'].value_counts()"
   ]
  },
  {
   "cell_type": "code",
   "execution_count": 482,
   "id": "dd32937b",
   "metadata": {},
   "outputs": [],
   "source": [
    "#create new 'Date' column in desired format\n",
    "master_feedback_date_add['Date'] = master_feedback_date_add['Date'].dt.strftime('%d/%m/%Y')"
   ]
  },
  {
   "cell_type": "code",
   "execution_count": 483,
   "id": "eae5e5e1",
   "metadata": {},
   "outputs": [
    {
     "data": {
      "text/plain": [
       "18/01/2023    29\n",
       "24/01/2023    23\n",
       "23/01/2023    15\n",
       "16/01/2023     8\n",
       "17/01/2023     4\n",
       "17/11/2022     3\n",
       "06/12/2022     3\n",
       "02/01/2023     2\n",
       "16/11/2022     1\n",
       "28/11/2022     1\n",
       "29/11/2022     1\n",
       "19/12/2022     1\n",
       "22/12/2022     1\n",
       "09/01/2023     1\n",
       "13/01/2023     1\n",
       "Name: Date, dtype: int64"
      ]
     },
     "execution_count": 483,
     "metadata": {},
     "output_type": "execute_result"
    }
   ],
   "source": [
    "master_feedback_date_add['Date'].value_counts()"
   ]
  },
  {
   "cell_type": "code",
   "execution_count": 484,
   "id": "078e7fd2",
   "metadata": {},
   "outputs": [
    {
     "data": {
      "text/plain": [
       "Time             datetime64[ns]\n",
       "id                        int64\n",
       "idnumber                 object\n",
       "username                 object\n",
       "firstname                object\n",
       "lastname                 object\n",
       "email                    object\n",
       "institution              object\n",
       "email entered            object\n",
       "chapter name             object\n",
       "mainscript                int64\n",
       "iq                      float64\n",
       "sa                      float64\n",
       "qa                      float64\n",
       "dd                      float64\n",
       "vc                      float64\n",
       "ia                      float64\n",
       "comm. 1                 float64\n",
       "comm. 2                 float64\n",
       "comm. 3                 float64\n",
       "comm. 4                 float64\n",
       "comm. 5                  object\n",
       "comm. 6                  object\n",
       "userid                    int64\n",
       "Date                     object\n",
       "dtype: object"
      ]
     },
     "execution_count": 484,
     "metadata": {},
     "output_type": "execute_result"
    }
   ],
   "source": [
    "master_feedback_date_add.dtypes"
   ]
  },
  {
   "cell_type": "markdown",
   "id": "af27e9a3",
   "metadata": {},
   "source": [
    "### Check chapter name column"
   ]
  },
  {
   "cell_type": "code",
   "execution_count": 485,
   "id": "9e50e07d",
   "metadata": {},
   "outputs": [],
   "source": [
    "master_feedback_check = master_feedback_date_add.copy()"
   ]
  },
  {
   "cell_type": "code",
   "execution_count": 486,
   "id": "8a7589f2",
   "metadata": {},
   "outputs": [
    {
     "data": {
      "text/plain": [
       "money                     2\n",
       "Rational Numbers          2\n",
       "smart charts              2\n",
       "how many times            2\n",
       "patterns                  2\n",
       "                         ..\n",
       "footprints                1\n",
       "counting in tens          1\n",
       "can we share              1\n",
       "Jugs and Mugs             1\n",
       "women change the world    1\n",
       "Name: chapter name, Length: 84, dtype: int64"
      ]
     },
     "execution_count": 486,
     "metadata": {},
     "output_type": "execute_result"
    }
   ],
   "source": [
    "master_feedback_check['chapter name'].value_counts()"
   ]
  },
  {
   "cell_type": "code",
   "execution_count": 487,
   "id": "f3058d25",
   "metadata": {},
   "outputs": [
    {
     "name": "stdout",
     "output_type": "stream",
     "text": [
      "object\n"
     ]
    }
   ],
   "source": [
    "print(master_feedback_check['chapter name'].dtype)"
   ]
  },
  {
   "cell_type": "code",
   "execution_count": 488,
   "id": "a4990e17",
   "metadata": {},
   "outputs": [
    {
     "data": {
      "text/plain": [
       "Time              0\n",
       "id                0\n",
       "idnumber          0\n",
       "username          0\n",
       "firstname         0\n",
       "lastname          0\n",
       "email             0\n",
       "institution       0\n",
       "email entered     3\n",
       "chapter name      2\n",
       "mainscript        0\n",
       "iq                6\n",
       "sa                3\n",
       "qa                6\n",
       "dd                7\n",
       "vc                8\n",
       "ia                8\n",
       "comm. 1           8\n",
       "comm. 2           2\n",
       "comm. 3           3\n",
       "comm. 4           3\n",
       "comm. 5          66\n",
       "comm. 6          67\n",
       "userid            0\n",
       "Date              0\n",
       "dtype: int64"
      ]
     },
     "execution_count": 488,
     "metadata": {},
     "output_type": "execute_result"
    }
   ],
   "source": [
    "master_feedback_check.isnull().sum()"
   ]
  },
  {
   "cell_type": "code",
   "execution_count": 489,
   "id": "a7607d1b",
   "metadata": {},
   "outputs": [],
   "source": [
    "# Fill the null values in the 'chapter name' column with 'Not Entered'\n",
    "master_feedback_check['chapter name'] = master_feedback_check['chapter name'].fillna('Not Entered')"
   ]
  },
  {
   "cell_type": "code",
   "execution_count": 490,
   "id": "05335cd1",
   "metadata": {},
   "outputs": [
    {
     "name": "stdout",
     "output_type": "stream",
     "text": [
      "Empty DataFrame\n",
      "Columns: [Time, userid, idnumber, username, firstname, lastname, email, institution, email entered, chapter name, mainscript, iq, sa, qa, dd, vc, ia, comm. 1, comm. 2, comm. 3, comm. 4, comm. 5, comm. 6, Date, course module]\n",
      "Index: []\n",
      "\n",
      "[0 rows x 25 columns]\n"
     ]
    }
   ],
   "source": [
    "non_string_values = feedback_check[~feedback_check['chapter name'].apply(lambda x: isinstance(x, str))]\n",
    "print(non_string_values)"
   ]
  },
  {
   "cell_type": "code",
   "execution_count": null,
   "id": "b95b00ff",
   "metadata": {},
   "outputs": [],
   "source": []
  },
  {
   "cell_type": "markdown",
   "id": "496cd285",
   "metadata": {},
   "source": [
    "#### Correct Spelling"
   ]
  },
  {
   "cell_type": "code",
   "execution_count": 277,
   "id": "87cde51e",
   "metadata": {},
   "outputs": [
    {
     "name": "stdout",
     "output_type": "stream",
     "text": [
      "Stars and the solar system -> stars and the solar system\n",
      "money -> money\n",
      "vijayanagara empire -> vijayanagara empire\n",
      "Multiplication 2 -> multiplication 2\n",
      "India Political and Cultural -> india political and cultural\n",
      "introduction to graph -> introduction to graph\n",
      "exponents powers -> exponents powers\n",
      "Introduction -> introduction\n",
      "linear equations in two variables -> linear equations in two variables\n",
      "Abdul in the Garden -> abdul in the garden\n",
      "numbers 1 t0 20 -> numbers 1 to 20\n",
      "Eating Togerher -> eating together\n",
      "Reprosuction in Animals -> reproduction in animals\n",
      "A snake charmer&#039;s story -> a snake charmer 039 i story\n",
      "how many ponytails? -> how many ponytails\n"
     ]
    }
   ],
   "source": [
    "from spellchecker import SpellChecker\n",
    "import re\n",
    "\n",
    "# Initialize spell checker\n",
    "spell = SpellChecker()\n",
    "\n",
    "# Define a function to correct spelling mistakes in a string\n",
    "def correct_spelling(text):\n",
    "    # Split the text into words\n",
    "    words = re.findall(r'\\b\\w+\\b', text)\n",
    "    \n",
    "    # Find and correct misspelled words\n",
    "    corrected_words = []\n",
    "    for word in words:\n",
    "        corrected_word = spell.correction(word.lower())\n",
    "        if corrected_word is not None:\n",
    "            corrected_words.append(corrected_word)\n",
    "        else:\n",
    "            corrected_words.append(word)\n",
    "    \n",
    "    # Join the corrected words back into a single string\n",
    "    return \" \".join(corrected_words)\n",
    "\n",
    "# Apply correct_spelling() function to 'chapter name' column\n",
    "#feedback_check['spelling check'] = feedback_check['chapter name'].apply(correct_spelling)\n",
    "\n",
    "# test the function with some sample inputs\n",
    "titles = [\n",
    "    'Stars and the solar system',\n",
    "    'money',\n",
    "    'vijayanagara empire',\n",
    "    'Multiplication 2',\n",
    "    'India Political and Cultural',\n",
    "    'introduction to graph',\n",
    "    'exponents powers',\n",
    "    'Introduction','linear equations in two variables',\n",
    "    'Abdul in the Garden',\n",
    "    'numbers 1 t0 20',\n",
    "    'Eating Togerher','Reprosuction in Animals',\n",
    "    'A snake charmer&#039;s story','how many ponytails?'\n",
    "    \n",
    "]\n",
    "\n",
    "for title in titles:\n",
    "    print(f\"{title} -> {correct_spelling(title)}\")"
   ]
  },
  {
   "cell_type": "code",
   "execution_count": 491,
   "id": "5ff5df2c",
   "metadata": {},
   "outputs": [
    {
     "data": {
      "text/plain": [
       "money                     3\n",
       "rational numbers          2\n",
       "smart charts              2\n",
       "patterns                  2\n",
       "how many times            2\n",
       "                         ..\n",
       "my sunday                 1\n",
       "tens and ones             1\n",
       "footprints                1\n",
       "counting in tens          1\n",
       "women change the world    1\n",
       "Name: course module, Length: 81, dtype: int64"
      ]
     },
     "execution_count": 491,
     "metadata": {},
     "output_type": "execute_result"
    }
   ],
   "source": [
    "from spellchecker import SpellChecker\n",
    "import re\n",
    "\n",
    "# Initialize spell checker\n",
    "spell = SpellChecker()\n",
    "\n",
    "# Define a function to correct spelling mistakes in a string\n",
    "def correct_spelling(text):\n",
    "    # Split the text into words\n",
    "    words = re.findall(r'\\b\\w+\\b', text)\n",
    "    \n",
    "    # Find and correct misspelled words\n",
    "    corrected_words = []\n",
    "    for word in words:\n",
    "        corrected_word = spell.correction(word.lower())\n",
    "        if corrected_word is not None:\n",
    "            corrected_words.append(corrected_word)\n",
    "        else:\n",
    "            corrected_words.append(word)\n",
    "    \n",
    "    # Join the corrected words back into a single string\n",
    "    return \" \".join(corrected_words)\n",
    "\n",
    "# apply function to create new column\n",
    "master_feedback_check['course module'] = master_feedback_check['chapter name'].apply(correct_spelling)\n",
    "\n",
    "master_feedback_check['course module'].value_counts()"
   ]
  },
  {
   "cell_type": "markdown",
   "id": "eeff8e92",
   "metadata": {},
   "source": [
    "#### Capitalize first letter"
   ]
  },
  {
   "cell_type": "code",
   "execution_count": 279,
   "id": "5c82f5f6",
   "metadata": {},
   "outputs": [
    {
     "name": "stdout",
     "output_type": "stream",
     "text": [
      "Stars and the solar system -> Stars and the Solar System\n",
      "money -> Money\n",
      "vijayanagara empire -> Vijayanagara Empire\n",
      "Multiplication 2 -> Multiplication 2\n",
      "India Political and Cultural -> India Political and Cultural\n",
      "introduction to graph -> Introduction to Graph\n",
      "exponents powers -> Exponents Powers\n",
      "Introduction -> Introduction\n",
      "linear equations in two variables -> Linear Equations in Two Variables\n",
      "Abdul in the Garden -> Abdul in the Garden\n",
      "A snake charmer&#039;s story -> A Snake Charmers Story\n",
      "how many ponytails? -> How Many Ponytails?\n"
     ]
    }
   ],
   "source": [
    "import re\n",
    "\n",
    "def clean_chapter_name(chapter_name):\n",
    "    # Exclude special characters and digits\n",
    "    chapter_name = re.sub(r\"(['%&#;]|\\d{3})\", \"\", chapter_name)\n",
    "    \n",
    "    # Capitalize first letters of each word\n",
    "    words = chapter_name.split()\n",
    "    for i, word in enumerate(words):\n",
    "        if i == 0 or word.lower() not in ['in','the', 'to', 'on', 'at', 'into', 'and','a','with']:\n",
    "            words[i] = word.capitalize()\n",
    "    return \" \".join(words)\n",
    "\n",
    "# test the function with some sample inputs\n",
    "titles = [\n",
    "    'Stars and the solar system',\n",
    "    'money',\n",
    "    'vijayanagara empire',\n",
    "    'Multiplication 2',\n",
    "    'India Political and Cultural',\n",
    "    'introduction to graph',\n",
    "    'exponents powers',\n",
    "    'Introduction','linear equations in two variables',\n",
    "    'Abdul in the Garden','A snake charmer&#039;s story',\n",
    "    'how many ponytails?'\n",
    "    \n",
    "]\n",
    "\n",
    "for title in titles:\n",
    "    print(f\"{title} -> {clean_chapter_name(title)}\")\n",
    "\n"
   ]
  },
  {
   "cell_type": "code",
   "execution_count": 492,
   "id": "fded0cbf",
   "metadata": {},
   "outputs": [
    {
     "data": {
      "text/plain": [
       "Money                     3\n",
       "Rational Numbers          2\n",
       "Smart Charts              2\n",
       "Patterns                  2\n",
       "How Many Times            2\n",
       "                         ..\n",
       "My Sunday                 1\n",
       "Tens and Ones             1\n",
       "Footprints                1\n",
       "Counting in Tens          1\n",
       "Women Change the World    1\n",
       "Name: course module, Length: 81, dtype: int64"
      ]
     },
     "execution_count": 492,
     "metadata": {},
     "output_type": "execute_result"
    }
   ],
   "source": [
    "import re\n",
    "\n",
    "def clean_chapter_name(chapter_name):\n",
    "    # Exclude special characters and digits\n",
    "    chapter_name = re.sub(r\"(['%&#;]|\\d{3})\", \"\", chapter_name)\n",
    "    \n",
    "    # remove leading digits, two-letter asset code, board, subject, class in roman letters, STD\n",
    "    chapter_name = re.sub(r'(CCDP\\s|SA\\s|MS\\s|QA\\s|DD\\s|CBSE\\s|KSSE\\s|APSE\\s|Mathematics\\s|EVS\\s|Science\\s|Social Science\\s|English\\s|Class\\s|class|Grade\\s|Chapter\\s|\\d{2}\\s[A-Z]{2}\\s|STD\\sI\\s|II|STD\\sII\\s|STD\\sIII\\s|III|STD\\sIV\\s|IV|STD\\sV\\s|V\\s|STD\\sVI\\s|VI|STD\\sVII\\s|VII|STD\\sVIII\\s|VIII|STD\\sIX\\s|IX|X\\s)', '', chapter_name)\n",
    "    \n",
    "    # remove trailing hyphens, spaces, and periods\n",
    "    chapter_name = re.sub(r'[-.\\s]*$', '', chapter_name)\n",
    "    chapter_name = re.sub(r'^\\s+ \\s$', '', chapter_name)\n",
    "    chapter_name = re.sub(r'^\\s+ ', '', chapter_name)\n",
    "\n",
    "    \n",
    "    \n",
    "    # Capitalize first letters of each word\n",
    "    words = chapter_name.split()\n",
    "    for i, word in enumerate(words):\n",
    "        if i == 0 or word.lower() not in ['in','the', 'to', 'on', 'at', 'into', 'and','a','with']:\n",
    "            words[i] = word.capitalize()\n",
    "    return \" \".join(words)\n",
    "\n",
    "# apply function to chapter_name_cleaneed column\n",
    "master_feedback_check['course module'] = master_feedback_check['course module'].apply(clean_chapter_name)\n",
    "\n",
    "master_feedback_check['course module'].value_counts()"
   ]
  },
  {
   "cell_type": "code",
   "execution_count": 500,
   "id": "e81c2657",
   "metadata": {},
   "outputs": [
    {
     "data": {
      "text/html": [
       "<div>\n",
       "<style scoped>\n",
       "    .dataframe tbody tr th:only-of-type {\n",
       "        vertical-align: middle;\n",
       "    }\n",
       "\n",
       "    .dataframe tbody tr th {\n",
       "        vertical-align: top;\n",
       "    }\n",
       "\n",
       "    .dataframe thead th {\n",
       "        text-align: right;\n",
       "    }\n",
       "</style>\n",
       "<table border=\"1\" class=\"dataframe\">\n",
       "  <thead>\n",
       "    <tr style=\"text-align: right;\">\n",
       "      <th></th>\n",
       "      <th>Time</th>\n",
       "      <th>id</th>\n",
       "      <th>idnumber</th>\n",
       "      <th>username</th>\n",
       "      <th>firstname</th>\n",
       "      <th>lastname</th>\n",
       "      <th>email</th>\n",
       "      <th>institution</th>\n",
       "      <th>email entered</th>\n",
       "      <th>chapter name</th>\n",
       "      <th>...</th>\n",
       "      <th>vc</th>\n",
       "      <th>ia</th>\n",
       "      <th>comm. 1</th>\n",
       "      <th>comm. 2</th>\n",
       "      <th>comm. 3</th>\n",
       "      <th>comm. 4</th>\n",
       "      <th>comm. 5</th>\n",
       "      <th>comm. 6</th>\n",
       "      <th>Date</th>\n",
       "      <th>course module</th>\n",
       "    </tr>\n",
       "  </thead>\n",
       "  <tbody>\n",
       "    <tr>\n",
       "      <th>0</th>\n",
       "      <td>2022-11-16 07:53:41</td>\n",
       "      <td>630</td>\n",
       "      <td>KA014</td>\n",
       "      <td>varshini_s</td>\n",
       "      <td>Varshini</td>\n",
       "      <td>S P</td>\n",
       "      <td>varshinisettypal@gmail.com</td>\n",
       "      <td>Sri Sathya Sai Vidya Kendra</td>\n",
       "      <td>varshinisettypal@gmail.com</td>\n",
       "      <td>money</td>\n",
       "      <td>...</td>\n",
       "      <td>5.0</td>\n",
       "      <td>5.0</td>\n",
       "      <td>1.0</td>\n",
       "      <td>1.0</td>\n",
       "      <td>1.0</td>\n",
       "      <td>1.0</td>\n",
       "      <td>no</td>\n",
       "      <td>no</td>\n",
       "      <td>16/11/2022</td>\n",
       "      <td>Money</td>\n",
       "    </tr>\n",
       "    <tr>\n",
       "      <th>1</th>\n",
       "      <td>2022-11-17 06:41:47</td>\n",
       "      <td>2133</td>\n",
       "      <td>KA015</td>\n",
       "      <td>yarab.baba</td>\n",
       "      <td>Yarab</td>\n",
       "      <td>baba</td>\n",
       "      <td>yarabbaba94@gmail.com</td>\n",
       "      <td>Sri Sathya Sai Vidyaniketan, Bagepalli</td>\n",
       "      <td>yarabbaba94@gmail.com</td>\n",
       "      <td>vijayanagara empire</td>\n",
       "      <td>...</td>\n",
       "      <td>1.0</td>\n",
       "      <td>1.0</td>\n",
       "      <td>1.0</td>\n",
       "      <td>1.0</td>\n",
       "      <td>1.0</td>\n",
       "      <td>1.0</td>\n",
       "      <td>NaN</td>\n",
       "      <td>which content given in this it&amp;#039;s good, bu...</td>\n",
       "      <td>17/11/2022</td>\n",
       "      <td>Vijayanagara Empire</td>\n",
       "    </tr>\n",
       "    <tr>\n",
       "      <th>2</th>\n",
       "      <td>2022-11-17 09:43:29</td>\n",
       "      <td>571</td>\n",
       "      <td>KA015</td>\n",
       "      <td>subbalakshmamma</td>\n",
       "      <td>Subbalakshmamma</td>\n",
       "      <td>B O</td>\n",
       "      <td>lakshmalakshmi24@gmail.com</td>\n",
       "      <td>Sri Sathya Sai Vidyaniketan, Bagepalli</td>\n",
       "      <td>lakshmilakshma24@gmail.com</td>\n",
       "      <td>Multiplication 2</td>\n",
       "      <td>...</td>\n",
       "      <td>5.0</td>\n",
       "      <td>5.0</td>\n",
       "      <td>1.0</td>\n",
       "      <td>1.0</td>\n",
       "      <td>1.0</td>\n",
       "      <td>1.0</td>\n",
       "      <td>No comments.</td>\n",
       "      <td>The content is easy and simple.Students are en...</td>\n",
       "      <td>17/11/2022</td>\n",
       "      <td>Multiplication 2</td>\n",
       "    </tr>\n",
       "    <tr>\n",
       "      <th>3</th>\n",
       "      <td>2022-11-17 10:01:37</td>\n",
       "      <td>559</td>\n",
       "      <td>KA015</td>\n",
       "      <td>sarala_b</td>\n",
       "      <td>Sarala</td>\n",
       "      <td>B</td>\n",
       "      <td>saralamma200@gmail.com</td>\n",
       "      <td>Sri Sathya Sai Vidyaniketan, Bagepalli</td>\n",
       "      <td>NaN</td>\n",
       "      <td>Not Entered</td>\n",
       "      <td>...</td>\n",
       "      <td>4.0</td>\n",
       "      <td>5.0</td>\n",
       "      <td>1.0</td>\n",
       "      <td>1.0</td>\n",
       "      <td>1.0</td>\n",
       "      <td>1.0</td>\n",
       "      <td>no</td>\n",
       "      <td>NaN</td>\n",
       "      <td>17/11/2022</td>\n",
       "      <td>Not Entered</td>\n",
       "    </tr>\n",
       "    <tr>\n",
       "      <th>4</th>\n",
       "      <td>2022-11-28 08:58:00</td>\n",
       "      <td>576</td>\n",
       "      <td>KA015</td>\n",
       "      <td>bhagya_v</td>\n",
       "      <td>Bhagya</td>\n",
       "      <td>V</td>\n",
       "      <td>bhagyanagaraju6@gmail.com</td>\n",
       "      <td>Sri Sathya Sai Vidyaniketan, Bagepalli</td>\n",
       "      <td>bhagyanagaraju6@gmail.com</td>\n",
       "      <td>India Political and Cultural</td>\n",
       "      <td>...</td>\n",
       "      <td>5.0</td>\n",
       "      <td>4.0</td>\n",
       "      <td>1.0</td>\n",
       "      <td>1.0</td>\n",
       "      <td>1.0</td>\n",
       "      <td>1.0</td>\n",
       "      <td>NaN</td>\n",
       "      <td>Good</td>\n",
       "      <td>28/11/2022</td>\n",
       "      <td>India Political and Cultural</td>\n",
       "    </tr>\n",
       "  </tbody>\n",
       "</table>\n",
       "<p>5 rows × 25 columns</p>\n",
       "</div>"
      ],
      "text/plain": [
       "                 Time    id idnumber         username        firstname  \\\n",
       "0 2022-11-16 07:53:41   630    KA014       varshini_s         Varshini   \n",
       "1 2022-11-17 06:41:47  2133    KA015       yarab.baba            Yarab   \n",
       "2 2022-11-17 09:43:29   571    KA015  subbalakshmamma  Subbalakshmamma   \n",
       "3 2022-11-17 10:01:37   559    KA015         sarala_b           Sarala   \n",
       "4 2022-11-28 08:58:00   576    KA015         bhagya_v           Bhagya   \n",
       "\n",
       "  lastname                       email  \\\n",
       "0      S P  varshinisettypal@gmail.com   \n",
       "1     baba       yarabbaba94@gmail.com   \n",
       "2      B O  lakshmalakshmi24@gmail.com   \n",
       "3        B      saralamma200@gmail.com   \n",
       "4        V   bhagyanagaraju6@gmail.com   \n",
       "\n",
       "                              institution               email entered  \\\n",
       "0             Sri Sathya Sai Vidya Kendra  varshinisettypal@gmail.com   \n",
       "1  Sri Sathya Sai Vidyaniketan, Bagepalli       yarabbaba94@gmail.com   \n",
       "2  Sri Sathya Sai Vidyaniketan, Bagepalli  lakshmilakshma24@gmail.com   \n",
       "3  Sri Sathya Sai Vidyaniketan, Bagepalli                         NaN   \n",
       "4  Sri Sathya Sai Vidyaniketan, Bagepalli   bhagyanagaraju6@gmail.com   \n",
       "\n",
       "                   chapter name  ...   vc   ia  comm. 1  comm. 2  comm. 3  \\\n",
       "0                         money  ...  5.0  5.0      1.0      1.0      1.0   \n",
       "1           vijayanagara empire  ...  1.0  1.0      1.0      1.0      1.0   \n",
       "2              Multiplication 2  ...  5.0  5.0      1.0      1.0      1.0   \n",
       "3                   Not Entered  ...  4.0  5.0      1.0      1.0      1.0   \n",
       "4  India Political and Cultural  ...  5.0  4.0      1.0      1.0      1.0   \n",
       "\n",
       "   comm. 4       comm. 5                                            comm. 6  \\\n",
       "0      1.0            no                                                 no   \n",
       "1      1.0           NaN  which content given in this it&#039;s good, bu...   \n",
       "2      1.0  No comments.  The content is easy and simple.Students are en...   \n",
       "3      1.0            no                                                NaN   \n",
       "4      1.0           NaN                                               Good   \n",
       "\n",
       "         Date                 course module  \n",
       "0  16/11/2022                         Money  \n",
       "1  17/11/2022           Vijayanagara Empire  \n",
       "2  17/11/2022              Multiplication 2  \n",
       "3  17/11/2022                   Not Entered  \n",
       "4  28/11/2022  India Political and Cultural  \n",
       "\n",
       "[5 rows x 25 columns]"
      ]
     },
     "execution_count": 500,
     "metadata": {},
     "output_type": "execute_result"
    }
   ],
   "source": [
    "master_feedback_check.head()"
   ]
  },
  {
   "cell_type": "code",
   "execution_count": 501,
   "id": "69120235",
   "metadata": {},
   "outputs": [],
   "source": [
    "#Save the cleaned dataframe to an excel file\n",
    "master_feedback_check.to_excel(r\"D:\\Side Hustles\\SSSVV activities\\SRC - Karnataka\\Monthly Reports\\master_feedback_check.xlsx\", index=False)"
   ]
  },
  {
   "cell_type": "code",
   "execution_count": null,
   "id": "854e173f",
   "metadata": {},
   "outputs": [],
   "source": []
  },
  {
   "cell_type": "markdown",
   "id": "1624a763",
   "metadata": {},
   "source": [
    "### 5. Merge with current month data"
   ]
  },
  {
   "cell_type": "code",
   "execution_count": 502,
   "id": "fe001202",
   "metadata": {},
   "outputs": [],
   "source": [
    "master_feedback_check_cleaned = master_feedback_check.copy()"
   ]
  },
  {
   "cell_type": "code",
   "execution_count": 503,
   "id": "44f7cc40",
   "metadata": {},
   "outputs": [
    {
     "data": {
      "text/html": [
       "<div>\n",
       "<style scoped>\n",
       "    .dataframe tbody tr th:only-of-type {\n",
       "        vertical-align: middle;\n",
       "    }\n",
       "\n",
       "    .dataframe tbody tr th {\n",
       "        vertical-align: top;\n",
       "    }\n",
       "\n",
       "    .dataframe thead th {\n",
       "        text-align: right;\n",
       "    }\n",
       "</style>\n",
       "<table border=\"1\" class=\"dataframe\">\n",
       "  <thead>\n",
       "    <tr style=\"text-align: right;\">\n",
       "      <th></th>\n",
       "      <th>Time</th>\n",
       "      <th>id</th>\n",
       "      <th>idnumber</th>\n",
       "      <th>username</th>\n",
       "      <th>firstname</th>\n",
       "      <th>lastname</th>\n",
       "      <th>email</th>\n",
       "      <th>institution</th>\n",
       "      <th>email entered</th>\n",
       "      <th>chapter name</th>\n",
       "      <th>...</th>\n",
       "      <th>vc</th>\n",
       "      <th>ia</th>\n",
       "      <th>comm. 1</th>\n",
       "      <th>comm. 2</th>\n",
       "      <th>comm. 3</th>\n",
       "      <th>comm. 4</th>\n",
       "      <th>comm. 5</th>\n",
       "      <th>comm. 6</th>\n",
       "      <th>Date</th>\n",
       "      <th>course module</th>\n",
       "    </tr>\n",
       "  </thead>\n",
       "  <tbody>\n",
       "    <tr>\n",
       "      <th>0</th>\n",
       "      <td>2022-11-16 07:53:41</td>\n",
       "      <td>630</td>\n",
       "      <td>KA014</td>\n",
       "      <td>varshini_s</td>\n",
       "      <td>Varshini</td>\n",
       "      <td>S P</td>\n",
       "      <td>varshinisettypal@gmail.com</td>\n",
       "      <td>Sri Sathya Sai Vidya Kendra</td>\n",
       "      <td>varshinisettypal@gmail.com</td>\n",
       "      <td>money</td>\n",
       "      <td>...</td>\n",
       "      <td>5.0</td>\n",
       "      <td>5.0</td>\n",
       "      <td>1.0</td>\n",
       "      <td>1.0</td>\n",
       "      <td>1.0</td>\n",
       "      <td>1.0</td>\n",
       "      <td>no</td>\n",
       "      <td>no</td>\n",
       "      <td>16/11/2022</td>\n",
       "      <td>Money</td>\n",
       "    </tr>\n",
       "    <tr>\n",
       "      <th>1</th>\n",
       "      <td>2022-11-17 06:41:47</td>\n",
       "      <td>2133</td>\n",
       "      <td>KA015</td>\n",
       "      <td>yarab.baba</td>\n",
       "      <td>Yarab</td>\n",
       "      <td>baba</td>\n",
       "      <td>yarabbaba94@gmail.com</td>\n",
       "      <td>Sri Sathya Sai Vidyaniketan, Bagepalli</td>\n",
       "      <td>yarabbaba94@gmail.com</td>\n",
       "      <td>vijayanagara empire</td>\n",
       "      <td>...</td>\n",
       "      <td>1.0</td>\n",
       "      <td>1.0</td>\n",
       "      <td>1.0</td>\n",
       "      <td>1.0</td>\n",
       "      <td>1.0</td>\n",
       "      <td>1.0</td>\n",
       "      <td>NaN</td>\n",
       "      <td>which content given in this it&amp;#039;s good, bu...</td>\n",
       "      <td>17/11/2022</td>\n",
       "      <td>Vijayanagara Empire</td>\n",
       "    </tr>\n",
       "    <tr>\n",
       "      <th>2</th>\n",
       "      <td>2022-11-17 09:43:29</td>\n",
       "      <td>571</td>\n",
       "      <td>KA015</td>\n",
       "      <td>subbalakshmamma</td>\n",
       "      <td>Subbalakshmamma</td>\n",
       "      <td>B O</td>\n",
       "      <td>lakshmalakshmi24@gmail.com</td>\n",
       "      <td>Sri Sathya Sai Vidyaniketan, Bagepalli</td>\n",
       "      <td>lakshmilakshma24@gmail.com</td>\n",
       "      <td>Multiplication 2</td>\n",
       "      <td>...</td>\n",
       "      <td>5.0</td>\n",
       "      <td>5.0</td>\n",
       "      <td>1.0</td>\n",
       "      <td>1.0</td>\n",
       "      <td>1.0</td>\n",
       "      <td>1.0</td>\n",
       "      <td>No comments.</td>\n",
       "      <td>The content is easy and simple.Students are en...</td>\n",
       "      <td>17/11/2022</td>\n",
       "      <td>Multiplication 2</td>\n",
       "    </tr>\n",
       "    <tr>\n",
       "      <th>3</th>\n",
       "      <td>2022-11-17 10:01:37</td>\n",
       "      <td>559</td>\n",
       "      <td>KA015</td>\n",
       "      <td>sarala_b</td>\n",
       "      <td>Sarala</td>\n",
       "      <td>B</td>\n",
       "      <td>saralamma200@gmail.com</td>\n",
       "      <td>Sri Sathya Sai Vidyaniketan, Bagepalli</td>\n",
       "      <td>NaN</td>\n",
       "      <td>Not Entered</td>\n",
       "      <td>...</td>\n",
       "      <td>4.0</td>\n",
       "      <td>5.0</td>\n",
       "      <td>1.0</td>\n",
       "      <td>1.0</td>\n",
       "      <td>1.0</td>\n",
       "      <td>1.0</td>\n",
       "      <td>no</td>\n",
       "      <td>NaN</td>\n",
       "      <td>17/11/2022</td>\n",
       "      <td>Not Entered</td>\n",
       "    </tr>\n",
       "    <tr>\n",
       "      <th>4</th>\n",
       "      <td>2022-11-28 08:58:00</td>\n",
       "      <td>576</td>\n",
       "      <td>KA015</td>\n",
       "      <td>bhagya_v</td>\n",
       "      <td>Bhagya</td>\n",
       "      <td>V</td>\n",
       "      <td>bhagyanagaraju6@gmail.com</td>\n",
       "      <td>Sri Sathya Sai Vidyaniketan, Bagepalli</td>\n",
       "      <td>bhagyanagaraju6@gmail.com</td>\n",
       "      <td>India Political and Cultural</td>\n",
       "      <td>...</td>\n",
       "      <td>5.0</td>\n",
       "      <td>4.0</td>\n",
       "      <td>1.0</td>\n",
       "      <td>1.0</td>\n",
       "      <td>1.0</td>\n",
       "      <td>1.0</td>\n",
       "      <td>NaN</td>\n",
       "      <td>Good</td>\n",
       "      <td>28/11/2022</td>\n",
       "      <td>India Political and Cultural</td>\n",
       "    </tr>\n",
       "  </tbody>\n",
       "</table>\n",
       "<p>5 rows × 25 columns</p>\n",
       "</div>"
      ],
      "text/plain": [
       "                 Time    id idnumber         username        firstname  \\\n",
       "0 2022-11-16 07:53:41   630    KA014       varshini_s         Varshini   \n",
       "1 2022-11-17 06:41:47  2133    KA015       yarab.baba            Yarab   \n",
       "2 2022-11-17 09:43:29   571    KA015  subbalakshmamma  Subbalakshmamma   \n",
       "3 2022-11-17 10:01:37   559    KA015         sarala_b           Sarala   \n",
       "4 2022-11-28 08:58:00   576    KA015         bhagya_v           Bhagya   \n",
       "\n",
       "  lastname                       email  \\\n",
       "0      S P  varshinisettypal@gmail.com   \n",
       "1     baba       yarabbaba94@gmail.com   \n",
       "2      B O  lakshmalakshmi24@gmail.com   \n",
       "3        B      saralamma200@gmail.com   \n",
       "4        V   bhagyanagaraju6@gmail.com   \n",
       "\n",
       "                              institution               email entered  \\\n",
       "0             Sri Sathya Sai Vidya Kendra  varshinisettypal@gmail.com   \n",
       "1  Sri Sathya Sai Vidyaniketan, Bagepalli       yarabbaba94@gmail.com   \n",
       "2  Sri Sathya Sai Vidyaniketan, Bagepalli  lakshmilakshma24@gmail.com   \n",
       "3  Sri Sathya Sai Vidyaniketan, Bagepalli                         NaN   \n",
       "4  Sri Sathya Sai Vidyaniketan, Bagepalli   bhagyanagaraju6@gmail.com   \n",
       "\n",
       "                   chapter name  ...   vc   ia  comm. 1  comm. 2  comm. 3  \\\n",
       "0                         money  ...  5.0  5.0      1.0      1.0      1.0   \n",
       "1           vijayanagara empire  ...  1.0  1.0      1.0      1.0      1.0   \n",
       "2              Multiplication 2  ...  5.0  5.0      1.0      1.0      1.0   \n",
       "3                   Not Entered  ...  4.0  5.0      1.0      1.0      1.0   \n",
       "4  India Political and Cultural  ...  5.0  4.0      1.0      1.0      1.0   \n",
       "\n",
       "   comm. 4       comm. 5                                            comm. 6  \\\n",
       "0      1.0            no                                                 no   \n",
       "1      1.0           NaN  which content given in this it&#039;s good, bu...   \n",
       "2      1.0  No comments.  The content is easy and simple.Students are en...   \n",
       "3      1.0            no                                                NaN   \n",
       "4      1.0           NaN                                               Good   \n",
       "\n",
       "         Date                 course module  \n",
       "0  16/11/2022                         Money  \n",
       "1  17/11/2022           Vijayanagara Empire  \n",
       "2  17/11/2022              Multiplication 2  \n",
       "3  17/11/2022                   Not Entered  \n",
       "4  28/11/2022  India Political and Cultural  \n",
       "\n",
       "[5 rows x 25 columns]"
      ]
     },
     "execution_count": 503,
     "metadata": {},
     "output_type": "execute_result"
    }
   ],
   "source": [
    "master_feedback_check_cleaned.head()"
   ]
  },
  {
   "cell_type": "code",
   "execution_count": 451,
   "id": "1e9c23c9",
   "metadata": {},
   "outputs": [
    {
     "data": {
      "text/html": [
       "<div>\n",
       "<style scoped>\n",
       "    .dataframe tbody tr th:only-of-type {\n",
       "        vertical-align: middle;\n",
       "    }\n",
       "\n",
       "    .dataframe tbody tr th {\n",
       "        vertical-align: top;\n",
       "    }\n",
       "\n",
       "    .dataframe thead th {\n",
       "        text-align: right;\n",
       "    }\n",
       "</style>\n",
       "<table border=\"1\" class=\"dataframe\">\n",
       "  <thead>\n",
       "    <tr style=\"text-align: right;\">\n",
       "      <th></th>\n",
       "      <th>Time</th>\n",
       "      <th>userid</th>\n",
       "      <th>idnumber</th>\n",
       "      <th>username</th>\n",
       "      <th>firstname</th>\n",
       "      <th>lastname</th>\n",
       "      <th>email</th>\n",
       "      <th>institution</th>\n",
       "      <th>email entered</th>\n",
       "      <th>chapter name</th>\n",
       "      <th>...</th>\n",
       "      <th>vc</th>\n",
       "      <th>ia</th>\n",
       "      <th>comm. 1</th>\n",
       "      <th>comm. 2</th>\n",
       "      <th>comm. 3</th>\n",
       "      <th>comm. 4</th>\n",
       "      <th>comm. 5</th>\n",
       "      <th>comm. 6</th>\n",
       "      <th>Date</th>\n",
       "      <th>course module</th>\n",
       "    </tr>\n",
       "  </thead>\n",
       "  <tbody>\n",
       "    <tr>\n",
       "      <th>0</th>\n",
       "      <td>2023-02-02 06:31:39</td>\n",
       "      <td>2059</td>\n",
       "      <td>KA007</td>\n",
       "      <td>sssvm.jayalaxmi</td>\n",
       "      <td>Jayalaxmi</td>\n",
       "      <td>CP</td>\n",
       "      <td>laxmisssvm@gmail.com</td>\n",
       "      <td>Sri Sathya Sai Vidya Mandir School, Dharwad</td>\n",
       "      <td>laxmisssvm@gmail.com</td>\n",
       "      <td>Coordinate geometry</td>\n",
       "      <td>...</td>\n",
       "      <td>5</td>\n",
       "      <td>4</td>\n",
       "      <td>1</td>\n",
       "      <td>1</td>\n",
       "      <td>1</td>\n",
       "      <td>1</td>\n",
       "      <td>NaN</td>\n",
       "      <td>NaN</td>\n",
       "      <td>02/02/2023</td>\n",
       "      <td>Coordinate Geometry</td>\n",
       "    </tr>\n",
       "    <tr>\n",
       "      <th>1</th>\n",
       "      <td>2023-02-04 09:15:43</td>\n",
       "      <td>1598</td>\n",
       "      <td>KA007</td>\n",
       "      <td>sssvm.saismitha</td>\n",
       "      <td>Sai Smitha</td>\n",
       "      <td>Sahoo</td>\n",
       "      <td>saismitaofficial@gmail.com</td>\n",
       "      <td>Sri Sathya Sai Vidya Mandir School, Dharwad</td>\n",
       "      <td>saismitasahoo58@gmail.com</td>\n",
       "      <td>Poonams day out</td>\n",
       "      <td>...</td>\n",
       "      <td>5</td>\n",
       "      <td>5</td>\n",
       "      <td>1</td>\n",
       "      <td>1</td>\n",
       "      <td>1</td>\n",
       "      <td>1</td>\n",
       "      <td>NaN</td>\n",
       "      <td>NaN</td>\n",
       "      <td>04/02/2023</td>\n",
       "      <td>Noonas Day Out</td>\n",
       "    </tr>\n",
       "    <tr>\n",
       "      <th>2</th>\n",
       "      <td>2023-02-04 09:17:01</td>\n",
       "      <td>1598</td>\n",
       "      <td>KA007</td>\n",
       "      <td>sssvm.saismitha</td>\n",
       "      <td>Sai Smitha</td>\n",
       "      <td>Sahoo</td>\n",
       "      <td>saismitaofficial@gmail.com</td>\n",
       "      <td>Sri Sathya Sai Vidya Mandir School, Dharwad</td>\n",
       "      <td>saismitasahoo58@gmail.com</td>\n",
       "      <td>The plant fairy</td>\n",
       "      <td>...</td>\n",
       "      <td>5</td>\n",
       "      <td>5</td>\n",
       "      <td>1</td>\n",
       "      <td>1</td>\n",
       "      <td>1</td>\n",
       "      <td>1</td>\n",
       "      <td>NaN</td>\n",
       "      <td>NaN</td>\n",
       "      <td>04/02/2023</td>\n",
       "      <td>The Plant Fairy</td>\n",
       "    </tr>\n",
       "    <tr>\n",
       "      <th>3</th>\n",
       "      <td>2023-02-04 09:17:02</td>\n",
       "      <td>2135</td>\n",
       "      <td>KA007</td>\n",
       "      <td>malashree.nayyar</td>\n",
       "      <td>Malashree</td>\n",
       "      <td>Nayyar</td>\n",
       "      <td>malashreenayyar@gmail.com</td>\n",
       "      <td>Sri Sathya Sai Vidya Mandir School, Dharwad</td>\n",
       "      <td>malashreenayyar@gmail.com</td>\n",
       "      <td>Across the walls</td>\n",
       "      <td>...</td>\n",
       "      <td>4</td>\n",
       "      <td>4</td>\n",
       "      <td>1</td>\n",
       "      <td>1</td>\n",
       "      <td>1</td>\n",
       "      <td>1</td>\n",
       "      <td>NaN</td>\n",
       "      <td>NaN</td>\n",
       "      <td>04/02/2023</td>\n",
       "      <td>Across the Walls</td>\n",
       "    </tr>\n",
       "    <tr>\n",
       "      <th>4</th>\n",
       "      <td>2023-02-04 09:18:08</td>\n",
       "      <td>1598</td>\n",
       "      <td>KA007</td>\n",
       "      <td>sssvm.saismitha</td>\n",
       "      <td>Sai Smitha</td>\n",
       "      <td>Sahoo</td>\n",
       "      <td>saismitaofficial@gmail.com</td>\n",
       "      <td>Sri Sathya Sai Vidya Mandir School, Dharwad</td>\n",
       "      <td>saismitasahoo58@gmail.com</td>\n",
       "      <td>Water O Water</td>\n",
       "      <td>...</td>\n",
       "      <td>5</td>\n",
       "      <td>5</td>\n",
       "      <td>1</td>\n",
       "      <td>1</td>\n",
       "      <td>1</td>\n",
       "      <td>1</td>\n",
       "      <td>NaN</td>\n",
       "      <td>NaN</td>\n",
       "      <td>04/02/2023</td>\n",
       "      <td>Water O Water</td>\n",
       "    </tr>\n",
       "  </tbody>\n",
       "</table>\n",
       "<p>5 rows × 25 columns</p>\n",
       "</div>"
      ],
      "text/plain": [
       "                 Time  userid idnumber          username   firstname lastname  \\\n",
       "0 2023-02-02 06:31:39    2059    KA007   sssvm.jayalaxmi   Jayalaxmi       CP   \n",
       "1 2023-02-04 09:15:43    1598    KA007   sssvm.saismitha  Sai Smitha    Sahoo   \n",
       "2 2023-02-04 09:17:01    1598    KA007   sssvm.saismitha  Sai Smitha    Sahoo   \n",
       "3 2023-02-04 09:17:02    2135    KA007  malashree.nayyar   Malashree   Nayyar   \n",
       "4 2023-02-04 09:18:08    1598    KA007   sssvm.saismitha  Sai Smitha    Sahoo   \n",
       "\n",
       "                        email                                  institution  \\\n",
       "0        laxmisssvm@gmail.com  Sri Sathya Sai Vidya Mandir School, Dharwad   \n",
       "1  saismitaofficial@gmail.com  Sri Sathya Sai Vidya Mandir School, Dharwad   \n",
       "2  saismitaofficial@gmail.com  Sri Sathya Sai Vidya Mandir School, Dharwad   \n",
       "3   malashreenayyar@gmail.com  Sri Sathya Sai Vidya Mandir School, Dharwad   \n",
       "4  saismitaofficial@gmail.com  Sri Sathya Sai Vidya Mandir School, Dharwad   \n",
       "\n",
       "               email entered         chapter name  ...  vc  ia  comm. 1  \\\n",
       "0       laxmisssvm@gmail.com  Coordinate geometry  ...   5   4        1   \n",
       "1  saismitasahoo58@gmail.com      Poonams day out  ...   5   5        1   \n",
       "2  saismitasahoo58@gmail.com     The plant fairy   ...   5   5        1   \n",
       "3  malashreenayyar@gmail.com     Across the walls  ...   4   4        1   \n",
       "4  saismitasahoo58@gmail.com       Water O Water   ...   5   5        1   \n",
       "\n",
       "   comm. 2  comm. 3  comm. 4  comm. 5  comm. 6        Date  \\\n",
       "0        1        1        1      NaN      NaN  02/02/2023   \n",
       "1        1        1        1      NaN      NaN  04/02/2023   \n",
       "2        1        1        1      NaN      NaN  04/02/2023   \n",
       "3        1        1        1      NaN      NaN  04/02/2023   \n",
       "4        1        1        1      NaN      NaN  04/02/2023   \n",
       "\n",
       "         course module  \n",
       "0  Coordinate Geometry  \n",
       "1       Noonas Day Out  \n",
       "2      The Plant Fairy  \n",
       "3     Across the Walls  \n",
       "4        Water O Water  \n",
       "\n",
       "[5 rows x 25 columns]"
      ]
     },
     "execution_count": 451,
     "metadata": {},
     "output_type": "execute_result"
    }
   ],
   "source": [
    "current_feedback_cleaned.head()"
   ]
  },
  {
   "cell_type": "code",
   "execution_count": 506,
   "id": "48bf3489",
   "metadata": {},
   "outputs": [],
   "source": [
    "# Concatenate the filtered data with the previous months' data\n",
    "master_feedback_comb = pd.concat([master_feedback_check_cleaned, current_feedback_cleaned], ignore_index=True)"
   ]
  },
  {
   "cell_type": "code",
   "execution_count": 507,
   "id": "992e8095",
   "metadata": {},
   "outputs": [
    {
     "data": {
      "text/html": [
       "<div>\n",
       "<style scoped>\n",
       "    .dataframe tbody tr th:only-of-type {\n",
       "        vertical-align: middle;\n",
       "    }\n",
       "\n",
       "    .dataframe tbody tr th {\n",
       "        vertical-align: top;\n",
       "    }\n",
       "\n",
       "    .dataframe thead th {\n",
       "        text-align: right;\n",
       "    }\n",
       "</style>\n",
       "<table border=\"1\" class=\"dataframe\">\n",
       "  <thead>\n",
       "    <tr style=\"text-align: right;\">\n",
       "      <th></th>\n",
       "      <th>Time</th>\n",
       "      <th>id</th>\n",
       "      <th>idnumber</th>\n",
       "      <th>username</th>\n",
       "      <th>firstname</th>\n",
       "      <th>lastname</th>\n",
       "      <th>email</th>\n",
       "      <th>institution</th>\n",
       "      <th>email entered</th>\n",
       "      <th>chapter name</th>\n",
       "      <th>...</th>\n",
       "      <th>vc</th>\n",
       "      <th>ia</th>\n",
       "      <th>comm. 1</th>\n",
       "      <th>comm. 2</th>\n",
       "      <th>comm. 3</th>\n",
       "      <th>comm. 4</th>\n",
       "      <th>comm. 5</th>\n",
       "      <th>comm. 6</th>\n",
       "      <th>Date</th>\n",
       "      <th>course module</th>\n",
       "    </tr>\n",
       "  </thead>\n",
       "  <tbody>\n",
       "    <tr>\n",
       "      <th>0</th>\n",
       "      <td>2022-11-16 07:53:41</td>\n",
       "      <td>630</td>\n",
       "      <td>KA014</td>\n",
       "      <td>varshini_s</td>\n",
       "      <td>Varshini</td>\n",
       "      <td>S P</td>\n",
       "      <td>varshinisettypal@gmail.com</td>\n",
       "      <td>Sri Sathya Sai Vidya Kendra</td>\n",
       "      <td>varshinisettypal@gmail.com</td>\n",
       "      <td>money</td>\n",
       "      <td>...</td>\n",
       "      <td>5.0</td>\n",
       "      <td>5.0</td>\n",
       "      <td>1.0</td>\n",
       "      <td>1.0</td>\n",
       "      <td>1.0</td>\n",
       "      <td>1.0</td>\n",
       "      <td>no</td>\n",
       "      <td>no</td>\n",
       "      <td>16/11/2022</td>\n",
       "      <td>Money</td>\n",
       "    </tr>\n",
       "    <tr>\n",
       "      <th>1</th>\n",
       "      <td>2022-11-17 06:41:47</td>\n",
       "      <td>2133</td>\n",
       "      <td>KA015</td>\n",
       "      <td>yarab.baba</td>\n",
       "      <td>Yarab</td>\n",
       "      <td>baba</td>\n",
       "      <td>yarabbaba94@gmail.com</td>\n",
       "      <td>Sri Sathya Sai Vidyaniketan, Bagepalli</td>\n",
       "      <td>yarabbaba94@gmail.com</td>\n",
       "      <td>vijayanagara empire</td>\n",
       "      <td>...</td>\n",
       "      <td>1.0</td>\n",
       "      <td>1.0</td>\n",
       "      <td>1.0</td>\n",
       "      <td>1.0</td>\n",
       "      <td>1.0</td>\n",
       "      <td>1.0</td>\n",
       "      <td>NaN</td>\n",
       "      <td>which content given in this it&amp;#039;s good, bu...</td>\n",
       "      <td>17/11/2022</td>\n",
       "      <td>Vijayanagara Empire</td>\n",
       "    </tr>\n",
       "    <tr>\n",
       "      <th>2</th>\n",
       "      <td>2022-11-17 09:43:29</td>\n",
       "      <td>571</td>\n",
       "      <td>KA015</td>\n",
       "      <td>subbalakshmamma</td>\n",
       "      <td>Subbalakshmamma</td>\n",
       "      <td>B O</td>\n",
       "      <td>lakshmalakshmi24@gmail.com</td>\n",
       "      <td>Sri Sathya Sai Vidyaniketan, Bagepalli</td>\n",
       "      <td>lakshmilakshma24@gmail.com</td>\n",
       "      <td>Multiplication 2</td>\n",
       "      <td>...</td>\n",
       "      <td>5.0</td>\n",
       "      <td>5.0</td>\n",
       "      <td>1.0</td>\n",
       "      <td>1.0</td>\n",
       "      <td>1.0</td>\n",
       "      <td>1.0</td>\n",
       "      <td>No comments.</td>\n",
       "      <td>The content is easy and simple.Students are en...</td>\n",
       "      <td>17/11/2022</td>\n",
       "      <td>Multiplication 2</td>\n",
       "    </tr>\n",
       "    <tr>\n",
       "      <th>3</th>\n",
       "      <td>2022-11-17 10:01:37</td>\n",
       "      <td>559</td>\n",
       "      <td>KA015</td>\n",
       "      <td>sarala_b</td>\n",
       "      <td>Sarala</td>\n",
       "      <td>B</td>\n",
       "      <td>saralamma200@gmail.com</td>\n",
       "      <td>Sri Sathya Sai Vidyaniketan, Bagepalli</td>\n",
       "      <td>NaN</td>\n",
       "      <td>Not Entered</td>\n",
       "      <td>...</td>\n",
       "      <td>4.0</td>\n",
       "      <td>5.0</td>\n",
       "      <td>1.0</td>\n",
       "      <td>1.0</td>\n",
       "      <td>1.0</td>\n",
       "      <td>1.0</td>\n",
       "      <td>no</td>\n",
       "      <td>NaN</td>\n",
       "      <td>17/11/2022</td>\n",
       "      <td>Not Entered</td>\n",
       "    </tr>\n",
       "    <tr>\n",
       "      <th>4</th>\n",
       "      <td>2022-11-28 08:58:00</td>\n",
       "      <td>576</td>\n",
       "      <td>KA015</td>\n",
       "      <td>bhagya_v</td>\n",
       "      <td>Bhagya</td>\n",
       "      <td>V</td>\n",
       "      <td>bhagyanagaraju6@gmail.com</td>\n",
       "      <td>Sri Sathya Sai Vidyaniketan, Bagepalli</td>\n",
       "      <td>bhagyanagaraju6@gmail.com</td>\n",
       "      <td>India Political and Cultural</td>\n",
       "      <td>...</td>\n",
       "      <td>5.0</td>\n",
       "      <td>4.0</td>\n",
       "      <td>1.0</td>\n",
       "      <td>1.0</td>\n",
       "      <td>1.0</td>\n",
       "      <td>1.0</td>\n",
       "      <td>NaN</td>\n",
       "      <td>Good</td>\n",
       "      <td>28/11/2022</td>\n",
       "      <td>India Political and Cultural</td>\n",
       "    </tr>\n",
       "  </tbody>\n",
       "</table>\n",
       "<p>5 rows × 25 columns</p>\n",
       "</div>"
      ],
      "text/plain": [
       "                 Time    id idnumber         username        firstname  \\\n",
       "0 2022-11-16 07:53:41   630    KA014       varshini_s         Varshini   \n",
       "1 2022-11-17 06:41:47  2133    KA015       yarab.baba            Yarab   \n",
       "2 2022-11-17 09:43:29   571    KA015  subbalakshmamma  Subbalakshmamma   \n",
       "3 2022-11-17 10:01:37   559    KA015         sarala_b           Sarala   \n",
       "4 2022-11-28 08:58:00   576    KA015         bhagya_v           Bhagya   \n",
       "\n",
       "  lastname                       email  \\\n",
       "0      S P  varshinisettypal@gmail.com   \n",
       "1     baba       yarabbaba94@gmail.com   \n",
       "2      B O  lakshmalakshmi24@gmail.com   \n",
       "3        B      saralamma200@gmail.com   \n",
       "4        V   bhagyanagaraju6@gmail.com   \n",
       "\n",
       "                              institution               email entered  \\\n",
       "0             Sri Sathya Sai Vidya Kendra  varshinisettypal@gmail.com   \n",
       "1  Sri Sathya Sai Vidyaniketan, Bagepalli       yarabbaba94@gmail.com   \n",
       "2  Sri Sathya Sai Vidyaniketan, Bagepalli  lakshmilakshma24@gmail.com   \n",
       "3  Sri Sathya Sai Vidyaniketan, Bagepalli                         NaN   \n",
       "4  Sri Sathya Sai Vidyaniketan, Bagepalli   bhagyanagaraju6@gmail.com   \n",
       "\n",
       "                   chapter name  ...   vc   ia  comm. 1  comm. 2  comm. 3  \\\n",
       "0                         money  ...  5.0  5.0      1.0      1.0      1.0   \n",
       "1           vijayanagara empire  ...  1.0  1.0      1.0      1.0      1.0   \n",
       "2              Multiplication 2  ...  5.0  5.0      1.0      1.0      1.0   \n",
       "3                   Not Entered  ...  4.0  5.0      1.0      1.0      1.0   \n",
       "4  India Political and Cultural  ...  5.0  4.0      1.0      1.0      1.0   \n",
       "\n",
       "   comm. 4       comm. 5                                            comm. 6  \\\n",
       "0      1.0            no                                                 no   \n",
       "1      1.0           NaN  which content given in this it&#039;s good, bu...   \n",
       "2      1.0  No comments.  The content is easy and simple.Students are en...   \n",
       "3      1.0            no                                                NaN   \n",
       "4      1.0           NaN                                               Good   \n",
       "\n",
       "         Date                 course module  \n",
       "0  16/11/2022                         Money  \n",
       "1  17/11/2022           Vijayanagara Empire  \n",
       "2  17/11/2022              Multiplication 2  \n",
       "3  17/11/2022                   Not Entered  \n",
       "4  28/11/2022  India Political and Cultural  \n",
       "\n",
       "[5 rows x 25 columns]"
      ]
     },
     "execution_count": 507,
     "metadata": {},
     "output_type": "execute_result"
    }
   ],
   "source": [
    "master_feedback_comb.head()"
   ]
  },
  {
   "cell_type": "code",
   "execution_count": 513,
   "id": "4e0e5120",
   "metadata": {},
   "outputs": [
    {
     "data": {
      "text/plain": [
       "(120, 25)"
      ]
     },
     "execution_count": 513,
     "metadata": {},
     "output_type": "execute_result"
    }
   ],
   "source": [
    "master_feedback_comb.shape"
   ]
  },
  {
   "cell_type": "code",
   "execution_count": 514,
   "id": "ddf2b641",
   "metadata": {},
   "outputs": [],
   "source": [
    "master_feedback_comb_cleaned = master_feedback_comb.copy()"
   ]
  },
  {
   "cell_type": "markdown",
   "id": "8d406831",
   "metadata": {},
   "source": [
    "### 6. Save file in master path"
   ]
  },
  {
   "cell_type": "code",
   "execution_count": 515,
   "id": "3539a4cc",
   "metadata": {},
   "outputs": [],
   "source": [
    "# Rename the file with the current month and year\n",
    "master_feedback_ = f'Master_Feedback_List.xlsx'"
   ]
  },
  {
   "cell_type": "code",
   "execution_count": 516,
   "id": "ce13063b",
   "metadata": {},
   "outputs": [],
   "source": [
    "#Set the new file path\n",
    "master_path = os.path.join(r'D:\\Side Hustles\\SSSVV activities\\SRC - Karnataka\\Monthly Reports\\Master Folder', master_feedback_)\n",
    "\n",
    "#Save the dataframe to the new file path\n",
    "master_feedback_comb_cleaned.to_excel(master_path, index=False)"
   ]
  },
  {
   "cell_type": "code",
   "execution_count": null,
   "id": "edf2da09",
   "metadata": {},
   "outputs": [],
   "source": []
  },
  {
   "cell_type": "markdown",
   "id": "7f7d5c3f",
   "metadata": {},
   "source": [
    "## Master Downloads File"
   ]
  },
  {
   "cell_type": "code",
   "execution_count": 585,
   "id": "5df738d6",
   "metadata": {},
   "outputs": [
    {
     "data": {
      "text/html": [
       "<div>\n",
       "<style scoped>\n",
       "    .dataframe tbody tr th:only-of-type {\n",
       "        vertical-align: middle;\n",
       "    }\n",
       "\n",
       "    .dataframe tbody tr th {\n",
       "        vertical-align: top;\n",
       "    }\n",
       "\n",
       "    .dataframe thead th {\n",
       "        text-align: right;\n",
       "    }\n",
       "</style>\n",
       "<table border=\"1\" class=\"dataframe\">\n",
       "  <thead>\n",
       "    <tr style=\"text-align: right;\">\n",
       "      <th></th>\n",
       "      <th>id</th>\n",
       "      <th>idnumber</th>\n",
       "      <th>username</th>\n",
       "      <th>firstname</th>\n",
       "      <th>lastname</th>\n",
       "      <th>email</th>\n",
       "      <th>institution</th>\n",
       "      <th>shortname</th>\n",
       "      <th>Class</th>\n",
       "      <th>Board</th>\n",
       "      <th>Subject</th>\n",
       "      <th>course module</th>\n",
       "      <th>file downloaded</th>\n",
       "      <th>timestamp</th>\n",
       "      <th>Date</th>\n",
       "    </tr>\n",
       "  </thead>\n",
       "  <tbody>\n",
       "    <tr>\n",
       "      <th>0</th>\n",
       "      <td>NaN</td>\n",
       "      <td>KA003</td>\n",
       "      <td>NaN</td>\n",
       "      <td>NaN</td>\n",
       "      <td>NaN</td>\n",
       "      <td>NaN</td>\n",
       "      <td>Sri  Sathya Sai Primary and High School, Bagalkot</td>\n",
       "      <td>NaN</td>\n",
       "      <td>NaN</td>\n",
       "      <td>NaN</td>\n",
       "      <td>NaN</td>\n",
       "      <td>NaN</td>\n",
       "      <td>NaN</td>\n",
       "      <td>NaN</td>\n",
       "      <td>NaT</td>\n",
       "    </tr>\n",
       "    <tr>\n",
       "      <th>1</th>\n",
       "      <td>NaN</td>\n",
       "      <td>KA004</td>\n",
       "      <td>NaN</td>\n",
       "      <td>NaN</td>\n",
       "      <td>NaN</td>\n",
       "      <td>NaN</td>\n",
       "      <td>Sri Sathya Sai Loka Seva High School, Alike</td>\n",
       "      <td>NaN</td>\n",
       "      <td>NaN</td>\n",
       "      <td>NaN</td>\n",
       "      <td>NaN</td>\n",
       "      <td>NaN</td>\n",
       "      <td>NaN</td>\n",
       "      <td>NaN</td>\n",
       "      <td>NaT</td>\n",
       "    </tr>\n",
       "    <tr>\n",
       "      <th>2</th>\n",
       "      <td>1575.0</td>\n",
       "      <td>KA000</td>\n",
       "      <td>chithra_srikanth</td>\n",
       "      <td>Chithra</td>\n",
       "      <td>Srikanth</td>\n",
       "      <td>chithrasrikanth76@gmail.com</td>\n",
       "      <td>SSSVV KA Volunteer</td>\n",
       "      <td>VI CBSE Science</td>\n",
       "      <td>VI</td>\n",
       "      <td>CBSE</td>\n",
       "      <td>Science</td>\n",
       "      <td>Fun with magnets</td>\n",
       "      <td>CCDP_CBSE_Science_STD VI_Fun with Magnets.xlsx</td>\n",
       "      <td>NaN</td>\n",
       "      <td>NaT</td>\n",
       "    </tr>\n",
       "    <tr>\n",
       "      <th>3</th>\n",
       "      <td>1575.0</td>\n",
       "      <td>KA000</td>\n",
       "      <td>chithra_srikanth</td>\n",
       "      <td>Chithra</td>\n",
       "      <td>Srikanth</td>\n",
       "      <td>chithrasrikanth76@gmail.com</td>\n",
       "      <td>SSSVV KA Volunteer</td>\n",
       "      <td>VI CBSE Science</td>\n",
       "      <td>VI</td>\n",
       "      <td>CBSE</td>\n",
       "      <td>Science</td>\n",
       "      <td>Fun with magnets</td>\n",
       "      <td>Fun with Magnets.pdf</td>\n",
       "      <td>NaN</td>\n",
       "      <td>NaT</td>\n",
       "    </tr>\n",
       "    <tr>\n",
       "      <th>4</th>\n",
       "      <td>637.0</td>\n",
       "      <td>KA001</td>\n",
       "      <td>shwetha_l</td>\n",
       "      <td>Shwetha</td>\n",
       "      <td>L C</td>\n",
       "      <td>shwethasunil87@gmail.com</td>\n",
       "      <td>Ananda Sai Shikshana Samsthe Shimoga</td>\n",
       "      <td>I CBSE EVS</td>\n",
       "      <td>I</td>\n",
       "      <td>CBSE</td>\n",
       "      <td>EVS</td>\n",
       "      <td>My Neighbourhood</td>\n",
       "      <td>My Neighbourhood.pdf</td>\n",
       "      <td>NaN</td>\n",
       "      <td>NaT</td>\n",
       "    </tr>\n",
       "  </tbody>\n",
       "</table>\n",
       "</div>"
      ],
      "text/plain": [
       "       id idnumber          username firstname  lastname  \\\n",
       "0     NaN    KA003               NaN       NaN       NaN   \n",
       "1     NaN    KA004               NaN       NaN       NaN   \n",
       "2  1575.0    KA000  chithra_srikanth   Chithra  Srikanth   \n",
       "3  1575.0    KA000  chithra_srikanth   Chithra  Srikanth   \n",
       "4   637.0    KA001         shwetha_l   Shwetha       L C   \n",
       "\n",
       "                         email  \\\n",
       "0                          NaN   \n",
       "1                          NaN   \n",
       "2  chithrasrikanth76@gmail.com   \n",
       "3  chithrasrikanth76@gmail.com   \n",
       "4     shwethasunil87@gmail.com   \n",
       "\n",
       "                                         institution        shortname Class  \\\n",
       "0  Sri  Sathya Sai Primary and High School, Bagalkot              NaN   NaN   \n",
       "1        Sri Sathya Sai Loka Seva High School, Alike              NaN   NaN   \n",
       "2                                 SSSVV KA Volunteer  VI CBSE Science    VI   \n",
       "3                                 SSSVV KA Volunteer  VI CBSE Science    VI   \n",
       "4               Ananda Sai Shikshana Samsthe Shimoga       I CBSE EVS     I   \n",
       "\n",
       "  Board  Subject     course module  \\\n",
       "0   NaN      NaN               NaN   \n",
       "1   NaN      NaN               NaN   \n",
       "2  CBSE  Science  Fun with magnets   \n",
       "3  CBSE  Science  Fun with magnets   \n",
       "4  CBSE      EVS  My Neighbourhood   \n",
       "\n",
       "                                  file downloaded timestamp Date  \n",
       "0                                             NaN       NaN  NaT  \n",
       "1                                             NaN       NaN  NaT  \n",
       "2  CCDP_CBSE_Science_STD VI_Fun with Magnets.xlsx       NaN  NaT  \n",
       "3                            Fun with Magnets.pdf       NaN  NaT  \n",
       "4                            My Neighbourhood.pdf       NaN  NaT  "
      ]
     },
     "execution_count": 585,
     "metadata": {},
     "output_type": "execute_result"
    }
   ],
   "source": [
    "master_downloads.head()"
   ]
  },
  {
   "cell_type": "code",
   "execution_count": 286,
   "id": "6d997641",
   "metadata": {},
   "outputs": [],
   "source": [
    "#Input Corrections needed\n",
    "\n",
    "#General Check for any new inconsistency\n",
    "#Spell Check Class, Board & Subject colums\n",
    "#Clean School Names\n",
    "#Clean Date Column\n",
    "#Merge with current_views data "
   ]
  },
  {
   "cell_type": "markdown",
   "id": "fd9d6e67",
   "metadata": {},
   "source": [
    "### 1. General Check for any new inconsistency"
   ]
  },
  {
   "cell_type": "code",
   "execution_count": 586,
   "id": "caf8ba62",
   "metadata": {},
   "outputs": [
    {
     "data": {
      "text/plain": [
       "(16373, 15)"
      ]
     },
     "execution_count": 586,
     "metadata": {},
     "output_type": "execute_result"
    }
   ],
   "source": [
    "master_downloads.shape"
   ]
  },
  {
   "cell_type": "code",
   "execution_count": 587,
   "id": "5cdb3ec2",
   "metadata": {},
   "outputs": [
    {
     "data": {
      "text/plain": [
       "Index(['id', 'idnumber', 'username', 'firstname', 'lastname', 'email',\n",
       "       'institution', 'shortname', 'Class', 'Board', 'Subject',\n",
       "       'course module', 'file downloaded', 'timestamp', 'Date'],\n",
       "      dtype='object')"
      ]
     },
     "execution_count": 587,
     "metadata": {},
     "output_type": "execute_result"
    }
   ],
   "source": [
    "master_downloads.columns"
   ]
  },
  {
   "cell_type": "code",
   "execution_count": 588,
   "id": "ab35c584",
   "metadata": {},
   "outputs": [
    {
     "data": {
      "text/plain": [
       "id                        float64\n",
       "idnumber                   object\n",
       "username                   object\n",
       "firstname                  object\n",
       "lastname                   object\n",
       "email                      object\n",
       "institution                object\n",
       "shortname                  object\n",
       "Class                      object\n",
       "Board                      object\n",
       "Subject                    object\n",
       "course module              object\n",
       "file downloaded            object\n",
       "timestamp                  object\n",
       "Date               datetime64[ns]\n",
       "dtype: object"
      ]
     },
     "execution_count": 588,
     "metadata": {},
     "output_type": "execute_result"
    }
   ],
   "source": [
    "master_downloads.dtypes"
   ]
  },
  {
   "cell_type": "code",
   "execution_count": 589,
   "id": "440b4c94",
   "metadata": {},
   "outputs": [
    {
     "data": {
      "text/plain": [
       "id                    2\n",
       "idnumber              0\n",
       "username              2\n",
       "firstname             2\n",
       "lastname              2\n",
       "email                 2\n",
       "institution           0\n",
       "shortname             2\n",
       "Class                32\n",
       "Board               114\n",
       "Subject              84\n",
       "course module         2\n",
       "file downloaded       2\n",
       "timestamp          3577\n",
       "Date               3577\n",
       "dtype: int64"
      ]
     },
     "execution_count": 589,
     "metadata": {},
     "output_type": "execute_result"
    }
   ],
   "source": [
    "master_downloads.isnull().sum()"
   ]
  },
  {
   "cell_type": "code",
   "execution_count": 590,
   "id": "7883fe75",
   "metadata": {},
   "outputs": [
    {
     "data": {
      "text/html": [
       "<div>\n",
       "<style scoped>\n",
       "    .dataframe tbody tr th:only-of-type {\n",
       "        vertical-align: middle;\n",
       "    }\n",
       "\n",
       "    .dataframe tbody tr th {\n",
       "        vertical-align: top;\n",
       "    }\n",
       "\n",
       "    .dataframe thead th {\n",
       "        text-align: right;\n",
       "    }\n",
       "</style>\n",
       "<table border=\"1\" class=\"dataframe\">\n",
       "  <thead>\n",
       "    <tr style=\"text-align: right;\">\n",
       "      <th></th>\n",
       "      <th>idnumber</th>\n",
       "      <th>username</th>\n",
       "      <th>firstname</th>\n",
       "      <th>lastname</th>\n",
       "      <th>email</th>\n",
       "      <th>institution</th>\n",
       "      <th>shortname</th>\n",
       "      <th>Class</th>\n",
       "      <th>Board</th>\n",
       "      <th>Subject</th>\n",
       "      <th>course module</th>\n",
       "      <th>file downloaded</th>\n",
       "      <th>timestamp</th>\n",
       "    </tr>\n",
       "  </thead>\n",
       "  <tbody>\n",
       "    <tr>\n",
       "      <th>count</th>\n",
       "      <td>16373</td>\n",
       "      <td>16371</td>\n",
       "      <td>16371</td>\n",
       "      <td>16371</td>\n",
       "      <td>16371</td>\n",
       "      <td>16373</td>\n",
       "      <td>16371</td>\n",
       "      <td>16341</td>\n",
       "      <td>16259</td>\n",
       "      <td>16289</td>\n",
       "      <td>16371</td>\n",
       "      <td>16371</td>\n",
       "      <td>12796</td>\n",
       "    </tr>\n",
       "    <tr>\n",
       "      <th>unique</th>\n",
       "      <td>12</td>\n",
       "      <td>86</td>\n",
       "      <td>85</td>\n",
       "      <td>71</td>\n",
       "      <td>86</td>\n",
       "      <td>12</td>\n",
       "      <td>59</td>\n",
       "      <td>15</td>\n",
       "      <td>5</td>\n",
       "      <td>6</td>\n",
       "      <td>433</td>\n",
       "      <td>4893</td>\n",
       "      <td>2308</td>\n",
       "    </tr>\n",
       "    <tr>\n",
       "      <th>top</th>\n",
       "      <td>KA007</td>\n",
       "      <td>kalpana.jadhav</td>\n",
       "      <td>Kalpana</td>\n",
       "      <td>Jadhav</td>\n",
       "      <td>jadhavkalpana593@gmail.com</td>\n",
       "      <td>Sri Sathya Sai Vidya Mandir School, Dharwad</td>\n",
       "      <td>SOPAAN Content Repackaged</td>\n",
       "      <td>VIII</td>\n",
       "      <td>KSSE</td>\n",
       "      <td>Maths</td>\n",
       "      <td>Listening &amp; Speaking</td>\n",
       "      <td>MS_Summary_Light.pptx</td>\n",
       "      <td>2023-01-30 15:30:03</td>\n",
       "    </tr>\n",
       "    <tr>\n",
       "      <th>freq</th>\n",
       "      <td>6841</td>\n",
       "      <td>1825</td>\n",
       "      <td>1825</td>\n",
       "      <td>1825</td>\n",
       "      <td>1825</td>\n",
       "      <td>6841</td>\n",
       "      <td>2145</td>\n",
       "      <td>3678</td>\n",
       "      <td>7406</td>\n",
       "      <td>4567</td>\n",
       "      <td>1951</td>\n",
       "      <td>29</td>\n",
       "      <td>107</td>\n",
       "    </tr>\n",
       "  </tbody>\n",
       "</table>\n",
       "</div>"
      ],
      "text/plain": [
       "       idnumber        username firstname lastname  \\\n",
       "count     16373           16371     16371    16371   \n",
       "unique       12              86        85       71   \n",
       "top       KA007  kalpana.jadhav   Kalpana   Jadhav   \n",
       "freq       6841            1825      1825     1825   \n",
       "\n",
       "                             email  \\\n",
       "count                        16371   \n",
       "unique                          86   \n",
       "top     jadhavkalpana593@gmail.com   \n",
       "freq                          1825   \n",
       "\n",
       "                                        institution  \\\n",
       "count                                         16373   \n",
       "unique                                           12   \n",
       "top     Sri Sathya Sai Vidya Mandir School, Dharwad   \n",
       "freq                                           6841   \n",
       "\n",
       "                        shortname  Class  Board Subject         course module  \\\n",
       "count                       16371  16341  16259   16289                 16371   \n",
       "unique                         59     15      5       6                   433   \n",
       "top     SOPAAN Content Repackaged   VIII   KSSE   Maths  Listening & Speaking   \n",
       "freq                         2145   3678   7406    4567                  1951   \n",
       "\n",
       "              file downloaded            timestamp  \n",
       "count                   16371                12796  \n",
       "unique                   4893                 2308  \n",
       "top     MS_Summary_Light.pptx  2023-01-30 15:30:03  \n",
       "freq                       29                  107  "
      ]
     },
     "execution_count": 590,
     "metadata": {},
     "output_type": "execute_result"
    }
   ],
   "source": [
    "master_downloads.describe(include=['O'])"
   ]
  },
  {
   "cell_type": "code",
   "execution_count": 591,
   "id": "dedb9276",
   "metadata": {},
   "outputs": [
    {
     "name": "stdout",
     "output_type": "stream",
     "text": [
      "Number of Schools: 12\n",
      "Name of Schools:\n",
      " Sri Sathya Sai Vidya Mandir School, Dharwad                    6841\n",
      "Sri Sathya Sai Academy of Integrated Education, Bhadravathi    3974\n",
      "Sri Sathya Sai Baba Higher Primary and High School, Mysuru     1648\n",
      "Prashanti English Medium School, Siddapura                     1234\n",
      "Sri Sathya Sai Vidyaniketan, Bagepalli                          827\n",
      "Ananda Sai Shikshana Samsthe Shimoga                            573\n",
      "Sri Eshwaramma English Medium High School, Tumakuru             529\n",
      "Prashanthi Vidya Kendra, Bayar, Kasaragod                       444\n",
      "Sri Sathya Sai Vidya Kendra                                     297\n",
      "SSSVV KA Volunteer                                                4\n",
      "Sri  Sathya Sai Primary and High School, Bagalkot                 1\n",
      "Sri Sathya Sai Loka Seva High School, Alike                       1\n",
      "Name: institution, dtype: int64\n"
     ]
    }
   ],
   "source": [
    "print(\"Number of Schools:\", master_downloads[\"institution\"].nunique())\n",
    "print(\"Name of Schools:\\n\",master_downloads[\"institution\"].value_counts().sort_values(ascending = False))"
   ]
  },
  {
   "cell_type": "code",
   "execution_count": 592,
   "id": "9c5c4884",
   "metadata": {},
   "outputs": [
    {
     "name": "stdout",
     "output_type": "stream",
     "text": [
      "Number of Users: 86\n",
      "Name of Users:\n",
      " Kalpana        1825\n",
      "KRUSHNA         715\n",
      "Malati          663\n",
      "Pallavi         658\n",
      "Saraswathi      646\n",
      "               ... \n",
      "MRUTYUNJAYA       2\n",
      "Raghvendra        2\n",
      "Anupama           2\n",
      "Nandini           1\n",
      "Parveen           1\n",
      "Name: firstname, Length: 85, dtype: int64\n"
     ]
    }
   ],
   "source": [
    "print(\"Number of Users:\", master_downloads[\"id\"].nunique())\n",
    "print(\"Name of Users:\\n\",master_downloads[\"firstname\"].value_counts().sort_values(ascending = False))"
   ]
  },
  {
   "cell_type": "code",
   "execution_count": 593,
   "id": "21b9e504",
   "metadata": {},
   "outputs": [
    {
     "data": {
      "text/plain": [
       "VIII         3678\n",
       "VII          2156\n",
       "SOPAAN       2145\n",
       "VI           1882\n",
       "V            1529\n",
       "I            1109\n",
       "III          1090\n",
       "IX           1081\n",
       "II            866\n",
       "IV            698\n",
       "FN             40\n",
       "Ii             25\n",
       "FL             19\n",
       "SN             16\n",
       "Chemistry       7\n",
       "Name: Class, dtype: int64"
      ]
     },
     "execution_count": 593,
     "metadata": {},
     "output_type": "execute_result"
    }
   ],
   "source": [
    "master_downloads[\"Class\"].value_counts()"
   ]
  },
  {
   "cell_type": "code",
   "execution_count": 594,
   "id": "f9b68a8d",
   "metadata": {},
   "outputs": [
    {
     "data": {
      "text/plain": [
       "KSSE       7406\n",
       "CBSE       6705\n",
       "Content    1639\n",
       "SOPAAN      506\n",
       "APSE          3\n",
       "Name: Board, dtype: int64"
      ]
     },
     "execution_count": 594,
     "metadata": {},
     "output_type": "execute_result"
    }
   ],
   "source": [
    "master_downloads[\"Board\"].value_counts()"
   ]
  },
  {
   "cell_type": "code",
   "execution_count": 595,
   "id": "efcdfaf8",
   "metadata": {},
   "outputs": [
    {
     "data": {
      "text/plain": [
       "Maths         4567\n",
       "Science       3480\n",
       "EVS           3175\n",
       "Social        2420\n",
       "Repackaged    2145\n",
       "English        502\n",
       "Name: Subject, dtype: int64"
      ]
     },
     "execution_count": 595,
     "metadata": {},
     "output_type": "execute_result"
    }
   ],
   "source": [
    "master_downloads[\"Subject\"].value_counts()"
   ]
  },
  {
   "cell_type": "markdown",
   "id": "0c4db55d",
   "metadata": {},
   "source": [
    "### 2. Sepearate shortname column into 3 parts & Treat disordered values"
   ]
  },
  {
   "cell_type": "code",
   "execution_count": 596,
   "id": "dadd945f",
   "metadata": {},
   "outputs": [],
   "source": [
    "master_downloads_data_check = master_downloads.copy()"
   ]
  },
  {
   "cell_type": "code",
   "execution_count": 597,
   "id": "0395db21",
   "metadata": {},
   "outputs": [
    {
     "data": {
      "text/html": [
       "<div>\n",
       "<style scoped>\n",
       "    .dataframe tbody tr th:only-of-type {\n",
       "        vertical-align: middle;\n",
       "    }\n",
       "\n",
       "    .dataframe tbody tr th {\n",
       "        vertical-align: top;\n",
       "    }\n",
       "\n",
       "    .dataframe thead th {\n",
       "        text-align: right;\n",
       "    }\n",
       "</style>\n",
       "<table border=\"1\" class=\"dataframe\">\n",
       "  <thead>\n",
       "    <tr style=\"text-align: right;\">\n",
       "      <th></th>\n",
       "      <th>id</th>\n",
       "      <th>idnumber</th>\n",
       "      <th>username</th>\n",
       "      <th>firstname</th>\n",
       "      <th>lastname</th>\n",
       "      <th>email</th>\n",
       "      <th>institution</th>\n",
       "      <th>shortname</th>\n",
       "      <th>Class</th>\n",
       "      <th>Board</th>\n",
       "      <th>Subject</th>\n",
       "      <th>course module</th>\n",
       "      <th>file downloaded</th>\n",
       "      <th>timestamp</th>\n",
       "      <th>Date</th>\n",
       "    </tr>\n",
       "  </thead>\n",
       "  <tbody>\n",
       "    <tr>\n",
       "      <th>0</th>\n",
       "      <td>NaN</td>\n",
       "      <td>KA003</td>\n",
       "      <td>NaN</td>\n",
       "      <td>NaN</td>\n",
       "      <td>NaN</td>\n",
       "      <td>NaN</td>\n",
       "      <td>Sri  Sathya Sai Primary and High School, Bagalkot</td>\n",
       "      <td>NaN</td>\n",
       "      <td>NaN</td>\n",
       "      <td>NaN</td>\n",
       "      <td>NaN</td>\n",
       "      <td>NaN</td>\n",
       "      <td>NaN</td>\n",
       "      <td>NaN</td>\n",
       "      <td>NaT</td>\n",
       "    </tr>\n",
       "    <tr>\n",
       "      <th>1</th>\n",
       "      <td>NaN</td>\n",
       "      <td>KA004</td>\n",
       "      <td>NaN</td>\n",
       "      <td>NaN</td>\n",
       "      <td>NaN</td>\n",
       "      <td>NaN</td>\n",
       "      <td>Sri Sathya Sai Loka Seva High School, Alike</td>\n",
       "      <td>NaN</td>\n",
       "      <td>NaN</td>\n",
       "      <td>NaN</td>\n",
       "      <td>NaN</td>\n",
       "      <td>NaN</td>\n",
       "      <td>NaN</td>\n",
       "      <td>NaN</td>\n",
       "      <td>NaT</td>\n",
       "    </tr>\n",
       "  </tbody>\n",
       "</table>\n",
       "</div>"
      ],
      "text/plain": [
       "   id idnumber username firstname lastname email  \\\n",
       "0 NaN    KA003      NaN       NaN      NaN   NaN   \n",
       "1 NaN    KA004      NaN       NaN      NaN   NaN   \n",
       "\n",
       "                                         institution shortname Class Board  \\\n",
       "0  Sri  Sathya Sai Primary and High School, Bagalkot       NaN   NaN   NaN   \n",
       "1        Sri Sathya Sai Loka Seva High School, Alike       NaN   NaN   NaN   \n",
       "\n",
       "  Subject course module file downloaded timestamp Date  \n",
       "0     NaN           NaN             NaN       NaN  NaT  \n",
       "1     NaN           NaN             NaN       NaN  NaT  "
      ]
     },
     "execution_count": 597,
     "metadata": {},
     "output_type": "execute_result"
    }
   ],
   "source": [
    "master_downloads_data_check[master_downloads_data_check['shortname'].isnull()]"
   ]
  },
  {
   "cell_type": "code",
   "execution_count": 598,
   "id": "9b102b05",
   "metadata": {},
   "outputs": [],
   "source": [
    "master_downloads_data_check['shortname'] = master_downloads_data_check['shortname'].fillna('Not Entered')\n",
    "#data['id'] = data['id'].fillna('Not Entered')\n",
    "#data['username'] = data['username'].fillna('Not Entered')\n",
    "#data['firstname'] = data['firstname'].fillna('Not Entered')\n",
    "#data['lastname'] = data['lastname'].fillna('Not Entered')\n",
    "#data['email'] = data['email'].fillna('Not Entered')\n",
    "#data['course module'] = data['course module'].fillna('Not Entered')\n",
    "#data['file downloaded'] = data['file downloaded'].fillna('Not Entered')\n",
    "#data['timestamp'] = data['timestamp'].fillna('Not Entered')"
   ]
  },
  {
   "cell_type": "code",
   "execution_count": 599,
   "id": "f0a5eb52",
   "metadata": {},
   "outputs": [],
   "source": [
    "# First remove existing split columns Class, Board, Subject\n",
    "\n",
    "master_downloads_data_check = master_downloads_data_check.drop([\"Class\", \"Board\", \"Subject\",\"Date\"], axis=1)"
   ]
  },
  {
   "cell_type": "code",
   "execution_count": 600,
   "id": "58ac0db6",
   "metadata": {},
   "outputs": [
    {
     "name": "stdout",
     "output_type": "stream",
     "text": [
      "           id idnumber          username   firstname  lastname  \\\n",
      "0         NaN    KA003               NaN         NaN       NaN   \n",
      "1         NaN    KA004               NaN         NaN       NaN   \n",
      "2      1575.0    KA000  chithra_srikanth     Chithra  Srikanth   \n",
      "3      1575.0    KA000  chithra_srikanth     Chithra  Srikanth   \n",
      "4       637.0    KA001         shwetha_l     Shwetha       L C   \n",
      "...       ...      ...               ...         ...       ...   \n",
      "16368  1761.0    KA015     samprutha.bgp   Samprutha         R   \n",
      "16369  2140.0    KA015      shravanthi.b  Shravanthi         B   \n",
      "16370  2140.0    KA015      shravanthi.b  Shravanthi         B   \n",
      "16371  2140.0    KA015      shravanthi.b  Shravanthi         B   \n",
      "16372  2140.0    KA015      shravanthi.b  Shravanthi         B   \n",
      "\n",
      "                             email  \\\n",
      "0                              NaN   \n",
      "1                              NaN   \n",
      "2      chithrasrikanth76@gmail.com   \n",
      "3      chithrasrikanth76@gmail.com   \n",
      "4         shwethasunil87@gmail.com   \n",
      "...                            ...   \n",
      "16368      sampruthar873@gmail.com   \n",
      "16369          ss2690835@gmail.com   \n",
      "16370          ss2690835@gmail.com   \n",
      "16371          ss2690835@gmail.com   \n",
      "16372          ss2690835@gmail.com   \n",
      "\n",
      "                                             institution         shortname  \\\n",
      "0      Sri  Sathya Sai Primary and High School, Bagalkot       Not Entered   \n",
      "1            Sri Sathya Sai Loka Seva High School, Alike       Not Entered   \n",
      "2                                     SSSVV KA Volunteer   VI CBSE Science   \n",
      "3                                     SSSVV KA Volunteer   VI CBSE Science   \n",
      "4                   Ananda Sai Shikshana Samsthe Shimoga        I CBSE EVS   \n",
      "...                                                  ...               ...   \n",
      "16368             Sri Sathya Sai Vidyaniketan, Bagepalli      V KSSE Maths   \n",
      "16369             Sri Sathya Sai Vidyaniketan, Bagepalli   VI KSSE Science   \n",
      "16370             Sri Sathya Sai Vidyaniketan, Bagepalli   VI KSSE Science   \n",
      "16371             Sri Sathya Sai Vidyaniketan, Bagepalli  VII KSSE Science   \n",
      "16372             Sri Sathya Sai Vidyaniketan, Bagepalli        V KSSE EVS   \n",
      "\n",
      "                          course module  \\\n",
      "0                                   NaN   \n",
      "1                                   NaN   \n",
      "2                      Fun with magnets   \n",
      "3                      Fun with magnets   \n",
      "4                      My Neighbourhood   \n",
      "...                                 ...   \n",
      "16368                 Weight and volume   \n",
      "16369          Electricity and Circuits   \n",
      "16370          Electricity and Circuits   \n",
      "16371  Electric Current and its Effects   \n",
      "16372                    Amazing Energy   \n",
      "\n",
      "                                      file downloaded            timestamp  \\\n",
      "0                                                 NaN                  NaN   \n",
      "1                                                 NaN                  NaN   \n",
      "2      CCDP_CBSE_Science_STD VI_Fun with Magnets.xlsx                  NaN   \n",
      "3                                Fun with Magnets.pdf                  NaN   \n",
      "4                                My Neighbourhood.pdf                  NaN   \n",
      "...                                               ...                  ...   \n",
      "16368               MS_Summary Weight and Volume.pptx  2023-01-17 03:07:00   \n",
      "16369                    Electricity And Circuits.pdf  2023-01-18 10:00:24   \n",
      "16370                    Electricity And Circuits.pdf  2023-01-18 10:00:38   \n",
      "16371           Electric currents and its effects.pdf  2023-01-28 13:02:59   \n",
      "16372                              Amazing Energy.pdf  2023-01-25 07:40:16   \n",
      "\n",
      "      Class Board  Subject  \n",
      "0      None  None     None  \n",
      "1      None  None     None  \n",
      "2         6  CBSE  Science  \n",
      "3         6  CBSE  Science  \n",
      "4         1  CBSE      EVS  \n",
      "...     ...   ...      ...  \n",
      "16368     5  KSSE    Maths  \n",
      "16369     6  KSSE  Science  \n",
      "16370     6  KSSE  Science  \n",
      "16371     7  KSSE  Science  \n",
      "16372     5  KSSE      EVS  \n",
      "\n",
      "[16373 rows x 14 columns]\n"
     ]
    }
   ],
   "source": [
    "# Seperate shortname column\n",
    "import re\n",
    "\n",
    "# Define mapping dictionaries for Class, Board, and Subject\n",
    "class_map = {'I': 1, 'II': 2,'Ii': 2, 'III': 3, 'IV': 4, 'V': 5, 'VI': 6, 'VII': 7, 'VIII': 8, 'IX': 9,'SOPAAN':'SOPAAN'}\n",
    "board_map = {'KSSE': 'KSSE', 'CBSE': 'CBSE', 'APSE': 'APSE','Content':'Content'}\n",
    "subject_map = {'Maths': 'Maths', 'Science': 'Science','English': 'English', 'Social': 'Social', 'EVS': 'EVS','Repackaged':'Repackaged','Sample':'Sample'}\n",
    "\n",
    "\n",
    "# Define a function to split the shortname column into Class, Board, and Subject columns\n",
    "def split_shortname(shortname):\n",
    "    # Initialize variables\n",
    "    class_ = None\n",
    "    board = None\n",
    "    subject = None\n",
    "    \n",
    "    # Split the string into words\n",
    "    words = re.findall(r'\\b\\w+\\b', shortname)\n",
    "    \n",
    "    # Map the values to Class, Board, and Subject columns\n",
    "    for word in words:\n",
    "        if word in class_map:\n",
    "            class_ = class_map[word]\n",
    "        elif word in board_map:\n",
    "            board = board_map[word]\n",
    "        elif word in subject_map:\n",
    "            subject = subject_map[word]\n",
    "        elif word == 'SC':\n",
    "            subject = 'Science'\n",
    "        elif word == 'Chemistry':\n",
    "            if class_ is None and board is None:\n",
    "                class_ = 'Not Entered'\n",
    "                board = 'Not Entered'\n",
    "            subject = 'Science'\n",
    "        elif word == 'Physics':\n",
    "            if class_ is None and board is None:\n",
    "                class_ = 'Not Entered'\n",
    "                board = 'Not Entered'\n",
    "            subject = 'Science'\n",
    "        elif word == 'FN':\n",
    "            if class_ is None and board is None:\n",
    "                class_ = 'Not Entered'\n",
    "                board = 'Not Entered'\n",
    "            subject = 'FN'\n",
    "        elif word == 'FL':\n",
    "            if class_ is None and board is None:\n",
    "                class_ = 'Not Entered'\n",
    "                board = 'Not Entered'\n",
    "            subject = 'FL'\n",
    "        elif word == 'SN':\n",
    "            if class_ is None and board is None:\n",
    "                class_ = 'Not Entered'\n",
    "                board = 'Not Entered'\n",
    "            subject = 'SN'\n",
    "        elif word == 'Not Entered':\n",
    "            if class_ is None and board is None:\n",
    "                class_ = 'Not Entered'\n",
    "                board = 'Not Entered'\n",
    "            subject = 'Not Entered'\n",
    "\n",
    "            \n",
    "    # Return the values as a tuple\n",
    "    return (class_, board, subject)\n",
    "\n",
    "# Split the shortname column into Class, Board, and Subject columns\n",
    "master_downloads_data_check[['Class', 'Board', 'Subject']] = master_downloads_data_check['shortname'].apply(split_shortname).apply(pd.Series)\n",
    "\n",
    "# Convert Class column to integers\n",
    "#data['Class'] = pd.to_numeric(data['Class'])\n",
    "\n",
    "# Sort the data by Class column\n",
    "#data = data.sort_values('Class')\n",
    "\n",
    "# Print the cleaned data\n",
    "print(master_downloads_data_check)\n",
    "\n",
    "#Save the cleaned dataframe to an excel file\n",
    "master_downloads_data_check.to_excel(r\"D:\\Side Hustles\\SSSVV activities\\SRC - Karnataka\\Monthly Reports\\master_downloads_data_check.xlsx\", index=False)"
   ]
  },
  {
   "cell_type": "code",
   "execution_count": 601,
   "id": "5fd85764",
   "metadata": {},
   "outputs": [
    {
     "data": {
      "text/html": [
       "<div>\n",
       "<style scoped>\n",
       "    .dataframe tbody tr th:only-of-type {\n",
       "        vertical-align: middle;\n",
       "    }\n",
       "\n",
       "    .dataframe tbody tr th {\n",
       "        vertical-align: top;\n",
       "    }\n",
       "\n",
       "    .dataframe thead th {\n",
       "        text-align: right;\n",
       "    }\n",
       "</style>\n",
       "<table border=\"1\" class=\"dataframe\">\n",
       "  <thead>\n",
       "    <tr style=\"text-align: right;\">\n",
       "      <th></th>\n",
       "      <th>id</th>\n",
       "      <th>idnumber</th>\n",
       "      <th>username</th>\n",
       "      <th>firstname</th>\n",
       "      <th>lastname</th>\n",
       "      <th>email</th>\n",
       "      <th>institution</th>\n",
       "      <th>shortname</th>\n",
       "      <th>course module</th>\n",
       "      <th>file downloaded</th>\n",
       "      <th>timestamp</th>\n",
       "      <th>Class</th>\n",
       "      <th>Board</th>\n",
       "      <th>Subject</th>\n",
       "    </tr>\n",
       "  </thead>\n",
       "  <tbody>\n",
       "    <tr>\n",
       "      <th>0</th>\n",
       "      <td>NaN</td>\n",
       "      <td>KA003</td>\n",
       "      <td>NaN</td>\n",
       "      <td>NaN</td>\n",
       "      <td>NaN</td>\n",
       "      <td>NaN</td>\n",
       "      <td>Sri  Sathya Sai Primary and High School, Bagalkot</td>\n",
       "      <td>Not Entered</td>\n",
       "      <td>NaN</td>\n",
       "      <td>NaN</td>\n",
       "      <td>NaN</td>\n",
       "      <td>None</td>\n",
       "      <td>None</td>\n",
       "      <td>None</td>\n",
       "    </tr>\n",
       "    <tr>\n",
       "      <th>1</th>\n",
       "      <td>NaN</td>\n",
       "      <td>KA004</td>\n",
       "      <td>NaN</td>\n",
       "      <td>NaN</td>\n",
       "      <td>NaN</td>\n",
       "      <td>NaN</td>\n",
       "      <td>Sri Sathya Sai Loka Seva High School, Alike</td>\n",
       "      <td>Not Entered</td>\n",
       "      <td>NaN</td>\n",
       "      <td>NaN</td>\n",
       "      <td>NaN</td>\n",
       "      <td>None</td>\n",
       "      <td>None</td>\n",
       "      <td>None</td>\n",
       "    </tr>\n",
       "    <tr>\n",
       "      <th>2</th>\n",
       "      <td>1575.0</td>\n",
       "      <td>KA000</td>\n",
       "      <td>chithra_srikanth</td>\n",
       "      <td>Chithra</td>\n",
       "      <td>Srikanth</td>\n",
       "      <td>chithrasrikanth76@gmail.com</td>\n",
       "      <td>SSSVV KA Volunteer</td>\n",
       "      <td>VI CBSE Science</td>\n",
       "      <td>Fun with magnets</td>\n",
       "      <td>CCDP_CBSE_Science_STD VI_Fun with Magnets.xlsx</td>\n",
       "      <td>NaN</td>\n",
       "      <td>6</td>\n",
       "      <td>CBSE</td>\n",
       "      <td>Science</td>\n",
       "    </tr>\n",
       "    <tr>\n",
       "      <th>3</th>\n",
       "      <td>1575.0</td>\n",
       "      <td>KA000</td>\n",
       "      <td>chithra_srikanth</td>\n",
       "      <td>Chithra</td>\n",
       "      <td>Srikanth</td>\n",
       "      <td>chithrasrikanth76@gmail.com</td>\n",
       "      <td>SSSVV KA Volunteer</td>\n",
       "      <td>VI CBSE Science</td>\n",
       "      <td>Fun with magnets</td>\n",
       "      <td>Fun with Magnets.pdf</td>\n",
       "      <td>NaN</td>\n",
       "      <td>6</td>\n",
       "      <td>CBSE</td>\n",
       "      <td>Science</td>\n",
       "    </tr>\n",
       "    <tr>\n",
       "      <th>4</th>\n",
       "      <td>637.0</td>\n",
       "      <td>KA001</td>\n",
       "      <td>shwetha_l</td>\n",
       "      <td>Shwetha</td>\n",
       "      <td>L C</td>\n",
       "      <td>shwethasunil87@gmail.com</td>\n",
       "      <td>Ananda Sai Shikshana Samsthe Shimoga</td>\n",
       "      <td>I CBSE EVS</td>\n",
       "      <td>My Neighbourhood</td>\n",
       "      <td>My Neighbourhood.pdf</td>\n",
       "      <td>NaN</td>\n",
       "      <td>1</td>\n",
       "      <td>CBSE</td>\n",
       "      <td>EVS</td>\n",
       "    </tr>\n",
       "  </tbody>\n",
       "</table>\n",
       "</div>"
      ],
      "text/plain": [
       "       id idnumber          username firstname  lastname  \\\n",
       "0     NaN    KA003               NaN       NaN       NaN   \n",
       "1     NaN    KA004               NaN       NaN       NaN   \n",
       "2  1575.0    KA000  chithra_srikanth   Chithra  Srikanth   \n",
       "3  1575.0    KA000  chithra_srikanth   Chithra  Srikanth   \n",
       "4   637.0    KA001         shwetha_l   Shwetha       L C   \n",
       "\n",
       "                         email  \\\n",
       "0                          NaN   \n",
       "1                          NaN   \n",
       "2  chithrasrikanth76@gmail.com   \n",
       "3  chithrasrikanth76@gmail.com   \n",
       "4     shwethasunil87@gmail.com   \n",
       "\n",
       "                                         institution        shortname  \\\n",
       "0  Sri  Sathya Sai Primary and High School, Bagalkot      Not Entered   \n",
       "1        Sri Sathya Sai Loka Seva High School, Alike      Not Entered   \n",
       "2                                 SSSVV KA Volunteer  VI CBSE Science   \n",
       "3                                 SSSVV KA Volunteer  VI CBSE Science   \n",
       "4               Ananda Sai Shikshana Samsthe Shimoga       I CBSE EVS   \n",
       "\n",
       "      course module                                 file downloaded timestamp  \\\n",
       "0               NaN                                             NaN       NaN   \n",
       "1               NaN                                             NaN       NaN   \n",
       "2  Fun with magnets  CCDP_CBSE_Science_STD VI_Fun with Magnets.xlsx       NaN   \n",
       "3  Fun with magnets                            Fun with Magnets.pdf       NaN   \n",
       "4  My Neighbourhood                            My Neighbourhood.pdf       NaN   \n",
       "\n",
       "  Class Board  Subject  \n",
       "0  None  None     None  \n",
       "1  None  None     None  \n",
       "2     6  CBSE  Science  \n",
       "3     6  CBSE  Science  \n",
       "4     1  CBSE      EVS  "
      ]
     },
     "execution_count": 601,
     "metadata": {},
     "output_type": "execute_result"
    }
   ],
   "source": [
    "master_downloads_data_check.head()"
   ]
  },
  {
   "cell_type": "code",
   "execution_count": 602,
   "id": "720baab2",
   "metadata": {},
   "outputs": [
    {
     "data": {
      "text/plain": [
       "(16373, 14)"
      ]
     },
     "execution_count": 602,
     "metadata": {},
     "output_type": "execute_result"
    }
   ],
   "source": [
    "master_downloads_data_check.shape"
   ]
  },
  {
   "cell_type": "code",
   "execution_count": 603,
   "id": "268f2849",
   "metadata": {},
   "outputs": [
    {
     "data": {
      "text/plain": [
       "id                    2\n",
       "idnumber              0\n",
       "username              2\n",
       "firstname             2\n",
       "lastname              2\n",
       "email                 2\n",
       "institution           0\n",
       "shortname             0\n",
       "course module         2\n",
       "file downloaded       2\n",
       "timestamp          3577\n",
       "Class                 2\n",
       "Board                 2\n",
       "Subject               2\n",
       "dtype: int64"
      ]
     },
     "execution_count": 603,
     "metadata": {},
     "output_type": "execute_result"
    }
   ],
   "source": [
    "master_downloads_data_check.isnull().sum()"
   ]
  },
  {
   "cell_type": "code",
   "execution_count": 604,
   "id": "f3d11809",
   "metadata": {},
   "outputs": [
    {
     "data": {
      "text/plain": [
       "8              3678\n",
       "7              2156\n",
       "SOPAAN         2145\n",
       "6              1882\n",
       "5              1529\n",
       "1              1109\n",
       "3              1090\n",
       "9              1081\n",
       "2               891\n",
       "4               698\n",
       "Not Entered     112\n",
       "Name: Class, dtype: int64"
      ]
     },
     "execution_count": 604,
     "metadata": {},
     "output_type": "execute_result"
    }
   ],
   "source": [
    "master_downloads_data_check['Class'].value_counts()"
   ]
  },
  {
   "cell_type": "code",
   "execution_count": 605,
   "id": "d9a1175e",
   "metadata": {},
   "outputs": [
    {
     "data": {
      "text/plain": [
       "KSSE           7406\n",
       "CBSE           6705\n",
       "Content        2145\n",
       "Not Entered     112\n",
       "APSE              3\n",
       "Name: Board, dtype: int64"
      ]
     },
     "execution_count": 605,
     "metadata": {},
     "output_type": "execute_result"
    }
   ],
   "source": [
    "master_downloads_data_check['Board'].value_counts()"
   ]
  },
  {
   "cell_type": "code",
   "execution_count": 606,
   "id": "ad43ce71",
   "metadata": {},
   "outputs": [
    {
     "data": {
      "text/plain": [
       "Maths         4567\n",
       "Science       3487\n",
       "EVS           3175\n",
       "Social        2401\n",
       "Repackaged    2145\n",
       "English        502\n",
       "FN              40\n",
       "Sample          19\n",
       "FL              19\n",
       "SN              16\n",
       "Name: Subject, dtype: int64"
      ]
     },
     "execution_count": 606,
     "metadata": {},
     "output_type": "execute_result"
    }
   ],
   "source": [
    "master_downloads_data_check['Subject'].value_counts()"
   ]
  },
  {
   "cell_type": "code",
   "execution_count": 308,
   "id": "8bd70d01",
   "metadata": {},
   "outputs": [],
   "source": [
    "#data = data.drop(data[(data['Class'] == 'Not Entered') | (data['Board'] == 'Not Entered')| data[(data['Board'] == 'Content') | (data['Subject'] == 'Repackaged') | (data['Subject'] == 'FN') | (data['Subject'] == 'FL') | (data['Subject'] == 'SN')].index)"
   ]
  },
  {
   "cell_type": "markdown",
   "id": "cf009133",
   "metadata": {},
   "source": [
    "### 3. change school name"
   ]
  },
  {
   "cell_type": "code",
   "execution_count": 607,
   "id": "50230143",
   "metadata": {},
   "outputs": [],
   "source": [
    "master_downloads_school_check = master_downloads_data_check.copy()"
   ]
  },
  {
   "cell_type": "code",
   "execution_count": 608,
   "id": "4413340d",
   "metadata": {},
   "outputs": [
    {
     "name": "stdout",
     "output_type": "stream",
     "text": [
      "Number of Schools :  12\n"
     ]
    },
    {
     "data": {
      "text/plain": [
       "Sri Sathya Sai Vidya Mandir School, Dharwad                    6841\n",
       "Sri Sathya Sai Academy of Integrated Education, Bhadravathi    3974\n",
       "Sri Sathya Sai Baba Higher Primary and High School, Mysuru     1648\n",
       "Prashanti English Medium School, Siddapura                     1234\n",
       "Sri Sathya Sai Vidyaniketan, Bagepalli                          827\n",
       "Ananda Sai Shikshana Samsthe Shimoga                            573\n",
       "Sri Eshwaramma English Medium High School, Tumakuru             529\n",
       "Prashanthi Vidya Kendra, Bayar, Kasaragod                       444\n",
       "Sri Sathya Sai Vidya Kendra                                     297\n",
       "SSSVV KA Volunteer                                                4\n",
       "Sri  Sathya Sai Primary and High School, Bagalkot                 1\n",
       "Sri Sathya Sai Loka Seva High School, Alike                       1\n",
       "Name: institution, dtype: int64"
      ]
     },
     "execution_count": 608,
     "metadata": {},
     "output_type": "execute_result"
    }
   ],
   "source": [
    "print(\"Number of Schools : \",master_downloads_school_check['institution'].nunique())\n",
    "master_downloads_school_check['institution'].value_counts()"
   ]
  },
  {
   "cell_type": "code",
   "execution_count": 609,
   "id": "95aa86b0",
   "metadata": {},
   "outputs": [],
   "source": [
    "from fuzzywuzzy import fuzz, process\n",
    "\n",
    "common_school_names = ['Sri Sathya Sai Academy of Integrated Education, Bhadravathi', 'Sri Sathya Sai Vidya Kendra', 'Sri Sathya Sai Vidya Mandir School, Dharwad', 'Sri Sathya Sai Baba Higher Primary and High School, Mysuru', 'Sri Sathya Sai Vidyaniketan, Bagepalli', 'Sri Eshwaramma English Medium High School, Tumakuru', 'Prashanti English Medium School, Siddapura', 'Ananda Sai Shikshana Samsthe Shimoga','Sri  Sathya Sai Primary and High School, Bagalkot']\n",
    "\n",
    "master_downloads_school_check['institution'] = master_downloads_school_check['institution'].apply(lambda x: x.strip())\n",
    "\n",
    "for i, school_name in enumerate(master_downloads_school_check['institution']):\n",
    "    school_name = school_name.strip()\n",
    "    school_name_lower = school_name.lower()\n",
    "    \n",
    "    # Check for exact matches\n",
    "    if school_name in common_school_names:\n",
    "        master_downloads_school_check.at[i, 'institution'] = school_name\n",
    "    \n",
    "    # Check for fuzzy matches\n",
    "    else:\n",
    "        match, score = process.extractOne(school_name, common_school_names, scorer=fuzz.token_set_ratio)\n",
    "        \n",
    "        # If score is above a certain threshold, replace with common name\n",
    "        if score >= 85:\n",
    "            master_downloads_school_check.at[i, 'institution'] = match\n",
    "        else:\n",
    "            # Check for Bhadravathi School case\n",
    "            if \"bhadravathi\" in school_name_lower and \"sri sathya sai\" in school_name_lower:\n",
    "                master_downloads_school_check.at[i, 'institution'] = \"Sri Sathya Sai Academy of Integrated Education, Bhadravathi\"\n",
    "            else:\n",
    "                # Check for Dharwad School case\n",
    "                if \"dharwad\" in school_name_lower and \"sri sathya sai\" in school_name_lower:\n",
    "                    master_downloads_school_check.at[i, 'institution'] = \"Sri Sathya Sai Vidya Mandir School, Dharwad\"\n",
    "                else:\n",
    "                    master_downloads_school_check.at[i, 'institution'] = school_name\n"
   ]
  },
  {
   "cell_type": "code",
   "execution_count": 610,
   "id": "0e1b485a",
   "metadata": {},
   "outputs": [
    {
     "name": "stdout",
     "output_type": "stream",
     "text": [
      "Number of Schools :  12\n"
     ]
    },
    {
     "data": {
      "text/plain": [
       "Sri Sathya Sai Vidya Mandir School, Dharwad                    6841\n",
       "Sri Sathya Sai Academy of Integrated Education, Bhadravathi    3974\n",
       "Sri Sathya Sai Baba Higher Primary and High School, Mysuru     1648\n",
       "Prashanti English Medium School, Siddapura                     1234\n",
       "Sri Sathya Sai Vidyaniketan, Bagepalli                          827\n",
       "Ananda Sai Shikshana Samsthe Shimoga                            573\n",
       "Sri Eshwaramma English Medium High School, Tumakuru             529\n",
       "Prashanthi Vidya Kendra, Bayar, Kasaragod                       444\n",
       "Sri Sathya Sai Vidya Kendra                                     297\n",
       "SSSVV KA Volunteer                                                4\n",
       "Sri  Sathya Sai Primary and High School, Bagalkot                 1\n",
       "Sri Sathya Sai Loka Seva High School, Alike                       1\n",
       "Name: institution, dtype: int64"
      ]
     },
     "execution_count": 610,
     "metadata": {},
     "output_type": "execute_result"
    }
   ],
   "source": [
    "print(\"Number of Schools : \",master_downloads_school_check['institution'].nunique())\n",
    "master_downloads_school_check['institution'].value_counts()"
   ]
  },
  {
   "cell_type": "code",
   "execution_count": 611,
   "id": "db3e9eb3",
   "metadata": {},
   "outputs": [
    {
     "data": {
      "text/plain": [
       "(16373, 14)"
      ]
     },
     "execution_count": 611,
     "metadata": {},
     "output_type": "execute_result"
    }
   ],
   "source": [
    "master_downloads_school_check.shape"
   ]
  },
  {
   "cell_type": "markdown",
   "id": "be7349ee",
   "metadata": {},
   "source": [
    "### 4. Add Date Column"
   ]
  },
  {
   "cell_type": "code",
   "execution_count": 612,
   "id": "d5eae204",
   "metadata": {},
   "outputs": [],
   "source": [
    "master_downloads_date_check = master_downloads_school_check.copy()"
   ]
  },
  {
   "cell_type": "code",
   "execution_count": 613,
   "id": "4da76584",
   "metadata": {},
   "outputs": [
    {
     "data": {
      "text/plain": [
       "2023-01-30 15:30:03    107\n",
       "2023-01-13 07:33:11     56\n",
       "2023-01-04 13:47:40     52\n",
       "2023-01-06 13:56:57     52\n",
       "2023-01-30 15:30:38     52\n",
       "                      ... \n",
       "2023-01-05 06:31:00      1\n",
       "2023-01-05 06:30:24      1\n",
       "2023-01-22 17:45:56      1\n",
       "2023-01-22 17:45:39      1\n",
       "2023-01-25 07:40:16      1\n",
       "Name: timestamp, Length: 2308, dtype: int64"
      ]
     },
     "execution_count": 613,
     "metadata": {},
     "output_type": "execute_result"
    }
   ],
   "source": [
    "master_downloads_date_check['timestamp'].value_counts()"
   ]
  },
  {
   "cell_type": "code",
   "execution_count": 614,
   "id": "0fad5094",
   "metadata": {},
   "outputs": [
    {
     "data": {
      "text/plain": [
       "id                 float64\n",
       "idnumber            object\n",
       "username            object\n",
       "firstname           object\n",
       "lastname            object\n",
       "email               object\n",
       "institution         object\n",
       "shortname           object\n",
       "course module       object\n",
       "file downloaded     object\n",
       "timestamp           object\n",
       "Class               object\n",
       "Board               object\n",
       "Subject             object\n",
       "dtype: object"
      ]
     },
     "execution_count": 614,
     "metadata": {},
     "output_type": "execute_result"
    }
   ],
   "source": [
    "master_downloads_date_check.dtypes"
   ]
  },
  {
   "cell_type": "code",
   "execution_count": 615,
   "id": "cc668329",
   "metadata": {},
   "outputs": [],
   "source": [
    "# convert timestamp column to datetime format\n",
    "master_downloads_date_check['timestamp'] = pd.to_datetime(master_downloads_date_check['timestamp'])\n",
    "\n",
    "# Create a new column 'Date' with datetime64 data type\n",
    "#date_check['Date'] = pd.to_datetime(date_check['timestamp'].dt.date)\n",
    "master_downloads_date_check['Date'] = pd.to_datetime(master_downloads_date_check['timestamp'], format='%d/%m/%Y', errors='coerce')"
   ]
  },
  {
   "cell_type": "markdown",
   "id": "59a1fd41",
   "metadata": {},
   "source": [
    "import pandas as pd\n",
    "\n",
    "def add_date_column(df):\n",
    "    if 'timestamp' in df.columns:\n",
    "        df['timestamp'] = pd.to_datetime(df['timestamp'])\n",
    "        df['Date'] = pd.to_datetime(df['timestamp']).dt.date.astype(str).apply(lambda x: datetime.datetime.strptime(x, '%Y-%m-%d').strftime('%d/%m/%Y'))\n",
    "    else:\n",
    "        print(\"Error: dataframe does not contain 'Time' column\")"
   ]
  },
  {
   "cell_type": "code",
   "execution_count": 318,
   "id": "e861ae87",
   "metadata": {},
   "outputs": [],
   "source": [
    "#add_date_column(date_check)\n",
    "#date_check.head()"
   ]
  },
  {
   "cell_type": "code",
   "execution_count": 616,
   "id": "45c149ac",
   "metadata": {},
   "outputs": [
    {
     "data": {
      "text/plain": [
       "id                        float64\n",
       "idnumber                   object\n",
       "username                   object\n",
       "firstname                  object\n",
       "lastname                   object\n",
       "email                      object\n",
       "institution                object\n",
       "shortname                  object\n",
       "course module              object\n",
       "file downloaded            object\n",
       "timestamp          datetime64[ns]\n",
       "Class                      object\n",
       "Board                      object\n",
       "Subject                    object\n",
       "Date               datetime64[ns]\n",
       "dtype: object"
      ]
     },
     "execution_count": 616,
     "metadata": {},
     "output_type": "execute_result"
    }
   ],
   "source": [
    "master_downloads_date_check.dtypes"
   ]
  },
  {
   "cell_type": "code",
   "execution_count": 617,
   "id": "54895052",
   "metadata": {},
   "outputs": [
    {
     "data": {
      "text/plain": [
       "2023-01-30 15:30:03    107\n",
       "2023-01-13 07:33:11     56\n",
       "2023-01-04 13:47:40     52\n",
       "2023-01-06 09:02:59     52\n",
       "2023-01-11 06:00:20     52\n",
       "                      ... \n",
       "2023-01-08 18:36:16      1\n",
       "2023-01-08 18:35:47      1\n",
       "2023-01-05 06:31:00      1\n",
       "2023-01-05 06:30:24      1\n",
       "2023-01-25 07:40:16      1\n",
       "Name: Date, Length: 2307, dtype: int64"
      ]
     },
     "execution_count": 617,
     "metadata": {},
     "output_type": "execute_result"
    }
   ],
   "source": [
    "master_downloads_date_check['Date'].value_counts()"
   ]
  },
  {
   "cell_type": "code",
   "execution_count": 618,
   "id": "6fa61f4d",
   "metadata": {},
   "outputs": [],
   "source": [
    "#create new 'Date' column in desired format\n",
    "master_downloads_date_check['Date'] = master_downloads_date_check['Date'].dt.strftime('%d/%m/%Y')"
   ]
  },
  {
   "cell_type": "code",
   "execution_count": 619,
   "id": "1201b406",
   "metadata": {},
   "outputs": [
    {
     "data": {
      "text/plain": [
       "03/01/2023    1070\n",
       "09/12/2022     609\n",
       "20/12/2022     588\n",
       "21/01/2023     578\n",
       "23/01/2023     530\n",
       "              ... \n",
       "26/01/2023      47\n",
       "24/12/2022      45\n",
       "29/01/2023      42\n",
       "28/01/2023      24\n",
       "18/12/2022       3\n",
       "Name: Date, Length: 62, dtype: int64"
      ]
     },
     "execution_count": 619,
     "metadata": {},
     "output_type": "execute_result"
    }
   ],
   "source": [
    "master_downloads_date_check['Date'].value_counts()"
   ]
  },
  {
   "cell_type": "code",
   "execution_count": 620,
   "id": "b5efea6b",
   "metadata": {},
   "outputs": [
    {
     "data": {
      "text/plain": [
       "id                        float64\n",
       "idnumber                   object\n",
       "username                   object\n",
       "firstname                  object\n",
       "lastname                   object\n",
       "email                      object\n",
       "institution                object\n",
       "shortname                  object\n",
       "course module              object\n",
       "file downloaded            object\n",
       "timestamp          datetime64[ns]\n",
       "Class                      object\n",
       "Board                      object\n",
       "Subject                    object\n",
       "Date                       object\n",
       "dtype: object"
      ]
     },
     "execution_count": 620,
     "metadata": {},
     "output_type": "execute_result"
    }
   ],
   "source": [
    "master_downloads_date_check.dtypes"
   ]
  },
  {
   "cell_type": "markdown",
   "id": "ff24452a",
   "metadata": {},
   "source": [
    "### Check files downloaded column"
   ]
  },
  {
   "cell_type": "code",
   "execution_count": 623,
   "id": "d93f5ffc",
   "metadata": {},
   "outputs": [],
   "source": [
    "master_downloads_files_check = master_downloads_date_check.copy()"
   ]
  },
  {
   "cell_type": "code",
   "execution_count": 624,
   "id": "5ad0ced4",
   "metadata": {},
   "outputs": [
    {
     "data": {
      "text/plain": [
       "MS_Summary_Light.pptx                                                                      29\n",
       "Practical Geometry.pdf                                                                     27\n",
       "LA_Picture_Flashcards_Articles.pdf                                                         26\n",
       "LA_Picture_Flashcards_Singular_and_Plural.pdf                                              26\n",
       "LA_Picture_Flashcards_Body_Parts.pdf                                                       25\n",
       "                                                                                           ..\n",
       "TA_Word Bank for Comprehension_W7.pdf                                                       1\n",
       "AS_Improve Reading Vocabulary and Comprehension - using Word bank for comprehension.pdf     1\n",
       "CCDP_CBSE_Science_STD VI_Food_ Where Does It Come From_.xlsx                                1\n",
       "Introduction to SOPAAN.pdf                                                                  1\n",
       "MLP_Natural Vegetation and Wild Life.pdf                                                    1\n",
       "Name: file downloaded, Length: 4893, dtype: int64"
      ]
     },
     "execution_count": 624,
     "metadata": {},
     "output_type": "execute_result"
    }
   ],
   "source": [
    "master_downloads_files_check['file downloaded'].value_counts()"
   ]
  },
  {
   "cell_type": "code",
   "execution_count": 625,
   "id": "3cf58110",
   "metadata": {},
   "outputs": [
    {
     "name": "stdout",
     "output_type": "stream",
     "text": [
      "object\n"
     ]
    }
   ],
   "source": [
    "print(master_downloads_files_check['file downloaded'].dtype)"
   ]
  },
  {
   "cell_type": "markdown",
   "id": "3a4246b0",
   "metadata": {},
   "source": [
    "#### Create Content Type column"
   ]
  },
  {
   "cell_type": "code",
   "execution_count": 626,
   "id": "de42b46b",
   "metadata": {},
   "outputs": [
    {
     "data": {
      "text/plain": [
       "2"
      ]
     },
     "execution_count": 626,
     "metadata": {},
     "output_type": "execute_result"
    }
   ],
   "source": [
    "master_downloads_files_check['file downloaded'].isnull().sum()"
   ]
  },
  {
   "cell_type": "code",
   "execution_count": 627,
   "id": "668c1161",
   "metadata": {},
   "outputs": [
    {
     "data": {
      "text/html": [
       "<div>\n",
       "<style scoped>\n",
       "    .dataframe tbody tr th:only-of-type {\n",
       "        vertical-align: middle;\n",
       "    }\n",
       "\n",
       "    .dataframe tbody tr th {\n",
       "        vertical-align: top;\n",
       "    }\n",
       "\n",
       "    .dataframe thead th {\n",
       "        text-align: right;\n",
       "    }\n",
       "</style>\n",
       "<table border=\"1\" class=\"dataframe\">\n",
       "  <thead>\n",
       "    <tr style=\"text-align: right;\">\n",
       "      <th></th>\n",
       "      <th>id</th>\n",
       "      <th>idnumber</th>\n",
       "      <th>username</th>\n",
       "      <th>firstname</th>\n",
       "      <th>lastname</th>\n",
       "      <th>email</th>\n",
       "      <th>institution</th>\n",
       "      <th>shortname</th>\n",
       "      <th>course module</th>\n",
       "      <th>file downloaded</th>\n",
       "      <th>timestamp</th>\n",
       "      <th>Class</th>\n",
       "      <th>Board</th>\n",
       "      <th>Subject</th>\n",
       "      <th>Date</th>\n",
       "    </tr>\n",
       "  </thead>\n",
       "  <tbody>\n",
       "  </tbody>\n",
       "</table>\n",
       "</div>"
      ],
      "text/plain": [
       "Empty DataFrame\n",
       "Columns: [id, idnumber, username, firstname, lastname, email, institution, shortname, course module, file downloaded, timestamp, Class, Board, Subject, Date]\n",
       "Index: []"
      ]
     },
     "execution_count": 627,
     "metadata": {},
     "output_type": "execute_result"
    }
   ],
   "source": [
    "master_downloads_files_check['file downloaded'] = master_downloads_files_check['file downloaded'].fillna(\"Not Entered\")\n",
    "master_downloads_files_check[master_downloads_files_check['file downloaded'].isnull()]"
   ]
  },
  {
   "cell_type": "code",
   "execution_count": 628,
   "id": "1c5b746b",
   "metadata": {},
   "outputs": [
    {
     "data": {
      "text/plain": [
       "MM Teaching Aids    12068\n",
       "MLP                  3798\n",
       "CCDP                  371\n",
       "Learning Aids         136\n",
       "Name: Content Type, dtype: int64"
      ]
     },
     "execution_count": 628,
     "metadata": {},
     "output_type": "execute_result"
    }
   ],
   "source": [
    "import re\n",
    "\n",
    "# create function to categorize content type\n",
    "def categorize(value):\n",
    "    if 'CCDP' in value:\n",
    "        return 'CCDP'\n",
    "    elif re.search(r'(.pptx|.ppt|.mp4|MP4|.mp3)$',value):\n",
    "        return 'MM Teaching Aids'\n",
    "    #elif re.search(r'^(MS|IA|QA|IQ|SA|VC|DD)',value):\n",
    "        #return 'MM Teaching Aids'\n",
    "    elif re.search(r'(docx|Worksheet|worksheet|Sheet$)',value):\n",
    "        return 'Learning Aids'\n",
    "    elif re.search(r'(.docx)$',value):\n",
    "        return 'Learning Aids'\n",
    "    else:\n",
    "        return 'MLP'\n",
    "\n",
    "# apply function to create new column\n",
    "master_downloads_files_check['Content Type'] = master_downloads_files_check['file downloaded'].apply(categorize)\n",
    "\n",
    "master_downloads_files_check['Content Type'].value_counts()"
   ]
  },
  {
   "cell_type": "markdown",
   "id": "f9d29fcc",
   "metadata": {},
   "source": [
    "#### Create File format type column"
   ]
  },
  {
   "cell_type": "code",
   "execution_count": 629,
   "id": "c76d99fb",
   "metadata": {},
   "outputs": [
    {
     "data": {
      "text/plain": [
       "PPT slide        11724\n",
       "PDF               3824\n",
       "Spreadsheet        393\n",
       "Audio              344\n",
       "Word document       83\n",
       "Unkown               5\n",
       "Name: File Format Type, dtype: int64"
      ]
     },
     "execution_count": 629,
     "metadata": {},
     "output_type": "execute_result"
    }
   ],
   "source": [
    "import re\n",
    "\n",
    "# create function to categorize Asset type\n",
    "def categorize(value):\n",
    "    if '.xlsx' in value:\n",
    "        return 'Spreadsheet'\n",
    "    elif re.search(r'(.pptx|.ppt)',value):\n",
    "        return 'PPT slide'\n",
    "    elif re.search(r'(.mp4|MP4|.mp3)$',value):\n",
    "        return 'Audio'\n",
    "    elif 'pdf' in value:\n",
    "        return 'PDF'\n",
    "    elif 'docx' in value:\n",
    "        return 'Word document'\n",
    "    else:\n",
    "        return 'Unkown'\n",
    "\n",
    "# apply function to create new column\n",
    "master_downloads_files_check['File Format Type'] = master_downloads_files_check['file downloaded'].apply(categorize)\n",
    "\n",
    "master_downloads_files_check['File Format Type'].value_counts()"
   ]
  },
  {
   "cell_type": "markdown",
   "id": "3791e0aa",
   "metadata": {},
   "source": [
    "#### Create Asset type column"
   ]
  },
  {
   "cell_type": "code",
   "execution_count": 630,
   "id": "6732324c",
   "metadata": {},
   "outputs": [
    {
     "data": {
      "text/plain": [
       "Main Script              4375\n",
       "Suggested Activity       1760\n",
       "Master Lesson Plan       1615\n",
       "Question to Assess       1555\n",
       "TA                       1342\n",
       "Interesting Asides       1301\n",
       "Day to Day Relevance     1143\n",
       "Inquisitive Questions    1096\n",
       "Value Content             936\n",
       "LA                        743\n",
       "CCDP                      371\n",
       "Not Mentioned              80\n",
       "AS                         48\n",
       "MT                          8\n",
       "Name: Asset Type, dtype: int64"
      ]
     },
     "execution_count": 630,
     "metadata": {},
     "output_type": "execute_result"
    }
   ],
   "source": [
    "import re\n",
    "\n",
    "# create function to categorize Asset type\n",
    "def categorize(value):\n",
    "    if 'MS' in value:\n",
    "        return 'Main Script'\n",
    "    elif 'DD' in value:\n",
    "        return 'Day to Day Relevance'\n",
    "    elif 'QA' in value:\n",
    "        return 'Question to Assess'\n",
    "    elif 'VC' in value:\n",
    "        return 'Value Content'\n",
    "    elif 'IA' in value:\n",
    "        return 'Interesting Asides'\n",
    "    elif 'IQ' in value:\n",
    "        return 'Inquisitive Questions'\n",
    "    elif 'SA' in value:\n",
    "        return 'Suggested Activity'\n",
    "    elif 'CCDP' in value:\n",
    "        return 'CCDP'\n",
    "    elif 'LA' in value:\n",
    "        return 'LA'\n",
    "    elif 'TA' in value:\n",
    "        return 'TA'\n",
    "    elif 'MT' in value:\n",
    "        return 'MT'\n",
    "    elif 'AS' in value:\n",
    "        return 'AS'\n",
    "    elif 'pdf' in value:\n",
    "        return 'Master Lesson Plan'\n",
    "    else:\n",
    "        return 'Not Mentioned'\n",
    "\n",
    "# apply function to create new column\n",
    "master_downloads_files_check['Asset Type'] = master_downloads_files_check['file downloaded'].apply(categorize)\n",
    "\n",
    "master_downloads_files_check['Asset Type'].value_counts()"
   ]
  },
  {
   "cell_type": "code",
   "execution_count": 631,
   "id": "ef32f5c5",
   "metadata": {},
   "outputs": [
    {
     "data": {
      "text/html": [
       "<div>\n",
       "<style scoped>\n",
       "    .dataframe tbody tr th:only-of-type {\n",
       "        vertical-align: middle;\n",
       "    }\n",
       "\n",
       "    .dataframe tbody tr th {\n",
       "        vertical-align: top;\n",
       "    }\n",
       "\n",
       "    .dataframe thead th {\n",
       "        text-align: right;\n",
       "    }\n",
       "</style>\n",
       "<table border=\"1\" class=\"dataframe\">\n",
       "  <thead>\n",
       "    <tr style=\"text-align: right;\">\n",
       "      <th></th>\n",
       "      <th>id</th>\n",
       "      <th>idnumber</th>\n",
       "      <th>username</th>\n",
       "      <th>firstname</th>\n",
       "      <th>lastname</th>\n",
       "      <th>email</th>\n",
       "      <th>institution</th>\n",
       "      <th>shortname</th>\n",
       "      <th>course module</th>\n",
       "      <th>file downloaded</th>\n",
       "      <th>timestamp</th>\n",
       "      <th>Class</th>\n",
       "      <th>Board</th>\n",
       "      <th>Subject</th>\n",
       "      <th>Date</th>\n",
       "      <th>Content Type</th>\n",
       "      <th>File Format Type</th>\n",
       "      <th>Asset Type</th>\n",
       "    </tr>\n",
       "  </thead>\n",
       "  <tbody>\n",
       "    <tr>\n",
       "      <th>0</th>\n",
       "      <td>NaN</td>\n",
       "      <td>KA003</td>\n",
       "      <td>NaN</td>\n",
       "      <td>NaN</td>\n",
       "      <td>NaN</td>\n",
       "      <td>NaN</td>\n",
       "      <td>Sri  Sathya Sai Primary and High School, Bagalkot</td>\n",
       "      <td>Not Entered</td>\n",
       "      <td>NaN</td>\n",
       "      <td>Not Entered</td>\n",
       "      <td>NaT</td>\n",
       "      <td>None</td>\n",
       "      <td>None</td>\n",
       "      <td>None</td>\n",
       "      <td>NaN</td>\n",
       "      <td>MLP</td>\n",
       "      <td>Unkown</td>\n",
       "      <td>Not Mentioned</td>\n",
       "    </tr>\n",
       "    <tr>\n",
       "      <th>1</th>\n",
       "      <td>NaN</td>\n",
       "      <td>KA004</td>\n",
       "      <td>NaN</td>\n",
       "      <td>NaN</td>\n",
       "      <td>NaN</td>\n",
       "      <td>NaN</td>\n",
       "      <td>Sri Sathya Sai Loka Seva High School, Alike</td>\n",
       "      <td>Not Entered</td>\n",
       "      <td>NaN</td>\n",
       "      <td>Not Entered</td>\n",
       "      <td>NaT</td>\n",
       "      <td>None</td>\n",
       "      <td>None</td>\n",
       "      <td>None</td>\n",
       "      <td>NaN</td>\n",
       "      <td>MLP</td>\n",
       "      <td>Unkown</td>\n",
       "      <td>Not Mentioned</td>\n",
       "    </tr>\n",
       "    <tr>\n",
       "      <th>975</th>\n",
       "      <td>650.0</td>\n",
       "      <td>KA006</td>\n",
       "      <td>shweta_naik</td>\n",
       "      <td>Shweta</td>\n",
       "      <td>Naik</td>\n",
       "      <td>shwetanaik121@gmail.com</td>\n",
       "      <td>Prashanti English Medium School, Siddapura</td>\n",
       "      <td>III KSSE EVS</td>\n",
       "      <td>Festivals and Fairs</td>\n",
       "      <td>Let us recall Festivals and Fairs.pptx</td>\n",
       "      <td>NaT</td>\n",
       "      <td>3</td>\n",
       "      <td>KSSE</td>\n",
       "      <td>EVS</td>\n",
       "      <td>NaN</td>\n",
       "      <td>MM Teaching Aids</td>\n",
       "      <td>PPT slide</td>\n",
       "      <td>Not Mentioned</td>\n",
       "    </tr>\n",
       "    <tr>\n",
       "      <th>1795</th>\n",
       "      <td>2507.0</td>\n",
       "      <td>KA007</td>\n",
       "      <td>kalpana.jadhav</td>\n",
       "      <td>Kalpana</td>\n",
       "      <td>Jadhav</td>\n",
       "      <td>jadhavkalpana593@gmail.com</td>\n",
       "      <td>Sri Sathya Sai Vidya Mandir School, Dharwad</td>\n",
       "      <td>VIII CBSE Social</td>\n",
       "      <td>Making of the Indian National Movement - 1870 ...</td>\n",
       "      <td>An Interview With the Mahatma.mp4</td>\n",
       "      <td>NaT</td>\n",
       "      <td>8</td>\n",
       "      <td>CBSE</td>\n",
       "      <td>Social</td>\n",
       "      <td>NaN</td>\n",
       "      <td>MM Teaching Aids</td>\n",
       "      <td>Audio</td>\n",
       "      <td>Not Mentioned</td>\n",
       "    </tr>\n",
       "    <tr>\n",
       "      <th>1796</th>\n",
       "      <td>2507.0</td>\n",
       "      <td>KA007</td>\n",
       "      <td>kalpana.jadhav</td>\n",
       "      <td>Kalpana</td>\n",
       "      <td>Jadhav</td>\n",
       "      <td>jadhavkalpana593@gmail.com</td>\n",
       "      <td>Sri Sathya Sai Vidya Mandir School, Dharwad</td>\n",
       "      <td>VIII CBSE Social</td>\n",
       "      <td>Making of the Indian National Movement - 1870 ...</td>\n",
       "      <td>Dandi March Salt Satyagraha.mp4</td>\n",
       "      <td>NaT</td>\n",
       "      <td>8</td>\n",
       "      <td>CBSE</td>\n",
       "      <td>Social</td>\n",
       "      <td>NaN</td>\n",
       "      <td>MM Teaching Aids</td>\n",
       "      <td>Audio</td>\n",
       "      <td>Not Mentioned</td>\n",
       "    </tr>\n",
       "    <tr>\n",
       "      <th>...</th>\n",
       "      <td>...</td>\n",
       "      <td>...</td>\n",
       "      <td>...</td>\n",
       "      <td>...</td>\n",
       "      <td>...</td>\n",
       "      <td>...</td>\n",
       "      <td>...</td>\n",
       "      <td>...</td>\n",
       "      <td>...</td>\n",
       "      <td>...</td>\n",
       "      <td>...</td>\n",
       "      <td>...</td>\n",
       "      <td>...</td>\n",
       "      <td>...</td>\n",
       "      <td>...</td>\n",
       "      <td>...</td>\n",
       "      <td>...</td>\n",
       "      <td>...</td>\n",
       "    </tr>\n",
       "    <tr>\n",
       "      <th>14863</th>\n",
       "      <td>2507.0</td>\n",
       "      <td>KA007</td>\n",
       "      <td>kalpana.jadhav</td>\n",
       "      <td>Kalpana</td>\n",
       "      <td>Jadhav</td>\n",
       "      <td>jadhavkalpana593@gmail.com</td>\n",
       "      <td>Sri Sathya Sai Vidya Mandir School, Dharwad</td>\n",
       "      <td>VIII CBSE Social</td>\n",
       "      <td>Law and Social Justice</td>\n",
       "      <td>Bhopal Gas Tragedy.mp4</td>\n",
       "      <td>2023-01-21 01:41:44</td>\n",
       "      <td>8</td>\n",
       "      <td>CBSE</td>\n",
       "      <td>Social</td>\n",
       "      <td>21/01/2023</td>\n",
       "      <td>MM Teaching Aids</td>\n",
       "      <td>Audio</td>\n",
       "      <td>Not Mentioned</td>\n",
       "    </tr>\n",
       "    <tr>\n",
       "      <th>14912</th>\n",
       "      <td>2507.0</td>\n",
       "      <td>KA007</td>\n",
       "      <td>kalpana.jadhav</td>\n",
       "      <td>Kalpana</td>\n",
       "      <td>Jadhav</td>\n",
       "      <td>jadhavkalpana593@gmail.com</td>\n",
       "      <td>Sri Sathya Sai Vidya Mandir School, Dharwad</td>\n",
       "      <td>VII CBSE Social</td>\n",
       "      <td>Eighteenth- Century Political Formations</td>\n",
       "      <td>The French Revolution.mp4</td>\n",
       "      <td>2023-01-23 17:00:30</td>\n",
       "      <td>7</td>\n",
       "      <td>CBSE</td>\n",
       "      <td>Social</td>\n",
       "      <td>23/01/2023</td>\n",
       "      <td>MM Teaching Aids</td>\n",
       "      <td>Audio</td>\n",
       "      <td>Not Mentioned</td>\n",
       "    </tr>\n",
       "    <tr>\n",
       "      <th>15717</th>\n",
       "      <td>607.0</td>\n",
       "      <td>KA010</td>\n",
       "      <td>saraswathi_kp</td>\n",
       "      <td>Saraswathi</td>\n",
       "      <td>K P</td>\n",
       "      <td>ssaraswathi585@gmail.com</td>\n",
       "      <td>Sri Sathya Sai Baba Higher Primary and High Sc...</td>\n",
       "      <td>V KSSE Maths</td>\n",
       "      <td>Three dimensional figures</td>\n",
       "      <td>Nets of 3D shapes_ worksheet_answer.png</td>\n",
       "      <td>2023-01-26 07:55:44</td>\n",
       "      <td>5</td>\n",
       "      <td>KSSE</td>\n",
       "      <td>Maths</td>\n",
       "      <td>26/01/2023</td>\n",
       "      <td>Learning Aids</td>\n",
       "      <td>Unkown</td>\n",
       "      <td>Not Mentioned</td>\n",
       "    </tr>\n",
       "    <tr>\n",
       "      <th>15723</th>\n",
       "      <td>607.0</td>\n",
       "      <td>KA010</td>\n",
       "      <td>saraswathi_kp</td>\n",
       "      <td>Saraswathi</td>\n",
       "      <td>K P</td>\n",
       "      <td>ssaraswathi585@gmail.com</td>\n",
       "      <td>Sri Sathya Sai Baba Higher Primary and High Sc...</td>\n",
       "      <td>V KSSE Maths</td>\n",
       "      <td>Three dimensional figures</td>\n",
       "      <td>SSSVV_Asset_3485912827.mp4</td>\n",
       "      <td>2023-01-26 07:55:44</td>\n",
       "      <td>5</td>\n",
       "      <td>KSSE</td>\n",
       "      <td>Maths</td>\n",
       "      <td>26/01/2023</td>\n",
       "      <td>MM Teaching Aids</td>\n",
       "      <td>Audio</td>\n",
       "      <td>Not Mentioned</td>\n",
       "    </tr>\n",
       "    <tr>\n",
       "      <th>16303</th>\n",
       "      <td>578.0</td>\n",
       "      <td>KA015</td>\n",
       "      <td>sasi_v</td>\n",
       "      <td>Sasi</td>\n",
       "      <td>V</td>\n",
       "      <td>sasi7036180361@gmail.com</td>\n",
       "      <td>Sri Sathya Sai Vidyaniketan, Bagepalli</td>\n",
       "      <td>CBSE IX Social</td>\n",
       "      <td>Natural Vegetation and Wildlife</td>\n",
       "      <td>MLP_Natural Vegetation and Wild life.mp4</td>\n",
       "      <td>2023-01-07 12:27:23</td>\n",
       "      <td>9</td>\n",
       "      <td>CBSE</td>\n",
       "      <td>Social</td>\n",
       "      <td>07/01/2023</td>\n",
       "      <td>MM Teaching Aids</td>\n",
       "      <td>Audio</td>\n",
       "      <td>Not Mentioned</td>\n",
       "    </tr>\n",
       "  </tbody>\n",
       "</table>\n",
       "<p>80 rows × 18 columns</p>\n",
       "</div>"
      ],
      "text/plain": [
       "           id idnumber        username   firstname lastname  \\\n",
       "0         NaN    KA003             NaN         NaN      NaN   \n",
       "1         NaN    KA004             NaN         NaN      NaN   \n",
       "975     650.0    KA006     shweta_naik      Shweta     Naik   \n",
       "1795   2507.0    KA007  kalpana.jadhav     Kalpana   Jadhav   \n",
       "1796   2507.0    KA007  kalpana.jadhav     Kalpana   Jadhav   \n",
       "...       ...      ...             ...         ...      ...   \n",
       "14863  2507.0    KA007  kalpana.jadhav     Kalpana   Jadhav   \n",
       "14912  2507.0    KA007  kalpana.jadhav     Kalpana   Jadhav   \n",
       "15717   607.0    KA010   saraswathi_kp  Saraswathi      K P   \n",
       "15723   607.0    KA010   saraswathi_kp  Saraswathi      K P   \n",
       "16303   578.0    KA015          sasi_v        Sasi        V   \n",
       "\n",
       "                            email  \\\n",
       "0                             NaN   \n",
       "1                             NaN   \n",
       "975       shwetanaik121@gmail.com   \n",
       "1795   jadhavkalpana593@gmail.com   \n",
       "1796   jadhavkalpana593@gmail.com   \n",
       "...                           ...   \n",
       "14863  jadhavkalpana593@gmail.com   \n",
       "14912  jadhavkalpana593@gmail.com   \n",
       "15717    ssaraswathi585@gmail.com   \n",
       "15723    ssaraswathi585@gmail.com   \n",
       "16303    sasi7036180361@gmail.com   \n",
       "\n",
       "                                             institution         shortname  \\\n",
       "0      Sri  Sathya Sai Primary and High School, Bagalkot       Not Entered   \n",
       "1            Sri Sathya Sai Loka Seva High School, Alike       Not Entered   \n",
       "975           Prashanti English Medium School, Siddapura      III KSSE EVS   \n",
       "1795         Sri Sathya Sai Vidya Mandir School, Dharwad  VIII CBSE Social   \n",
       "1796         Sri Sathya Sai Vidya Mandir School, Dharwad  VIII CBSE Social   \n",
       "...                                                  ...               ...   \n",
       "14863        Sri Sathya Sai Vidya Mandir School, Dharwad  VIII CBSE Social   \n",
       "14912        Sri Sathya Sai Vidya Mandir School, Dharwad   VII CBSE Social   \n",
       "15717  Sri Sathya Sai Baba Higher Primary and High Sc...      V KSSE Maths   \n",
       "15723  Sri Sathya Sai Baba Higher Primary and High Sc...      V KSSE Maths   \n",
       "16303             Sri Sathya Sai Vidyaniketan, Bagepalli    CBSE IX Social   \n",
       "\n",
       "                                           course module  \\\n",
       "0                                                    NaN   \n",
       "1                                                    NaN   \n",
       "975                                  Festivals and Fairs   \n",
       "1795   Making of the Indian National Movement - 1870 ...   \n",
       "1796   Making of the Indian National Movement - 1870 ...   \n",
       "...                                                  ...   \n",
       "14863                             Law and Social Justice   \n",
       "14912           Eighteenth- Century Political Formations   \n",
       "15717                          Three dimensional figures   \n",
       "15723                          Three dimensional figures   \n",
       "16303                    Natural Vegetation and Wildlife   \n",
       "\n",
       "                                file downloaded           timestamp Class  \\\n",
       "0                                   Not Entered                 NaT  None   \n",
       "1                                   Not Entered                 NaT  None   \n",
       "975      Let us recall Festivals and Fairs.pptx                 NaT     3   \n",
       "1795          An Interview With the Mahatma.mp4                 NaT     8   \n",
       "1796            Dandi March Salt Satyagraha.mp4                 NaT     8   \n",
       "...                                         ...                 ...   ...   \n",
       "14863                    Bhopal Gas Tragedy.mp4 2023-01-21 01:41:44     8   \n",
       "14912                 The French Revolution.mp4 2023-01-23 17:00:30     7   \n",
       "15717   Nets of 3D shapes_ worksheet_answer.png 2023-01-26 07:55:44     5   \n",
       "15723                SSSVV_Asset_3485912827.mp4 2023-01-26 07:55:44     5   \n",
       "16303  MLP_Natural Vegetation and Wild life.mp4 2023-01-07 12:27:23     9   \n",
       "\n",
       "      Board Subject        Date      Content Type File Format Type  \\\n",
       "0      None    None         NaN               MLP           Unkown   \n",
       "1      None    None         NaN               MLP           Unkown   \n",
       "975    KSSE     EVS         NaN  MM Teaching Aids        PPT slide   \n",
       "1795   CBSE  Social         NaN  MM Teaching Aids            Audio   \n",
       "1796   CBSE  Social         NaN  MM Teaching Aids            Audio   \n",
       "...     ...     ...         ...               ...              ...   \n",
       "14863  CBSE  Social  21/01/2023  MM Teaching Aids            Audio   \n",
       "14912  CBSE  Social  23/01/2023  MM Teaching Aids            Audio   \n",
       "15717  KSSE   Maths  26/01/2023     Learning Aids           Unkown   \n",
       "15723  KSSE   Maths  26/01/2023  MM Teaching Aids            Audio   \n",
       "16303  CBSE  Social  07/01/2023  MM Teaching Aids            Audio   \n",
       "\n",
       "          Asset Type  \n",
       "0      Not Mentioned  \n",
       "1      Not Mentioned  \n",
       "975    Not Mentioned  \n",
       "1795   Not Mentioned  \n",
       "1796   Not Mentioned  \n",
       "...              ...  \n",
       "14863  Not Mentioned  \n",
       "14912  Not Mentioned  \n",
       "15717  Not Mentioned  \n",
       "15723  Not Mentioned  \n",
       "16303  Not Mentioned  \n",
       "\n",
       "[80 rows x 18 columns]"
      ]
     },
     "execution_count": 631,
     "metadata": {},
     "output_type": "execute_result"
    }
   ],
   "source": [
    "master_downloads_files_check[master_downloads_files_check['Asset Type']=='Not Mentioned']"
   ]
  },
  {
   "cell_type": "markdown",
   "id": "5092f9cb",
   "metadata": {},
   "source": [
    "#### Clean file downloaded column"
   ]
  },
  {
   "cell_type": "code",
   "execution_count": 342,
   "id": "228b56b4",
   "metadata": {},
   "outputs": [
    {
     "name": "stdout",
     "output_type": "stream",
     "text": [
      "VII - The Roman Empire -> I - The Roman Empire\n",
      "IV - The Dark Ages -> - The Dark Ages\n",
      "V - The Renaissance -> - The Renaissance\n",
      "I - The Origins of Civilization -> I - The Origins of Civilization\n",
      "IX - The Age of Exploration -> - The Age of Exploration\n",
      "X - The Modern World -> - The Modern World\n",
      "Introduction -> Introduction\n",
      "Vijaynagar Empire -> Vijaynagar Empire\n",
      "CCDP English Language Arts -> Language Arts\n",
      "SA History and Culture -> History and Culture\n",
      "Class X Mathematics - Chapter 1 -> - 1\n",
      "CBSE Class IX Physics - Chapter 3 -> Physics - 3\n",
      "KSSE Biology - Grade 9 -> Biology - 9\n",
      "STD X English Grammar -> STD Grammar\n",
      "5 Digit Numbers -> 5 Digit Numbers\n",
      "CCDP KSSE Mathematics STD V 5-Digit Numbers -> 5-Digit Numbers\n",
      "Grade 5 Science -> 5 Science\n",
      "A snake charmer&#039;s story -> A snake charmer&#039;s story\n",
      "Multiplication 2 -> Multiplication 2\n",
      "Hu Tu Tu Hu Tu Tu -> Hu Tu Tu Hu Tu Tu\n",
      "CCDP KSSE Social Science STD VIII Atmosphere -> Atmosphere\n",
      "03 QA Testing Usage of Nouns Worksheet. -> Testing Usage of Nouns Worksheet\n",
      "CCDP KSSE Mathematics STD VIII Cube and Cube Roots -> Cube and Cube Roots\n",
      "Herons Formula -> Herons Formula\n",
      "CCDP KSSE Mathematics STD IX Herons Formula -> Herons Formula\n",
      "A day in the garden -> A day in the garden\n",
      "Honey sweet honey -> Honey sweet honey\n",
      "Atmosphere -> Atmosphere\n",
      "CCDP KSSE Social Science STD VIII Atmosphere -> Atmosphere\n",
      "Comprehension -> Comprehension\n",
      "01 SA Picture Comprehension -> Picture Comprehension\n",
      "Tenses -> Tenses\n",
      "CCDP KSSE English STD III Tenses -> Tenses\n",
      "Prepositions -> Prepositions\n",
      "CCDP KSSE English STD IV Prepositions -> Prepositions\n",
      "Genders -> Genders\n",
      "I need these -> I need these\n"
     ]
    }
   ],
   "source": [
    "import re\n",
    "\n",
    "def clean_title(title):\n",
    "    # remove leading digits, two-letter asset code, board, subject, class in roman letters, STD\n",
    "    title = re.sub(r'(CCDP\\s|SA\\s|MS\\s|QA\\s|DD\\s|CBSE\\s|KSSE\\s|APSE\\s|Mathematics\\s|EVS\\s|Science\\s|Social Science\\s|English\\s|Class\\s|Grade\\s|Chapter\\s|\\d{2}\\s[A-Z]{2}\\s|STD\\sI\\s|II|STD\\sII\\s|STD\\sIII\\s|III|STD\\sIV\\s|IV|STD\\sV\\s|V\\s|STD\\sVI\\s|VI|STD\\sVII\\s|VII|STD\\sVIII\\s|VIII|STD\\sIX\\s|IX|X\\s)', '', title)\n",
    "    #title = re.sub(r'(CCDP\\s|SA\\s|MS\\s|QA\\s|DD\\s|CBSE\\s|KSSE\\s|APSE\\s|Mathematics\\s|EVS\\s|Science\\s|Social Science\\s|English\\s|Class\\s|Grade\\s|Chapter\\s|\\d{2}\\s[A-Z]{2}\\s|STD\\sI\\s|[VI]\\s|[-]\\s|II|STD\\sII\\s|STD\\sIII\\s|III|STD\\sIV\\s|IV\\s|STD\\sV\\s|V\\s|STD\\sVI\\s|VI|STD\\sVII\\s|VII|STD\\sVIII\\s|VIII|STD\\sIX\\s|IX\\s|X\\s|STD\\s|[''%&#;]|\\d{3})', '', title)\n",
    "    title = re.sub(r'([\\d]+_[A-Z{2}]+_*|[A-Z{2}]+_|.pdf|.pptx|.ppt|.docx|.xlsx|.mp4|.mp3)', '', title)\n",
    "\n",
    "    \n",
    "    # remove trailing hyphens, spaces, and periods\n",
    "    title = re.sub(r'[-.\\s]*$', '', title)\n",
    "    title = re.sub(r'^\\s+ \\s$', '', title)\n",
    "    title = re.sub(r'^\\s+ ', '', title)\n",
    "\n",
    "    return title.strip()\n",
    "\n",
    "# test the function with some sample inputs\n",
    "titles = [\n",
    "    'VII - The Roman Empire',\n",
    "    'IV - The Dark Ages',\n",
    "    'V - The Renaissance',\n",
    "    'I - The Origins of Civilization',\n",
    "    'IX - The Age of Exploration',\n",
    "    'X - The Modern World',\n",
    "    'Introduction','Vijaynagar Empire',\n",
    "    'CCDP English Language Arts',\n",
    "    'SA History and Culture',\n",
    "    'Class X Mathematics - Chapter 1',\n",
    "    'CBSE Class IX Physics - Chapter 3',\n",
    "    'KSSE Biology - Grade 9',\n",
    "    'STD X English Grammar',\n",
    "    '5 Digit Numbers','CCDP KSSE Mathematics STD V 5-Digit Numbers',\n",
    "    'Grade 5 Science',\n",
    "    'A snake charmer&#039;s story',\n",
    "    'Multiplication 2',\n",
    "    'Hu Tu Tu Hu Tu Tu',\n",
    "    'CCDP KSSE Social Science STD VIII Atmosphere',\n",
    "    '03 QA Testing Usage of Nouns Worksheet.',\n",
    "    'CCDP KSSE Mathematics STD VIII Cube and Cube Roots',\n",
    "    'Herons Formula',\n",
    "    'CCDP KSSE Mathematics STD IX Herons Formula',\n",
    "    'A day in the garden',\n",
    "    'Honey sweet honey',\n",
    "    'Atmosphere',\n",
    "    'CCDP KSSE Social Science STD VIII Atmosphere',\n",
    "    'Comprehension',\n",
    "    '01 SA Picture Comprehension',\n",
    "    'Tenses',\n",
    "    'CCDP KSSE English STD III Tenses',\n",
    "    'Prepositions',\n",
    "    'CCDP KSSE English STD IV Prepositions',\n",
    "    'Genders','I need these'\n",
    "\n",
    "]\n",
    "\n",
    "for title in titles:\n",
    "    print(f\"{title} -> {clean_title(title)}\")\n"
   ]
  },
  {
   "cell_type": "code",
   "execution_count": 632,
   "id": "c20f2617",
   "metadata": {},
   "outputs": [
    {
     "data": {
      "text/plain": [
       "Summary_Light                             29\n",
       "Practical Geometry                        27\n",
       "Picture_Flashcards_Singular_and_Plural    26\n",
       "Picture_Flashcards_Articles               26\n",
       "Data Handling                             26\n",
       "                                          ..\n",
       "Changes in a family                        1\n",
       "Child Marriage Act                         1\n",
       "Interesting facts about babies             1\n",
       "Adapting to changes                        1\n",
       "Natural Vegetation and Wild Life           1\n",
       "Name: File name, Length: 4692, dtype: int64"
      ]
     },
     "execution_count": 632,
     "metadata": {},
     "output_type": "execute_result"
    }
   ],
   "source": [
    "import re\n",
    "\n",
    "def clean_title(title):\n",
    "    # remove leading digits, two-letter asset code, board, subject, class in roman letters, STD\n",
    "    title = re.sub(r'(CCDP\\s|SA\\s|MS\\s|QA\\s|DD\\s|SA\\s|VC\\s|IQ\\s|IA\\s|CBSE\\s|KSSE\\s|APSE\\s|Mathematics\\s|EVS\\s|Science\\s|Social Science\\s|English\\s|Class\\s|Grade\\s|Chapter\\s|\\d{2}\\s[A-Z]{2}\\s|STD\\sI\\s|II|STD\\sII\\s|STD\\sIII\\s|III|STD\\sIV\\s|IV|STD\\sV\\s|V\\s|STD\\sVI\\s|VI|STD\\sVII\\s|VII|STD\\sVIII\\s|VIII|STD\\sIX\\s|IX|X\\s)', '', title)\n",
    "    title = re.sub(r'([\\d]+_[A-Z{2}]+_*|[A-Z{2}]+_|.pdf|.pptx|.ppt|.docx|.xlsx|.mp4|.mp3)', '', title)\n",
    "\n",
    "    #title = re.sub(r'(CCDP\\s|SA\\s|MS\\s|QA\\s|DD\\s|CBSE\\s|KSSE\\s|APSE\\s|Mathematics\\s|EVS\\s|Science\\s|Social Science\\s|English\\s|Class\\s|Grade\\s|Chapter\\s|\\d{2}\\s[A-Z]{2}\\s|STD\\sI\\s|[VI]\\s|[-]\\s|II|STD\\sII\\s|STD\\sIII\\s|III|STD\\sIV\\s|IV\\s|STD\\sV\\s|V\\s|STD\\sVI\\s|VI|STD\\sVII\\s|VII|STD\\sVIII\\s|VIII|STD\\sIX\\s|IX\\s|X\\s|STD\\s|[''%&#;]|\\d{3})', '', title)\n",
    "    \n",
    "    # remove trailing hyphens, spaces, and periods\n",
    "    title = re.sub(r'[-.\\s]*$', '', title)\n",
    "    title = re.sub(r'^\\s+ \\s$', '', title)\n",
    "    title = re.sub(r'^\\s+ ', '', title)\n",
    "\n",
    "    return title.strip()\n",
    "\n",
    "\n",
    "# replace underscore with space in the 'file downloaded' column\n",
    "master_downloads_files_check['File name'] = master_downloads_files_check['file downloaded'].str.replace('_', ' ')\n",
    "\n",
    "#Apply the clean_text function to the 'resource viewed' column of the 'resource_check' dataframe \n",
    "\n",
    "master_downloads_files_check['File name'] = master_downloads_files_check['file downloaded'].apply(clean_title)\n",
    "\n",
    "master_downloads_files_check['File name'].value_counts() \n",
    "#print(resource_check)"
   ]
  },
  {
   "cell_type": "markdown",
   "id": "e655c69b",
   "metadata": {},
   "source": [
    "#### Correct Spelling"
   ]
  },
  {
   "cell_type": "markdown",
   "id": "72a33da1",
   "metadata": {},
   "source": [
    "from spellchecker import SpellChecker\n",
    "import re\n",
    "\n",
    "#Initialize spell checker\n",
    "spell = SpellChecker()\n",
    "\n",
    "#Define a function to correct spelling mistakes in a string\n",
    "def correct_spelling(text):\n",
    "    # Split the text into words\n",
    "    words = re.findall(r'\\b\\w+\\b', text)\n",
    "    \n",
    "    # Find and correct misspelled words\n",
    "    corrected_words = []\n",
    "    for word in words:\n",
    "        corrected_word = spell.correction(word.lower())\n",
    "        if corrected_word is not None:\n",
    "            corrected_words.append(corrected_word)\n",
    "        else:\n",
    "            corrected_words.append(word)\n",
    "    \n",
    "    #Join the corrected words back into a single string\n",
    "    return \" \".join(corrected_words)\n",
    "\n",
    "#Apply correct_spelling() function to 'chapter name' column\n",
    "#feedback_check['spelling check'] = feedback_check['chapter name'].apply(correct_spelling)\n",
    "\n",
    "#test the function with some sample inputs\n",
    "titles = [\n",
    "    'Stars and the solar system',\n",
    "    'My Neighbourhood',\n",
    "    'vijayanagara empire',\n",
    "    'Multiplication 2',\n",
    "    'Hu Tu Tu Hu Tu Tu',\n",
    "    'CCDP KSSE Social Science STD VIII Atmosphere',\n",
    "    '03 QA Testing Usage of Nouns Worksheet.',\n",
    "    'CCDP KSSE Social Science STD IX Our Constitution',\n",
    "    'India Political and Cultural',\n",
    "    'introduction to graph',\n",
    "    'exponents powers',\n",
    "    'Introduction','linear equations in two variables',\n",
    "    'Abdul in the Garden',\n",
    "    'numbers 1 t0 20',\n",
    "    'Eating Togerher','Reprosuction in Animals',\n",
    "    'A snake charmer&#039;s story','how many ponytails?'\n",
    "    \n",
    "]\n",
    "\n",
    "for title in titles:\n",
    "    print(f\"{title} -> {correct_spelling(title)}\")"
   ]
  },
  {
   "cell_type": "markdown",
   "id": "fa5ededf",
   "metadata": {},
   "source": [
    "#### Capitalize first letter"
   ]
  },
  {
   "cell_type": "markdown",
   "id": "18fe678d",
   "metadata": {},
   "source": [
    "import re\n",
    "\n",
    "def clean_chapter_name(chapter_name):\n",
    "    # Exclude special characters and digits\n",
    "    chapter_name = re.sub(r\"(['%&#;]|\\d{3})\", \"\", chapter_name)\n",
    "    \n",
    "    # Capitalize first letters of each word\n",
    "    words = chapter_name.split()\n",
    "    for i, word in enumerate(words):\n",
    "        if word.lower() not in ['in', 'the', 'to', 'on', 'at', 'into', 'and']:\n",
    "            words[i] = word.title()\n",
    "    return \" \".join(words)\n",
    "\n",
    "#test the function with some sample inputs\n",
    "titles = [\n",
    "   'Stars and the solar system',\n",
    "    'My Neighbourhood',\n",
    "    'vijayanagara empire',\n",
    "    'Multiplication 2',\n",
    "    'Hu Tu Tu Hu Tu Tu',\n",
    "    'CCDP KSSE Social Science STD VIII Atmosphere',\n",
    "    '03 QA Testing Usage of Nouns Worksheet.',\n",
    "    'CCDP KSSE Social Science STD IX Our Constitution',\n",
    "    'India Political and Cultural',\n",
    "    'introduction to graph',\n",
    "    'exponents powers',\n",
    "    'Introduction','linear equations in two variables',\n",
    "    'Abdul in the Garden',\n",
    "    'numbers 1 t0 20',\n",
    "    'Eating Togerher','Reprosuction in Animals',\n",
    "    'A snake charmer&#039;s story','how many ponytails?'\n",
    "    \n",
    "]\n",
    "\n",
    "for title in titles:\n",
    "    print(f\"{title} -> {clean_chapter_name(title)}\")\n",
    "\n"
   ]
  },
  {
   "cell_type": "code",
   "execution_count": null,
   "id": "b3b0556e",
   "metadata": {},
   "outputs": [],
   "source": []
  },
  {
   "cell_type": "markdown",
   "id": "36128529",
   "metadata": {},
   "source": [
    "### 5. Merge with current month data"
   ]
  },
  {
   "cell_type": "code",
   "execution_count": 633,
   "id": "d6dccec6",
   "metadata": {},
   "outputs": [],
   "source": [
    "master_downloads_cleaned = master_downloads_files_check.copy()"
   ]
  },
  {
   "cell_type": "code",
   "execution_count": 634,
   "id": "34284b34",
   "metadata": {},
   "outputs": [
    {
     "data": {
      "text/html": [
       "<div>\n",
       "<style scoped>\n",
       "    .dataframe tbody tr th:only-of-type {\n",
       "        vertical-align: middle;\n",
       "    }\n",
       "\n",
       "    .dataframe tbody tr th {\n",
       "        vertical-align: top;\n",
       "    }\n",
       "\n",
       "    .dataframe thead th {\n",
       "        text-align: right;\n",
       "    }\n",
       "</style>\n",
       "<table border=\"1\" class=\"dataframe\">\n",
       "  <thead>\n",
       "    <tr style=\"text-align: right;\">\n",
       "      <th></th>\n",
       "      <th>id</th>\n",
       "      <th>idnumber</th>\n",
       "      <th>username</th>\n",
       "      <th>firstname</th>\n",
       "      <th>lastname</th>\n",
       "      <th>email</th>\n",
       "      <th>institution</th>\n",
       "      <th>shortname</th>\n",
       "      <th>course module</th>\n",
       "      <th>file downloaded</th>\n",
       "      <th>timestamp</th>\n",
       "      <th>Class</th>\n",
       "      <th>Board</th>\n",
       "      <th>Subject</th>\n",
       "      <th>Date</th>\n",
       "      <th>Content Type</th>\n",
       "      <th>File Format Type</th>\n",
       "      <th>Asset Type</th>\n",
       "      <th>File name</th>\n",
       "    </tr>\n",
       "  </thead>\n",
       "  <tbody>\n",
       "    <tr>\n",
       "      <th>0</th>\n",
       "      <td>NaN</td>\n",
       "      <td>KA003</td>\n",
       "      <td>NaN</td>\n",
       "      <td>NaN</td>\n",
       "      <td>NaN</td>\n",
       "      <td>NaN</td>\n",
       "      <td>Sri  Sathya Sai Primary and High School, Bagalkot</td>\n",
       "      <td>Not Entered</td>\n",
       "      <td>NaN</td>\n",
       "      <td>Not Entered</td>\n",
       "      <td>NaT</td>\n",
       "      <td>None</td>\n",
       "      <td>None</td>\n",
       "      <td>None</td>\n",
       "      <td>NaN</td>\n",
       "      <td>MLP</td>\n",
       "      <td>Unkown</td>\n",
       "      <td>Not Mentioned</td>\n",
       "      <td>Not Entered</td>\n",
       "    </tr>\n",
       "    <tr>\n",
       "      <th>1</th>\n",
       "      <td>NaN</td>\n",
       "      <td>KA004</td>\n",
       "      <td>NaN</td>\n",
       "      <td>NaN</td>\n",
       "      <td>NaN</td>\n",
       "      <td>NaN</td>\n",
       "      <td>Sri Sathya Sai Loka Seva High School, Alike</td>\n",
       "      <td>Not Entered</td>\n",
       "      <td>NaN</td>\n",
       "      <td>Not Entered</td>\n",
       "      <td>NaT</td>\n",
       "      <td>None</td>\n",
       "      <td>None</td>\n",
       "      <td>None</td>\n",
       "      <td>NaN</td>\n",
       "      <td>MLP</td>\n",
       "      <td>Unkown</td>\n",
       "      <td>Not Mentioned</td>\n",
       "      <td>Not Entered</td>\n",
       "    </tr>\n",
       "    <tr>\n",
       "      <th>2</th>\n",
       "      <td>1575.0</td>\n",
       "      <td>KA000</td>\n",
       "      <td>chithra_srikanth</td>\n",
       "      <td>Chithra</td>\n",
       "      <td>Srikanth</td>\n",
       "      <td>chithrasrikanth76@gmail.com</td>\n",
       "      <td>SSSVV KA Volunteer</td>\n",
       "      <td>VI CBSE Science</td>\n",
       "      <td>Fun with magnets</td>\n",
       "      <td>CCDP_CBSE_Science_STD VI_Fun with Magnets.xlsx</td>\n",
       "      <td>NaT</td>\n",
       "      <td>6</td>\n",
       "      <td>CBSE</td>\n",
       "      <td>Science</td>\n",
       "      <td>NaN</td>\n",
       "      <td>CCDP</td>\n",
       "      <td>Spreadsheet</td>\n",
       "      <td>CCDP</td>\n",
       "      <td>Science_STD _Fun with Magnets</td>\n",
       "    </tr>\n",
       "    <tr>\n",
       "      <th>3</th>\n",
       "      <td>1575.0</td>\n",
       "      <td>KA000</td>\n",
       "      <td>chithra_srikanth</td>\n",
       "      <td>Chithra</td>\n",
       "      <td>Srikanth</td>\n",
       "      <td>chithrasrikanth76@gmail.com</td>\n",
       "      <td>SSSVV KA Volunteer</td>\n",
       "      <td>VI CBSE Science</td>\n",
       "      <td>Fun with magnets</td>\n",
       "      <td>Fun with Magnets.pdf</td>\n",
       "      <td>NaT</td>\n",
       "      <td>6</td>\n",
       "      <td>CBSE</td>\n",
       "      <td>Science</td>\n",
       "      <td>NaN</td>\n",
       "      <td>MLP</td>\n",
       "      <td>PDF</td>\n",
       "      <td>Master Lesson Plan</td>\n",
       "      <td>Fun with Magnets</td>\n",
       "    </tr>\n",
       "    <tr>\n",
       "      <th>4</th>\n",
       "      <td>637.0</td>\n",
       "      <td>KA001</td>\n",
       "      <td>shwetha_l</td>\n",
       "      <td>Shwetha</td>\n",
       "      <td>L C</td>\n",
       "      <td>shwethasunil87@gmail.com</td>\n",
       "      <td>Ananda Sai Shikshana Samsthe Shimoga</td>\n",
       "      <td>I CBSE EVS</td>\n",
       "      <td>My Neighbourhood</td>\n",
       "      <td>My Neighbourhood.pdf</td>\n",
       "      <td>NaT</td>\n",
       "      <td>1</td>\n",
       "      <td>CBSE</td>\n",
       "      <td>EVS</td>\n",
       "      <td>NaN</td>\n",
       "      <td>MLP</td>\n",
       "      <td>PDF</td>\n",
       "      <td>Master Lesson Plan</td>\n",
       "      <td>My Neighbourhood</td>\n",
       "    </tr>\n",
       "  </tbody>\n",
       "</table>\n",
       "</div>"
      ],
      "text/plain": [
       "       id idnumber          username firstname  lastname  \\\n",
       "0     NaN    KA003               NaN       NaN       NaN   \n",
       "1     NaN    KA004               NaN       NaN       NaN   \n",
       "2  1575.0    KA000  chithra_srikanth   Chithra  Srikanth   \n",
       "3  1575.0    KA000  chithra_srikanth   Chithra  Srikanth   \n",
       "4   637.0    KA001         shwetha_l   Shwetha       L C   \n",
       "\n",
       "                         email  \\\n",
       "0                          NaN   \n",
       "1                          NaN   \n",
       "2  chithrasrikanth76@gmail.com   \n",
       "3  chithrasrikanth76@gmail.com   \n",
       "4     shwethasunil87@gmail.com   \n",
       "\n",
       "                                         institution        shortname  \\\n",
       "0  Sri  Sathya Sai Primary and High School, Bagalkot      Not Entered   \n",
       "1        Sri Sathya Sai Loka Seva High School, Alike      Not Entered   \n",
       "2                                 SSSVV KA Volunteer  VI CBSE Science   \n",
       "3                                 SSSVV KA Volunteer  VI CBSE Science   \n",
       "4               Ananda Sai Shikshana Samsthe Shimoga       I CBSE EVS   \n",
       "\n",
       "      course module                                 file downloaded timestamp  \\\n",
       "0               NaN                                     Not Entered       NaT   \n",
       "1               NaN                                     Not Entered       NaT   \n",
       "2  Fun with magnets  CCDP_CBSE_Science_STD VI_Fun with Magnets.xlsx       NaT   \n",
       "3  Fun with magnets                            Fun with Magnets.pdf       NaT   \n",
       "4  My Neighbourhood                            My Neighbourhood.pdf       NaT   \n",
       "\n",
       "  Class Board  Subject Date Content Type File Format Type          Asset Type  \\\n",
       "0  None  None     None  NaN          MLP           Unkown       Not Mentioned   \n",
       "1  None  None     None  NaN          MLP           Unkown       Not Mentioned   \n",
       "2     6  CBSE  Science  NaN         CCDP      Spreadsheet                CCDP   \n",
       "3     6  CBSE  Science  NaN          MLP              PDF  Master Lesson Plan   \n",
       "4     1  CBSE      EVS  NaN          MLP              PDF  Master Lesson Plan   \n",
       "\n",
       "                       File name  \n",
       "0                    Not Entered  \n",
       "1                    Not Entered  \n",
       "2  Science_STD _Fun with Magnets  \n",
       "3               Fun with Magnets  \n",
       "4               My Neighbourhood  "
      ]
     },
     "execution_count": 634,
     "metadata": {},
     "output_type": "execute_result"
    }
   ],
   "source": [
    "master_downloads_cleaned.head()"
   ]
  },
  {
   "cell_type": "code",
   "execution_count": 636,
   "id": "0b2e01cc",
   "metadata": {},
   "outputs": [
    {
     "data": {
      "text/plain": [
       "(16373, 19)"
      ]
     },
     "execution_count": 636,
     "metadata": {},
     "output_type": "execute_result"
    }
   ],
   "source": [
    "master_downloads_cleaned.shape"
   ]
  },
  {
   "cell_type": "code",
   "execution_count": 635,
   "id": "ac278f16",
   "metadata": {},
   "outputs": [
    {
     "data": {
      "text/html": [
       "<div>\n",
       "<style scoped>\n",
       "    .dataframe tbody tr th:only-of-type {\n",
       "        vertical-align: middle;\n",
       "    }\n",
       "\n",
       "    .dataframe tbody tr th {\n",
       "        vertical-align: top;\n",
       "    }\n",
       "\n",
       "    .dataframe thead th {\n",
       "        text-align: right;\n",
       "    }\n",
       "</style>\n",
       "<table border=\"1\" class=\"dataframe\">\n",
       "  <thead>\n",
       "    <tr style=\"text-align: right;\">\n",
       "      <th></th>\n",
       "      <th>id</th>\n",
       "      <th>idnumber</th>\n",
       "      <th>username</th>\n",
       "      <th>firstname</th>\n",
       "      <th>lastname</th>\n",
       "      <th>email</th>\n",
       "      <th>institution</th>\n",
       "      <th>shortname</th>\n",
       "      <th>course module</th>\n",
       "      <th>file downloaded</th>\n",
       "      <th>timestamp</th>\n",
       "      <th>Class</th>\n",
       "      <th>Board</th>\n",
       "      <th>Subject</th>\n",
       "      <th>Date</th>\n",
       "      <th>Content Type</th>\n",
       "      <th>File Format Type</th>\n",
       "      <th>Asset Type</th>\n",
       "      <th>File name</th>\n",
       "    </tr>\n",
       "  </thead>\n",
       "  <tbody>\n",
       "    <tr>\n",
       "      <th>0</th>\n",
       "      <td>1570</td>\n",
       "      <td>KA000</td>\n",
       "      <td>saraswati.bantwal</td>\n",
       "      <td>Saraswathi</td>\n",
       "      <td>Bantwal</td>\n",
       "      <td>saraswathi.sai2311@gmail.com</td>\n",
       "      <td>SSSVV KA Volunteer</td>\n",
       "      <td>VI CBSE Maths</td>\n",
       "      <td>Symmetry</td>\n",
       "      <td>MLP_Ideation Module_Symmetry.pdf</td>\n",
       "      <td>2023-02-22 16:24:08</td>\n",
       "      <td>6</td>\n",
       "      <td>CBSE</td>\n",
       "      <td>Maths</td>\n",
       "      <td>22/02/2023</td>\n",
       "      <td>MLP</td>\n",
       "      <td>PDF</td>\n",
       "      <td>Master Lesson Plan</td>\n",
       "      <td>Ideation Module_Symmetry</td>\n",
       "    </tr>\n",
       "    <tr>\n",
       "      <th>1</th>\n",
       "      <td>1570</td>\n",
       "      <td>KA000</td>\n",
       "      <td>saraswati.bantwal</td>\n",
       "      <td>Saraswathi</td>\n",
       "      <td>Bantwal</td>\n",
       "      <td>saraswathi.sai2311@gmail.com</td>\n",
       "      <td>SSSVV KA Volunteer</td>\n",
       "      <td>VI CBSE Maths</td>\n",
       "      <td>Symmetry</td>\n",
       "      <td>MLP_Ideation Module_Symmetry.pdf</td>\n",
       "      <td>2023-02-23 10:22:03</td>\n",
       "      <td>6</td>\n",
       "      <td>CBSE</td>\n",
       "      <td>Maths</td>\n",
       "      <td>23/02/2023</td>\n",
       "      <td>MLP</td>\n",
       "      <td>PDF</td>\n",
       "      <td>Master Lesson Plan</td>\n",
       "      <td>Ideation Module_Symmetry</td>\n",
       "    </tr>\n",
       "    <tr>\n",
       "      <th>2</th>\n",
       "      <td>1570</td>\n",
       "      <td>KA000</td>\n",
       "      <td>saraswati.bantwal</td>\n",
       "      <td>Saraswathi</td>\n",
       "      <td>Bantwal</td>\n",
       "      <td>saraswathi.sai2311@gmail.com</td>\n",
       "      <td>SSSVV KA Volunteer</td>\n",
       "      <td>VI CBSE Maths</td>\n",
       "      <td>Symmetry</td>\n",
       "      <td>MLP_Ideation Module_Symmetry.pdf</td>\n",
       "      <td>2023-02-23 10:44:59</td>\n",
       "      <td>6</td>\n",
       "      <td>CBSE</td>\n",
       "      <td>Maths</td>\n",
       "      <td>23/02/2023</td>\n",
       "      <td>MLP</td>\n",
       "      <td>PDF</td>\n",
       "      <td>Master Lesson Plan</td>\n",
       "      <td>Ideation Module_Symmetry</td>\n",
       "    </tr>\n",
       "    <tr>\n",
       "      <th>3</th>\n",
       "      <td>1570</td>\n",
       "      <td>KA000</td>\n",
       "      <td>saraswati.bantwal</td>\n",
       "      <td>Saraswathi</td>\n",
       "      <td>Bantwal</td>\n",
       "      <td>saraswathi.sai2311@gmail.com</td>\n",
       "      <td>SSSVV KA Volunteer</td>\n",
       "      <td>VI CBSE Maths</td>\n",
       "      <td>Symmetry</td>\n",
       "      <td>MS_Lines of Symmetry.pptx</td>\n",
       "      <td>2023-02-22 16:19:41</td>\n",
       "      <td>6</td>\n",
       "      <td>CBSE</td>\n",
       "      <td>Maths</td>\n",
       "      <td>22/02/2023</td>\n",
       "      <td>MM Teaching Aids</td>\n",
       "      <td>PPT slide</td>\n",
       "      <td>Main Script</td>\n",
       "      <td>Lines of Symmetry</td>\n",
       "    </tr>\n",
       "    <tr>\n",
       "      <th>4</th>\n",
       "      <td>1570</td>\n",
       "      <td>KA000</td>\n",
       "      <td>saraswati.bantwal</td>\n",
       "      <td>Saraswathi</td>\n",
       "      <td>Bantwal</td>\n",
       "      <td>saraswathi.sai2311@gmail.com</td>\n",
       "      <td>SSSVV KA Volunteer</td>\n",
       "      <td>VI CBSE Maths</td>\n",
       "      <td>Symmetry</td>\n",
       "      <td>VC_Beauty around us.mp3</td>\n",
       "      <td>2023-02-22 16:19:41</td>\n",
       "      <td>6</td>\n",
       "      <td>CBSE</td>\n",
       "      <td>Maths</td>\n",
       "      <td>22/02/2023</td>\n",
       "      <td>MM Teaching Aids</td>\n",
       "      <td>Audio</td>\n",
       "      <td>Value Content</td>\n",
       "      <td>Beauty around us</td>\n",
       "    </tr>\n",
       "  </tbody>\n",
       "</table>\n",
       "</div>"
      ],
      "text/plain": [
       "     id idnumber           username   firstname lastname  \\\n",
       "0  1570    KA000  saraswati.bantwal  Saraswathi  Bantwal   \n",
       "1  1570    KA000  saraswati.bantwal  Saraswathi  Bantwal   \n",
       "2  1570    KA000  saraswati.bantwal  Saraswathi  Bantwal   \n",
       "3  1570    KA000  saraswati.bantwal  Saraswathi  Bantwal   \n",
       "4  1570    KA000  saraswati.bantwal  Saraswathi  Bantwal   \n",
       "\n",
       "                          email         institution      shortname  \\\n",
       "0  saraswathi.sai2311@gmail.com  SSSVV KA Volunteer  VI CBSE Maths   \n",
       "1  saraswathi.sai2311@gmail.com  SSSVV KA Volunteer  VI CBSE Maths   \n",
       "2  saraswathi.sai2311@gmail.com  SSSVV KA Volunteer  VI CBSE Maths   \n",
       "3  saraswathi.sai2311@gmail.com  SSSVV KA Volunteer  VI CBSE Maths   \n",
       "4  saraswathi.sai2311@gmail.com  SSSVV KA Volunteer  VI CBSE Maths   \n",
       "\n",
       "  course module                   file downloaded           timestamp Class  \\\n",
       "0      Symmetry  MLP_Ideation Module_Symmetry.pdf 2023-02-22 16:24:08     6   \n",
       "1      Symmetry  MLP_Ideation Module_Symmetry.pdf 2023-02-23 10:22:03     6   \n",
       "2      Symmetry  MLP_Ideation Module_Symmetry.pdf 2023-02-23 10:44:59     6   \n",
       "3      Symmetry         MS_Lines of Symmetry.pptx 2023-02-22 16:19:41     6   \n",
       "4      Symmetry           VC_Beauty around us.mp3 2023-02-22 16:19:41     6   \n",
       "\n",
       "  Board Subject        Date      Content Type File Format Type  \\\n",
       "0  CBSE   Maths  22/02/2023               MLP              PDF   \n",
       "1  CBSE   Maths  23/02/2023               MLP              PDF   \n",
       "2  CBSE   Maths  23/02/2023               MLP              PDF   \n",
       "3  CBSE   Maths  22/02/2023  MM Teaching Aids        PPT slide   \n",
       "4  CBSE   Maths  22/02/2023  MM Teaching Aids            Audio   \n",
       "\n",
       "           Asset Type                 File name  \n",
       "0  Master Lesson Plan  Ideation Module_Symmetry  \n",
       "1  Master Lesson Plan  Ideation Module_Symmetry  \n",
       "2  Master Lesson Plan  Ideation Module_Symmetry  \n",
       "3         Main Script         Lines of Symmetry  \n",
       "4       Value Content          Beauty around us  "
      ]
     },
     "execution_count": 635,
     "metadata": {},
     "output_type": "execute_result"
    }
   ],
   "source": [
    "current_downloads_cleaned.head()"
   ]
  },
  {
   "cell_type": "code",
   "execution_count": 637,
   "id": "43fb9466",
   "metadata": {},
   "outputs": [
    {
     "data": {
      "text/plain": [
       "(4655, 19)"
      ]
     },
     "execution_count": 637,
     "metadata": {},
     "output_type": "execute_result"
    }
   ],
   "source": [
    "current_downloads_cleaned.shape"
   ]
  },
  {
   "cell_type": "code",
   "execution_count": 638,
   "id": "f484e3ca",
   "metadata": {},
   "outputs": [],
   "source": [
    "# Concatenate the filtered data with the previous months' data\n",
    "master_downloads_comb = pd.concat([master_downloads_cleaned, current_downloads_cleaned], ignore_index=True)"
   ]
  },
  {
   "cell_type": "code",
   "execution_count": 639,
   "id": "4cb9455b",
   "metadata": {},
   "outputs": [
    {
     "data": {
      "text/html": [
       "<div>\n",
       "<style scoped>\n",
       "    .dataframe tbody tr th:only-of-type {\n",
       "        vertical-align: middle;\n",
       "    }\n",
       "\n",
       "    .dataframe tbody tr th {\n",
       "        vertical-align: top;\n",
       "    }\n",
       "\n",
       "    .dataframe thead th {\n",
       "        text-align: right;\n",
       "    }\n",
       "</style>\n",
       "<table border=\"1\" class=\"dataframe\">\n",
       "  <thead>\n",
       "    <tr style=\"text-align: right;\">\n",
       "      <th></th>\n",
       "      <th>id</th>\n",
       "      <th>idnumber</th>\n",
       "      <th>username</th>\n",
       "      <th>firstname</th>\n",
       "      <th>lastname</th>\n",
       "      <th>email</th>\n",
       "      <th>institution</th>\n",
       "      <th>shortname</th>\n",
       "      <th>course module</th>\n",
       "      <th>file downloaded</th>\n",
       "      <th>timestamp</th>\n",
       "      <th>Class</th>\n",
       "      <th>Board</th>\n",
       "      <th>Subject</th>\n",
       "      <th>Date</th>\n",
       "      <th>Content Type</th>\n",
       "      <th>File Format Type</th>\n",
       "      <th>Asset Type</th>\n",
       "      <th>File name</th>\n",
       "    </tr>\n",
       "  </thead>\n",
       "  <tbody>\n",
       "    <tr>\n",
       "      <th>0</th>\n",
       "      <td>NaN</td>\n",
       "      <td>KA003</td>\n",
       "      <td>NaN</td>\n",
       "      <td>NaN</td>\n",
       "      <td>NaN</td>\n",
       "      <td>NaN</td>\n",
       "      <td>Sri  Sathya Sai Primary and High School, Bagalkot</td>\n",
       "      <td>Not Entered</td>\n",
       "      <td>NaN</td>\n",
       "      <td>Not Entered</td>\n",
       "      <td>NaT</td>\n",
       "      <td>None</td>\n",
       "      <td>None</td>\n",
       "      <td>None</td>\n",
       "      <td>NaN</td>\n",
       "      <td>MLP</td>\n",
       "      <td>Unkown</td>\n",
       "      <td>Not Mentioned</td>\n",
       "      <td>Not Entered</td>\n",
       "    </tr>\n",
       "    <tr>\n",
       "      <th>1</th>\n",
       "      <td>NaN</td>\n",
       "      <td>KA004</td>\n",
       "      <td>NaN</td>\n",
       "      <td>NaN</td>\n",
       "      <td>NaN</td>\n",
       "      <td>NaN</td>\n",
       "      <td>Sri Sathya Sai Loka Seva High School, Alike</td>\n",
       "      <td>Not Entered</td>\n",
       "      <td>NaN</td>\n",
       "      <td>Not Entered</td>\n",
       "      <td>NaT</td>\n",
       "      <td>None</td>\n",
       "      <td>None</td>\n",
       "      <td>None</td>\n",
       "      <td>NaN</td>\n",
       "      <td>MLP</td>\n",
       "      <td>Unkown</td>\n",
       "      <td>Not Mentioned</td>\n",
       "      <td>Not Entered</td>\n",
       "    </tr>\n",
       "    <tr>\n",
       "      <th>2</th>\n",
       "      <td>1575.0</td>\n",
       "      <td>KA000</td>\n",
       "      <td>chithra_srikanth</td>\n",
       "      <td>Chithra</td>\n",
       "      <td>Srikanth</td>\n",
       "      <td>chithrasrikanth76@gmail.com</td>\n",
       "      <td>SSSVV KA Volunteer</td>\n",
       "      <td>VI CBSE Science</td>\n",
       "      <td>Fun with magnets</td>\n",
       "      <td>CCDP_CBSE_Science_STD VI_Fun with Magnets.xlsx</td>\n",
       "      <td>NaT</td>\n",
       "      <td>6</td>\n",
       "      <td>CBSE</td>\n",
       "      <td>Science</td>\n",
       "      <td>NaN</td>\n",
       "      <td>CCDP</td>\n",
       "      <td>Spreadsheet</td>\n",
       "      <td>CCDP</td>\n",
       "      <td>Science_STD _Fun with Magnets</td>\n",
       "    </tr>\n",
       "    <tr>\n",
       "      <th>3</th>\n",
       "      <td>1575.0</td>\n",
       "      <td>KA000</td>\n",
       "      <td>chithra_srikanth</td>\n",
       "      <td>Chithra</td>\n",
       "      <td>Srikanth</td>\n",
       "      <td>chithrasrikanth76@gmail.com</td>\n",
       "      <td>SSSVV KA Volunteer</td>\n",
       "      <td>VI CBSE Science</td>\n",
       "      <td>Fun with magnets</td>\n",
       "      <td>Fun with Magnets.pdf</td>\n",
       "      <td>NaT</td>\n",
       "      <td>6</td>\n",
       "      <td>CBSE</td>\n",
       "      <td>Science</td>\n",
       "      <td>NaN</td>\n",
       "      <td>MLP</td>\n",
       "      <td>PDF</td>\n",
       "      <td>Master Lesson Plan</td>\n",
       "      <td>Fun with Magnets</td>\n",
       "    </tr>\n",
       "    <tr>\n",
       "      <th>4</th>\n",
       "      <td>637.0</td>\n",
       "      <td>KA001</td>\n",
       "      <td>shwetha_l</td>\n",
       "      <td>Shwetha</td>\n",
       "      <td>L C</td>\n",
       "      <td>shwethasunil87@gmail.com</td>\n",
       "      <td>Ananda Sai Shikshana Samsthe Shimoga</td>\n",
       "      <td>I CBSE EVS</td>\n",
       "      <td>My Neighbourhood</td>\n",
       "      <td>My Neighbourhood.pdf</td>\n",
       "      <td>NaT</td>\n",
       "      <td>1</td>\n",
       "      <td>CBSE</td>\n",
       "      <td>EVS</td>\n",
       "      <td>NaN</td>\n",
       "      <td>MLP</td>\n",
       "      <td>PDF</td>\n",
       "      <td>Master Lesson Plan</td>\n",
       "      <td>My Neighbourhood</td>\n",
       "    </tr>\n",
       "  </tbody>\n",
       "</table>\n",
       "</div>"
      ],
      "text/plain": [
       "       id idnumber          username firstname  lastname  \\\n",
       "0     NaN    KA003               NaN       NaN       NaN   \n",
       "1     NaN    KA004               NaN       NaN       NaN   \n",
       "2  1575.0    KA000  chithra_srikanth   Chithra  Srikanth   \n",
       "3  1575.0    KA000  chithra_srikanth   Chithra  Srikanth   \n",
       "4   637.0    KA001         shwetha_l   Shwetha       L C   \n",
       "\n",
       "                         email  \\\n",
       "0                          NaN   \n",
       "1                          NaN   \n",
       "2  chithrasrikanth76@gmail.com   \n",
       "3  chithrasrikanth76@gmail.com   \n",
       "4     shwethasunil87@gmail.com   \n",
       "\n",
       "                                         institution        shortname  \\\n",
       "0  Sri  Sathya Sai Primary and High School, Bagalkot      Not Entered   \n",
       "1        Sri Sathya Sai Loka Seva High School, Alike      Not Entered   \n",
       "2                                 SSSVV KA Volunteer  VI CBSE Science   \n",
       "3                                 SSSVV KA Volunteer  VI CBSE Science   \n",
       "4               Ananda Sai Shikshana Samsthe Shimoga       I CBSE EVS   \n",
       "\n",
       "      course module                                 file downloaded timestamp  \\\n",
       "0               NaN                                     Not Entered       NaT   \n",
       "1               NaN                                     Not Entered       NaT   \n",
       "2  Fun with magnets  CCDP_CBSE_Science_STD VI_Fun with Magnets.xlsx       NaT   \n",
       "3  Fun with magnets                            Fun with Magnets.pdf       NaT   \n",
       "4  My Neighbourhood                            My Neighbourhood.pdf       NaT   \n",
       "\n",
       "  Class Board  Subject Date Content Type File Format Type          Asset Type  \\\n",
       "0  None  None     None  NaN          MLP           Unkown       Not Mentioned   \n",
       "1  None  None     None  NaN          MLP           Unkown       Not Mentioned   \n",
       "2     6  CBSE  Science  NaN         CCDP      Spreadsheet                CCDP   \n",
       "3     6  CBSE  Science  NaN          MLP              PDF  Master Lesson Plan   \n",
       "4     1  CBSE      EVS  NaN          MLP              PDF  Master Lesson Plan   \n",
       "\n",
       "                       File name  \n",
       "0                    Not Entered  \n",
       "1                    Not Entered  \n",
       "2  Science_STD _Fun with Magnets  \n",
       "3               Fun with Magnets  \n",
       "4               My Neighbourhood  "
      ]
     },
     "execution_count": 639,
     "metadata": {},
     "output_type": "execute_result"
    }
   ],
   "source": [
    "master_downloads_comb.head()"
   ]
  },
  {
   "cell_type": "code",
   "execution_count": 640,
   "id": "cd40b60b",
   "metadata": {},
   "outputs": [
    {
     "data": {
      "text/plain": [
       "(21028, 19)"
      ]
     },
     "execution_count": 640,
     "metadata": {},
     "output_type": "execute_result"
    }
   ],
   "source": [
    "master_downloads_comb.shape"
   ]
  },
  {
   "cell_type": "code",
   "execution_count": null,
   "id": "706d63cd",
   "metadata": {},
   "outputs": [],
   "source": []
  },
  {
   "cell_type": "code",
   "execution_count": null,
   "id": "f778f0e6",
   "metadata": {},
   "outputs": [],
   "source": []
  },
  {
   "cell_type": "code",
   "execution_count": 641,
   "id": "f48e234a",
   "metadata": {},
   "outputs": [],
   "source": [
    "master_downloads_comb_cleaned = master_downloads_comb.copy()"
   ]
  },
  {
   "cell_type": "markdown",
   "id": "18ca324c",
   "metadata": {},
   "source": [
    "### 6. Save file in master path"
   ]
  },
  {
   "cell_type": "code",
   "execution_count": 642,
   "id": "6cac95be",
   "metadata": {},
   "outputs": [],
   "source": [
    "# Rename the file with the current month and year\n",
    "master_downloads_ = f'Master_Downloads.xlsx'"
   ]
  },
  {
   "cell_type": "code",
   "execution_count": 643,
   "id": "3737c5cb",
   "metadata": {},
   "outputs": [],
   "source": [
    "#Set the new file path\n",
    "master_path = os.path.join(r'D:\\Side Hustles\\SSSVV activities\\SRC - Karnataka\\Monthly Reports\\Master Folder', master_downloads_)\n",
    "\n",
    "#Save the dataframe to the new file path\n",
    "master_downloads_comb_cleaned.to_excel(master_path, index=False)"
   ]
  },
  {
   "cell_type": "code",
   "execution_count": null,
   "id": "46cbb717",
   "metadata": {},
   "outputs": [],
   "source": []
  },
  {
   "cell_type": "markdown",
   "id": "906ee578",
   "metadata": {},
   "source": [
    "## Consolidated Table"
   ]
  },
  {
   "cell_type": "code",
   "execution_count": 392,
   "id": "033b2ea9",
   "metadata": {},
   "outputs": [
    {
     "data": {
      "text/html": [
       "<div>\n",
       "<style scoped>\n",
       "    .dataframe tbody tr th:only-of-type {\n",
       "        vertical-align: middle;\n",
       "    }\n",
       "\n",
       "    .dataframe tbody tr th {\n",
       "        vertical-align: top;\n",
       "    }\n",
       "\n",
       "    .dataframe thead th {\n",
       "        text-align: right;\n",
       "    }\n",
       "</style>\n",
       "<table border=\"1\" class=\"dataframe\">\n",
       "  <thead>\n",
       "    <tr style=\"text-align: right;\">\n",
       "      <th></th>\n",
       "      <th>id</th>\n",
       "      <th>idnumber</th>\n",
       "      <th>username</th>\n",
       "      <th>firstname</th>\n",
       "      <th>lastname</th>\n",
       "      <th>email</th>\n",
       "      <th>institution</th>\n",
       "      <th>Download Counts</th>\n",
       "      <th>Views Count</th>\n",
       "      <th>Feedback Count</th>\n",
       "    </tr>\n",
       "  </thead>\n",
       "  <tbody>\n",
       "    <tr>\n",
       "      <th>0</th>\n",
       "      <td>95</td>\n",
       "      <td>KA000</td>\n",
       "      <td>nanda_t</td>\n",
       "      <td>Nanda</td>\n",
       "      <td>Tirumala</td>\n",
       "      <td>tirumalanandaa@gmail.com</td>\n",
       "      <td>SSSVV KA Volunteer</td>\n",
       "      <td>0</td>\n",
       "      <td>0</td>\n",
       "      <td>0</td>\n",
       "    </tr>\n",
       "    <tr>\n",
       "      <th>1</th>\n",
       "      <td>139</td>\n",
       "      <td>KA000</td>\n",
       "      <td>sandhya_u</td>\n",
       "      <td>Sandhya</td>\n",
       "      <td>Uchil</td>\n",
       "      <td>uchil.sandhya@gmail.com</td>\n",
       "      <td>SSSVV KA Volunteer</td>\n",
       "      <td>0</td>\n",
       "      <td>0</td>\n",
       "      <td>0</td>\n",
       "    </tr>\n",
       "    <tr>\n",
       "      <th>2</th>\n",
       "      <td>1565</td>\n",
       "      <td>KA000</td>\n",
       "      <td>preethi_somaiah</td>\n",
       "      <td>Preethi</td>\n",
       "      <td>Somaiah</td>\n",
       "      <td>preethisomaiah24@gmail.com</td>\n",
       "      <td>SSSVV KA Volunteer</td>\n",
       "      <td>0</td>\n",
       "      <td>0</td>\n",
       "      <td>0</td>\n",
       "    </tr>\n",
       "    <tr>\n",
       "      <th>3</th>\n",
       "      <td>1570</td>\n",
       "      <td>KA000</td>\n",
       "      <td>saraswati_bantwal</td>\n",
       "      <td>Saraswathi</td>\n",
       "      <td>Bantwal</td>\n",
       "      <td>saraswathi.sai2311@gmail.com</td>\n",
       "      <td>SSSVV KA Volunteer</td>\n",
       "      <td>0</td>\n",
       "      <td>0</td>\n",
       "      <td>0</td>\n",
       "    </tr>\n",
       "    <tr>\n",
       "      <th>4</th>\n",
       "      <td>1571</td>\n",
       "      <td>KA000</td>\n",
       "      <td>madhavi_chillara</td>\n",
       "      <td>Madhavi</td>\n",
       "      <td>Chillara</td>\n",
       "      <td>smadhavichillara@gmail.com</td>\n",
       "      <td>SSSVV KA Volunteer</td>\n",
       "      <td>0</td>\n",
       "      <td>0</td>\n",
       "      <td>0</td>\n",
       "    </tr>\n",
       "  </tbody>\n",
       "</table>\n",
       "</div>"
      ],
      "text/plain": [
       "     id idnumber           username   firstname  lastname  \\\n",
       "0    95    KA000            nanda_t       Nanda  Tirumala   \n",
       "1   139    KA000          sandhya_u     Sandhya     Uchil   \n",
       "2  1565    KA000    preethi_somaiah     Preethi   Somaiah   \n",
       "3  1570    KA000  saraswati_bantwal  Saraswathi   Bantwal   \n",
       "4  1571    KA000   madhavi_chillara     Madhavi  Chillara   \n",
       "\n",
       "                          email         institution  Download Counts  \\\n",
       "0      tirumalanandaa@gmail.com  SSSVV KA Volunteer                0   \n",
       "1       uchil.sandhya@gmail.com  SSSVV KA Volunteer                0   \n",
       "2    preethisomaiah24@gmail.com  SSSVV KA Volunteer                0   \n",
       "3  saraswathi.sai2311@gmail.com  SSSVV KA Volunteer                0   \n",
       "4    smadhavichillara@gmail.com  SSSVV KA Volunteer                0   \n",
       "\n",
       "   Views Count  Feedback Count  \n",
       "0            0               0  \n",
       "1            0               0  \n",
       "2            0               0  \n",
       "3            0               0  \n",
       "4            0               0  "
      ]
     },
     "execution_count": 392,
     "metadata": {},
     "output_type": "execute_result"
    }
   ],
   "source": [
    "cc_main.head()"
   ]
  },
  {
   "cell_type": "code",
   "execution_count": 409,
   "id": "8bfb38e5",
   "metadata": {},
   "outputs": [
    {
     "data": {
      "text/plain": [
       "193"
      ]
     },
     "execution_count": 409,
     "metadata": {},
     "output_type": "execute_result"
    }
   ],
   "source": [
    "cc_main.shape[0]"
   ]
  },
  {
   "cell_type": "code",
   "execution_count": 410,
   "id": "fd4c11ef",
   "metadata": {},
   "outputs": [
    {
     "data": {
      "text/plain": [
       "194"
      ]
     },
     "execution_count": 410,
     "metadata": {},
     "output_type": "execute_result"
    }
   ],
   "source": [
    "current_users_list_cleaned.shape[0]"
   ]
  },
  {
   "cell_type": "code",
   "execution_count": 416,
   "id": "53a4dc5a",
   "metadata": {},
   "outputs": [
    {
     "name": "stdout",
     "output_type": "stream",
     "text": [
      "Removed ids: []\n"
     ]
    }
   ],
   "source": [
    "def get_missing_ids(cc_main, current_users_list):\n",
    "    # Append additional ids from current_users_list table to cc_main table\n",
    "    cc_main_new = pd.concat([cc_main, current_users_list], ignore_index=True)\n",
    "\n",
    "    # Get the list of ids not present in current_users_list table\n",
    "    cc_main_ids = set(cc_main['id'].tolist())\n",
    "    current_users_list_ids = set(current_users_list['id'].tolist())\n",
    "    ids_not_in_current_users_list = list(cc_main_ids - current_users_list_ids)\n",
    "    \n",
    "    return ids_not_in_current_users_list\n",
    "\n",
    "# Get the list of missing ids\n",
    "missing_ids = get_missing_ids(cc_main, current_users_list)\n",
    "\n",
    "# Print the results\n",
    "print(\"Removed ids:\", missing_ids)"
   ]
  },
  {
   "cell_type": "code",
   "execution_count": 426,
   "id": "b8ce9e54",
   "metadata": {},
   "outputs": [
    {
     "name": "stdout",
     "output_type": "stream",
     "text": [
      "Empty DataFrame\n",
      "Columns: [id, name, institution]\n",
      "Index: []\n"
     ]
    }
   ],
   "source": [
    "def get_removed_ids(cc_main, current_users_list):\n",
    "    # Merge cc_main with current_users_list based on the id column\n",
    "    merged_df = pd.merge(cc_main, current_users_list, on='id', how='outer', indicator=True)\n",
    "\n",
    "    # Get the rows that are only in cc_main (i.e., missing from current_users_list)\n",
    "    missing_df = merged_df[merged_df['_merge'] == 'left_only'].drop(columns=['_merge'])\n",
    "\n",
    "    # Return a DataFrame containing the missing ids and associated name and institution values\n",
    "    return missing_df[['id', 'firstname_y', 'institution_y']].rename(columns={'firstname_y': 'name', 'institution_y': 'institution'})\n",
    "\n",
    "removed_ids_df = get_removed_ids(cc_main, current_users_list)\n",
    "print(removed_ids_df)"
   ]
  },
  {
   "cell_type": "code",
   "execution_count": 655,
   "id": "ebc31ec8",
   "metadata": {},
   "outputs": [],
   "source": [
    "# Rename the file with the current month and year\n",
    "removed_users_list_ = f'Removed_users_list.xlsx'"
   ]
  },
  {
   "cell_type": "code",
   "execution_count": 656,
   "id": "a5243d4d",
   "metadata": {},
   "outputs": [],
   "source": [
    "#Set the new file path\n",
    "ru_path = os.path.join(r'D:\\Side Hustles\\SSSVV activities\\SRC - Karnataka\\Monthly Reports\\Incremental users', removed_users_list_)\n",
    "\n",
    "#Save the dataframe to the new file path\n",
    "removed_ids_df.to_excel(ru_path, index=False)"
   ]
  },
  {
   "cell_type": "code",
   "execution_count": 431,
   "id": "8edc09f3",
   "metadata": {},
   "outputs": [
    {
     "data": {
      "text/html": [
       "<div>\n",
       "<style scoped>\n",
       "    .dataframe tbody tr th:only-of-type {\n",
       "        vertical-align: middle;\n",
       "    }\n",
       "\n",
       "    .dataframe tbody tr th {\n",
       "        vertical-align: top;\n",
       "    }\n",
       "\n",
       "    .dataframe thead th {\n",
       "        text-align: right;\n",
       "    }\n",
       "</style>\n",
       "<table border=\"1\" class=\"dataframe\">\n",
       "  <thead>\n",
       "    <tr style=\"text-align: right;\">\n",
       "      <th></th>\n",
       "      <th>id</th>\n",
       "      <th>name</th>\n",
       "      <th>institution_y</th>\n",
       "    </tr>\n",
       "  </thead>\n",
       "  <tbody>\n",
       "    <tr>\n",
       "      <th>193</th>\n",
       "      <td>142</td>\n",
       "      <td>Narasimha</td>\n",
       "      <td>Sri Sathya Sai Vidyaniketan, Bagepalli</td>\n",
       "    </tr>\n",
       "  </tbody>\n",
       "</table>\n",
       "</div>"
      ],
      "text/plain": [
       "      id       name                           institution_y\n",
       "193  142  Narasimha  Sri Sathya Sai Vidyaniketan, Bagepalli"
      ]
     },
     "execution_count": 431,
     "metadata": {},
     "output_type": "execute_result"
    }
   ],
   "source": [
    "def get_additional_rows(cc_main, current_users_list):\n",
    "    # Merge cc_main with current_users_list on the 'id' column\n",
    "    merged = pd.merge(cc_main, current_users_list, on='id', how='outer')\n",
    "\n",
    "    # Get the rows that only appear in current_users_list (i.e., additional rows)\n",
    "    additional_rows = merged[merged['firstname_y'].notna() & merged['institution_y'].notna() & merged['firstname_x'].isna()]\n",
    "\n",
    "    # Select only the 'id', 'name', and 'institution' columns and return as a DataFrame\n",
    "    additional_rows = additional_rows[['id', 'firstname_y', 'institution_y']].rename(columns={'firstname_y': 'name'})\n",
    "\n",
    "    return additional_rows\n",
    "\n",
    "# Get the additional rows\n",
    "additional_rows = get_additional_rows(cc_main, current_users_list)\n",
    "\n",
    "# Convert the list to a DataFrame\n",
    "additional_rows_df = pd.DataFrame(additional_rows, columns=['id', 'name', 'institution_y'])\n",
    "additional_rows_df.head()"
   ]
  },
  {
   "cell_type": "code",
   "execution_count": 657,
   "id": "6dbc4c69",
   "metadata": {},
   "outputs": [],
   "source": [
    "#Rename the file with the current month and year\n",
    "additional_users_list_ = f'Additional_users_list.xlsx'"
   ]
  },
  {
   "cell_type": "code",
   "execution_count": 658,
   "id": "8072e571",
   "metadata": {},
   "outputs": [],
   "source": [
    "#Set the new file path\n",
    "ru_path = os.path.join(r'D:\\Side Hustles\\SSSVV activities\\SRC - Karnataka\\Monthly Reports\\Incremental users', additional_users_list_)\n",
    "\n",
    "#Save the dataframe to the new file path\n",
    "additional_rows_df.to_excel(ru_path, index=False)"
   ]
  },
  {
   "cell_type": "code",
   "execution_count": null,
   "id": "88e22c44",
   "metadata": {},
   "outputs": [],
   "source": []
  },
  {
   "cell_type": "code",
   "execution_count": 415,
   "id": "af108b8e",
   "metadata": {},
   "outputs": [
    {
     "data": {
      "text/plain": [
       "193"
      ]
     },
     "execution_count": 415,
     "metadata": {},
     "output_type": "execute_result"
    }
   ],
   "source": [
    "# Merge cc_main and current_users_list on the id column of current_users_list\n",
    "cc_main_new = pd.merge(cc_main, current_users_list[['id']], on='id', how='left')\n",
    "\n",
    "# Print the merged table\n",
    "cc_main_new.shape[0]"
   ]
  },
  {
   "cell_type": "markdown",
   "id": "b3bb7ca5",
   "metadata": {},
   "source": [
    "### Update Download Counts"
   ]
  },
  {
   "cell_type": "code",
   "execution_count": 645,
   "id": "edcab3fa",
   "metadata": {},
   "outputs": [],
   "source": [
    "# get the counts of the 'id' column in master_downloads_check_cleaned\n",
    "counts = master_downloads_comb_cleaned['id'].value_counts()\n",
    "\n",
    "# create a dictionary of id counts\n",
    "id_counts = dict(zip(counts.keys(), counts.values))\n",
    "\n",
    "# map the id counts to the 'id' column in cc_main and update the 'Consolidated downloads' column\n",
    "cc_main['Download Counts'] = cc_main['id'].map(id_counts)"
   ]
  },
  {
   "cell_type": "code",
   "execution_count": null,
   "id": "f012f2cf",
   "metadata": {},
   "outputs": [],
   "source": []
  },
  {
   "cell_type": "markdown",
   "id": "70b4e6f9",
   "metadata": {},
   "source": [
    "### Update Views Count"
   ]
  },
  {
   "cell_type": "code",
   "execution_count": 646,
   "id": "9f71a3e6",
   "metadata": {},
   "outputs": [],
   "source": [
    "# get the counts of the 'id' column in master_downloads_check_cleaned\n",
    "counts = master_views_comb_cleaned['id'].value_counts()\n",
    "\n",
    "# create a dictionary of id counts\n",
    "id_counts = dict(zip(counts.keys(), counts.values))\n",
    "\n",
    "# map the id counts to the 'id' column in cc_main and update the 'Consolidated downloads' column\n",
    "cc_main['Views Count'] = cc_main['id'].map(id_counts)"
   ]
  },
  {
   "cell_type": "code",
   "execution_count": null,
   "id": "6b8a6812",
   "metadata": {},
   "outputs": [],
   "source": []
  },
  {
   "cell_type": "markdown",
   "id": "cda2ba19",
   "metadata": {},
   "source": [
    "### Update Feedback Count"
   ]
  },
  {
   "cell_type": "code",
   "execution_count": 647,
   "id": "d3f4181c",
   "metadata": {},
   "outputs": [],
   "source": [
    "# get the counts of the 'id' column in master_downloads_check_cleaned\n",
    "counts = master_feedback_comb_cleaned['id'].value_counts()\n",
    "\n",
    "# create a dictionary of id counts\n",
    "id_counts = dict(zip(counts.keys(), counts.values))\n",
    "\n",
    "# map the id counts to the 'id' column in cc_main and update the 'Consolidated downloads' column\n",
    "cc_main['Feedback Count'] = cc_main['id'].map(id_counts)"
   ]
  },
  {
   "cell_type": "code",
   "execution_count": null,
   "id": "94ec643a",
   "metadata": {},
   "outputs": [],
   "source": []
  },
  {
   "cell_type": "markdown",
   "id": "bd1adf4f",
   "metadata": {},
   "source": [
    "### 6. Save file in master path"
   ]
  },
  {
   "cell_type": "code",
   "execution_count": 648,
   "id": "c47e34aa",
   "metadata": {},
   "outputs": [],
   "source": [
    "# Rename the file with the current month and year\n",
    "consolidated_count = f'Consolidated_Count.xlsx'"
   ]
  },
  {
   "cell_type": "code",
   "execution_count": 649,
   "id": "7f700975",
   "metadata": {},
   "outputs": [],
   "source": [
    "#Set the new file path\n",
    "master_path = os.path.join(r'D:\\Side Hustles\\SSSVV activities\\SRC - Karnataka\\Monthly Reports\\Master Folder', consolidated_count)\n",
    "\n",
    "#Save the dataframe to the new file path\n",
    "cc_main.to_excel(master_path, index=False)"
   ]
  },
  {
   "cell_type": "code",
   "execution_count": null,
   "id": "18d1f37e",
   "metadata": {},
   "outputs": [],
   "source": []
  }
 ],
 "metadata": {
  "kernelspec": {
   "display_name": "Python 3 (ipykernel)",
   "language": "python",
   "name": "python3"
  },
  "language_info": {
   "codemirror_mode": {
    "name": "ipython",
    "version": 3
   },
   "file_extension": ".py",
   "mimetype": "text/x-python",
   "name": "python",
   "nbconvert_exporter": "python",
   "pygments_lexer": "ipython3",
   "version": "3.9.13"
  },
  "toc": {
   "base_numbering": 1,
   "nav_menu": {},
   "number_sections": true,
   "sideBar": true,
   "skip_h1_title": false,
   "title_cell": "Table of Contents",
   "title_sidebar": "Contents",
   "toc_cell": false,
   "toc_position": {
    "height": "calc(100% - 180px)",
    "left": "10px",
    "top": "150px",
    "width": "384px"
   },
   "toc_section_display": true,
   "toc_window_display": true
  }
 },
 "nbformat": 4,
 "nbformat_minor": 5
}
